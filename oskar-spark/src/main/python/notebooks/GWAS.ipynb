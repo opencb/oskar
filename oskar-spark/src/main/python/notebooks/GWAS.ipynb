{
 "cells": [
  {
   "cell_type": "markdown",
   "metadata": {},
   "source": [
    "# **GWAS tutorial**\n",
    "\n",
    "In this Jupyter tutorial you can learn how to generate standarized GWA studies. This tests are implemented as part of the functionality of PyOskar API. Here we will use transformers to access PySpark functionality. These kind of functions depend directly from an Oskar object, and they will return a whole dataframe with the due transformation applied."
   ]
  },
  {
   "cell_type": "markdown",
   "metadata": {},
   "source": [
    "First, we need to import the PyOskar and PySpark modules. Second, we need to create an instance of the _Oskar_ object, from which depends a big part of the functionality. Finally, we can load our data in a DataFrame _df_ and we are ready to start playing."
   ]
  },
  {
   "cell_type": "code",
   "execution_count": 1,
   "metadata": {},
   "outputs": [],
   "source": [
    "from pyoskar.core import Oskar\n",
    "from pyoskar.sql import *\n",
    "from pyoskar.analysis import *\n",
    "from pyspark.sql.functions import col, udf, count, explode, concat, when, expr\n",
    "from pyspark.sql.functions import *\n",
    "\n",
    "oskar = Oskar(spark)\n",
    "df = oskar.load(\"/home/roldanx/appl/oskar/oskar-spark/src/test/resources/platinum_chr22.small.parquet\")"
   ]
  },
  {
   "cell_type": "markdown",
   "metadata": {},
   "source": [
    "You can use PySpark to print the data from _df_. This is how our testing dataframe looks like, you can see that for this tutorial we are using a small dataset from Illumina Platinum Genomes with 1,000 random variants from chromosome 22:"
   ]
  },
  {
   "cell_type": "code",
   "execution_count": 5,
   "metadata": {},
   "outputs": [
    {
     "name": "stdout",
     "output_type": "stream",
     "text": [
      "Print first 20 variants:\n",
      "+---------------+-----+----------+--------+--------+---------+---------+------+----+------+-----+----+--------------------+--------------------+\n",
      "|             id|names|chromosome|   start|     end|reference|alternate|strand|  sv|length| type|hgvs|             studies|          annotation|\n",
      "+---------------+-----+----------+--------+--------+---------+---------+------+----+------+-----+----+--------------------+--------------------+\n",
      "|22:16054454:C:T|   []|        22|16054454|16054454|        C|        T|     +|null|     1|  SNV|  []|[[hgvauser@platin...|[22, 16054454, 16...|\n",
      "|22:16065809:T:C|   []|        22|16065809|16065809|        T|        C|     +|null|     1|  SNV|  []|[[hgvauser@platin...|[22, 16065809, 16...|\n",
      "|22:16077310:T:A|   []|        22|16077310|16077310|        T|        A|     +|null|     1|  SNV|  []|[[hgvauser@platin...|[22, 16077310, 16...|\n",
      "|22:16080499:A:G|   []|        22|16080499|16080499|        A|        G|     +|null|     1|  SNV|  []|[[hgvauser@platin...|[22, 16080499, 16...|\n",
      "|22:16084621:T:C|   []|        22|16084621|16084621|        T|        C|     +|null|     1|  SNV|  []|[[hgvauser@platin...|[22, 16084621, 16...|\n",
      "|22:16091610:G:T|   []|        22|16091610|16091610|        G|        T|     +|null|     1|  SNV|  []|[[hgvauser@platin...|[22, 16091610, 16...|\n",
      "|22:16096040:G:A|   []|        22|16096040|16096040|        G|        A|     +|null|     1|  SNV|  []|[[hgvauser@platin...|[22, 16096040, 16...|\n",
      "|22:16099957:C:T|   []|        22|16099957|16099957|        C|        T|     +|null|     1|  SNV|  []|[[hgvauser@platin...|[22, 16099957, 16...|\n",
      "|22:16100462:A:G|   []|        22|16100462|16100462|        A|        G|     +|null|     1|  SNV|  []|[[hgvauser@platin...|[22, 16100462, 16...|\n",
      "|22:16105660:G:A|   []|        22|16105660|16105660|        G|        A|     +|null|     1|  SNV|  []|[[hgvauser@platin...|[22, 16105660, 16...|\n",
      "|22:16112391:G:A|   []|        22|16112391|16112391|        G|        A|     +|null|     1|  SNV|  []|[[hgvauser@platin...|[22, 16112391, 16...|\n",
      "|22:16114913:A:T|   []|        22|16114913|16114913|        A|        T|     +|null|     1|  SNV|  []|[[hgvauser@platin...|[22, 16114913, 16...|\n",
      "|22:16127471:A:-|   []|        22|16127471|16127471|        A|         |     +|null|     1|INDEL|  []|[[hgvauser@platin...|[22, 16127471, 16...|\n",
      "|22:16134019:G:T|   []|        22|16134019|16134019|        G|        T|     +|null|     1|  SNV|  []|[[hgvauser@platin...|[22, 16134019, 16...|\n",
      "|22:16138943:C:G|   []|        22|16138943|16138943|        C|        G|     +|null|     1|  SNV|  []|[[hgvauser@platin...|[22, 16138943, 16...|\n",
      "|22:16144239:T:C|   []|        22|16144239|16144239|        T|        C|     +|null|     1|  SNV|  []|[[hgvauser@platin...|[22, 16144239, 16...|\n",
      "|22:16147398:G:A|   []|        22|16147398|16147398|        G|        A|     +|null|     1|  SNV|  []|[[hgvauser@platin...|[22, 16147398, 16...|\n",
      "|22:16149692:G:T|   []|        22|16149692|16149692|        G|        T|     +|null|     1|  SNV|  []|[[hgvauser@platin...|[22, 16149692, 16...|\n",
      "|22:16195955:G:A|   []|        22|16195955|16195955|        G|        A|     +|null|     1|  SNV|  []|[[hgvauser@platin...|[22, 16195955, 16...|\n",
      "|22:16196041:C:T|   []|        22|16196041|16196041|        C|        T|     +|null|     1|  SNV|  []|[[hgvauser@platin...|[22, 16196041, 16...|\n",
      "+---------------+-----+----------+--------+--------+---------+---------+------+----+------+-----+----+--------------------+--------------------+\n",
      "only showing top 20 rows\n",
      "\n"
     ]
    }
   ],
   "source": [
    "print(\"Print first 20 variants:\")\n",
    "df.show()"
   ]
  },
  {
   "cell_type": "code",
   "execution_count": 6,
   "metadata": {},
   "outputs": [
    {
     "name": "stdout",
     "output_type": "stream",
     "text": [
      "Print first 20 variants:\n"
     ]
    },
    {
     "data": {
      "text/plain": [
       "1000"
      ]
     },
     "execution_count": 6,
     "metadata": {},
     "output_type": "execute_result"
    }
   ],
   "source": [
    "print(\"Print first 20 variants:\")\n",
    "df.count()"
   ]
  },
  {
   "cell_type": "markdown",
   "metadata": {},
   "source": [
    "These GWAS transformers take the poblational information stored in the DataFrame to calculate the corresponding p-values. The user will need to specify a particular study in which he wants to base the study and the phenotype he aims to analyze."
   ]
  },
  {
   "cell_type": "markdown",
   "metadata": {},
   "source": [
    "## Chi-squared"
   ]
  },
  {
   "cell_type": "markdown",
   "metadata": {},
   "source": [
    "Usage:\n",
    "```python\n",
    "chiSquare(df[DataFrame], studyId[str], phenotype[str])\n",
    "```"
   ]
  },
  {
   "cell_type": "code",
   "execution_count": 17,
   "metadata": {},
   "outputs": [
    {
     "name": "stdout",
     "output_type": "stream",
     "text": [
      "+---------------+-------------------+\n",
      "|             id|  ChiSquare p-value|\n",
      "+---------------+-------------------+\n",
      "|22:16054454:C:T|0.11583677431831574|\n",
      "|22:16065809:T:C| 0.8162967146689325|\n",
      "|22:16077310:T:A| 0.3243241555798487|\n",
      "|22:16080499:A:G|0.16932729721206297|\n",
      "|22:16084621:T:C|0.11808572685033702|\n",
      "|22:16091610:G:T|0.24164568184122925|\n",
      "|22:16096040:G:A|0.24839711482150617|\n",
      "|22:16099957:C:T| 0.9283082406877704|\n",
      "|22:16100462:A:G| 0.8244791006886252|\n",
      "|22:16105660:G:A| 0.9612450306338958|\n",
      "+---------------+-------------------+\n",
      "only showing top 10 rows\n",
      "\n"
     ]
    }
   ],
   "source": [
    "oskar.chiSquare(df, \"hgvauser@platinum:illumina_platinum\", \"KK\").select(\"id\", col(\"ChiSquare p-value\")).show(10)"
   ]
  },
  {
   "cell_type": "markdown",
   "metadata": {},
   "source": [
    "## Fisher"
   ]
  },
  {
   "cell_type": "markdown",
   "metadata": {},
   "source": [
    "Usage:\n",
    "```python\n",
    "fisher(df[DataFrame], studyId[str], phenotype[str])\n",
    "```"
   ]
  },
  {
   "cell_type": "code",
   "execution_count": 21,
   "metadata": {},
   "outputs": [
    {
     "name": "stdout",
     "output_type": "stream",
     "text": [
      "+---------------+-------------------+\n",
      "|             id|     Fisher p-value|\n",
      "+---------------+-------------------+\n",
      "|22:16054454:C:T| 0.2941176470588194|\n",
      "|22:16065809:T:C| 0.9999999999999629|\n",
      "|22:16077310:T:A| 0.6444578943924588|\n",
      "|22:16080499:A:G|0.29575642573744654|\n",
      "|22:16084621:T:C| 0.2907969639468656|\n",
      "|22:16091610:G:T| 0.5387700534759321|\n",
      "|22:16096040:G:A|0.39512983254395534|\n",
      "|22:16099957:C:T| 0.9999999999999654|\n",
      "|22:16100462:A:G| 0.9999999999999866|\n",
      "|22:16105660:G:A| 0.9999999999999954|\n",
      "+---------------+-------------------+\n",
      "only showing top 10 rows\n",
      "\n"
     ]
    }
   ],
   "source": [
    "oskar.fisher(df, \"hgvauser@platinum:illumina_platinum\", \"KK\").select(\"id\", col(\"Fisher p-value\")).show(10)"
   ]
  },
  {
   "cell_type": "markdown",
   "metadata": {},
   "source": [
    "# PCA???"
   ]
  },
  {
   "cell_type": "markdown",
   "metadata": {},
   "source": [
    "## ChiSquare vs Fisher"
   ]
  },
  {
   "cell_type": "code",
   "execution_count": 16,
   "metadata": {},
   "outputs": [
    {
     "data": {
      "text/html": [
       "<script type=\"text/javascript\">window.PlotlyConfig = {MathJaxConfig: 'local'};</script><script type=\"text/javascript\">if (window.MathJax) {MathJax.Hub.Config({SVG: {font: \"STIX-Web\"}});}</script><script>requirejs.config({paths: { 'plotly': ['https://cdn.plot.ly/plotly-latest.min']},});if(!window._Plotly) {require(['plotly'],function(plotly) {window._Plotly=plotly;});}</script>"
      ],
      "text/vnd.plotly.v1+html": [
       "<script type=\"text/javascript\">window.PlotlyConfig = {MathJaxConfig: 'local'};</script><script type=\"text/javascript\">if (window.MathJax) {MathJax.Hub.Config({SVG: {font: \"STIX-Web\"}});}</script><script>requirejs.config({paths: { 'plotly': ['https://cdn.plot.ly/plotly-latest.min']},});if(!window._Plotly) {require(['plotly'],function(plotly) {window._Plotly=plotly;});}</script>"
      ]
     },
     "metadata": {},
     "output_type": "display_data"
    },
    {
     "data": {
      "application/vnd.plotly.v1+json": {
       "config": {
        "linkText": "Export to plot.ly",
        "plotlyServerURL": "https://plot.ly",
        "showLink": true
       },
       "data": [
        {
         "colorscale": "Viridis",
         "type": "heatmap",
         "uid": "ee5b040f-7d1e-4ac2-8f11-e4e120005b3b",
         "x": [
          "22:16912210:A:G",
          "22:16912775:C:A",
          "22:16913788:A:T",
          "22:16914822:C:G",
          "22:16916066:T:C",
          "22:16926176:T:A",
          "22:16927996:G:A",
          "22:16928421:A:G",
          "22:16932137:C:A",
          "22:16933241:T:C",
          "22:16938334:G:C",
          "22:16948327:G:A",
          "22:16948479:A:G",
          "22:16950192:A:T",
          "22:16950203:C:T",
          "22:16950203:C:T",
          "22:16952200:T:C",
          "22:16957623:G:A"
         ],
         "y": [
          "16912210*",
          "16912775*",
          "16913788*",
          "16914822*",
          "16916066*",
          "16926176*",
          "16927996*",
          "16928421*",
          "16932137*",
          "16933241*",
          "16938334*",
          "16948327*",
          "16948479*",
          "16950192*",
          "16950203*",
          "16950203*",
          "16952200*",
          "16957623*"
         ],
         "z": [
          [
           0,
           0.43643263757116024,
           0.4364326375711317,
           0.4157397107897617,
           0.4364326375711637,
           0.4364326375711649,
           0.05554597205451561,
           0.4364326375711649,
           0.43643263757116146,
           0.43643263757114537,
           0.43643263757115536,
           0.4364326375711649,
           0.4364326375711649,
           0.14054832166461195,
           0.4364326375711317,
           0.4364326375711317,
           0.26944971537001183,
           0.4364326375711317
          ],
          [
           0.41891910048056846,
           0,
           2.853273173286652e-14,
           0.8521723483609219,
           3.4416913763379853e-15,
           4.6629367034256575e-15,
           0.49197860962567586,
           4.6629367034256575e-15,
           1.2212453270876722e-15,
           1.4876988529977098e-14,
           4.884981308350689e-15,
           4.6629367034256575e-15,
           4.6629367034256575e-15,
           0.2958843159065483,
           2.853273173286652e-14,
           2.853273173286652e-14,
           0.7058823529411721,
           2.853273173286652e-14
          ],
          [
           0.480276234221405,
           0.06135713374083651,
           0,
           0.8521723483608934,
           3.197442310920451e-14,
           3.319566843629218e-14,
           0.4919786096256473,
           3.319566843629218e-14,
           2.9753977059954195e-14,
           1.3655743202889425e-14,
           2.3647750424515834e-14,
           3.319566843629218e-14,
           3.319566843629218e-14,
           0.29588431590651976,
           0,
           0,
           0.7058823529411435,
           0
          ],
          [
           0.25456978650843776,
           0.6734888869890062,
           0.7348460207298427,
           0,
           0.8521723483609254,
           0.8521723483609266,
           0.36019373873524607,
           0.8521723483609266,
           0.8521723483609231,
           0.852172348360907,
           0.852172348360917,
           0.8521723483609266,
           0.8521723483609266,
           0.5562880324543736,
           0.8521723483608934,
           0.8521723483608934,
           0.14628999541974988,
           0.8521723483608934
          ],
          [
           0.17631562069309537,
           0.2426034797874731,
           0.3039606135283096,
           0.4308854072015331,
           0,
           1.2212453270876722e-15,
           0.4919786096256793,
           1.2212453270876722e-15,
           2.220446049250313e-15,
           1.8318679906315083e-14,
           8.326672684688674e-15,
           1.2212453270876722e-15,
           1.2212453270876722e-15,
           0.29588431590655173,
           3.197442310920451e-14,
           3.197442310920451e-14,
           0.7058823529411755,
           3.197442310920451e-14
          ],
          [
           0.6639795195524725,
           0.245060419071904,
           0.1837032853310675,
           0.9185493060609102,
           0.4876638988593771,
           0,
           0.4919786096256805,
           0,
           3.4416913763379853e-15,
           1.9539925233402755e-14,
           9.547918011776346e-15,
           0,
           0,
           0.29588431590655295,
           3.319566843629218e-14,
           3.319566843629218e-14,
           0.7058823529411767,
           3.319566843629218e-14
          ],
          [
           0.1740833216553972,
           0.24483577882517127,
           0.3061929125660078,
           0.42865310816383495,
           0.002232299037698171,
           0.4898961978970753,
           0,
           0.4919786096256805,
           0.4919786096256771,
           0.491978609625661,
           0.49197860962567097,
           0.4919786096256805,
           0.4919786096256805,
           0.19609429371912757,
           0.4919786096256473,
           0.4919786096256473,
           0.21390374331549622,
           0.4919786096256473
          ],
          [
           0.6639795195524725,
           0.245060419071904,
           0.1837032853310675,
           0.9185493060609102,
           0.4876638988593771,
           0,
           0.4898961978970753,
           0,
           3.4416913763379853e-15,
           1.9539925233402755e-14,
           9.547918011776346e-15,
           0,
           0,
           0.29588431590655295,
           3.319566843629218e-14,
           3.319566843629218e-14,
           0.7058823529411767,
           3.319566843629218e-14
          ],
          [
           0.539919706812712,
           0.12100060633214349,
           0.05964347259130698,
           0.7944894933211497,
           0.3636040861196166,
           0.12405981273976052,
           0.36583638515731476,
           0.12405981273976052,
           0,
           1.609823385706477e-14,
           6.106226635438361e-15,
           3.4416913763379853e-15,
           3.4416913763379853e-15,
           0.2958843159065495,
           2.9753977059954195e-14,
           2.9753977059954195e-14,
           0.7058823529411733,
           2.9753977059954195e-14
          ],
          [
           0.010701897019867901,
           0.40821720346070056,
           0.4695743372015371,
           0.26527168352830566,
           0.16561372367322746,
           0.6532776225326046,
           0.1633814246355293,
           0.6532776225326046,
           0.529217809792844,
           0,
           9.992007221626409e-15,
           1.9539925233402755e-14,
           1.9539925233402755e-14,
           0.2958843159065334,
           1.3655743202889425e-14,
           1.3655743202889425e-14,
           0.7058823529411572,
           1.3655743202889425e-14
          ],
          [
           0.48845862024109765,
           0.06953951976052919,
           0.008182386019692678,
           0.7430284067495354,
           0.3121429995480023,
           0.17552089931137482,
           0.31437529858570046,
           0.17552089931137482,
           0.0514610865716143,
           0.47775672322122975,
           0,
           9.547918011776346e-15,
           9.547918011776346e-15,
           0.2958843159065434,
           2.3647750424515834e-14,
           2.3647750424515834e-14,
           0.7058823529411672,
           2.3647750424515834e-14
          ],
          [
           0.6639795195524725,
           0.245060419071904,
           0.1837032853310675,
           0.9185493060609102,
           0.4876638988593771,
           0,
           0.4898961978970753,
           0,
           0.12405981273976052,
           0.6532776225326046,
           0.17552089931137482,
           0,
           0,
           0.29588431590655295,
           3.319566843629218e-14,
           3.319566843629218e-14,
           0.7058823529411767,
           3.319566843629218e-14
          ],
          [
           0.6639795195524725,
           0.245060419071904,
           0.1837032853310675,
           0.9185493060609102,
           0.4876638988593771,
           0,
           0.4898961978970753,
           0,
           0.12405981273976052,
           0.6532776225326046,
           0.17552089931137482,
           0,
           0,
           0.29588431590655295,
           3.319566843629218e-14,
           3.319566843629218e-14,
           0.7058823529411767,
           3.319566843629218e-14
          ],
          [
           0.16378136987865277,
           0.2551377306019157,
           0.3164948643427522,
           0.41835115638709053,
           0.012534250814442593,
           0.5001981496738197,
           0.010301951776744422,
           0.5001981496738197,
           0.3761383369340592,
           0.15307947285878487,
           0.3246772503624449,
           0.5001981496738197,
           0.5001981496738197,
           0,
           0.29588431590651976,
           0.29588431590651976,
           0.4099980370346238,
           0.29588431590651976
          ],
          [
           0.480276234221405,
           0.06135713374083651,
           0,
           0.7348460207298427,
           0.3039606135283096,
           0.1837032853310675,
           0.3061929125660078,
           0.1837032853310675,
           0.05964347259130698,
           0.4695743372015371,
           0.008182386019692678,
           0.1837032853310675,
           0.1837032853310675,
           0.3164948643427522,
           0,
           0,
           0.7058823529411435,
           0
          ],
          [
           0.480276234221405,
           0.06135713374083651,
           0,
           0.7348460207298427,
           0.3039606135283096,
           0.1837032853310675,
           0.3061929125660078,
           0.1837032853310675,
           0.05964347259130698,
           0.4695743372015371,
           0.008182386019692678,
           0.1837032853310675,
           0.1837032853310675,
           0.3164948643427522,
           0,
           0,
           0.7058823529411435,
           0
          ],
          [
           0.2201837061292118,
           0.6391028066097802,
           0.7004599403506168,
           0.03438608037922597,
           0.39649932682230715,
           0.8841632256816843,
           0.394267027784609,
           0.8841632256816843,
           0.7601034129419237,
           0.2308856031490797,
           0.7086423263703094,
           0.8841632256816843,
           0.8841632256816843,
           0.38396507600786456,
           0.7004599403506168,
           0.7004599403506168,
           0,
           0.7058823529411435
          ],
          [
           0.480276234221405,
           0.06135713374083651,
           0,
           0.7348460207298427,
           0.3039606135283096,
           0.1837032853310675,
           0.3061929125660078,
           0.1837032853310675,
           0.05964347259130698,
           0.4695743372015371,
           0.008182386019692678,
           0.1837032853310675,
           0.1837032853310675,
           0.3164948643427522,
           0,
           0,
           0.7004599403506168,
           0
          ]
         ],
         "zauto": true,
         "zmax": 0.9185493060609102,
         "zmin": 0
        }
       ],
       "layout": {
        "height": 500,
        "title": "chiSquare",
        "width": 1440,
        "xaxis": {
         "autorange": true,
         "range": [
          -0.5,
          17.5
         ],
         "type": "category"
        },
        "yaxis": {
         "autorange": true,
         "range": [
          -0.5,
          17.5
         ],
         "type": "category"
        }
       }
      },
      "image/png": "[encoded data removed]",
      "text/html": [
       "<div id=\"3b05ab28-fdef-43d8-b158-8b73be5e2cb1\" style=\"height: 500px; width: 1440px;\" class=\"plotly-graph-div\"></div><script type=\"text/javascript\">require([\"plotly\"], function(Plotly) { window.PLOTLYENV=window.PLOTLYENV || {};window.PLOTLYENV.BASE_URL=\"https://plot.ly\";Plotly.newPlot(\"3b05ab28-fdef-43d8-b158-8b73be5e2cb1\", [{\"colorscale\": \"Viridis\", \"x\": [\"22:16912210:A:G\", \"22:16912775:C:A\", \"22:16913788:A:T\", \"22:16914822:C:G\", \"22:16916066:T:C\", \"22:16926176:T:A\", \"22:16927996:G:A\", \"22:16928421:A:G\", \"22:16932137:C:A\", \"22:16933241:T:C\", \"22:16938334:G:C\", \"22:16948327:G:A\", \"22:16948479:A:G\", \"22:16950192:A:T\", \"22:16950203:C:T\", \"22:16950203:C:T\", \"22:16952200:T:C\", \"22:16957623:G:A\"], \"y\": [\"16912210*\", \"16912775*\", \"16913788*\", \"16914822*\", \"16916066*\", \"16926176*\", \"16927996*\", \"16928421*\", \"16932137*\", \"16933241*\", \"16938334*\", \"16948327*\", \"16948479*\", \"16950192*\", \"16950203*\", \"16950203*\", \"16952200*\", \"16957623*\"], \"z\": [[0.0, 0.43643263757116024, 0.4364326375711317, 0.4157397107897617, 0.4364326375711637, 0.4364326375711649, 0.05554597205451561, 0.4364326375711649, 0.43643263757116146, 0.43643263757114537, 0.43643263757115536, 0.4364326375711649, 0.4364326375711649, 0.14054832166461195, 0.4364326375711317, 0.4364326375711317, 0.26944971537001183, 0.4364326375711317], [0.41891910048056846, 0.0, 2.853273173286652e-14, 0.8521723483609219, 3.4416913763379853e-15, 4.6629367034256575e-15, 0.49197860962567586, 4.6629367034256575e-15, 1.2212453270876722e-15, 1.4876988529977098e-14, 4.884981308350689e-15, 4.6629367034256575e-15, 4.6629367034256575e-15, 0.2958843159065483, 2.853273173286652e-14, 2.853273173286652e-14, 0.7058823529411721, 2.853273173286652e-14], [0.480276234221405, 0.06135713374083651, 0.0, 0.8521723483608934, 3.197442310920451e-14, 3.319566843629218e-14, 0.4919786096256473, 3.319566843629218e-14, 2.9753977059954195e-14, 1.3655743202889425e-14, 2.3647750424515834e-14, 3.319566843629218e-14, 3.319566843629218e-14, 0.29588431590651976, 0.0, 0.0, 0.7058823529411435, 0.0], [0.25456978650843776, 0.6734888869890062, 0.7348460207298427, 0.0, 0.8521723483609254, 0.8521723483609266, 0.36019373873524607, 0.8521723483609266, 0.8521723483609231, 0.852172348360907, 0.852172348360917, 0.8521723483609266, 0.8521723483609266, 0.5562880324543736, 0.8521723483608934, 0.8521723483608934, 0.14628999541974988, 0.8521723483608934], [0.17631562069309537, 0.2426034797874731, 0.3039606135283096, 0.4308854072015331, 0.0, 1.2212453270876722e-15, 0.4919786096256793, 1.2212453270876722e-15, 2.220446049250313e-15, 1.8318679906315083e-14, 8.326672684688674e-15, 1.2212453270876722e-15, 1.2212453270876722e-15, 0.29588431590655173, 3.197442310920451e-14, 3.197442310920451e-14, 0.7058823529411755, 3.197442310920451e-14], [0.6639795195524725, 0.245060419071904, 0.1837032853310675, 0.9185493060609102, 0.4876638988593771, 0.0, 0.4919786096256805, 0.0, 3.4416913763379853e-15, 1.9539925233402755e-14, 9.547918011776346e-15, 0.0, 0.0, 0.29588431590655295, 3.319566843629218e-14, 3.319566843629218e-14, 0.7058823529411767, 3.319566843629218e-14], [0.1740833216553972, 0.24483577882517127, 0.3061929125660078, 0.42865310816383495, 0.002232299037698171, 0.4898961978970753, 0.0, 0.4919786096256805, 0.4919786096256771, 0.491978609625661, 0.49197860962567097, 0.4919786096256805, 0.4919786096256805, 0.19609429371912757, 0.4919786096256473, 0.4919786096256473, 0.21390374331549622, 0.4919786096256473], [0.6639795195524725, 0.245060419071904, 0.1837032853310675, 0.9185493060609102, 0.4876638988593771, 0.0, 0.4898961978970753, 0.0, 3.4416913763379853e-15, 1.9539925233402755e-14, 9.547918011776346e-15, 0.0, 0.0, 0.29588431590655295, 3.319566843629218e-14, 3.319566843629218e-14, 0.7058823529411767, 3.319566843629218e-14], [0.539919706812712, 0.12100060633214349, 0.05964347259130698, 0.7944894933211497, 0.3636040861196166, 0.12405981273976052, 0.36583638515731476, 0.12405981273976052, 0.0, 1.609823385706477e-14, 6.106226635438361e-15, 3.4416913763379853e-15, 3.4416913763379853e-15, 0.2958843159065495, 2.9753977059954195e-14, 2.9753977059954195e-14, 0.7058823529411733, 2.9753977059954195e-14], [0.010701897019867901, 0.40821720346070056, 0.4695743372015371, 0.26527168352830566, 0.16561372367322746, 0.6532776225326046, 0.1633814246355293, 0.6532776225326046, 0.529217809792844, 0.0, 9.992007221626409e-15, 1.9539925233402755e-14, 1.9539925233402755e-14, 0.2958843159065334, 1.3655743202889425e-14, 1.3655743202889425e-14, 0.7058823529411572, 1.3655743202889425e-14], [0.48845862024109765, 0.06953951976052919, 0.008182386019692678, 0.7430284067495354, 0.3121429995480023, 0.17552089931137482, 0.31437529858570046, 0.17552089931137482, 0.0514610865716143, 0.47775672322122975, 0.0, 9.547918011776346e-15, 9.547918011776346e-15, 0.2958843159065434, 2.3647750424515834e-14, 2.3647750424515834e-14, 0.7058823529411672, 2.3647750424515834e-14], [0.6639795195524725, 0.245060419071904, 0.1837032853310675, 0.9185493060609102, 0.4876638988593771, 0.0, 0.4898961978970753, 0.0, 0.12405981273976052, 0.6532776225326046, 0.17552089931137482, 0.0, 0.0, 0.29588431590655295, 3.319566843629218e-14, 3.319566843629218e-14, 0.7058823529411767, 3.319566843629218e-14], [0.6639795195524725, 0.245060419071904, 0.1837032853310675, 0.9185493060609102, 0.4876638988593771, 0.0, 0.4898961978970753, 0.0, 0.12405981273976052, 0.6532776225326046, 0.17552089931137482, 0.0, 0.0, 0.29588431590655295, 3.319566843629218e-14, 3.319566843629218e-14, 0.7058823529411767, 3.319566843629218e-14], [0.16378136987865277, 0.2551377306019157, 0.3164948643427522, 0.41835115638709053, 0.012534250814442593, 0.5001981496738197, 0.010301951776744422, 0.5001981496738197, 0.3761383369340592, 0.15307947285878487, 0.3246772503624449, 0.5001981496738197, 0.5001981496738197, 0.0, 0.29588431590651976, 0.29588431590651976, 0.4099980370346238, 0.29588431590651976], [0.480276234221405, 0.06135713374083651, 0.0, 0.7348460207298427, 0.3039606135283096, 0.1837032853310675, 0.3061929125660078, 0.1837032853310675, 0.05964347259130698, 0.4695743372015371, 0.008182386019692678, 0.1837032853310675, 0.1837032853310675, 0.3164948643427522, 0.0, 0.0, 0.7058823529411435, 0.0], [0.480276234221405, 0.06135713374083651, 0.0, 0.7348460207298427, 0.3039606135283096, 0.1837032853310675, 0.3061929125660078, 0.1837032853310675, 0.05964347259130698, 0.4695743372015371, 0.008182386019692678, 0.1837032853310675, 0.1837032853310675, 0.3164948643427522, 0.0, 0.0, 0.7058823529411435, 0.0], [0.2201837061292118, 0.6391028066097802, 0.7004599403506168, 0.03438608037922597, 0.39649932682230715, 0.8841632256816843, 0.394267027784609, 0.8841632256816843, 0.7601034129419237, 0.2308856031490797, 0.7086423263703094, 0.8841632256816843, 0.8841632256816843, 0.38396507600786456, 0.7004599403506168, 0.7004599403506168, 0.0, 0.7058823529411435], [0.480276234221405, 0.06135713374083651, 0.0, 0.7348460207298427, 0.3039606135283096, 0.1837032853310675, 0.3061929125660078, 0.1837032853310675, 0.05964347259130698, 0.4695743372015371, 0.008182386019692678, 0.1837032853310675, 0.1837032853310675, 0.3164948643427522, 0.0, 0.0, 0.7004599403506168, 0.0]], \"type\": \"heatmap\", \"uid\": \"ee5b040f-7d1e-4ac2-8f11-e4e120005b3b\"}], {\"width\": 1440, \"height\": 500, \"title\": \"chiSquare\"}, {\"showLink\": true, \"linkText\": \"Export to plot.ly\", \"plotlyServerURL\": \"https://plot.ly\"})});</script>"
      ],
      "text/vnd.plotly.v1+html": [
       "<div id=\"3b05ab28-fdef-43d8-b158-8b73be5e2cb1\" style=\"height: 500px; width: 1440px;\" class=\"plotly-graph-div\"></div><script type=\"text/javascript\">require([\"plotly\"], function(Plotly) { window.PLOTLYENV=window.PLOTLYENV || {};window.PLOTLYENV.BASE_URL=\"https://plot.ly\";Plotly.newPlot(\"3b05ab28-fdef-43d8-b158-8b73be5e2cb1\", [{\"colorscale\": \"Viridis\", \"x\": [\"22:16912210:A:G\", \"22:16912775:C:A\", \"22:16913788:A:T\", \"22:16914822:C:G\", \"22:16916066:T:C\", \"22:16926176:T:A\", \"22:16927996:G:A\", \"22:16928421:A:G\", \"22:16932137:C:A\", \"22:16933241:T:C\", \"22:16938334:G:C\", \"22:16948327:G:A\", \"22:16948479:A:G\", \"22:16950192:A:T\", \"22:16950203:C:T\", \"22:16950203:C:T\", \"22:16952200:T:C\", \"22:16957623:G:A\"], \"y\": [\"16912210*\", \"16912775*\", \"16913788*\", \"16914822*\", \"16916066*\", \"16926176*\", \"16927996*\", \"16928421*\", \"16932137*\", \"16933241*\", \"16938334*\", \"16948327*\", \"16948479*\", \"16950192*\", \"16950203*\", \"16950203*\", \"16952200*\", \"16957623*\"], \"z\": [[0.0, 0.43643263757116024, 0.4364326375711317, 0.4157397107897617, 0.4364326375711637, 0.4364326375711649, 0.05554597205451561, 0.4364326375711649, 0.43643263757116146, 0.43643263757114537, 0.43643263757115536, 0.4364326375711649, 0.4364326375711649, 0.14054832166461195, 0.4364326375711317, 0.4364326375711317, 0.26944971537001183, 0.4364326375711317], [0.41891910048056846, 0.0, 2.853273173286652e-14, 0.8521723483609219, 3.4416913763379853e-15, 4.6629367034256575e-15, 0.49197860962567586, 4.6629367034256575e-15, 1.2212453270876722e-15, 1.4876988529977098e-14, 4.884981308350689e-15, 4.6629367034256575e-15, 4.6629367034256575e-15, 0.2958843159065483, 2.853273173286652e-14, 2.853273173286652e-14, 0.7058823529411721, 2.853273173286652e-14], [0.480276234221405, 0.06135713374083651, 0.0, 0.8521723483608934, 3.197442310920451e-14, 3.319566843629218e-14, 0.4919786096256473, 3.319566843629218e-14, 2.9753977059954195e-14, 1.3655743202889425e-14, 2.3647750424515834e-14, 3.319566843629218e-14, 3.319566843629218e-14, 0.29588431590651976, 0.0, 0.0, 0.7058823529411435, 0.0], [0.25456978650843776, 0.6734888869890062, 0.7348460207298427, 0.0, 0.8521723483609254, 0.8521723483609266, 0.36019373873524607, 0.8521723483609266, 0.8521723483609231, 0.852172348360907, 0.852172348360917, 0.8521723483609266, 0.8521723483609266, 0.5562880324543736, 0.8521723483608934, 0.8521723483608934, 0.14628999541974988, 0.8521723483608934], [0.17631562069309537, 0.2426034797874731, 0.3039606135283096, 0.4308854072015331, 0.0, 1.2212453270876722e-15, 0.4919786096256793, 1.2212453270876722e-15, 2.220446049250313e-15, 1.8318679906315083e-14, 8.326672684688674e-15, 1.2212453270876722e-15, 1.2212453270876722e-15, 0.29588431590655173, 3.197442310920451e-14, 3.197442310920451e-14, 0.7058823529411755, 3.197442310920451e-14], [0.6639795195524725, 0.245060419071904, 0.1837032853310675, 0.9185493060609102, 0.4876638988593771, 0.0, 0.4919786096256805, 0.0, 3.4416913763379853e-15, 1.9539925233402755e-14, 9.547918011776346e-15, 0.0, 0.0, 0.29588431590655295, 3.319566843629218e-14, 3.319566843629218e-14, 0.7058823529411767, 3.319566843629218e-14], [0.1740833216553972, 0.24483577882517127, 0.3061929125660078, 0.42865310816383495, 0.002232299037698171, 0.4898961978970753, 0.0, 0.4919786096256805, 0.4919786096256771, 0.491978609625661, 0.49197860962567097, 0.4919786096256805, 0.4919786096256805, 0.19609429371912757, 0.4919786096256473, 0.4919786096256473, 0.21390374331549622, 0.4919786096256473], [0.6639795195524725, 0.245060419071904, 0.1837032853310675, 0.9185493060609102, 0.4876638988593771, 0.0, 0.4898961978970753, 0.0, 3.4416913763379853e-15, 1.9539925233402755e-14, 9.547918011776346e-15, 0.0, 0.0, 0.29588431590655295, 3.319566843629218e-14, 3.319566843629218e-14, 0.7058823529411767, 3.319566843629218e-14], [0.539919706812712, 0.12100060633214349, 0.05964347259130698, 0.7944894933211497, 0.3636040861196166, 0.12405981273976052, 0.36583638515731476, 0.12405981273976052, 0.0, 1.609823385706477e-14, 6.106226635438361e-15, 3.4416913763379853e-15, 3.4416913763379853e-15, 0.2958843159065495, 2.9753977059954195e-14, 2.9753977059954195e-14, 0.7058823529411733, 2.9753977059954195e-14], [0.010701897019867901, 0.40821720346070056, 0.4695743372015371, 0.26527168352830566, 0.16561372367322746, 0.6532776225326046, 0.1633814246355293, 0.6532776225326046, 0.529217809792844, 0.0, 9.992007221626409e-15, 1.9539925233402755e-14, 1.9539925233402755e-14, 0.2958843159065334, 1.3655743202889425e-14, 1.3655743202889425e-14, 0.7058823529411572, 1.3655743202889425e-14], [0.48845862024109765, 0.06953951976052919, 0.008182386019692678, 0.7430284067495354, 0.3121429995480023, 0.17552089931137482, 0.31437529858570046, 0.17552089931137482, 0.0514610865716143, 0.47775672322122975, 0.0, 9.547918011776346e-15, 9.547918011776346e-15, 0.2958843159065434, 2.3647750424515834e-14, 2.3647750424515834e-14, 0.7058823529411672, 2.3647750424515834e-14], [0.6639795195524725, 0.245060419071904, 0.1837032853310675, 0.9185493060609102, 0.4876638988593771, 0.0, 0.4898961978970753, 0.0, 0.12405981273976052, 0.6532776225326046, 0.17552089931137482, 0.0, 0.0, 0.29588431590655295, 3.319566843629218e-14, 3.319566843629218e-14, 0.7058823529411767, 3.319566843629218e-14], [0.6639795195524725, 0.245060419071904, 0.1837032853310675, 0.9185493060609102, 0.4876638988593771, 0.0, 0.4898961978970753, 0.0, 0.12405981273976052, 0.6532776225326046, 0.17552089931137482, 0.0, 0.0, 0.29588431590655295, 3.319566843629218e-14, 3.319566843629218e-14, 0.7058823529411767, 3.319566843629218e-14], [0.16378136987865277, 0.2551377306019157, 0.3164948643427522, 0.41835115638709053, 0.012534250814442593, 0.5001981496738197, 0.010301951776744422, 0.5001981496738197, 0.3761383369340592, 0.15307947285878487, 0.3246772503624449, 0.5001981496738197, 0.5001981496738197, 0.0, 0.29588431590651976, 0.29588431590651976, 0.4099980370346238, 0.29588431590651976], [0.480276234221405, 0.06135713374083651, 0.0, 0.7348460207298427, 0.3039606135283096, 0.1837032853310675, 0.3061929125660078, 0.1837032853310675, 0.05964347259130698, 0.4695743372015371, 0.008182386019692678, 0.1837032853310675, 0.1837032853310675, 0.3164948643427522, 0.0, 0.0, 0.7058823529411435, 0.0], [0.480276234221405, 0.06135713374083651, 0.0, 0.7348460207298427, 0.3039606135283096, 0.1837032853310675, 0.3061929125660078, 0.1837032853310675, 0.05964347259130698, 0.4695743372015371, 0.008182386019692678, 0.1837032853310675, 0.1837032853310675, 0.3164948643427522, 0.0, 0.0, 0.7058823529411435, 0.0], [0.2201837061292118, 0.6391028066097802, 0.7004599403506168, 0.03438608037922597, 0.39649932682230715, 0.8841632256816843, 0.394267027784609, 0.8841632256816843, 0.7601034129419237, 0.2308856031490797, 0.7086423263703094, 0.8841632256816843, 0.8841632256816843, 0.38396507600786456, 0.7004599403506168, 0.7004599403506168, 0.0, 0.7058823529411435], [0.480276234221405, 0.06135713374083651, 0.0, 0.7348460207298427, 0.3039606135283096, 0.1837032853310675, 0.3061929125660078, 0.1837032853310675, 0.05964347259130698, 0.4695743372015371, 0.008182386019692678, 0.1837032853310675, 0.1837032853310675, 0.3164948643427522, 0.0, 0.0, 0.7004599403506168, 0.0]], \"type\": \"heatmap\", \"uid\": \"ee5b040f-7d1e-4ac2-8f11-e4e120005b3b\"}], {\"width\": 1440, \"height\": 500, \"title\": \"chiSquare\"}, {\"showLink\": true, \"linkText\": \"Export to plot.ly\", \"plotlyServerURL\": \"https://plot.ly\"})});</script>"
      ]
     },
     "metadata": {},
     "output_type": "display_data"
    }
   ],
   "source": [
    "import numpy as np\n",
    "import plotly.graph_objs as go\n",
    "import plotly.offline as py\n",
    "from plotly.offline import get_plotlyjs, init_notebook_mode\n",
    "\n",
    "init_notebook_mode(connected=True)\n",
    "\n",
    "SLCdf = df.filter(array_contains(genes(\"annotation\"), \"SLC9B1P4\"))\n",
    "\n",
    "pandasFisher = oskar.fisher(SLCdf, \"hgvauser@platinum:illumina_platinum\", \"KK\").select(\"id\", col(\"Fisher p-value\").alias(\"fisher\")).toPandas()\n",
    "pandasChiSquare = oskar.chiSquare(SLCdf, \"hgvauser@platinum:illumina_platinum\", \"KK\").select(\"id\", col(\"ChiSquare p-value\").alias(\"chiSquare\")).toPandas()\n",
    "\n",
    "labels=pandasFisher[\"id\"].tolist()\n",
    "labelsPosition=[i.split(':', 3)[1] + \"*\" for i in labels]\n",
    "\n",
    "# dim = len(labels)\n",
    "# X = np.zeros((dim, dim))\n",
    "# for i in range(dim):\n",
    "#     for j in range(dim):\n",
    "#         X[j, i] = np.absolute(pandasChiSquare[\"chiSquare\"][i] - pandasChiSquare[\"chiSquare\"][j])\n",
    "\n",
    "dim = len(labels)\n",
    "X = np.zeros((dim, dim))\n",
    "for i in range(dim):\n",
    "    for j in range(i, dim):\n",
    "        X[i, j] = np.absolute(pandasFisher[\"fisher\"][i] - pandasFisher[\"fisher\"][j])\n",
    "for i in range(dim):\n",
    "    for j in range(i, dim):\n",
    "        X[j, i] = np.absolute(pandasChiSquare[\"chiSquare\"][i] - pandasChiSquare[\"chiSquare\"][j])\n",
    "\n",
    "trace = go.Heatmap(x=labels, y=labelsPosition, z=X, colorscale='Viridis')\n",
    "fig = go.Figure(data=[trace])\n",
    "fig['layout'].update({'width':1440, 'height':500, 'title':'chiSquare'})\n",
    "py.iplot(fig, filename='annotated_heatmap_color')"
   ]
  },
  {
   "cell_type": "code",
   "execution_count": 1,
   "metadata": {},
   "outputs": [],
   "source": [
    "# import numpy as np\n",
    "# import plotly.offline as py\n",
    "# import plotly.figure_factory as ff\n",
    "# from plotly.offline import get_plotlyjs, init_notebook_mode\n",
    "\n",
    "# init_notebook_mode(connected=True)\n",
    "\n",
    "# dfSLC = statsDF.filter(array_contains(genes(\"annotation\"), \"SLC9B1P4\"))\n",
    "\n",
    "# pandasFisher = oskar.fisher(dfSLC, \"hgvauser@platinum:illumina_platinum\", \"KK\").select(\"id\", col(\"Fisher p-value\").alias(\"fisher\")).toPandas()\n",
    "# pandasChiSquare = oskar.chiSquare(dfSLC, \"hgvauser@platinum:illumina_platinum\", \"KK\").select(\"id\", col(\"ChiSquare p-value\").alias(\"chiSquare\")).toPandas()\n",
    "\n",
    "# labels=pandasFisher[\"id\"].tolist()\n",
    "\n",
    "# dim = len(labels)\n",
    "# X = np.zeros((dim, dim))\n",
    "# for i in range(dim):\n",
    "#     for j in range(i, dim):\n",
    "#         X[i, j] = np.absolute(pandasFisher[\"fisher\"][i] - pandasFisher[\"fisher\"][j])\n",
    "# for i in range(dim):\n",
    "#     for j in range(i, dim):\n",
    "#         X[j, i] = np.absolute(pandasChiSquare[\"chiSquare\"][i] - pandasChiSquare[\"chiSquare\"][j])\n",
    "\n",
    "# fig = ff.create_dendrogram(X, labels=labels, color_threshold=1)\n",
    "# fig['layout'].update({'width':1440, 'height':500, 'showlegend':True, \"title\":\"chiSquare vs fisher\"})\n",
    "# py.iplot(fig, filename='dendrogram')"
   ]
  }
 ],
 "metadata": {
  "kernelspec": {
   "display_name": "Python 3",
   "language": "python",
   "name": "python3"
  },
  "language_info": {
   "codemirror_mode": {
    "name": "ipython",
    "version": 3
   },
   "file_extension": ".py",
   "mimetype": "text/x-python",
   "name": "python",
   "nbconvert_exporter": "python",
   "pygments_lexer": "ipython3",
   "version": "3.6.7"
  }
 },
 "nbformat": 4,
 "nbformat_minor": 2
}
