{
 "cells": [
  {
   "cell_type": "markdown",
   "metadata": {},
   "source": [
    "# **Statistics tutorial**\n",
    "\n",
    "In this Jupyter tutorial we will show some examples of how to extract statistics from our data. These methods are implemented as part of the functionality of PyOskar API using the _transformers_ Spark model. These kind of functions depend directly from an _Oskar()_ object, and they will return a whole dataframe with the due transformation applied.\n",
    "> <span style=\"color:#ff6600\"> **PyOskar is integrated in PySpark default API. It is possible to manage data simultaneously with functions from both libraries in case we want to select specific fields, visualize the dataframe, filter the output or performing other operations besides the transformation.** </span>"
   ]
  },
  {
   "cell_type": "markdown",
   "metadata": {},
   "source": [
    "First, we need to import the PyOskar and PySpark modules. Second, we need to create an instance of the _Oskar()_ object, from which depends a big part of the functionality. Finally, we must use the _load()_ transformer pointing to where the parquet file is stored to convert our data into a DataFrame _df_, and we are ready to start playing."
   ]
  },
  {
   "cell_type": "code",
   "execution_count": 1,
   "metadata": {},
   "outputs": [],
   "source": [
    "from pyoskar.core import Oskar\n",
    "from pyoskar.sql import *\n",
    "from pyoskar.analysis import *\n",
    "from pyspark.sql.functions import *\n",
    "\n",
    "oskar = Oskar(spark)\n",
    "df = oskar.load(\"./data/platinum_chr22.small.parquet\")"
   ]
  },
  {
   "cell_type": "markdown",
   "metadata": {},
   "source": [
    "You can use PySpark _show()_ method to print the data from _df_. This is how our testing dataframe looks like. As you can see for this tutorial we have selected a small dataset from Illumina Platinum Genomes with 1,000 random variants from chromosome 22."
   ]
  },
  {
   "cell_type": "code",
   "execution_count": 2,
   "metadata": {},
   "outputs": [
    {
     "name": "stdout",
     "output_type": "stream",
     "text": [
      "Print first 20 variants:\n",
      "+---------------+-----+----------+--------+--------+---------+---------+------+----+------+-----+----+--------------------+--------------------+\n",
      "|             id|names|chromosome|   start|     end|reference|alternate|strand|  sv|length| type|hgvs|             studies|          annotation|\n",
      "+---------------+-----+----------+--------+--------+---------+---------+------+----+------+-----+----+--------------------+--------------------+\n",
      "|22:16054454:C:T|   []|        22|16054454|16054454|        C|        T|     +|null|     1|  SNV|  []|[[hgvauser@platin...|[22, 16054454, 16...|\n",
      "|22:16065809:T:C|   []|        22|16065809|16065809|        T|        C|     +|null|     1|  SNV|  []|[[hgvauser@platin...|[22, 16065809, 16...|\n",
      "|22:16077310:T:A|   []|        22|16077310|16077310|        T|        A|     +|null|     1|  SNV|  []|[[hgvauser@platin...|[22, 16077310, 16...|\n",
      "|22:16080499:A:G|   []|        22|16080499|16080499|        A|        G|     +|null|     1|  SNV|  []|[[hgvauser@platin...|[22, 16080499, 16...|\n",
      "|22:16084621:T:C|   []|        22|16084621|16084621|        T|        C|     +|null|     1|  SNV|  []|[[hgvauser@platin...|[22, 16084621, 16...|\n",
      "|22:16091610:G:T|   []|        22|16091610|16091610|        G|        T|     +|null|     1|  SNV|  []|[[hgvauser@platin...|[22, 16091610, 16...|\n",
      "|22:16096040:G:A|   []|        22|16096040|16096040|        G|        A|     +|null|     1|  SNV|  []|[[hgvauser@platin...|[22, 16096040, 16...|\n",
      "|22:16099957:C:T|   []|        22|16099957|16099957|        C|        T|     +|null|     1|  SNV|  []|[[hgvauser@platin...|[22, 16099957, 16...|\n",
      "|22:16100462:A:G|   []|        22|16100462|16100462|        A|        G|     +|null|     1|  SNV|  []|[[hgvauser@platin...|[22, 16100462, 16...|\n",
      "|22:16105660:G:A|   []|        22|16105660|16105660|        G|        A|     +|null|     1|  SNV|  []|[[hgvauser@platin...|[22, 16105660, 16...|\n",
      "|22:16112391:G:A|   []|        22|16112391|16112391|        G|        A|     +|null|     1|  SNV|  []|[[hgvauser@platin...|[22, 16112391, 16...|\n",
      "|22:16114913:A:T|   []|        22|16114913|16114913|        A|        T|     +|null|     1|  SNV|  []|[[hgvauser@platin...|[22, 16114913, 16...|\n",
      "|22:16127471:A:-|   []|        22|16127471|16127471|        A|         |     +|null|     1|INDEL|  []|[[hgvauser@platin...|[22, 16127471, 16...|\n",
      "|22:16134019:G:T|   []|        22|16134019|16134019|        G|        T|     +|null|     1|  SNV|  []|[[hgvauser@platin...|[22, 16134019, 16...|\n",
      "|22:16138943:C:G|   []|        22|16138943|16138943|        C|        G|     +|null|     1|  SNV|  []|[[hgvauser@platin...|[22, 16138943, 16...|\n",
      "|22:16144239:T:C|   []|        22|16144239|16144239|        T|        C|     +|null|     1|  SNV|  []|[[hgvauser@platin...|[22, 16144239, 16...|\n",
      "|22:16147398:G:A|   []|        22|16147398|16147398|        G|        A|     +|null|     1|  SNV|  []|[[hgvauser@platin...|[22, 16147398, 16...|\n",
      "|22:16149692:G:T|   []|        22|16149692|16149692|        G|        T|     +|null|     1|  SNV|  []|[[hgvauser@platin...|[22, 16149692, 16...|\n",
      "|22:16195955:G:A|   []|        22|16195955|16195955|        G|        A|     +|null|     1|  SNV|  []|[[hgvauser@platin...|[22, 16195955, 16...|\n",
      "|22:16196041:C:T|   []|        22|16196041|16196041|        C|        T|     +|null|     1|  SNV|  []|[[hgvauser@platin...|[22, 16196041, 16...|\n",
      "+---------------+-----+----------+--------+--------+---------+---------+------+----+------+-----+----+--------------------+--------------------+\n",
      "only showing top 20 rows\n",
      "\n"
     ]
    }
   ],
   "source": [
    "print(\"Print first 20 variants:\")\n",
    "df.show()"
   ]
  },
  {
   "cell_type": "markdown",
   "metadata": {},
   "source": [
    "NOTE: With _df.printSchema()_ command you can check the dataset hierarchy and all its fields."
   ]
  },
  {
   "cell_type": "code",
   "execution_count": 3,
   "metadata": {},
   "outputs": [
    {
     "name": "stdout",
     "output_type": "stream",
     "text": [
      "Total number of variants:\n"
     ]
    },
    {
     "data": {
      "text/plain": [
       "1000"
      ]
     },
     "execution_count": 3,
     "metadata": {},
     "output_type": "execute_result"
    }
   ],
   "source": [
    "print(\"Total number of variants:\")\n",
    "df.count()"
   ]
  },
  {
   "cell_type": "markdown",
   "metadata": {},
   "source": [
    "## Stats per variant\n",
    "Here we present the genotypes of the variants from which the later stats will come out:"
   ]
  },
  {
   "cell_type": "code",
   "execution_count": 2,
   "metadata": {},
   "outputs": [
    {
     "name": "stdout",
     "output_type": "stream",
     "text": [
      "+---------------+-------------------------------------------------------------------------------------------------------------------------+\n",
      "|id             |genotypes                                                                                                                |\n",
      "+---------------+-------------------------------------------------------------------------------------------------------------------------+\n",
      "|22:16054454:C:T|[[[./.], [./.], [./.], [./.], [./.], [./.], [./.], [./.], [./.], [./.], [./.], [./.], [./.], [0/1], [./.], [./.], [./.]]]|\n",
      "|22:16065809:T:C|[[[0/1], [./.], [./.], [./.], [0/1], [./.], [0/1], [./.], [./.], [./.], [./.], [0/1], [0/1], [./.], [./.], [./.], [0/1]]]|\n",
      "|22:16077310:T:A|[[[./.], [0/1], [0/1], [./.], [./.], [0/1], [./.], [0/1], [./.], [0/1], [./.], [0/1], [./.], [./.], [0/1], [./.], [./.]]]|\n",
      "|22:16080499:A:G|[[[0/1], [./.], [0/1], [./.], [./.], [./.], [./.], [./.], [./.], [./.], [./.], [0/1], [0/1], [./.], [./.], [./.], [./.]]]|\n",
      "|22:16084621:T:C|[[[./.], [0/1], [./.], [./.], [./.], [0/1], [./.], [0/1], [./.], [./.], [./.], [0/1], [./.], [./.], [0/1], [./.], [./.]]]|\n",
      "|22:16091610:G:T|[[[./.], [./.], [./.], [./.], [./.], [./.], [./.], [0/1], [./.], [./.], [./.], [0/1], [./.], [./.], [0/1], [./.], [./.]]]|\n",
      "|22:16096040:G:A|[[[./.], [./.], [./.], [./.], [./.], [./.], [0/1], [0/1], [./.], [0/1], [0/1], [0/1], [./.], [0/1], [0/1], [0/1], [0/1]]]|\n",
      "|22:16099957:C:T|[[[0/1], [0/1], [0/1], [0/1], [0/1], [0/1], [0/1], [0/1], [0/1], [0/1], [0/1], [1/1], [0/1], [1/1], [1/1], [0/1], [0/1]]]|\n",
      "|22:16100462:A:G|[[[0/1], [0/1], [0/1], [0/1], [0/1], [0/1], [0/1], [0/1], [0/1], [0/1], [./.], [0/1], [0/1], [0/1], [0/1], [0/1], [0/1]]]|\n",
      "|22:16105660:G:A|[[[0/1], [./.], [0/1], [./.], [0/1], [./.], [0/1], [0/1], [./.], [0/1], [./.], [0/1], [0/1], [./.], [0/1], [./.], [0/1]]]|\n",
      "+---------------+-------------------------------------------------------------------------------------------------------------------------+\n",
      "only showing top 10 rows\n",
      "\n"
     ]
    }
   ],
   "source": [
    "df.select(df.id, df.studies.samplesData.alias(\"genotypes\")).show(10, truncate = False)"
   ]
  },
  {
   "cell_type": "markdown",
   "metadata": {},
   "source": [
    "In this case we are applying a transformation that adds new data inside the _stats_ field, which is empty before we do anything:"
   ]
  },
  {
   "cell_type": "code",
   "execution_count": 9,
   "metadata": {},
   "outputs": [
    {
     "name": "stdout",
     "output_type": "stream",
     "text": [
      "+---------------+-----------+--------------+--------------+------------------+--------------------+-------------+-------------+\n",
      "|id             |alleleCount|refAlleleCount|altAlleleCount|missingAlleleCount|missingGenotypeCount|refAlleleFreq|altAlleleFreq|\n",
      "+---------------+-----------+--------------+--------------+------------------+--------------------+-------------+-------------+\n",
      "|22:16054454:C:T|null       |null          |null          |null              |null                |null         |null         |\n",
      "|22:16065809:T:C|null       |null          |null          |null              |null                |null         |null         |\n",
      "|22:16077310:T:A|null       |null          |null          |null              |null                |null         |null         |\n",
      "|22:16080499:A:G|null       |null          |null          |null              |null                |null         |null         |\n",
      "|22:16084621:T:C|null       |null          |null          |null              |null                |null         |null         |\n",
      "|22:16091610:G:T|null       |null          |null          |null              |null                |null         |null         |\n",
      "|22:16096040:G:A|null       |null          |null          |null              |null                |null         |null         |\n",
      "|22:16099957:C:T|null       |null          |null          |null              |null                |null         |null         |\n",
      "|22:16100462:A:G|null       |null          |null          |null              |null                |null         |null         |\n",
      "|22:16105660:G:A|null       |null          |null          |null              |null                |null         |null         |\n",
      "+---------------+-----------+--------------+--------------+------------------+--------------------+-------------+-------------+\n",
      "only showing top 10 rows\n",
      "\n"
     ]
    }
   ],
   "source": [
    "df.selectExpr(\"id\", \"studies[0].stats.ALL as stats\").select(\"id\", \"stats.*\")\\\n",
    "    .select(\"id\", \"alleleCount\", \"refAlleleCount\", \"altAlleleCount\", \"missingAlleleCount\", \"missingGenotypeCount\", \"refAlleleFreq\", \"altAlleleFreq\")\\\n",
    "    .show(10, truncate = False)"
   ]
  },
  {
   "cell_type": "markdown",
   "metadata": {},
   "source": [
    "Now we proceed to call the _stats()_ transformer through our _oskar_ instance. That means that our dataframe will go through some kind of operation. It is important to know how transformers work in order to correctly access the new information.\n",
    "<br>\n",
    "Usage:\n",
    "```python\n",
    "stats(df[DataFrame], studyId[str]=None, cohort[str]=None, samples[str]=None, missingAsReference[bool]=None)\n",
    "```"
   ]
  },
  {
   "cell_type": "code",
   "execution_count": 15,
   "metadata": {},
   "outputs": [
    {
     "name": "stdout",
     "output_type": "stream",
     "text": [
      "+---------------+-----------+--------------+--------------+------------------+--------------------+-------------+-------------+\n",
      "|id             |alleleCount|refAlleleCount|altAlleleCount|missingAlleleCount|missingGenotypeCount|refAlleleFreq|altAlleleFreq|\n",
      "+---------------+-----------+--------------+--------------+------------------+--------------------+-------------+-------------+\n",
      "|22:16054454:C:T|2          |1             |1             |32                |16                  |0.5          |0.5          |\n",
      "|22:16065809:T:C|12         |6             |6             |22                |11                  |0.5          |0.5          |\n",
      "|22:16077310:T:A|14         |7             |7             |20                |10                  |0.5          |0.5          |\n",
      "|22:16080499:A:G|8          |4             |4             |26                |13                  |0.5          |0.5          |\n",
      "|22:16084621:T:C|10         |5             |5             |24                |12                  |0.5          |0.5          |\n",
      "|22:16091610:G:T|6          |3             |3             |28                |14                  |0.5          |0.5          |\n",
      "|22:16096040:G:A|18         |9             |9             |16                |8                   |0.5          |0.5          |\n",
      "|22:16099957:C:T|34         |14            |20            |0                 |0                   |0.4117647    |0.5882353    |\n",
      "|22:16100462:A:G|32         |16            |16            |2                 |1                   |0.5          |0.5          |\n",
      "|22:16105660:G:A|20         |10            |10            |14                |7                   |0.5          |0.5          |\n",
      "+---------------+-----------+--------------+--------------+------------------+--------------------+-------------+-------------+\n",
      "only showing top 10 rows\n",
      "\n"
     ]
    }
   ],
   "source": [
    "statsDF = oskar.stats(df)\n",
    "statsDF.selectExpr(\"id\", \"studies[0].stats.ALL as stats\").select(\"id\", \"stats.*\")\\\n",
    "    .select(\"id\", \"alleleCount\", \"refAlleleCount\", \"altAlleleCount\", \"missingAlleleCount\", \"missingGenotypeCount\", \"refAlleleFreq\", \"altAlleleFreq\")\\\n",
    "    .show(10, truncate = False)"
   ]
  },
  {
   "cell_type": "markdown",
   "metadata": {},
   "source": [
    "Since our data has some empty genotypes, we would like to treat those missing values as if they were the reference. For that issue we dispose of _missingAsReference_ parameter:"
   ]
  },
  {
   "cell_type": "code",
   "execution_count": 6,
   "metadata": {},
   "outputs": [
    {
     "name": "stdout",
     "output_type": "stream",
     "text": [
      "+---------------+-----------+--------------+--------------+------------------+--------------------+-------------+-------------+\n",
      "|id             |alleleCount|refAlleleCount|altAlleleCount|missingAlleleCount|missingGenotypeCount|refAlleleFreq|altAlleleFreq|\n",
      "+---------------+-----------+--------------+--------------+------------------+--------------------+-------------+-------------+\n",
      "|22:16054454:C:T|34         |33            |1             |0                 |0                   |0.9705882    |0.029411765  |\n",
      "|22:16065809:T:C|34         |28            |6             |0                 |0                   |0.8235294    |0.1764706    |\n",
      "|22:16077310:T:A|34         |27            |7             |0                 |0                   |0.7941176    |0.20588236   |\n",
      "|22:16080499:A:G|34         |30            |4             |0                 |0                   |0.88235295   |0.11764706   |\n",
      "|22:16084621:T:C|34         |29            |5             |0                 |0                   |0.85294116   |0.14705883   |\n",
      "|22:16091610:G:T|34         |31            |3             |0                 |0                   |0.9117647    |0.0882353    |\n",
      "|22:16096040:G:A|34         |25            |9             |0                 |0                   |0.7352941    |0.2647059    |\n",
      "|22:16099957:C:T|34         |14            |20            |0                 |0                   |0.4117647    |0.5882353    |\n",
      "|22:16100462:A:G|34         |18            |16            |0                 |0                   |0.5294118    |0.47058824   |\n",
      "|22:16105660:G:A|34         |24            |10            |0                 |0                   |0.7058824    |0.29411766   |\n",
      "+---------------+-----------+--------------+--------------+------------------+--------------------+-------------+-------------+\n",
      "only showing top 10 rows\n",
      "\n"
     ]
    }
   ],
   "source": [
    "missingAsReferenceStatsDF = oskar.stats(df, missingAsReference = True)\n",
    "missingAsReferenceStatsDF.selectExpr(\"id\", \"studies[0].stats.ALL as stats\").select(\"id\", \"stats.*\")\\\n",
    "    .select(\"id\", \"alleleCount\", \"refAlleleCount\", \"altAlleleCount\", \"missingAlleleCount\", \"missingGenotypeCount\", \"refAlleleFreq\", \"altAlleleFreq\")\\\n",
    "    .show(10, truncate = False)"
   ]
  },
  {
   "cell_type": "markdown",
   "metadata": {},
   "source": [
    "Other statistics that our method provides are the next ones:"
   ]
  },
  {
   "cell_type": "code",
   "execution_count": 20,
   "metadata": {},
   "outputs": [
    {
     "name": "stdout",
     "output_type": "stream",
     "text": [
      "+---------------+---------------------+-------------------------------------------------+---------+-----------+-----------+---+\n",
      "|id             |genotypeCount        |genotypeFreq                                     |mafAllele|maf        |mgfGenotype|mgf|\n",
      "+---------------+---------------------+-------------------------------------------------+---------+-----------+-----------+---+\n",
      "|22:16054454:C:T|[0/0 -> 16, 0/1 -> 1]|[0/0 -> 0.9411765, 0/1 -> 0.05882353, 1/1 -> 0.0]|T        |0.029411765|1/1        |0.0|\n",
      "|22:16065809:T:C|[0/0 -> 11, 0/1 -> 6]|[0/0 -> 0.64705884, 0/1 -> 0.3529412, 1/1 -> 0.0]|C        |0.1764706  |1/1        |0.0|\n",
      "|22:16077310:T:A|[0/0 -> 10, 0/1 -> 7]|[0/0 -> 0.5882353, 0/1 -> 0.4117647, 1/1 -> 0.0] |A        |0.20588236 |1/1        |0.0|\n",
      "|22:16080499:A:G|[0/0 -> 13, 0/1 -> 4]|[0/0 -> 0.7647059, 0/1 -> 0.23529412, 1/1 -> 0.0]|G        |0.11764706 |1/1        |0.0|\n",
      "|22:16084621:T:C|[0/0 -> 12, 0/1 -> 5]|[0/0 -> 0.7058824, 0/1 -> 0.29411766, 1/1 -> 0.0]|C        |0.14705883 |1/1        |0.0|\n",
      "|22:16091610:G:T|[0/0 -> 14, 0/1 -> 3]|[0/0 -> 0.8235294, 0/1 -> 0.1764706, 1/1 -> 0.0] |T        |0.0882353  |1/1        |0.0|\n",
      "|22:16096040:G:A|[0/0 -> 8, 0/1 -> 9] |[0/0 -> 0.47058824, 0/1 -> 0.5294118, 1/1 -> 0.0]|A        |0.2647059  |1/1        |0.0|\n",
      "|22:16099957:C:T|[0/1 -> 14, 1/1 -> 3]|[0/0 -> 0.0, 0/1 -> 0.8235294, 1/1 -> 0.1764706] |C        |0.4117647  |0/0        |0.0|\n",
      "|22:16100462:A:G|[0/0 -> 1, 0/1 -> 16]|[0/0 -> 0.05882353, 0/1 -> 0.9411765, 1/1 -> 0.0]|G        |0.47058824 |1/1        |0.0|\n",
      "|22:16105660:G:A|[0/0 -> 7, 0/1 -> 10]|[0/0 -> 0.4117647, 0/1 -> 0.5882353, 1/1 -> 0.0] |A        |0.29411766 |1/1        |0.0|\n",
      "+---------------+---------------------+-------------------------------------------------+---------+-----------+-----------+---+\n",
      "only showing top 10 rows\n",
      "\n"
     ]
    }
   ],
   "source": [
    "oskar.stats(df, missingAsReference = True).selectExpr(\"id\", \"studies[0].stats.ALL as stats\").select(\"id\", \"stats.*\")\\\n",
    "    .select(\"id\", \"genotypeCount\", \"genotypeFreq\", \"mafAllele\", \"maf\", \"mgfGenotype\", \"mgf\").show(10, truncate = False)"
   ]
  },
  {
   "cell_type": "markdown",
   "metadata": {},
   "source": [
    "There are other options we could execute:\n",
    " - Getting stats from specific individuals. In that case we need to provide a list of samples.\n",
    " - Specify the name we want to give to the stats cohort, which by default is \"ALL\"."
   ]
  },
  {
   "cell_type": "code",
   "execution_count": 30,
   "metadata": {},
   "outputs": [
    {
     "name": "stdout",
     "output_type": "stream",
     "text": [
      "+---------------+--------------------+------------------------------------+---------+----+-----------+---+\n",
      "|id             |genotypeCount       |genotypeFreq                        |mafAllele|maf |mgfGenotype|mgf|\n",
      "+---------------+--------------------+------------------------------------+---------+----+-----------+---+\n",
      "|22:16054454:C:T|[0/0 -> 10]         |[0/0 -> 1.0, 0/1 -> 0.0, 1/1 -> 0.0]|T        |0.0 |0/1        |0.0|\n",
      "|22:16065809:T:C|[0/0 -> 7, 0/1 -> 3]|[0/0 -> 0.7, 0/1 -> 0.3, 1/1 -> 0.0]|C        |0.15|1/1        |0.0|\n",
      "|22:16077310:T:A|[0/0 -> 5, 0/1 -> 5]|[0/0 -> 0.5, 0/1 -> 0.5, 1/1 -> 0.0]|A        |0.25|1/1        |0.0|\n",
      "|22:16080499:A:G|[0/0 -> 8, 0/1 -> 2]|[0/0 -> 0.8, 0/1 -> 0.2, 1/1 -> 0.0]|G        |0.1 |1/1        |0.0|\n",
      "|22:16084621:T:C|[0/0 -> 7, 0/1 -> 3]|[0/0 -> 0.7, 0/1 -> 0.3, 1/1 -> 0.0]|C        |0.15|1/1        |0.0|\n",
      "|22:16091610:G:T|[0/0 -> 9, 0/1 -> 1]|[0/0 -> 0.9, 0/1 -> 0.1, 1/1 -> 0.0]|T        |0.05|1/1        |0.0|\n",
      "|22:16096040:G:A|[0/0 -> 7, 0/1 -> 3]|[0/0 -> 0.7, 0/1 -> 0.3, 1/1 -> 0.0]|A        |0.15|1/1        |0.0|\n",
      "|22:16099957:C:T|[0/1 -> 10]         |[0/0 -> 0.0, 0/1 -> 1.0, 1/1 -> 0.0]|C        |0.5 |0/0        |0.0|\n",
      "|22:16100462:A:G|[0/1 -> 10]         |[0/0 -> 0.0, 0/1 -> 1.0, 1/1 -> 0.0]|A        |0.5 |0/0        |0.0|\n",
      "|22:16105660:G:A|[0/0 -> 4, 0/1 -> 6]|[0/0 -> 0.4, 0/1 -> 0.6, 1/1 -> 0.0]|A        |0.3 |1/1        |0.0|\n",
      "+---------------+--------------------+------------------------------------+---------+----+-----------+---+\n",
      "only showing top 10 rows\n",
      "\n"
     ]
    }
   ],
   "source": [
    "samples = oskar.metadata.samples(df)[\"hgvauser@platinum:illumina_platinum\"]\n",
    "tenSamples = list(samples[0:10])\n",
    "oskar.stats(df, studyId = \"hgvauser@platinum:illumina_platinum\", cohort = \"Caucasians\", samples = tenSamples, missingAsReference = True)\\\n",
    "    .selectExpr(\"id\", \"studies[0].stats.Caucasians as stats\").select(\"id\", \"stats.*\")\\\n",
    "    .select(\"id\", \"genotypeCount\", \"genotypeFreq\", \"mafAllele\", \"maf\", \"mgfGenotype\", \"mgf\").show(10, truncate = False)"
   ]
  },
  {
   "cell_type": "markdown",
   "metadata": {},
   "source": [
    "## Global Stats\n",
    "We could also want to use _globalStats()_ that provides statistics attached to the whole dataframe.\n",
    "<br>\n",
    "Usage:\n",
    "```python\n",
    "globalStats(df[DataFrame], studyId[str]=None, fileId[str]=None)\n",
    "```"
   ]
  },
  {
   "cell_type": "markdown",
   "metadata": {},
   "source": [
    "Some fields will be given as *int* and *float*:"
   ]
  },
  {
   "cell_type": "code",
   "execution_count": 11,
   "metadata": {},
   "outputs": [
    {
     "name": "stdout",
     "output_type": "stream",
     "text": [
      "+-----------+----------+-------+---------+-----------+-------------+\n",
      "|numVariants|numSamples|numPass|tiTvRatio|meanQuality|stdDevQuality|\n",
      "+-----------+----------+-------+---------+-----------+-------------+\n",
      "|       1000|         0|   4016|1.3342036|    773.252|    765.54596|\n",
      "+-----------+----------+-------+---------+-----------+-------------+\n",
      "\n"
     ]
    }
   ],
   "source": [
    "globalStatsTransformationDataframe = oskar.globalStats(df)\n",
    "globalStatsTransformationDataframe.select(\"numVariants\", \"numSamples\", \"numPass\", \"tiTvRatio\", \"meanQuality\", \"stdDevQuality\").show()"
   ]
  },
  {
   "cell_type": "markdown",
   "metadata": {},
   "source": [
    "Others are returned as *array*, although in this case it is empty:"
   ]
  },
  {
   "cell_type": "code",
   "execution_count": 12,
   "metadata": {},
   "outputs": [
    {
     "name": "stdout",
     "output_type": "stream",
     "text": [
      "+---------------+\n",
      "|numRareVariants|\n",
      "+---------------+\n",
      "|             []|\n",
      "+---------------+\n",
      "\n"
     ]
    }
   ],
   "source": [
    "globalStatsTransformationDataframe.select(\"numRareVariants\").show()"
   ]
  },
  {
   "cell_type": "markdown",
   "metadata": {},
   "source": [
    "And others will be given as _map_. In order to show it here we previously converted it into a new DataFrame by using _explode_ PySpark command:"
   ]
  },
  {
   "cell_type": "code",
   "execution_count": 30,
   "metadata": {},
   "outputs": [
    {
     "name": "stdout",
     "output_type": "stream",
     "text": [
      "+-----------------+-----+\n",
      "|variantTypeCounts|value|\n",
      "+-----------------+-----+\n",
      "|              SNV|  894|\n",
      "|            INDEL|  106|\n",
      "+-----------------+-----+\n",
      "\n",
      "+----------------------------------+-----+\n",
      "|variantBiotypeCounts              |value|\n",
      "+----------------------------------+-----+\n",
      "|IG_C_pseudogene                   |1    |\n",
      "|IG_V_pseudogene                   |17   |\n",
      "|protein_coding                    |500  |\n",
      "|rRNA                              |4    |\n",
      "|retained_intron                   |192  |\n",
      "|nonsense_mediated_decay           |166  |\n",
      "|IG_V_gene                         |18   |\n",
      "|snRNA                             |6    |\n",
      "|snoRNA                            |6    |\n",
      "|transcribed_processed_pseudogene  |4    |\n",
      "|unitary_pseudogene                |2    |\n",
      "|IG_J_gene                         |4    |\n",
      "|transcribed_unprocessed_pseudogene|40   |\n",
      "|pseudogene                        |1    |\n",
      "|IG_C_gene                         |4    |\n",
      "|sense_intronic                    |10   |\n",
      "|processed_pseudogene              |74   |\n",
      "|unprocessed_pseudogene            |72   |\n",
      "|miRNA                             |12   |\n",
      "|lincRNA                           |102  |\n",
      "+----------------------------------+-----+\n",
      "only showing top 20 rows\n",
      "\n",
      "+----------------------------------+-----+\n",
      "|consequenceTypesCounts            |value|\n",
      "+----------------------------------+-----+\n",
      "|missense_variant                  |4    |\n",
      "|intergenic_variant                |222  |\n",
      "|2KB_downstream_variant            |146  |\n",
      "|3_prime_UTR_variant               |9    |\n",
      "|regulatory_region_variant         |764  |\n",
      "|downstream_gene_variant           |163  |\n",
      "|intron_variant                    |543  |\n",
      "|splice_region_variant             |2    |\n",
      "|upstream_gene_variant             |200  |\n",
      "|TF_binding_site_variant           |108  |\n",
      "|5_prime_UTR_variant               |1    |\n",
      "|non_coding_transcript_exon_variant|45   |\n",
      "|non_coding_transcript_variant     |385  |\n",
      "|2KB_upstream_variant              |146  |\n",
      "|splice_donor_variant              |1    |\n",
      "|NMD_transcript_variant            |140  |\n",
      "|synonymous_variant                |6    |\n",
      "+----------------------------------+-----+\n",
      "\n",
      "+---------------+-----------+\n",
      "|chromosomeStats|value      |\n",
      "+---------------+-----------+\n",
      "|22             |[1000, 0.0]|\n",
      "+---------------+-----------+\n",
      "\n"
     ]
    }
   ],
   "source": [
    "globalStatsTransformationDataframe = oskar.globalStats(df)\n",
    "globalStatsTransformationDataframe.select(explode(\"variantTypeCounts\").alias(\"variantTypeCounts\", \"value\")).show()\n",
    "globalStatsTransformationDataframe.select(explode(\"variantBiotypeCounts\").alias(\"variantBiotypeCounts\", \"value\")).show(truncate = False)\n",
    "globalStatsTransformationDataframe.select(explode(\"consequenceTypesCounts\").alias(\"consequenceTypesCounts\", \"value\")).show(truncate = False)\n",
    "globalStatsTransformationDataframe.select(explode(\"chromosomeStats\").alias(\"chromosomeStats\", \"value\")).show(truncate = False)"
   ]
  },
  {
   "cell_type": "markdown",
   "metadata": {},
   "source": [
    "## Histogram\n",
    "This next example shows how easily we can complement PyOskar API functionality with some well known python libraries like _pandas_ or _plotly_. We would like to know the frequency with which we can find variants depending on the region of our genome. For that task we will use _histogram_ PyOskar transformation, and after it we will store our transformed dataframe into a Pandas DataFrame with the default _toPandas()_ PySpark method so we can plot it later.\n",
    "<br>\n",
    "Usage:\n",
    "```python\n",
    "histogram(df[DataFrame], inputCol[str], step[int]=None)\n",
    "```"
   ]
  },
  {
   "cell_type": "code",
   "execution_count": 4,
   "metadata": {},
   "outputs": [
    {
     "name": "stdout",
     "output_type": "stream",
     "text": [
      "+--------+-----+\n",
      "|   start|count|\n",
      "+--------+-----+\n",
      "|16000000|  101|\n",
      "|17000000|  100|\n",
      "|18000000|   85|\n",
      "|19000000|   53|\n",
      "|20000000|   46|\n",
      "|21000000|   85|\n",
      "|22000000|   52|\n",
      "|23000000|   49|\n",
      "|24000000|   44|\n",
      "|25000000|   62|\n",
      "|26000000|   42|\n",
      "|27000000|   54|\n",
      "|28000000|   21|\n",
      "|29000000|   29|\n",
      "|30000000|   38|\n",
      "|31000000|   46|\n",
      "|32000000|   44|\n",
      "|33000000|   34|\n",
      "|34000000|   15|\n",
      "+--------+-----+\n",
      "\n"
     ]
    }
   ],
   "source": [
    "oskar.histogram(df,\"start\",1000000).show()"
   ]
  },
  {
   "cell_type": "code",
   "execution_count": 13,
   "metadata": {},
   "outputs": [
    {
     "data": {
      "text/html": [
       "<script type=\"text/javascript\">window.PlotlyConfig = {MathJaxConfig: 'local'};</script><script type=\"text/javascript\">if (window.MathJax) {MathJax.Hub.Config({SVG: {font: \"STIX-Web\"}});}</script><script>requirejs.config({paths: { 'plotly': ['https://cdn.plot.ly/plotly-latest.min']},});if(!window._Plotly) {require(['plotly'],function(plotly) {window._Plotly=plotly;});}</script>"
      ],
      "text/vnd.plotly.v1+html": [
       "<script type=\"text/javascript\">window.PlotlyConfig = {MathJaxConfig: 'local'};</script><script type=\"text/javascript\">if (window.MathJax) {MathJax.Hub.Config({SVG: {font: \"STIX-Web\"}});}</script><script>requirejs.config({paths: { 'plotly': ['https://cdn.plot.ly/plotly-latest.min']},});if(!window._Plotly) {require(['plotly'],function(plotly) {window._Plotly=plotly;});}</script>"
      ]
     },
     "metadata": {},
     "output_type": "display_data"
    },
    {
     "data": {
      "application/vnd.plotly.v1+json": {
       "config": {
        "linkText": "Export to plot.ly",
        "plotlyServerURL": "https://plot.ly",
        "showLink": true
       },
       "data": [
        {
         "type": "bar",
         "uid": "f89b8c2d-443e-42ca-90b7-b2555e911f9d",
         "x": [
          16000000,
          17000000,
          18000000,
          19000000,
          20000000,
          21000000,
          22000000,
          23000000,
          24000000,
          25000000,
          26000000,
          27000000,
          28000000,
          29000000,
          30000000,
          31000000,
          32000000,
          33000000,
          34000000
         ],
         "y": [
          101,
          100,
          85,
          53,
          46,
          85,
          52,
          49,
          44,
          62,
          42,
          54,
          21,
          29,
          38,
          46,
          44,
          34,
          15
         ]
        }
       ],
       "layout": {
        "autosize": true,
        "xaxis": {
         "autorange": true,
         "range": [
          15500000,
          34500000
         ],
         "type": "linear"
        },
        "yaxis": {
         "autorange": true,
         "range": [
          0,
          106.3157894736842
         ],
         "type": "linear"
        }
       }
      },
      "image/png": "[encoded data removed]",
      "text/html": [
       "<div id=\"c95cacd7-e4d8-4af1-adf6-05baf8ca85d9\" style=\"height: 525px; width: 100%;\" class=\"plotly-graph-div\"></div><script type=\"text/javascript\">require([\"plotly\"], function(Plotly) { window.PLOTLYENV=window.PLOTLYENV || {};window.PLOTLYENV.BASE_URL=\"https://plot.ly\";Plotly.newPlot(\"c95cacd7-e4d8-4af1-adf6-05baf8ca85d9\", [{\"x\": [16000000, 17000000, 18000000, 19000000, 20000000, 21000000, 22000000, 23000000, 24000000, 25000000, 26000000, 27000000, 28000000, 29000000, 30000000, 31000000, 32000000, 33000000, 34000000], \"y\": [101, 100, 85, 53, 46, 85, 52, 49, 44, 62, 42, 54, 21, 29, 38, 46, 44, 34, 15], \"type\": \"bar\", \"uid\": \"c5ccc0ec-e292-4337-8a95-74383d5d7d45\"}], {}, {\"showLink\": true, \"linkText\": \"Export to plot.ly\", \"plotlyServerURL\": \"https://plot.ly\"})});</script><script type=\"text/javascript\">window.addEventListener(\"resize\", function(){window._Plotly.Plots.resize(document.getElementById(\"c95cacd7-e4d8-4af1-adf6-05baf8ca85d9\"));});</script>"
      ],
      "text/vnd.plotly.v1+html": [
       "<div id=\"c95cacd7-e4d8-4af1-adf6-05baf8ca85d9\" style=\"height: 525px; width: 100%;\" class=\"plotly-graph-div\"></div><script type=\"text/javascript\">require([\"plotly\"], function(Plotly) { window.PLOTLYENV=window.PLOTLYENV || {};window.PLOTLYENV.BASE_URL=\"https://plot.ly\";Plotly.newPlot(\"c95cacd7-e4d8-4af1-adf6-05baf8ca85d9\", [{\"x\": [16000000, 17000000, 18000000, 19000000, 20000000, 21000000, 22000000, 23000000, 24000000, 25000000, 26000000, 27000000, 28000000, 29000000, 30000000, 31000000, 32000000, 33000000, 34000000], \"y\": [101, 100, 85, 53, 46, 85, 52, 49, 44, 62, 42, 54, 21, 29, 38, 46, 44, 34, 15], \"type\": \"bar\", \"uid\": \"c5ccc0ec-e292-4337-8a95-74383d5d7d45\"}], {}, {\"showLink\": true, \"linkText\": \"Export to plot.ly\", \"plotlyServerURL\": \"https://plot.ly\"})});</script><script type=\"text/javascript\">window.addEventListener(\"resize\", function(){window._Plotly.Plots.resize(document.getElementById(\"c95cacd7-e4d8-4af1-adf6-05baf8ca85d9\"));});</script>"
      ]
     },
     "metadata": {},
     "output_type": "display_data"
    }
   ],
   "source": [
    "import plotly.offline as py\n",
    "import plotly.figure_factory as ff\n",
    "import plotly.graph_objs as go\n",
    "from plotly.offline import get_plotlyjs, init_notebook_mode\n",
    "\n",
    "pandasHistogramDF = oskar.histogram(df,\"start\",1000000).toPandas()\n",
    "\n",
    "init_notebook_mode(connected = True)\n",
    "\n",
    "data = [go.Bar(x= pandasHistogramDF[\"start\"], y = pandasHistogramDF[\"count\"])]\n",
    "py.iplot(data)"
   ]
  },
  {
   "cell_type": "markdown",
   "metadata": {},
   "source": [
    "** If you are using jupyter lab you will need to download this extension https://github.com/jupyterlab/jupyter-renderers/tree/master/packages/plotly-extension to visualize the plot*"
   ]
  }
 ],
 "metadata": {
  "kernelspec": {
   "display_name": "Python 3",
   "language": "python",
   "name": "python3"
  },
  "language_info": {
   "codemirror_mode": {
    "name": "ipython",
    "version": 3
   },
   "file_extension": ".py",
   "mimetype": "text/x-python",
   "name": "python",
   "nbconvert_exporter": "python",
   "pygments_lexer": "ipython3",
   "version": "3.6.7"
  }
 },
 "nbformat": 4,
 "nbformat_minor": 2
}
