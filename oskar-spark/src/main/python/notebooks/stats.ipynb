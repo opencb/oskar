{
 "cells": [
  {
   "cell_type": "markdown",
   "metadata": {},
   "source": [
    "# **Statistics tutorial**\n",
    "In this second tutorial we will show some examples of how to executed more sofisticated analysis towards our data. Here we will not use UDFs but transformers. These kind of functions depend directly from an Oskar object, and they will not return a dataframe field but the whole dataframe again with the due transformation applied."
   ]
  },
  {
   "cell_type": "markdown",
   "metadata": {},
   "source": [
    "As we did in the previous tutorial, we need to import both Spark and Oskar APIs, as well as loading our data into a spark DataFrame."
   ]
  },
  {
   "cell_type": "code",
   "execution_count": 1,
   "metadata": {},
   "outputs": [],
   "source": [
    "from pyoskar.core import Oskar\n",
    "from pyoskar.sql import *\n",
    "from pyoskar.analysis import *\n",
    "from pyspark.sql.functions import col, udf, count, explode, concat, when, expr\n",
    "from pyspark.sql.functions import *\n",
    "\n",
    "oskar = Oskar(spark)\n",
    "df = oskar.load(\"/home/roldanx/appl/oskar/oskar-spark/src/test/resources/platinum_chr22.small.parquet\")"
   ]
  },
  {
   "cell_type": "markdown",
   "metadata": {},
   "source": [
    "## Stats per variant\n",
    "Here we present the genotypes of the first 10 variants from which the later stats will come out:"
   ]
  },
  {
   "cell_type": "code",
   "execution_count": 2,
   "metadata": {},
   "outputs": [
    {
     "name": "stdout",
     "output_type": "stream",
     "text": [
      "+---------------+-------------------------------------------------------------------------------------------------------------------------+\n",
      "|id             |genotypes                                                                                                                |\n",
      "+---------------+-------------------------------------------------------------------------------------------------------------------------+\n",
      "|22:16054454:C:T|[[[./.], [./.], [./.], [./.], [./.], [./.], [./.], [./.], [./.], [./.], [./.], [./.], [./.], [0/1], [./.], [./.], [./.]]]|\n",
      "|22:16065809:T:C|[[[0/1], [./.], [./.], [./.], [0/1], [./.], [0/1], [./.], [./.], [./.], [./.], [0/1], [0/1], [./.], [./.], [./.], [0/1]]]|\n",
      "|22:16077310:T:A|[[[./.], [0/1], [0/1], [./.], [./.], [0/1], [./.], [0/1], [./.], [0/1], [./.], [0/1], [./.], [./.], [0/1], [./.], [./.]]]|\n",
      "|22:16080499:A:G|[[[0/1], [./.], [0/1], [./.], [./.], [./.], [./.], [./.], [./.], [./.], [./.], [0/1], [0/1], [./.], [./.], [./.], [./.]]]|\n",
      "|22:16084621:T:C|[[[./.], [0/1], [./.], [./.], [./.], [0/1], [./.], [0/1], [./.], [./.], [./.], [0/1], [./.], [./.], [0/1], [./.], [./.]]]|\n",
      "|22:16091610:G:T|[[[./.], [./.], [./.], [./.], [./.], [./.], [./.], [0/1], [./.], [./.], [./.], [0/1], [./.], [./.], [0/1], [./.], [./.]]]|\n",
      "|22:16096040:G:A|[[[./.], [./.], [./.], [./.], [./.], [./.], [0/1], [0/1], [./.], [0/1], [0/1], [0/1], [./.], [0/1], [0/1], [0/1], [0/1]]]|\n",
      "|22:16099957:C:T|[[[0/1], [0/1], [0/1], [0/1], [0/1], [0/1], [0/1], [0/1], [0/1], [0/1], [0/1], [1/1], [0/1], [1/1], [1/1], [0/1], [0/1]]]|\n",
      "|22:16100462:A:G|[[[0/1], [0/1], [0/1], [0/1], [0/1], [0/1], [0/1], [0/1], [0/1], [0/1], [./.], [0/1], [0/1], [0/1], [0/1], [0/1], [0/1]]]|\n",
      "|22:16105660:G:A|[[[0/1], [./.], [0/1], [./.], [0/1], [./.], [0/1], [0/1], [./.], [0/1], [./.], [0/1], [0/1], [./.], [0/1], [./.], [0/1]]]|\n",
      "+---------------+-------------------------------------------------------------------------------------------------------------------------+\n",
      "only showing top 10 rows\n",
      "\n"
     ]
    }
   ],
   "source": [
    "df.select(df.id, df.studies.samplesData.alias(\"genotypes\")).show(10, False)"
   ]
  },
  {
   "cell_type": "markdown",
   "metadata": {},
   "source": [
    "In this case we are applying a transformation that will lead to adding new data inside the \"studies\" field, which is empty before we do anything:"
   ]
  },
  {
   "cell_type": "code",
   "execution_count": 20,
   "metadata": {},
   "outputs": [
    {
     "name": "stdout",
     "output_type": "stream",
     "text": [
      "+---------------+-----------+--------------+--------------+------------------+--------------------+-------------+-------------+\n",
      "|id             |alleleCount|refAlleleCount|altAlleleCount|missingAlleleCount|missingGenotypeCount|refAlleleFreq|altAlleleFreq|\n",
      "+---------------+-----------+--------------+--------------+------------------+--------------------+-------------+-------------+\n",
      "|22:16054454:C:T|null       |null          |null          |null              |null                |null         |null         |\n",
      "|22:16065809:T:C|null       |null          |null          |null              |null                |null         |null         |\n",
      "|22:16077310:T:A|null       |null          |null          |null              |null                |null         |null         |\n",
      "|22:16080499:A:G|null       |null          |null          |null              |null                |null         |null         |\n",
      "|22:16084621:T:C|null       |null          |null          |null              |null                |null         |null         |\n",
      "|22:16091610:G:T|null       |null          |null          |null              |null                |null         |null         |\n",
      "|22:16096040:G:A|null       |null          |null          |null              |null                |null         |null         |\n",
      "|22:16099957:C:T|null       |null          |null          |null              |null                |null         |null         |\n",
      "|22:16100462:A:G|null       |null          |null          |null              |null                |null         |null         |\n",
      "|22:16105660:G:A|null       |null          |null          |null              |null                |null         |null         |\n",
      "+---------------+-----------+--------------+--------------+------------------+--------------------+-------------+-------------+\n",
      "only showing top 10 rows\n",
      "\n"
     ]
    }
   ],
   "source": [
    "df.selectExpr(\"id\", \"studies[0].stats.ALL as stats\").select(\"id\", \"stats.*\")\\\n",
    "    .select(\"id\", \"alleleCount\", \"refAlleleCount\", \"altAlleleCount\", \"missingAlleleCount\", \"missingGenotypeCount\", \"refAlleleFreq\", \"altAlleleFreq\").show(10, False)"
   ]
  },
  {
   "cell_type": "markdown",
   "metadata": {},
   "source": [
    "Now we proceed to call our [<span style=\"color:#FF1493\"> **stats** </span>] transformer through our \"oskar\" instance. That means that our dataframe will suffer some kind of change. It is important to know how transformers work in order to tell spark how to extract the new information:"
   ]
  },
  {
   "cell_type": "code",
   "execution_count": 23,
   "metadata": {},
   "outputs": [
    {
     "name": "stdout",
     "output_type": "stream",
     "text": [
      "+---------------+-----------+--------------+--------------+------------------+--------------------+-------------+-------------+\n",
      "|id             |alleleCount|refAlleleCount|altAlleleCount|missingAlleleCount|missingGenotypeCount|refAlleleFreq|altAlleleFreq|\n",
      "+---------------+-----------+--------------+--------------+------------------+--------------------+-------------+-------------+\n",
      "|22:16054454:C:T|2          |1             |1             |32                |16                  |0.5          |0.5          |\n",
      "|22:16065809:T:C|12         |6             |6             |22                |11                  |0.5          |0.5          |\n",
      "|22:16077310:T:A|14         |7             |7             |20                |10                  |0.5          |0.5          |\n",
      "|22:16080499:A:G|8          |4             |4             |26                |13                  |0.5          |0.5          |\n",
      "|22:16084621:T:C|10         |5             |5             |24                |12                  |0.5          |0.5          |\n",
      "|22:16091610:G:T|6          |3             |3             |28                |14                  |0.5          |0.5          |\n",
      "|22:16096040:G:A|18         |9             |9             |16                |8                   |0.5          |0.5          |\n",
      "|22:16099957:C:T|34         |14            |20            |0                 |0                   |0.4117647    |0.5882353    |\n",
      "|22:16100462:A:G|32         |16            |16            |2                 |1                   |0.5          |0.5          |\n",
      "|22:16105660:G:A|20         |10            |10            |14                |7                   |0.5          |0.5          |\n",
      "+---------------+-----------+--------------+--------------+------------------+--------------------+-------------+-------------+\n",
      "only showing top 10 rows\n",
      "\n"
     ]
    }
   ],
   "source": [
    "statsDF = oskar.stats(df)\n",
    "statsDF.selectExpr(\"id\", \"studies[0].stats.ALL as stats\").select(\"id\", \"stats.*\")\\\n",
    "    .select(\"id\", \"alleleCount\", \"refAlleleCount\", \"altAlleleCount\", \"missingAlleleCount\", \"missingGenotypeCount\", \"refAlleleFreq\", \"altAlleleFreq\").show(10, False)"
   ]
  },
  {
   "cell_type": "markdown",
   "metadata": {},
   "source": [
    "Since our data has some empty genotypes, we would like to treat those missing values as if they were the reference. For that task we dispose of \"missingAsReference\" parameter:"
   ]
  },
  {
   "cell_type": "code",
   "execution_count": 22,
   "metadata": {},
   "outputs": [
    {
     "name": "stdout",
     "output_type": "stream",
     "text": [
      "+---------------+-----------+--------------+--------------+------------------+--------------------+-------------+-------------+\n",
      "|id             |alleleCount|refAlleleCount|altAlleleCount|missingAlleleCount|missingGenotypeCount|refAlleleFreq|altAlleleFreq|\n",
      "+---------------+-----------+--------------+--------------+------------------+--------------------+-------------+-------------+\n",
      "|22:16054454:C:T|34         |33            |1             |0                 |0                   |0.9705882    |0.029411765  |\n",
      "|22:16065809:T:C|34         |28            |6             |0                 |0                   |0.8235294    |0.1764706    |\n",
      "|22:16077310:T:A|34         |27            |7             |0                 |0                   |0.7941176    |0.20588236   |\n",
      "|22:16080499:A:G|34         |30            |4             |0                 |0                   |0.88235295   |0.11764706   |\n",
      "|22:16084621:T:C|34         |29            |5             |0                 |0                   |0.85294116   |0.14705883   |\n",
      "|22:16091610:G:T|34         |31            |3             |0                 |0                   |0.9117647    |0.0882353    |\n",
      "|22:16096040:G:A|34         |25            |9             |0                 |0                   |0.7352941    |0.2647059    |\n",
      "|22:16099957:C:T|34         |14            |20            |0                 |0                   |0.4117647    |0.5882353    |\n",
      "|22:16100462:A:G|34         |18            |16            |0                 |0                   |0.5294118    |0.47058824   |\n",
      "|22:16105660:G:A|34         |24            |10            |0                 |0                   |0.7058824    |0.29411766   |\n",
      "+---------------+-----------+--------------+--------------+------------------+--------------------+-------------+-------------+\n",
      "only showing top 10 rows\n",
      "\n"
     ]
    }
   ],
   "source": [
    "missingAsReferenceStatsDF = oskar.stats(df, missingAsReference=True)\n",
    "missingAsReferenceStatsDF.selectExpr(\"id\", \"studies[0].stats.ALL as stats\").select(\"id\", \"stats.*\")\\\n",
    "    .select(\"id\", \"alleleCount\", \"refAlleleCount\", \"altAlleleCount\", \"missingAlleleCount\", \"missingGenotypeCount\", \"refAlleleFreq\", \"altAlleleFreq\").show(10, False)"
   ]
  },
  {
   "cell_type": "markdown",
   "metadata": {},
   "source": [
    "Other statistics that our method provides are the next ones:"
   ]
  },
  {
   "cell_type": "code",
   "execution_count": 18,
   "metadata": {},
   "outputs": [
    {
     "name": "stdout",
     "output_type": "stream",
     "text": [
      "+---------------+---------------------+-------------------------------------------------+---------+-----------+-----------+---+\n",
      "|id             |genotypeCount        |genotypeFreq                                     |mafAllele|maf        |mgfGenotype|mgf|\n",
      "+---------------+---------------------+-------------------------------------------------+---------+-----------+-----------+---+\n",
      "|22:16054454:C:T|[0/0 -> 16, 0/1 -> 1]|[0/0 -> 0.9411765, 0/1 -> 0.05882353, 1/1 -> 0.0]|T        |0.029411765|1/1        |0.0|\n",
      "|22:16065809:T:C|[0/0 -> 11, 0/1 -> 6]|[0/0 -> 0.64705884, 0/1 -> 0.3529412, 1/1 -> 0.0]|C        |0.1764706  |1/1        |0.0|\n",
      "|22:16077310:T:A|[0/0 -> 10, 0/1 -> 7]|[0/0 -> 0.5882353, 0/1 -> 0.4117647, 1/1 -> 0.0] |A        |0.20588236 |1/1        |0.0|\n",
      "|22:16080499:A:G|[0/0 -> 13, 0/1 -> 4]|[0/0 -> 0.7647059, 0/1 -> 0.23529412, 1/1 -> 0.0]|G        |0.11764706 |1/1        |0.0|\n",
      "|22:16084621:T:C|[0/0 -> 12, 0/1 -> 5]|[0/0 -> 0.7058824, 0/1 -> 0.29411766, 1/1 -> 0.0]|C        |0.14705883 |1/1        |0.0|\n",
      "|22:16091610:G:T|[0/0 -> 14, 0/1 -> 3]|[0/0 -> 0.8235294, 0/1 -> 0.1764706, 1/1 -> 0.0] |T        |0.0882353  |1/1        |0.0|\n",
      "|22:16096040:G:A|[0/0 -> 8, 0/1 -> 9] |[0/0 -> 0.47058824, 0/1 -> 0.5294118, 1/1 -> 0.0]|A        |0.2647059  |1/1        |0.0|\n",
      "|22:16099957:C:T|[0/1 -> 14, 1/1 -> 3]|[0/0 -> 0.0, 0/1 -> 0.8235294, 1/1 -> 0.1764706] |C        |0.4117647  |0/0        |0.0|\n",
      "|22:16100462:A:G|[0/0 -> 1, 0/1 -> 16]|[0/0 -> 0.05882353, 0/1 -> 0.9411765, 1/1 -> 0.0]|G        |0.47058824 |1/1        |0.0|\n",
      "|22:16105660:G:A|[0/0 -> 7, 0/1 -> 10]|[0/0 -> 0.4117647, 0/1 -> 0.5882353, 1/1 -> 0.0] |A        |0.29411766 |1/1        |0.0|\n",
      "+---------------+---------------------+-------------------------------------------------+---------+-----------+-----------+---+\n",
      "only showing top 10 rows\n",
      "\n"
     ]
    }
   ],
   "source": [
    "oskar.stats(df, missingAsReference=True).selectExpr(\"id\", \"studies[0].stats.ALL as stats\").select(\"id\", \"stats.*\")\\\n",
    "    .select(\"id\", \"genotypeCount\", \"genotypeFreq\", \"mafAllele\", \"maf\", \"mgfGenotype\", \"mgf\").show(10, False)"
   ]
  },
  {
   "cell_type": "markdown",
   "metadata": {},
   "source": [
    "## Stats per dataframe\n",
    "We could also use [<span style=\"color:#FF1493\"> **globalStats** </span>] that provides statistics attached to the whole dataframe. Some fields will be given as *int* and *float*:"
   ]
  },
  {
   "cell_type": "code",
   "execution_count": 2,
   "metadata": {},
   "outputs": [
    {
     "name": "stdout",
     "output_type": "stream",
     "text": [
      "+-----------+----------+-------+---------+-----------+-------------+\n",
      "|numVariants|numSamples|numPass|tiTvRatio|meanQuality|stdDevQuality|\n",
      "+-----------+----------+-------+---------+-----------+-------------+\n",
      "|       1000|         0|   4016|1.3342036|    773.252|    765.54596|\n",
      "+-----------+----------+-------+---------+-----------+-------------+\n",
      "\n"
     ]
    }
   ],
   "source": [
    "globalStatsTransformationDataframe = oskar.globalStats(df)\n",
    "globalStatsTransformationDataframe.select(\"numVariants\", \"numSamples\", \"numPass\", \"tiTvRatio\", \"meanQuality\", \"stdDevQuality\").show()"
   ]
  },
  {
   "cell_type": "markdown",
   "metadata": {},
   "source": [
    "Others are returned as *array*, although in this case it is empty:"
   ]
  },
  {
   "cell_type": "code",
   "execution_count": 41,
   "metadata": {},
   "outputs": [
    {
     "name": "stdout",
     "output_type": "stream",
     "text": [
      "+---------------+\n",
      "|numRareVariants|\n",
      "+---------------+\n",
      "|             []|\n",
      "+---------------+\n",
      "\n"
     ]
    }
   ],
   "source": [
    "globalStatsTransformationDataframe.select(globalStatsTransformationDataframe.numRareVariants).show()"
   ]
  },
  {
   "cell_type": "markdown",
   "metadata": {},
   "source": [
    "And others will be given as *map*:"
   ]
  },
  {
   "cell_type": "code",
   "execution_count": 30,
   "metadata": {},
   "outputs": [
    {
     "name": "stdout",
     "output_type": "stream",
     "text": [
      "+-----------------+-----+\n",
      "|variantTypeCounts|value|\n",
      "+-----------------+-----+\n",
      "|              SNV|  894|\n",
      "|            INDEL|  106|\n",
      "+-----------------+-----+\n",
      "\n",
      "+----------------------------------+-----+\n",
      "|variantBiotypeCounts              |value|\n",
      "+----------------------------------+-----+\n",
      "|IG_C_pseudogene                   |1    |\n",
      "|IG_V_pseudogene                   |17   |\n",
      "|protein_coding                    |500  |\n",
      "|rRNA                              |4    |\n",
      "|retained_intron                   |192  |\n",
      "|nonsense_mediated_decay           |166  |\n",
      "|IG_V_gene                         |18   |\n",
      "|snRNA                             |6    |\n",
      "|snoRNA                            |6    |\n",
      "|transcribed_processed_pseudogene  |4    |\n",
      "|unitary_pseudogene                |2    |\n",
      "|IG_J_gene                         |4    |\n",
      "|transcribed_unprocessed_pseudogene|40   |\n",
      "|pseudogene                        |1    |\n",
      "|IG_C_gene                         |4    |\n",
      "|sense_intronic                    |10   |\n",
      "|processed_pseudogene              |74   |\n",
      "|unprocessed_pseudogene            |72   |\n",
      "|miRNA                             |12   |\n",
      "|lincRNA                           |102  |\n",
      "+----------------------------------+-----+\n",
      "only showing top 20 rows\n",
      "\n",
      "+----------------------------------+-----+\n",
      "|consequenceTypesCounts            |value|\n",
      "+----------------------------------+-----+\n",
      "|missense_variant                  |4    |\n",
      "|intergenic_variant                |222  |\n",
      "|2KB_downstream_variant            |146  |\n",
      "|3_prime_UTR_variant               |9    |\n",
      "|regulatory_region_variant         |764  |\n",
      "|downstream_gene_variant           |163  |\n",
      "|intron_variant                    |543  |\n",
      "|splice_region_variant             |2    |\n",
      "|upstream_gene_variant             |200  |\n",
      "|TF_binding_site_variant           |108  |\n",
      "|5_prime_UTR_variant               |1    |\n",
      "|non_coding_transcript_exon_variant|45   |\n",
      "|non_coding_transcript_variant     |385  |\n",
      "|2KB_upstream_variant              |146  |\n",
      "|splice_donor_variant              |1    |\n",
      "|NMD_transcript_variant            |140  |\n",
      "|synonymous_variant                |6    |\n",
      "+----------------------------------+-----+\n",
      "\n",
      "+---------------+-----------+\n",
      "|chromosomeStats|value      |\n",
      "+---------------+-----------+\n",
      "|22             |[1000, 0.0]|\n",
      "+---------------+-----------+\n",
      "\n"
     ]
    }
   ],
   "source": [
    "globalStatsTransformationDataframe = oskar.globalStats(df)\n",
    "globalStatsTransformationDataframe.select(explode(\"variantTypeCounts\").alias(\"variantTypeCounts\", \"value\")).show()\n",
    "globalStatsTransformationDataframe.select(explode(\"variantBiotypeCounts\").alias(\"variantBiotypeCounts\", \"value\")).show(truncate=False)\n",
    "globalStatsTransformationDataframe.select(explode(\"consequenceTypesCounts\").alias(\"consequenceTypesCounts\", \"value\")).show(truncate=False)\n",
    "globalStatsTransformationDataframe.select(explode(\"chromosomeStats\").alias(\"chromosomeStats\", \"value\")).show(truncate=False)"
   ]
  },
  {
   "cell_type": "markdown",
   "metadata": {},
   "source": [
    "## Histogram\n",
    "This next example shows how easily we can complement Pyoskar API functionality and at the same time we use some well known python functionality like pandas or plotly. We would like to know the frequency with which we can find variants depending on the region of our genome."
   ]
  },
  {
   "cell_type": "code",
   "execution_count": 4,
   "metadata": {},
   "outputs": [
    {
     "name": "stdout",
     "output_type": "stream",
     "text": [
      "+--------+-----+\n",
      "|   start|count|\n",
      "+--------+-----+\n",
      "|16000000|  101|\n",
      "|17000000|  100|\n",
      "|18000000|   85|\n",
      "|19000000|   53|\n",
      "|20000000|   46|\n",
      "|21000000|   85|\n",
      "|22000000|   52|\n",
      "|23000000|   49|\n",
      "|24000000|   44|\n",
      "|25000000|   62|\n",
      "|26000000|   42|\n",
      "|27000000|   54|\n",
      "|28000000|   21|\n",
      "|29000000|   29|\n",
      "|30000000|   38|\n",
      "|31000000|   46|\n",
      "|32000000|   44|\n",
      "|33000000|   34|\n",
      "|34000000|   15|\n",
      "+--------+-----+\n",
      "\n"
     ]
    }
   ],
   "source": [
    "oskar.histogram(df,\"start\",1000000).show()"
   ]
  },
  {
   "cell_type": "markdown",
   "metadata": {},
   "source": [
    "For that we will give use to the [<span style=\"color:#FF1493\"> **histogram** </span>] Pyoskar transformation, but after it we will store our transformed dataframe into a Pandas Dataframe in order to plot it later with the default \"toPandas()\" Pyspark method:"
   ]
  },
  {
   "cell_type": "code",
   "execution_count": 42,
   "metadata": {},
   "outputs": [
    {
     "data": {
      "text/html": [
       "<script type=\"text/javascript\">window.PlotlyConfig = {MathJaxConfig: 'local'};</script><script type=\"text/javascript\">if (window.MathJax) {MathJax.Hub.Config({SVG: {font: \"STIX-Web\"}});}</script><script>requirejs.config({paths: { 'plotly': ['https://cdn.plot.ly/plotly-latest.min']},});if(!window._Plotly) {require(['plotly'],function(plotly) {window._Plotly=plotly;});}</script>"
      ],
      "text/vnd.plotly.v1+html": [
       "<script type=\"text/javascript\">window.PlotlyConfig = {MathJaxConfig: 'local'};</script><script type=\"text/javascript\">if (window.MathJax) {MathJax.Hub.Config({SVG: {font: \"STIX-Web\"}});}</script><script>requirejs.config({paths: { 'plotly': ['https://cdn.plot.ly/plotly-latest.min']},});if(!window._Plotly) {require(['plotly'],function(plotly) {window._Plotly=plotly;});}</script>"
      ]
     },
     "metadata": {},
     "output_type": "display_data"
    },
    {
     "data": {
      "application/vnd.plotly.v1+json": {
       "config": {
        "linkText": "Export to plot.ly",
        "plotlyServerURL": "https://plot.ly",
        "showLink": true
       },
       "data": [
        {
         "type": "bar",
         "uid": "d1375bc5-1307-4417-beeb-19753d162784",
         "x": [
          16000000,
          17000000,
          18000000,
          19000000,
          20000000,
          21000000,
          22000000,
          23000000,
          24000000,
          25000000,
          26000000,
          27000000,
          28000000,
          29000000,
          30000000,
          31000000,
          32000000,
          33000000,
          34000000
         ],
         "y": [
          101,
          100,
          85,
          53,
          46,
          85,
          52,
          49,
          44,
          62,
          42,
          54,
          21,
          29,
          38,
          46,
          44,
          34,
          15
         ]
        }
       ],
       "layout": {
        "autosize": true,
        "xaxis": {
         "autorange": true,
         "range": [
          15500000,
          34500000
         ],
         "type": "linear"
        },
        "yaxis": {
         "autorange": true,
         "range": [
          0,
          106.3157894736842
         ],
         "type": "linear"
        }
       }
      },
      "image/png": "[encoded data removed]",
      "text/html": [
       "<div id=\"764c47a5-8878-4be7-bda4-fcdc1fa2cde5\" style=\"height: 525px; width: 100%;\" class=\"plotly-graph-div\"></div><script type=\"text/javascript\">require([\"plotly\"], function(Plotly) { window.PLOTLYENV=window.PLOTLYENV || {};window.PLOTLYENV.BASE_URL=\"https://plot.ly\";Plotly.newPlot(\"764c47a5-8878-4be7-bda4-fcdc1fa2cde5\", [{\"x\": [16000000, 17000000, 18000000, 19000000, 20000000, 21000000, 22000000, 23000000, 24000000, 25000000, 26000000, 27000000, 28000000, 29000000, 30000000, 31000000, 32000000, 33000000, 34000000], \"y\": [101, 100, 85, 53, 46, 85, 52, 49, 44, 62, 42, 54, 21, 29, 38, 46, 44, 34, 15], \"type\": \"bar\", \"uid\": \"4b5f3375-4256-4850-bbc6-c66493cdf1b5\"}], {}, {\"showLink\": true, \"linkText\": \"Export to plot.ly\", \"plotlyServerURL\": \"https://plot.ly\"})});</script><script type=\"text/javascript\">window.addEventListener(\"resize\", function(){window._Plotly.Plots.resize(document.getElementById(\"764c47a5-8878-4be7-bda4-fcdc1fa2cde5\"));});</script>"
      ],
      "text/vnd.plotly.v1+html": [
       "<div id=\"764c47a5-8878-4be7-bda4-fcdc1fa2cde5\" style=\"height: 525px; width: 100%;\" class=\"plotly-graph-div\"></div><script type=\"text/javascript\">require([\"plotly\"], function(Plotly) { window.PLOTLYENV=window.PLOTLYENV || {};window.PLOTLYENV.BASE_URL=\"https://plot.ly\";Plotly.newPlot(\"764c47a5-8878-4be7-bda4-fcdc1fa2cde5\", [{\"x\": [16000000, 17000000, 18000000, 19000000, 20000000, 21000000, 22000000, 23000000, 24000000, 25000000, 26000000, 27000000, 28000000, 29000000, 30000000, 31000000, 32000000, 33000000, 34000000], \"y\": [101, 100, 85, 53, 46, 85, 52, 49, 44, 62, 42, 54, 21, 29, 38, 46, 44, 34, 15], \"type\": \"bar\", \"uid\": \"4b5f3375-4256-4850-bbc6-c66493cdf1b5\"}], {}, {\"showLink\": true, \"linkText\": \"Export to plot.ly\", \"plotlyServerURL\": \"https://plot.ly\"})});</script><script type=\"text/javascript\">window.addEventListener(\"resize\", function(){window._Plotly.Plots.resize(document.getElementById(\"764c47a5-8878-4be7-bda4-fcdc1fa2cde5\"));});</script>"
      ]
     },
     "metadata": {},
     "output_type": "display_data"
    }
   ],
   "source": [
    "import plotly.offline as py\n",
    "import plotly.figure_factory as ff\n",
    "import plotly.graph_objs as go\n",
    "from plotly.offline import get_plotlyjs, init_notebook_mode\n",
    "\n",
    "pandasHistogramDF = oskar.histogram(df,\"start\",1000000).toPandas()\n",
    "\n",
    "init_notebook_mode(connected=True)\n",
    "\n",
    "data = [go.Bar(x=pandasHistogramDF[\"start\"], y=pandasHistogramDF[\"count\"])]\n",
    "py.iplot(data)"
   ]
  },
  {
   "cell_type": "markdown",
   "metadata": {},
   "source": [
    "** Note that the region covers from the self x-axis value to the next one*"
   ]
  },
  {
   "cell_type": "markdown",
   "metadata": {},
   "source": [
    "** If you are using jupyter lab you will need to download this extension https://github.com/jupyterlab/jupyter-renderers/tree/master/packages/plotly-extension to visualize the plot*"
   ]
  },
  {
   "cell_type": "markdown",
   "metadata": {},
   "source": [
    "# Identity by state\n",
    "Some other interesting stats we may want to acces is IBS coefficient, wich could give us important information about variant similarity. For that we count on [<span style=\"color:#FF1493\"> **ibs** </span>] transformer:"
   ]
  },
  {
   "cell_type": "code",
   "execution_count": 12,
   "metadata": {},
   "outputs": [
    {
     "name": "stdout",
     "output_type": "stream",
     "text": [
      "+------------------+------------------+------------+--------+----+\n",
      "|        samplePair|          distance|      counts|variants|skip|\n",
      "+------------------+------------------+------------+--------+----+\n",
      "|[NA12877, NA12878]|0.8928571428571429|[0, 57, 209]|     266| 734|\n",
      "|[NA12877, NA12879]|0.9155629139072847|[0, 51, 251]|     302| 698|\n",
      "|[NA12877, NA12880]|0.9028662420382165|[0, 61, 253]|     314| 686|\n",
      "|[NA12877, NA12881]|0.9116719242902208|[0, 56, 261]|     317| 683|\n",
      "|[NA12877, NA12882]|0.8934707903780069|[0, 62, 229]|     291| 709|\n",
      "|[NA12877, NA12883]| 0.891156462585034|[0, 64, 230]|     294| 706|\n",
      "|[NA12877, NA12884]|0.8904109589041096|[0, 64, 228]|     292| 708|\n",
      "|[NA12877, NA12885]|0.9115755627009646|[0, 55, 256]|     311| 689|\n",
      "|[NA12877, NA12886]| 0.909967845659164|[0, 56, 255]|     311| 689|\n",
      "|[NA12877, NA12887]|0.9096989966555183|[0, 54, 245]|     299| 701|\n",
      "+------------------+------------------+------------+--------+----+\n",
      "only showing top 10 rows\n",
      "\n"
     ]
    }
   ],
   "source": [
    "oskar.ibs(df).show(10)"
   ]
  },
  {
   "cell_type": "markdown",
   "metadata": {},
   "source": [
    "In case we don't specify any samples it will run the whole dataframe samples, but we may want to check similarity between concrete individuals:"
   ]
  },
  {
   "cell_type": "code",
   "execution_count": 13,
   "metadata": {},
   "outputs": [
    {
     "name": "stdout",
     "output_type": "stream",
     "text": [
      "+------------------+------------------+------------+--------+----+\n",
      "|        samplePair|          distance|      counts|variants|skip|\n",
      "+------------------+------------------+------------+--------+----+\n",
      "|[NA12877, NA12878]|0.8928571428571429|[0, 57, 209]|     266| 734|\n",
      "|[NA12877, NA12879]|0.9155629139072847|[0, 51, 251]|     302| 698|\n",
      "|[NA12878, NA12879]|0.8857615894039735|[0, 69, 233]|     302| 698|\n",
      "+------------------+------------------+------------+--------+----+\n",
      "\n"
     ]
    }
   ],
   "source": [
    "oskar.ibs(df, samples=[\"NA12877\", \"NA12878\", \"NA12879\"]).show(10)"
   ]
  },
  {
   "cell_type": "markdown",
   "metadata": {},
   "source": [
    "<span style=\"color:yellow\"> **COMENTO LOS POSIBLES PARÁMETROS??** </span>"
   ]
  },
  {
   "cell_type": "code",
   "execution_count": 195,
   "metadata": {},
   "outputs": [
    {
     "data": {
      "text/html": [
       "<script type=\"text/javascript\">window.PlotlyConfig = {MathJaxConfig: 'local'};</script><script type=\"text/javascript\">if (window.MathJax) {MathJax.Hub.Config({SVG: {font: \"STIX-Web\"}});}</script><script>requirejs.config({paths: { 'plotly': ['https://cdn.plot.ly/plotly-latest.min']},});if(!window._Plotly) {require(['plotly'],function(plotly) {window._Plotly=plotly;});}</script>"
      ],
      "text/vnd.plotly.v1+html": [
       "<script type=\"text/javascript\">window.PlotlyConfig = {MathJaxConfig: 'local'};</script><script type=\"text/javascript\">if (window.MathJax) {MathJax.Hub.Config({SVG: {font: \"STIX-Web\"}});}</script><script>requirejs.config({paths: { 'plotly': ['https://cdn.plot.ly/plotly-latest.min']},});if(!window._Plotly) {require(['plotly'],function(plotly) {window._Plotly=plotly;});}</script>"
      ]
     },
     "metadata": {},
     "output_type": "display_data"
    },
    {
     "data": {
      "application/vnd.plotly.v1+json": {
       "config": {
        "linkText": "Export to plot.ly",
        "plotlyServerURL": "https://plot.ly",
        "showLink": true
       },
       "data": [
        {
         "hoverinfo": "text",
         "marker": {
          "color": "rgb(61,153,112)"
         },
         "mode": "lines",
         "type": "scatter",
         "uid": "3e399d7d-9046-45ac-bc99-d6deb98af2fd",
         "x": [
          25,
          25,
          35,
          35
         ],
         "xaxis": "x",
         "y": [
          0,
          0.027188050175338128,
          0.027188050175338128,
          0
         ],
         "yaxis": "y"
        },
        {
         "hoverinfo": "text",
         "marker": {
          "color": "rgb(61,153,112)"
         },
         "mode": "lines",
         "type": "scatter",
         "uid": "88f9605c-5984-45be-8fc7-b954ecee2a5a",
         "x": [
          15,
          15,
          30,
          30
         ],
         "xaxis": "x",
         "y": [
          0,
          0.07431544365237512,
          0.07431544365237512,
          0.027188050175338128
         ],
         "yaxis": "y"
        },
        {
         "hoverinfo": "text",
         "marker": {
          "color": "rgb(61,153,112)"
         },
         "mode": "lines",
         "type": "scatter",
         "uid": "1d9a5038-931f-4ace-bc45-79561bee5411",
         "x": [
          5,
          5,
          22.5,
          22.5
         ],
         "xaxis": "x",
         "y": [
          0,
          0.12272535930662469,
          0.12272535930662469,
          0.07431544365237512
         ],
         "yaxis": "y"
        },
        {
         "hoverinfo": "text",
         "marker": {
          "color": "rgb(255,65,54)"
         },
         "mode": "lines",
         "type": "scatter",
         "uid": "96c3840f-75b2-4c3b-b250-904c9c1501ae",
         "x": [
          65,
          65,
          75,
          75
         ],
         "xaxis": "x",
         "y": [
          0,
          0.031138564107394368,
          0.031138564107394368,
          0
         ],
         "yaxis": "y"
        },
        {
         "hoverinfo": "text",
         "marker": {
          "color": "rgb(255,65,54)"
         },
         "mode": "lines",
         "type": "scatter",
         "uid": "fa3349ba-ec25-4b15-824d-4c435bee80b1",
         "x": [
          55,
          55,
          70,
          70
         ],
         "xaxis": "x",
         "y": [
          0,
          0.04813540625111968,
          0.04813540625111968,
          0.031138564107394368
         ],
         "yaxis": "y"
        },
        {
         "hoverinfo": "text",
         "marker": {
          "color": "rgb(255,65,54)"
         },
         "mode": "lines",
         "type": "scatter",
         "uid": "b1bf2627-8a2c-4e36-accd-7bd2b58c4ca7",
         "x": [
          45,
          45,
          62.5,
          62.5
         ],
         "xaxis": "x",
         "y": [
          0,
          0.13252795274700635,
          0.13252795274700635,
          0.04813540625111968
         ],
         "yaxis": "y"
        },
        {
         "hoverinfo": "text",
         "marker": {
          "color": "rgb(0,116,217)"
         },
         "mode": "lines",
         "type": "scatter",
         "uid": "6e287e07-83a8-4119-a544-809f01979801",
         "x": [
          13.75,
          13.75,
          53.75,
          53.75
         ],
         "xaxis": "x",
         "y": [
          0.12272535930662469,
          0.2302046984705954,
          0.2302046984705954,
          0.13252795274700635
         ],
         "yaxis": "y"
        },
        {
         "hoverinfo": "text",
         "marker": {
          "color": "rgb(35,205,205)"
         },
         "mode": "lines",
         "type": "scatter",
         "uid": "e5962cd4-aa30-4cf1-a91c-6ea3d5ed0859",
         "x": [
          115,
          115,
          125,
          125
         ],
         "xaxis": "x",
         "y": [
          0,
          0.015918473173345066,
          0.015918473173345066,
          0
         ],
         "yaxis": "y"
        },
        {
         "hoverinfo": "text",
         "marker": {
          "color": "rgb(35,205,205)"
         },
         "mode": "lines",
         "type": "scatter",
         "uid": "35a2ec5f-e682-4426-8439-bdebdbac30c9",
         "x": [
          105,
          105,
          120,
          120
         ],
         "xaxis": "x",
         "y": [
          0,
          0.09309606001679316,
          0.09309606001679316,
          0.015918473173345066
         ],
         "yaxis": "y"
        },
        {
         "hoverinfo": "text",
         "marker": {
          "color": "rgb(35,205,205)"
         },
         "mode": "lines",
         "type": "scatter",
         "uid": "51aa408e-74a2-4765-9cc6-ca24e0d4fab6",
         "x": [
          95,
          95,
          112.5,
          112.5
         ],
         "xaxis": "x",
         "y": [
          0,
          0.1527436042543653,
          0.1527436042543653,
          0.09309606001679316
         ],
         "yaxis": "y"
        },
        {
         "hoverinfo": "text",
         "marker": {
          "color": "rgb(35,205,205)"
         },
         "mode": "lines",
         "type": "scatter",
         "uid": "c0ded52e-1cc4-494c-b27a-aabc63daf2df",
         "x": [
          85,
          85,
          103.75,
          103.75
         ],
         "xaxis": "x",
         "y": [
          0,
          0.16344575224292435,
          0.16344575224292435,
          0.1527436042543653
         ],
         "yaxis": "y"
        },
        {
         "hoverinfo": "text",
         "marker": {
          "color": "rgb(133,20,75)"
         },
         "mode": "lines",
         "type": "scatter",
         "uid": "dbe78006-ec03-4aee-9d7d-619a82ffee71",
         "x": [
          155,
          155,
          165,
          165
         ],
         "xaxis": "x",
         "y": [
          0,
          0.14507399841664007,
          0.14507399841664007,
          0
         ],
         "yaxis": "y"
        },
        {
         "hoverinfo": "text",
         "marker": {
          "color": "rgb(133,20,75)"
         },
         "mode": "lines",
         "type": "scatter",
         "uid": "1a2c8ed8-b311-4723-8135-d2695771b526",
         "x": [
          145,
          145,
          160,
          160
         ],
         "xaxis": "x",
         "y": [
          0,
          0.17095567600302936,
          0.17095567600302936,
          0.14507399841664007
         ],
         "yaxis": "y"
        },
        {
         "hoverinfo": "text",
         "marker": {
          "color": "rgb(133,20,75)"
         },
         "mode": "lines",
         "type": "scatter",
         "uid": "4ebfccd2-8aaf-481d-b592-99be6767c0c2",
         "x": [
          135,
          135,
          152.5,
          152.5
         ],
         "xaxis": "x",
         "y": [
          0,
          0.2003111141086912,
          0.2003111141086912,
          0.17095567600302936
         ],
         "yaxis": "y"
        },
        {
         "hoverinfo": "text",
         "marker": {
          "color": "rgb(0,116,217)"
         },
         "mode": "lines",
         "type": "scatter",
         "uid": "19256bdf-c1b3-4242-b031-babd9ad2dd05",
         "x": [
          94.375,
          94.375,
          143.75,
          143.75
         ],
         "xaxis": "x",
         "y": [
          0.16344575224292435,
          0.2385881107790424,
          0.2385881107790424,
          0.2003111141086912
         ],
         "yaxis": "y"
        },
        {
         "hoverinfo": "text",
         "marker": {
          "color": "rgb(0,116,217)"
         },
         "mode": "lines",
         "type": "scatter",
         "uid": "c48880e5-f426-46b4-8b95-29cc0b519489",
         "x": [
          33.75,
          33.75,
          119.0625,
          119.0625
         ],
         "xaxis": "x",
         "y": [
          0.2302046984705954,
          0.28368819121448,
          0.28368819121448,
          0.2385881107790424
         ],
         "yaxis": "y"
        }
       ],
       "layout": {
        "autosize": false,
        "height": 500,
        "hovermode": "closest",
        "showlegend": true,
        "title": "IBS",
        "width": 1440,
        "xaxis": {
         "autorange": true,
         "mirror": "allticks",
         "range": [
          0,
          165
         ],
         "rangemode": "tozero",
         "showgrid": false,
         "showline": true,
         "showticklabels": true,
         "tickmode": "array",
         "ticks": "outside",
         "ticktext": [
          "NA12892",
          "NA12885",
          "NA12880",
          "NA12881",
          "NA12883",
          "NA12886",
          "NA12887",
          "NA12893",
          "NA12879",
          "NA12889",
          "NA12888",
          "NA12882",
          "NA12884",
          "NA12891",
          "NA12878",
          "NA12877",
          "NA12890"
         ],
         "tickvals": [
          5,
          15,
          25,
          35,
          45,
          55,
          65,
          75,
          85,
          95,
          105,
          115,
          125,
          135,
          145,
          155,
          165
         ],
         "type": "linear",
         "zeroline": false
        },
        "yaxis": {
         "autorange": true,
         "mirror": "allticks",
         "range": [
          0,
          0.2986191486468211
         ],
         "rangemode": "tozero",
         "showgrid": false,
         "showline": true,
         "showticklabels": true,
         "ticks": "outside",
         "title": "distance",
         "type": "linear",
         "zeroline": false
        }
       }
      },
      "image/png": "[encoded data removed]",
      "text/html": [
       "<div id=\"4a208f25-38bd-473c-9f7c-f6c503b76275\" style=\"height: 500px; width: 1440px;\" class=\"plotly-graph-div\"></div><script type=\"text/javascript\">require([\"plotly\"], function(Plotly) { window.PLOTLYENV=window.PLOTLYENV || {};window.PLOTLYENV.BASE_URL=\"https://plot.ly\";Plotly.newPlot(\"4a208f25-38bd-473c-9f7c-f6c503b76275\", [{\"hoverinfo\": \"text\", \"marker\": {\"color\": \"rgb(61,153,112)\"}, \"mode\": \"lines\", \"x\": [25.0, 25.0, 35.0, 35.0], \"xaxis\": \"x\", \"y\": [0.0, 0.027188050175338128, 0.027188050175338128, 0.0], \"yaxis\": \"y\", \"type\": \"scatter\", \"uid\": \"3e399d7d-9046-45ac-bc99-d6deb98af2fd\"}, {\"hoverinfo\": \"text\", \"marker\": {\"color\": \"rgb(61,153,112)\"}, \"mode\": \"lines\", \"x\": [15.0, 15.0, 30.0, 30.0], \"xaxis\": \"x\", \"y\": [0.0, 0.07431544365237512, 0.07431544365237512, 0.027188050175338128], \"yaxis\": \"y\", \"type\": \"scatter\", \"uid\": \"88f9605c-5984-45be-8fc7-b954ecee2a5a\"}, {\"hoverinfo\": \"text\", \"marker\": {\"color\": \"rgb(61,153,112)\"}, \"mode\": \"lines\", \"x\": [5.0, 5.0, 22.5, 22.5], \"xaxis\": \"x\", \"y\": [0.0, 0.12272535930662469, 0.12272535930662469, 0.07431544365237512], \"yaxis\": \"y\", \"type\": \"scatter\", \"uid\": \"1d9a5038-931f-4ace-bc45-79561bee5411\"}, {\"hoverinfo\": \"text\", \"marker\": {\"color\": \"rgb(255,65,54)\"}, \"mode\": \"lines\", \"x\": [65.0, 65.0, 75.0, 75.0], \"xaxis\": \"x\", \"y\": [0.0, 0.031138564107394368, 0.031138564107394368, 0.0], \"yaxis\": \"y\", \"type\": \"scatter\", \"uid\": \"96c3840f-75b2-4c3b-b250-904c9c1501ae\"}, {\"hoverinfo\": \"text\", \"marker\": {\"color\": \"rgb(255,65,54)\"}, \"mode\": \"lines\", \"x\": [55.0, 55.0, 70.0, 70.0], \"xaxis\": \"x\", \"y\": [0.0, 0.04813540625111968, 0.04813540625111968, 0.031138564107394368], \"yaxis\": \"y\", \"type\": \"scatter\", \"uid\": \"fa3349ba-ec25-4b15-824d-4c435bee80b1\"}, {\"hoverinfo\": \"text\", \"marker\": {\"color\": \"rgb(255,65,54)\"}, \"mode\": \"lines\", \"x\": [45.0, 45.0, 62.5, 62.5], \"xaxis\": \"x\", \"y\": [0.0, 0.13252795274700635, 0.13252795274700635, 0.04813540625111968], \"yaxis\": \"y\", \"type\": \"scatter\", \"uid\": \"b1bf2627-8a2c-4e36-accd-7bd2b58c4ca7\"}, {\"hoverinfo\": \"text\", \"marker\": {\"color\": \"rgb(0,116,217)\"}, \"mode\": \"lines\", \"x\": [13.75, 13.75, 53.75, 53.75], \"xaxis\": \"x\", \"y\": [0.12272535930662469, 0.2302046984705954, 0.2302046984705954, 0.13252795274700635], \"yaxis\": \"y\", \"type\": \"scatter\", \"uid\": \"6e287e07-83a8-4119-a544-809f01979801\"}, {\"hoverinfo\": \"text\", \"marker\": {\"color\": \"rgb(35,205,205)\"}, \"mode\": \"lines\", \"x\": [115.0, 115.0, 125.0, 125.0], \"xaxis\": \"x\", \"y\": [0.0, 0.015918473173345066, 0.015918473173345066, 0.0], \"yaxis\": \"y\", \"type\": \"scatter\", \"uid\": \"e5962cd4-aa30-4cf1-a91c-6ea3d5ed0859\"}, {\"hoverinfo\": \"text\", \"marker\": {\"color\": \"rgb(35,205,205)\"}, \"mode\": \"lines\", \"x\": [105.0, 105.0, 120.0, 120.0], \"xaxis\": \"x\", \"y\": [0.0, 0.09309606001679316, 0.09309606001679316, 0.015918473173345066], \"yaxis\": \"y\", \"type\": \"scatter\", \"uid\": \"35a2ec5f-e682-4426-8439-bdebdbac30c9\"}, {\"hoverinfo\": \"text\", \"marker\": {\"color\": \"rgb(35,205,205)\"}, \"mode\": \"lines\", \"x\": [95.0, 95.0, 112.5, 112.5], \"xaxis\": \"x\", \"y\": [0.0, 0.1527436042543653, 0.1527436042543653, 0.09309606001679316], \"yaxis\": \"y\", \"type\": \"scatter\", \"uid\": \"51aa408e-74a2-4765-9cc6-ca24e0d4fab6\"}, {\"hoverinfo\": \"text\", \"marker\": {\"color\": \"rgb(35,205,205)\"}, \"mode\": \"lines\", \"x\": [85.0, 85.0, 103.75, 103.75], \"xaxis\": \"x\", \"y\": [0.0, 0.16344575224292435, 0.16344575224292435, 0.1527436042543653], \"yaxis\": \"y\", \"type\": \"scatter\", \"uid\": \"c0ded52e-1cc4-494c-b27a-aabc63daf2df\"}, {\"hoverinfo\": \"text\", \"marker\": {\"color\": \"rgb(133,20,75)\"}, \"mode\": \"lines\", \"x\": [155.0, 155.0, 165.0, 165.0], \"xaxis\": \"x\", \"y\": [0.0, 0.14507399841664007, 0.14507399841664007, 0.0], \"yaxis\": \"y\", \"type\": \"scatter\", \"uid\": \"dbe78006-ec03-4aee-9d7d-619a82ffee71\"}, {\"hoverinfo\": \"text\", \"marker\": {\"color\": \"rgb(133,20,75)\"}, \"mode\": \"lines\", \"x\": [145.0, 145.0, 160.0, 160.0], \"xaxis\": \"x\", \"y\": [0.0, 0.17095567600302936, 0.17095567600302936, 0.14507399841664007], \"yaxis\": \"y\", \"type\": \"scatter\", \"uid\": \"1a2c8ed8-b311-4723-8135-d2695771b526\"}, {\"hoverinfo\": \"text\", \"marker\": {\"color\": \"rgb(133,20,75)\"}, \"mode\": \"lines\", \"x\": [135.0, 135.0, 152.5, 152.5], \"xaxis\": \"x\", \"y\": [0.0, 0.2003111141086912, 0.2003111141086912, 0.17095567600302936], \"yaxis\": \"y\", \"type\": \"scatter\", \"uid\": \"4ebfccd2-8aaf-481d-b592-99be6767c0c2\"}, {\"hoverinfo\": \"text\", \"marker\": {\"color\": \"rgb(0,116,217)\"}, \"mode\": \"lines\", \"x\": [94.375, 94.375, 143.75, 143.75], \"xaxis\": \"x\", \"y\": [0.16344575224292435, 0.2385881107790424, 0.2385881107790424, 0.2003111141086912], \"yaxis\": \"y\", \"type\": \"scatter\", \"uid\": \"19256bdf-c1b3-4242-b031-babd9ad2dd05\"}, {\"hoverinfo\": \"text\", \"marker\": {\"color\": \"rgb(0,116,217)\"}, \"mode\": \"lines\", \"x\": [33.75, 33.75, 119.0625, 119.0625], \"xaxis\": \"x\", \"y\": [0.2302046984705954, 0.28368819121448, 0.28368819121448, 0.2385881107790424], \"yaxis\": \"y\", \"type\": \"scatter\", \"uid\": \"c48880e5-f426-46b4-8b95-29cc0b519489\"}], {\"autosize\": false, \"height\": 500, \"hovermode\": \"closest\", \"showlegend\": true, \"width\": 1440, \"xaxis\": {\"mirror\": \"allticks\", \"rangemode\": \"tozero\", \"showgrid\": false, \"showline\": true, \"showticklabels\": true, \"tickmode\": \"array\", \"ticks\": \"outside\", \"ticktext\": [\"NA12892\", \"NA12885\", \"NA12880\", \"NA12881\", \"NA12883\", \"NA12886\", \"NA12887\", \"NA12893\", \"NA12879\", \"NA12889\", \"NA12888\", \"NA12882\", \"NA12884\", \"NA12891\", \"NA12878\", \"NA12877\", \"NA12890\"], \"tickvals\": [5.0, 15.0, 25.0, 35.0, 45.0, 55.0, 65.0, 75.0, 85.0, 95.0, 105.0, 115.0, 125.0, 135.0, 145.0, 155.0, 165.0], \"type\": \"linear\", \"zeroline\": false}, \"yaxis\": {\"mirror\": \"allticks\", \"rangemode\": \"tozero\", \"showgrid\": false, \"showline\": true, \"showticklabels\": true, \"ticks\": \"outside\", \"type\": \"linear\", \"zeroline\": false, \"title\": \"distance\"}, \"title\": \"IBS\"}, {\"showLink\": true, \"linkText\": \"Export to plot.ly\", \"plotlyServerURL\": \"https://plot.ly\"})});</script>"
      ],
      "text/vnd.plotly.v1+html": [
       "<div id=\"4a208f25-38bd-473c-9f7c-f6c503b76275\" style=\"height: 500px; width: 1440px;\" class=\"plotly-graph-div\"></div><script type=\"text/javascript\">require([\"plotly\"], function(Plotly) { window.PLOTLYENV=window.PLOTLYENV || {};window.PLOTLYENV.BASE_URL=\"https://plot.ly\";Plotly.newPlot(\"4a208f25-38bd-473c-9f7c-f6c503b76275\", [{\"hoverinfo\": \"text\", \"marker\": {\"color\": \"rgb(61,153,112)\"}, \"mode\": \"lines\", \"x\": [25.0, 25.0, 35.0, 35.0], \"xaxis\": \"x\", \"y\": [0.0, 0.027188050175338128, 0.027188050175338128, 0.0], \"yaxis\": \"y\", \"type\": \"scatter\", \"uid\": \"3e399d7d-9046-45ac-bc99-d6deb98af2fd\"}, {\"hoverinfo\": \"text\", \"marker\": {\"color\": \"rgb(61,153,112)\"}, \"mode\": \"lines\", \"x\": [15.0, 15.0, 30.0, 30.0], \"xaxis\": \"x\", \"y\": [0.0, 0.07431544365237512, 0.07431544365237512, 0.027188050175338128], \"yaxis\": \"y\", \"type\": \"scatter\", \"uid\": \"88f9605c-5984-45be-8fc7-b954ecee2a5a\"}, {\"hoverinfo\": \"text\", \"marker\": {\"color\": \"rgb(61,153,112)\"}, \"mode\": \"lines\", \"x\": [5.0, 5.0, 22.5, 22.5], \"xaxis\": \"x\", \"y\": [0.0, 0.12272535930662469, 0.12272535930662469, 0.07431544365237512], \"yaxis\": \"y\", \"type\": \"scatter\", \"uid\": \"1d9a5038-931f-4ace-bc45-79561bee5411\"}, {\"hoverinfo\": \"text\", \"marker\": {\"color\": \"rgb(255,65,54)\"}, \"mode\": \"lines\", \"x\": [65.0, 65.0, 75.0, 75.0], \"xaxis\": \"x\", \"y\": [0.0, 0.031138564107394368, 0.031138564107394368, 0.0], \"yaxis\": \"y\", \"type\": \"scatter\", \"uid\": \"96c3840f-75b2-4c3b-b250-904c9c1501ae\"}, {\"hoverinfo\": \"text\", \"marker\": {\"color\": \"rgb(255,65,54)\"}, \"mode\": \"lines\", \"x\": [55.0, 55.0, 70.0, 70.0], \"xaxis\": \"x\", \"y\": [0.0, 0.04813540625111968, 0.04813540625111968, 0.031138564107394368], \"yaxis\": \"y\", \"type\": \"scatter\", \"uid\": \"fa3349ba-ec25-4b15-824d-4c435bee80b1\"}, {\"hoverinfo\": \"text\", \"marker\": {\"color\": \"rgb(255,65,54)\"}, \"mode\": \"lines\", \"x\": [45.0, 45.0, 62.5, 62.5], \"xaxis\": \"x\", \"y\": [0.0, 0.13252795274700635, 0.13252795274700635, 0.04813540625111968], \"yaxis\": \"y\", \"type\": \"scatter\", \"uid\": \"b1bf2627-8a2c-4e36-accd-7bd2b58c4ca7\"}, {\"hoverinfo\": \"text\", \"marker\": {\"color\": \"rgb(0,116,217)\"}, \"mode\": \"lines\", \"x\": [13.75, 13.75, 53.75, 53.75], \"xaxis\": \"x\", \"y\": [0.12272535930662469, 0.2302046984705954, 0.2302046984705954, 0.13252795274700635], \"yaxis\": \"y\", \"type\": \"scatter\", \"uid\": \"6e287e07-83a8-4119-a544-809f01979801\"}, {\"hoverinfo\": \"text\", \"marker\": {\"color\": \"rgb(35,205,205)\"}, \"mode\": \"lines\", \"x\": [115.0, 115.0, 125.0, 125.0], \"xaxis\": \"x\", \"y\": [0.0, 0.015918473173345066, 0.015918473173345066, 0.0], \"yaxis\": \"y\", \"type\": \"scatter\", \"uid\": \"e5962cd4-aa30-4cf1-a91c-6ea3d5ed0859\"}, {\"hoverinfo\": \"text\", \"marker\": {\"color\": \"rgb(35,205,205)\"}, \"mode\": \"lines\", \"x\": [105.0, 105.0, 120.0, 120.0], \"xaxis\": \"x\", \"y\": [0.0, 0.09309606001679316, 0.09309606001679316, 0.015918473173345066], \"yaxis\": \"y\", \"type\": \"scatter\", \"uid\": \"35a2ec5f-e682-4426-8439-bdebdbac30c9\"}, {\"hoverinfo\": \"text\", \"marker\": {\"color\": \"rgb(35,205,205)\"}, \"mode\": \"lines\", \"x\": [95.0, 95.0, 112.5, 112.5], \"xaxis\": \"x\", \"y\": [0.0, 0.1527436042543653, 0.1527436042543653, 0.09309606001679316], \"yaxis\": \"y\", \"type\": \"scatter\", \"uid\": \"51aa408e-74a2-4765-9cc6-ca24e0d4fab6\"}, {\"hoverinfo\": \"text\", \"marker\": {\"color\": \"rgb(35,205,205)\"}, \"mode\": \"lines\", \"x\": [85.0, 85.0, 103.75, 103.75], \"xaxis\": \"x\", \"y\": [0.0, 0.16344575224292435, 0.16344575224292435, 0.1527436042543653], \"yaxis\": \"y\", \"type\": \"scatter\", \"uid\": \"c0ded52e-1cc4-494c-b27a-aabc63daf2df\"}, {\"hoverinfo\": \"text\", \"marker\": {\"color\": \"rgb(133,20,75)\"}, \"mode\": \"lines\", \"x\": [155.0, 155.0, 165.0, 165.0], \"xaxis\": \"x\", \"y\": [0.0, 0.14507399841664007, 0.14507399841664007, 0.0], \"yaxis\": \"y\", \"type\": \"scatter\", \"uid\": \"dbe78006-ec03-4aee-9d7d-619a82ffee71\"}, {\"hoverinfo\": \"text\", \"marker\": {\"color\": \"rgb(133,20,75)\"}, \"mode\": \"lines\", \"x\": [145.0, 145.0, 160.0, 160.0], \"xaxis\": \"x\", \"y\": [0.0, 0.17095567600302936, 0.17095567600302936, 0.14507399841664007], \"yaxis\": \"y\", \"type\": \"scatter\", \"uid\": \"1a2c8ed8-b311-4723-8135-d2695771b526\"}, {\"hoverinfo\": \"text\", \"marker\": {\"color\": \"rgb(133,20,75)\"}, \"mode\": \"lines\", \"x\": [135.0, 135.0, 152.5, 152.5], \"xaxis\": \"x\", \"y\": [0.0, 0.2003111141086912, 0.2003111141086912, 0.17095567600302936], \"yaxis\": \"y\", \"type\": \"scatter\", \"uid\": \"4ebfccd2-8aaf-481d-b592-99be6767c0c2\"}, {\"hoverinfo\": \"text\", \"marker\": {\"color\": \"rgb(0,116,217)\"}, \"mode\": \"lines\", \"x\": [94.375, 94.375, 143.75, 143.75], \"xaxis\": \"x\", \"y\": [0.16344575224292435, 0.2385881107790424, 0.2385881107790424, 0.2003111141086912], \"yaxis\": \"y\", \"type\": \"scatter\", \"uid\": \"19256bdf-c1b3-4242-b031-babd9ad2dd05\"}, {\"hoverinfo\": \"text\", \"marker\": {\"color\": \"rgb(0,116,217)\"}, \"mode\": \"lines\", \"x\": [33.75, 33.75, 119.0625, 119.0625], \"xaxis\": \"x\", \"y\": [0.2302046984705954, 0.28368819121448, 0.28368819121448, 0.2385881107790424], \"yaxis\": \"y\", \"type\": \"scatter\", \"uid\": \"c48880e5-f426-46b4-8b95-29cc0b519489\"}], {\"autosize\": false, \"height\": 500, \"hovermode\": \"closest\", \"showlegend\": true, \"width\": 1440, \"xaxis\": {\"mirror\": \"allticks\", \"rangemode\": \"tozero\", \"showgrid\": false, \"showline\": true, \"showticklabels\": true, \"tickmode\": \"array\", \"ticks\": \"outside\", \"ticktext\": [\"NA12892\", \"NA12885\", \"NA12880\", \"NA12881\", \"NA12883\", \"NA12886\", \"NA12887\", \"NA12893\", \"NA12879\", \"NA12889\", \"NA12888\", \"NA12882\", \"NA12884\", \"NA12891\", \"NA12878\", \"NA12877\", \"NA12890\"], \"tickvals\": [5.0, 15.0, 25.0, 35.0, 45.0, 55.0, 65.0, 75.0, 85.0, 95.0, 105.0, 115.0, 125.0, 135.0, 145.0, 155.0, 165.0], \"type\": \"linear\", \"zeroline\": false}, \"yaxis\": {\"mirror\": \"allticks\", \"rangemode\": \"tozero\", \"showgrid\": false, \"showline\": true, \"showticklabels\": true, \"ticks\": \"outside\", \"type\": \"linear\", \"zeroline\": false, \"title\": \"distance\"}, \"title\": \"IBS\"}, {\"showLink\": true, \"linkText\": \"Export to plot.ly\", \"plotlyServerURL\": \"https://plot.ly\"})});</script>"
      ]
     },
     "metadata": {},
     "output_type": "display_data"
    }
   ],
   "source": [
    "import numpy as np\n",
    "import plotly.offline as py\n",
    "import plotly.figure_factory as ff\n",
    "from plotly.offline import get_plotlyjs, init_notebook_mode\n",
    "\n",
    "init_notebook_mode(connected=True)\n",
    "\n",
    "OskarIBS = oskar.ibs(df).toPandas()\n",
    "samples_list = []\n",
    "samples_dict = {}\n",
    "num_of_values = len(OskarIBS)\n",
    "for i in range(len(OskarIBS)):\n",
    "    sample = OskarIBS[\"samplePair\"][i][0]\n",
    "    if not sample in samples_dict:\n",
    "        samples_list.append(sample)\n",
    "        samples_dict[sample] = []\n",
    "    samples_dict[sample].append(1-OskarIBS[\"distance\"][i])\n",
    "samples_dict[OskarIBS[\"samplePair\"][num_of_values - 1][1]] = []\n",
    "samples_list.append(OskarIBS[\"samplePair\"][num_of_values - 1][1])\n",
    "\n",
    "num_of_samples = len(samples_dict)\n",
    "X = np.zeros((num_of_samples,num_of_samples))\n",
    "\n",
    "for j in range(0, num_of_samples - 1):    \n",
    "    for i in range(j + 1, num_of_samples):\n",
    "        X[i,j] = samples_dict[samples_list[j]][i-1-j]\n",
    "        X[j,i] = samples_dict[samples_list[j]][i-1-j]\n",
    "        \n",
    "fig = ff.create_dendrogram(X, labels=samples_list, color_threshold=0.21)\n",
    "yaxis={\"title\": \"distance\"}\n",
    "fig['layout'].update({'width':1440, 'height':500, 'showlegend':True, \"title\":\"IBS\", \"yaxis\":yaxis})\n",
    "py.iplot(fig, filename='dendrogram')"
   ]
  },
  {
   "cell_type": "markdown",
   "metadata": {},
   "source": [
    "# **Advanced variant filtering**"
   ]
  },
  {
   "cell_type": "markdown",
   "metadata": {},
   "source": [
    "## Hardy Weinberg"
   ]
  },
  {
   "cell_type": "code",
   "execution_count": 13,
   "metadata": {},
   "outputs": [
    {
     "name": "stdout",
     "output_type": "stream",
     "text": [
      "+---------------+--------------------+\n",
      "|             id|                 HWE|\n",
      "+---------------+--------------------+\n",
      "|22:16054454:C:T|                 1.0|\n",
      "|22:16065809:T:C|                 1.0|\n",
      "|22:16077310:T:A|  0.9254727474972191|\n",
      "|22:16080499:A:G|                 1.0|\n",
      "|22:16084621:T:C|                 1.0|\n",
      "|22:16091610:G:T|                 1.0|\n",
      "|22:16096040:G:A|  0.4746014089729329|\n",
      "|22:16099957:C:T|0.016007636455477054|\n",
      "|22:16100462:A:G|0.001011008618240...|\n",
      "|22:16105660:G:A|  0.3037449017426771|\n",
      "|22:16112391:G:A| 0.17718452601656157|\n",
      "|22:16114913:A:T|  0.6855353685164587|\n",
      "|22:16127471:A:-|                 1.0|\n",
      "|22:16134019:G:T| 0.17718452601656157|\n",
      "|22:16138943:C:G|  0.6855353685164587|\n",
      "|22:16144239:T:C| 0.18181818181818182|\n",
      "|22:16147398:G:A|0.001011224592982...|\n",
      "|22:16149692:G:T| 0.08884238232789762|\n",
      "|22:16195955:G:A|0.007751066073178...|\n",
      "|22:16196041:C:T|  0.6855353685164587|\n",
      "|22:16202382:C:T|0.001011008618240...|\n",
      "|22:16212765:C:T|                 1.0|\n",
      "|22:16223351:C:T|                 1.0|\n",
      "|22:16229483:C:T|                 1.0|\n",
      "|22:16232104:G:A|                 1.0|\n",
      "|22:16240905:C:T|                 1.0|\n",
      "|22:16252532:A:G| 0.06060606060606061|\n",
      "|22:16289841:A:-|  0.3547151155604993|\n",
      "|22:16302286:G:T|                 1.0|\n",
      "|22:16308379:G:A|                 1.0|\n",
      "+---------------+--------------------+\n",
      "only showing top 30 rows\n",
      "\n"
     ]
    }
   ],
   "source": [
    "oskar.hardyWeinberg(df,\"hgvauser@platinum:illumina_platinum\").select(\"id\", \"HWE\").show(10)"
   ]
  },
  {
   "cell_type": "markdown",
   "metadata": {},
   "source": [
    "## Inbreeding coefficient"
   ]
  },
  {
   "cell_type": "code",
   "execution_count": 49,
   "metadata": {},
   "outputs": [
    {
     "name": "stdout",
     "output_type": "stream",
     "text": [
      "+--------+-------------------+-----------+------------------+--------------+\n",
      "|SampleId|                  F|ObservedHom|       ExpectedHom|GenotypesCount|\n",
      "+--------+-------------------+-----------+------------------+--------------+\n",
      "| NA12877|-1.0857581722788996|         70|233.97577702999115|           385|\n",
      "| NA12878|-1.1024114888695444|         69|244.65916746854782|           404|\n",
      "| NA12879|-1.1890914293957586|         69| 247.7093403339386|           398|\n",
      "| NA12880|-1.1013660394101679|         71|248.15224742889404|           409|\n",
      "| NA12881|-1.1560267972581504|         65| 252.6643579006195|           415|\n",
      "| NA12882|-1.0112382612189488|         76| 224.8269881606102|           372|\n",
      "| NA12883|-1.0602574055431329|         67|229.62110525369644|           383|\n",
      "| NA12884|-1.0340014363992485|         74|224.47404664754868|           370|\n",
      "| NA12885|-1.1105665251221366|         78| 254.8010356426239|           414|\n",
      "| NA12886| -1.067867784696387|         72|244.48096668720245|           406|\n",
      "+--------+-------------------+-----------+------------------+--------------+\n",
      "only showing top 10 rows\n",
      "\n"
     ]
    }
   ],
   "source": [
    "df2 = oskar.stats(df, studyId=\"hgvauser@platinum:illumina_platinum\", missingAsReference=True)\n",
    "oskar.inbreedingCoefficient(df2).show(10)"
   ]
  },
  {
   "cell_type": "markdown",
   "metadata": {},
   "source": [
    "## Mendelian error"
   ]
  },
  {
   "cell_type": "code",
   "execution_count": 6,
   "metadata": {},
   "outputs": [
    {
     "name": "stdout",
     "output_type": "stream",
     "text": [
      "+------------------+--------------+\n",
      "|                id|mendelianError|\n",
      "+------------------+--------------+\n",
      "|22:19748211:CCCC:-|             1|\n",
      "+------------------+--------------+\n",
      "\n"
     ]
    }
   ],
   "source": [
    "oskar.mendel(df, \"NA12877\", \"NA12878\", \"NA12879\").select(\"id\", \"mendelianError\").filter(col(\"mendelianError\") != \"0\").show()"
   ]
  }
 ],
 "metadata": {
  "kernelspec": {
   "display_name": "Python 3",
   "language": "python",
   "name": "python3"
  },
  "language_info": {
   "codemirror_mode": {
    "name": "ipython",
    "version": 3
   },
   "file_extension": ".py",
   "mimetype": "text/x-python",
   "name": "python",
   "nbconvert_exporter": "python",
   "pygments_lexer": "ipython3",
   "version": "3.6.7"
  }
 },
 "nbformat": 4,
 "nbformat_minor": 2
}
