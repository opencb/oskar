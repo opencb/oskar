{
 "cells": [
  {
   "cell_type": "markdown",
   "metadata": {},
   "source": [
    "# **Statistics example**\n",
    "In this second tutorial we will show some examples of how to executed more sofisticated analysis towards our data."
   ]
  },
  {
   "cell_type": "markdown",
   "metadata": {},
   "source": [
    "As we did in the previous tutorial, we need to import both Spark and Oskar APIs, as well as loading our data into a spark DataFrame."
   ]
  },
  {
   "cell_type": "code",
   "execution_count": 2,
   "metadata": {},
   "outputs": [],
   "source": [
    "from pyoskar.core import Oskar\n",
    "from pyoskar.sql import *\n",
    "from pyoskar.analysis import *\n",
    "from pyspark.sql.functions import col, udf, count, explode, concat, when, expr\n",
    "from pyspark.sql.functions import *\n",
    "\n",
    "oskar = Oskar(spark)\n",
    "df = oskar.load(\"/home/roldanx/appl/oskar/oskar-spark/src/test/resources/platinum_chr22.small.parquet\")"
   ]
  },
  {
   "cell_type": "markdown",
   "metadata": {},
   "source": [
    "## Stats per variant\n",
    "Here we present the genotypes of the first 10 variants from which the later stats will come out:"
   ]
  },
  {
   "cell_type": "code",
   "execution_count": 6,
   "metadata": {},
   "outputs": [
    {
     "name": "stdout",
     "output_type": "stream",
     "text": [
      "+---------------+-------------------------------------------------------------------------------------------------------------------------+\n",
      "|id             |genotypes                                                                                                                |\n",
      "+---------------+-------------------------------------------------------------------------------------------------------------------------+\n",
      "|22:16054454:C:T|[[[./.], [./.], [./.], [./.], [./.], [./.], [./.], [./.], [./.], [./.], [./.], [./.], [./.], [0/1], [./.], [./.], [./.]]]|\n",
      "|22:16065809:T:C|[[[0/1], [./.], [./.], [./.], [0/1], [./.], [0/1], [./.], [./.], [./.], [./.], [0/1], [0/1], [./.], [./.], [./.], [0/1]]]|\n",
      "|22:16077310:T:A|[[[./.], [0/1], [0/1], [./.], [./.], [0/1], [./.], [0/1], [./.], [0/1], [./.], [0/1], [./.], [./.], [0/1], [./.], [./.]]]|\n",
      "|22:16080499:A:G|[[[0/1], [./.], [0/1], [./.], [./.], [./.], [./.], [./.], [./.], [./.], [./.], [0/1], [0/1], [./.], [./.], [./.], [./.]]]|\n",
      "|22:16084621:T:C|[[[./.], [0/1], [./.], [./.], [./.], [0/1], [./.], [0/1], [./.], [./.], [./.], [0/1], [./.], [./.], [0/1], [./.], [./.]]]|\n",
      "|22:16091610:G:T|[[[./.], [./.], [./.], [./.], [./.], [./.], [./.], [0/1], [./.], [./.], [./.], [0/1], [./.], [./.], [0/1], [./.], [./.]]]|\n",
      "|22:16096040:G:A|[[[./.], [./.], [./.], [./.], [./.], [./.], [0/1], [0/1], [./.], [0/1], [0/1], [0/1], [./.], [0/1], [0/1], [0/1], [0/1]]]|\n",
      "|22:16099957:C:T|[[[0/1], [0/1], [0/1], [0/1], [0/1], [0/1], [0/1], [0/1], [0/1], [0/1], [0/1], [1/1], [0/1], [1/1], [1/1], [0/1], [0/1]]]|\n",
      "|22:16100462:A:G|[[[0/1], [0/1], [0/1], [0/1], [0/1], [0/1], [0/1], [0/1], [0/1], [0/1], [./.], [0/1], [0/1], [0/1], [0/1], [0/1], [0/1]]]|\n",
      "|22:16105660:G:A|[[[0/1], [./.], [0/1], [./.], [0/1], [./.], [0/1], [0/1], [./.], [0/1], [./.], [0/1], [0/1], [./.], [0/1], [./.], [0/1]]]|\n",
      "+---------------+-------------------------------------------------------------------------------------------------------------------------+\n",
      "only showing top 10 rows\n",
      "\n"
     ]
    }
   ],
   "source": [
    "df.select(df.id, df.studies.samplesData.alias(\"genotypes\")).show(10, False)"
   ]
  },
  {
   "cell_type": "markdown",
   "metadata": {},
   "source": [
    "In this case we are applying a transformation that will lead to adding new data inside the \"studies\" field, which is empty before we do anything:"
   ]
  },
  {
   "cell_type": "code",
   "execution_count": 8,
   "metadata": {},
   "outputs": [
    {
     "name": "stdout",
     "output_type": "stream",
     "text": [
      "+---------------+-----------+--------------+------------------+-------------+----+\n",
      "|id             |alleleCount|altAlleleCount|missingAlleleCount|altAlleleFreq|maf |\n",
      "+---------------+-----------+--------------+------------------+-------------+----+\n",
      "|22:16054454:C:T|null       |null          |null              |null         |null|\n",
      "|22:16065809:T:C|null       |null          |null              |null         |null|\n",
      "|22:16077310:T:A|null       |null          |null              |null         |null|\n",
      "|22:16080499:A:G|null       |null          |null              |null         |null|\n",
      "|22:16084621:T:C|null       |null          |null              |null         |null|\n",
      "|22:16091610:G:T|null       |null          |null              |null         |null|\n",
      "|22:16096040:G:A|null       |null          |null              |null         |null|\n",
      "|22:16099957:C:T|null       |null          |null              |null         |null|\n",
      "|22:16100462:A:G|null       |null          |null              |null         |null|\n",
      "|22:16105660:G:A|null       |null          |null              |null         |null|\n",
      "+---------------+-----------+--------------+------------------+-------------+----+\n",
      "only showing top 10 rows\n",
      "\n"
     ]
    }
   ],
   "source": [
    "df.selectExpr(\"id\", \"studies[0].stats.ALL as stats\").select(\"id\", \"stats.*\")\\\n",
    "    .select(\"id\", \"alleleCount\", \"altAlleleCount\", \"missingAlleleCount\", \"altAlleleFreq\", \"maf\").show(10, False)"
   ]
  },
  {
   "cell_type": "markdown",
   "metadata": {},
   "source": [
    "Now we proceed to apply a transformation, that means that our dataframe will suffer some kind of change. It is important to know how transformers work in order to tell spark how to extract the new information:"
   ]
  },
  {
   "cell_type": "code",
   "execution_count": 5,
   "metadata": {},
   "outputs": [
    {
     "name": "stdout",
     "output_type": "stream",
     "text": [
      "+---------------+-----------+--------------+------------------+-------------+---------+\n",
      "|id             |alleleCount|altAlleleCount|missingAlleleCount|altAlleleFreq|maf      |\n",
      "+---------------+-----------+--------------+------------------+-------------+---------+\n",
      "|22:16054454:C:T|2          |1             |32                |0.5          |0.5      |\n",
      "|22:16065809:T:C|12         |6             |22                |0.5          |0.5      |\n",
      "|22:16077310:T:A|14         |7             |20                |0.5          |0.5      |\n",
      "|22:16080499:A:G|8          |4             |26                |0.5          |0.5      |\n",
      "|22:16084621:T:C|10         |5             |24                |0.5          |0.5      |\n",
      "|22:16091610:G:T|6          |3             |28                |0.5          |0.5      |\n",
      "|22:16096040:G:A|18         |9             |16                |0.5          |0.5      |\n",
      "|22:16099957:C:T|34         |20            |0                 |0.5882353    |0.4117647|\n",
      "|22:16100462:A:G|32         |16            |2                 |0.5          |0.5      |\n",
      "|22:16105660:G:A|20         |10            |14                |0.5          |0.5      |\n",
      "+---------------+-----------+--------------+------------------+-------------+---------+\n",
      "only showing top 10 rows\n",
      "\n",
      "+---------------+-----------+--------------+------------------+-------------+-----------+\n",
      "|id             |alleleCount|altAlleleCount|missingAlleleCount|altAlleleFreq|maf        |\n",
      "+---------------+-----------+--------------+------------------+-------------+-----------+\n",
      "|22:16054454:C:T|34         |1             |0                 |0.029411765  |0.029411765|\n",
      "|22:16065809:T:C|34         |6             |0                 |0.1764706    |0.1764706  |\n",
      "|22:16077310:T:A|34         |7             |0                 |0.20588236   |0.20588236 |\n",
      "|22:16080499:A:G|34         |4             |0                 |0.11764706   |0.11764706 |\n",
      "|22:16084621:T:C|34         |5             |0                 |0.14705883   |0.14705883 |\n",
      "|22:16091610:G:T|34         |3             |0                 |0.0882353    |0.0882353  |\n",
      "|22:16096040:G:A|34         |9             |0                 |0.2647059    |0.2647059  |\n",
      "|22:16099957:C:T|34         |20            |0                 |0.5882353    |0.4117647  |\n",
      "|22:16100462:A:G|34         |16            |0                 |0.47058824   |0.47058824 |\n",
      "|22:16105660:G:A|34         |10            |0                 |0.29411766   |0.29411766 |\n",
      "+---------------+-----------+--------------+------------------+-------------+-----------+\n",
      "only showing top 10 rows\n",
      "\n"
     ]
    }
   ],
   "source": [
    "oskar.stats(df).selectExpr(\"id\", \"studies[0].stats.ALL as stats\").select(\"id\", \"stats.*\")\\\n",
    "    .select(\"id\", \"alleleCount\", \"altAlleleCount\", \"missingAlleleCount\", \"altAlleleFreq\", \"maf\").show(10, False)\n",
    "oskar.stats(df, missingAsReference=True).selectExpr(\"id\", \"studies[0].stats.ALL as stats\").select(\"id\", \"stats.*\") \\\n",
    "    .select(\"id\", \"alleleCount\", \"altAlleleCount\", \"missingAlleleCount\", \"altAlleleFreq\", \"maf\").show(10, False)"
   ]
  },
  {
   "cell_type": "markdown",
   "metadata": {},
   "source": [
    "## Stats per dataframe\n",
    "As an example we could also apply a transformation that provides statistics attached to the whole dataframe:"
   ]
  },
  {
   "cell_type": "code",
   "execution_count": 7,
   "metadata": {},
   "outputs": [
    {
     "name": "stdout",
     "output_type": "stream",
     "text": [
      "+-----------+----------+-------+---------+-----------+-------------+---------------+\n",
      "|numVariants|numSamples|numPass|tiTvRatio|meanQuality|stdDevQuality|numRareVariants|\n",
      "+-----------+----------+-------+---------+-----------+-------------+---------------+\n",
      "|       1000|         0|   4016|1.3342036|    773.252|    765.54596|             []|\n",
      "+-----------+----------+-------+---------+-----------+-------------+---------------+\n",
      "\n",
      "+-----+-----+\n",
      "|  key|value|\n",
      "+-----+-----+\n",
      "|  SNV|  894|\n",
      "|INDEL|  106|\n",
      "+-----+-----+\n",
      "\n",
      "+----------------------------------+-----+\n",
      "|key                               |value|\n",
      "+----------------------------------+-----+\n",
      "|IG_C_pseudogene                   |1    |\n",
      "|IG_V_pseudogene                   |17   |\n",
      "|protein_coding                    |500  |\n",
      "|rRNA                              |4    |\n",
      "|retained_intron                   |192  |\n",
      "|nonsense_mediated_decay           |166  |\n",
      "|IG_V_gene                         |18   |\n",
      "|snRNA                             |6    |\n",
      "|snoRNA                            |6    |\n",
      "|transcribed_processed_pseudogene  |4    |\n",
      "|unitary_pseudogene                |2    |\n",
      "|IG_J_gene                         |4    |\n",
      "|transcribed_unprocessed_pseudogene|40   |\n",
      "|pseudogene                        |1    |\n",
      "|IG_C_gene                         |4    |\n",
      "|sense_intronic                    |10   |\n",
      "|processed_pseudogene              |74   |\n",
      "|unprocessed_pseudogene            |72   |\n",
      "|miRNA                             |12   |\n",
      "|lincRNA                           |102  |\n",
      "+----------------------------------+-----+\n",
      "only showing top 20 rows\n",
      "\n",
      "+----------------------------------+-----+\n",
      "|key                               |value|\n",
      "+----------------------------------+-----+\n",
      "|missense_variant                  |4    |\n",
      "|intergenic_variant                |222  |\n",
      "|2KB_downstream_variant            |146  |\n",
      "|3_prime_UTR_variant               |9    |\n",
      "|regulatory_region_variant         |764  |\n",
      "|downstream_gene_variant           |163  |\n",
      "|intron_variant                    |543  |\n",
      "|splice_region_variant             |2    |\n",
      "|upstream_gene_variant             |200  |\n",
      "|TF_binding_site_variant           |108  |\n",
      "|5_prime_UTR_variant               |1    |\n",
      "|non_coding_transcript_exon_variant|45   |\n",
      "|non_coding_transcript_variant     |385  |\n",
      "|2KB_upstream_variant              |146  |\n",
      "|splice_donor_variant              |1    |\n",
      "|NMD_transcript_variant            |140  |\n",
      "|synonymous_variant                |6    |\n",
      "+----------------------------------+-----+\n",
      "\n",
      "+---+-----------+\n",
      "|key|value      |\n",
      "+---+-----------+\n",
      "|22 |[1000, 0.0]|\n",
      "+---+-----------+\n",
      "\n"
     ]
    }
   ],
   "source": [
    "globalStatsTransformationDataframe = oskar.globalStats(df)\n",
    "globalStatsTransformationDataframe.drop(\"variantTypeCounts\", \"variantBiotypeCounts\", \"consequenceTypesCounts\", \"chromosomeStats\").show()\n",
    "globalStatsTransformationDataframe.select(explode(\"variantTypeCounts\")).show()\n",
    "globalStatsTransformationDataframe.select(explode(\"variantBiotypeCounts\")).show(truncate=False)\n",
    "globalStatsTransformationDataframe.select(explode(\"consequenceTypesCounts\")).show(truncate=False)\n",
    "globalStatsTransformationDataframe.select(explode(\"chromosomeStats\")).show(truncate=False)"
   ]
  },
  {
   "cell_type": "markdown",
   "metadata": {},
   "source": [
    "## Hardy Weinberg // Mendelian error\n",
    "Other transformations will not fill existing fields but create new ones, like this new column that appears after we apply HW or Mendelian Error transformations. "
   ]
  },
  {
   "cell_type": "code",
   "execution_count": 14,
   "metadata": {},
   "outputs": [
    {
     "name": "stdout",
     "output_type": "stream",
     "text": [
      "+---------------+--------------------+\n",
      "|             id|                 HWE|\n",
      "+---------------+--------------------+\n",
      "|22:16054454:C:T|                 1.0|\n",
      "|22:16065809:T:C|                 1.0|\n",
      "|22:16077310:T:A|  0.9254727474972191|\n",
      "|22:16080499:A:G|                 1.0|\n",
      "|22:16084621:T:C|                 1.0|\n",
      "|22:16091610:G:T|                 1.0|\n",
      "|22:16096040:G:A|  0.4746014089729329|\n",
      "|22:16099957:C:T|0.016007636455477054|\n",
      "|22:16100462:A:G|0.001011008618240...|\n",
      "|22:16105660:G:A|  0.3037449017426771|\n",
      "+---------------+--------------------+\n",
      "only showing top 10 rows\n",
      "\n",
      "+------------------+--------------+\n",
      "|                id|mendelianError|\n",
      "+------------------+--------------+\n",
      "|22:19748211:CCCC:-|             1|\n",
      "+------------------+--------------+\n",
      "\n"
     ]
    }
   ],
   "source": [
    "oskar.hardy_weinberg(df,\"hgvauser@platinum:illumina_platinum\").select(\"id\", \"HWE\").show(10)\n",
    "oskar.mendel(df, \"NA12877\", \"NA12878\", \"NA12879\").select(\"id\", \"mendelianError\").filter(col(\"mendelianError\") != \"0\").show()"
   ]
  },
  {
   "cell_type": "markdown",
   "metadata": {},
   "source": [
    "## Histogram\n",
    "This last example shows how easily we can apply transformations at the same time we use some well known python functionality. We would like to know the frequency with which we can find variants depending on the region of our genome, but in this case we will store our transformed dataframe into the standard Pandas Dataframe."
   ]
  },
  {
   "cell_type": "code",
   "execution_count": 4,
   "metadata": {},
   "outputs": [
    {
     "name": "stdout",
     "output_type": "stream",
     "text": [
      "+--------+-----+\n",
      "|   start|count|\n",
      "+--------+-----+\n",
      "|16000000|  101|\n",
      "|17000000|  100|\n",
      "|18000000|   85|\n",
      "|19000000|   53|\n",
      "|20000000|   46|\n",
      "|21000000|   85|\n",
      "|22000000|   52|\n",
      "|23000000|   49|\n",
      "|24000000|   44|\n",
      "|25000000|   62|\n",
      "|26000000|   42|\n",
      "|27000000|   54|\n",
      "|28000000|   21|\n",
      "|29000000|   29|\n",
      "|30000000|   38|\n",
      "|31000000|   46|\n",
      "|32000000|   44|\n",
      "|33000000|   34|\n",
      "|34000000|   15|\n",
      "+--------+-----+\n",
      "\n"
     ]
    }
   ],
   "source": [
    "oskar.histogram(df,\"start\",1000000).show()"
   ]
  },
  {
   "cell_type": "code",
   "execution_count": 10,
   "metadata": {},
   "outputs": [
    {
     "data": {
      "text/plain": [
       "[Text(0, 0.5, 'Counts'), Text(0.5, 0, 'Region')]"
      ]
     },
     "execution_count": 10,
     "metadata": {},
     "output_type": "execute_result"
    },
    {
     "data": {
      "image/png": "[encoded data removed]",
      "text/plain": [
       "<Figure size 1728x720 with 1 Axes>"
      ]
     },
     "metadata": {
      "needs_background": "light"
     },
     "output_type": "display_data"
    }
   ],
   "source": [
    "pandaDF = oskar.histogram(df,\"start\",1000000).toPandas()\n",
    "histogram = pandaDF.plot(x = \"start\", y = \"count\", kind = \"bar\", figsize=(24,10))\n",
    "histogram.set(xlabel=\"Region\", ylabel=\"Counts\")"
   ]
  },
  {
   "cell_type": "markdown",
   "metadata": {},
   "source": [
    "**Note that the region covers from the self x-axis value to the next one*"
   ]
  },
  {
   "cell_type": "code",
   "execution_count": 8,
   "metadata": {},
   "outputs": [
    {
     "data": {
      "text/html": [
       "<script type=\"text/javascript\">window.PlotlyConfig = {MathJaxConfig: 'local'};</script><script type=\"text/javascript\">if (window.MathJax) {MathJax.Hub.Config({SVG: {font: \"STIX-Web\"}});}</script><script>requirejs.config({paths: { 'plotly': ['https://cdn.plot.ly/plotly-latest.min']},});if(!window._Plotly) {require(['plotly'],function(plotly) {window._Plotly=plotly;});}</script>"
      ],
      "text/vnd.plotly.v1+html": [
       "<script type=\"text/javascript\">window.PlotlyConfig = {MathJaxConfig: 'local'};</script><script type=\"text/javascript\">if (window.MathJax) {MathJax.Hub.Config({SVG: {font: \"STIX-Web\"}});}</script><script>requirejs.config({paths: { 'plotly': ['https://cdn.plot.ly/plotly-latest.min']},});if(!window._Plotly) {require(['plotly'],function(plotly) {window._Plotly=plotly;});}</script>"
      ]
     },
     "metadata": {},
     "output_type": "display_data"
    },
    {
     "data": {
      "text/plain": [
       "'file:///home/roldanx/appl/oskar/oskar-spark/src/main/python/temp-plot.html'"
      ]
     },
     "execution_count": 8,
     "metadata": {},
     "output_type": "execute_result"
    }
   ],
   "source": [
    "import pandas as pd\n",
    "import numpy as np\n",
    "import scipy as sp\n",
    "import plotly.offline as py\n",
    "import plotly.figure_factory as ff\n",
    "import plotly.graph_objs as go\n",
    "from plotly.offline import get_plotlyjs, init_notebook_mode\n",
    "\n",
    "pandaDF = oskar.histogram(df,\"start\",1000000).toPandas()\n",
    "\n",
    "get_plotlyjs()\n",
    "init_notebook_mode(connected=True)\n",
    "\n",
    "data = [go.Bar(x=pandaDF[\"start\"], y=pandaDF[\"count\"])]\n",
    "py.plot(data)"
   ]
  },
  {
   "cell_type": "code",
   "execution_count": 12,
   "metadata": {},
   "outputs": [
    {
     "data": {
      "text/html": [
       "<script type=\"text/javascript\">window.PlotlyConfig = {MathJaxConfig: 'local'};</script><script type=\"text/javascript\">if (window.MathJax) {MathJax.Hub.Config({SVG: {font: \"STIX-Web\"}});}</script><script>requirejs.config({paths: { 'plotly': ['https://cdn.plot.ly/plotly-latest.min']},});if(!window._Plotly) {require(['plotly'],function(plotly) {window._Plotly=plotly;});}</script>"
      ],
      "text/vnd.plotly.v1+html": [
       "<script type=\"text/javascript\">window.PlotlyConfig = {MathJaxConfig: 'local'};</script><script type=\"text/javascript\">if (window.MathJax) {MathJax.Hub.Config({SVG: {font: \"STIX-Web\"}});}</script><script>requirejs.config({paths: { 'plotly': ['https://cdn.plot.ly/plotly-latest.min']},});if(!window._Plotly) {require(['plotly'],function(plotly) {window._Plotly=plotly;});}</script>"
      ]
     },
     "metadata": {},
     "output_type": "display_data"
    },
    {
     "data": {
      "application/vnd.plotly.v1+json": {
       "config": {
        "linkText": "Export to plot.ly",
        "plotlyServerURL": "https://plot.ly",
        "showLink": true
       },
       "data": [
        {
         "type": "bar",
         "uid": "d8df53d9-40de-4755-b9da-565257dbdf93",
         "x": [
          16000000,
          17000000,
          18000000,
          19000000,
          20000000,
          21000000,
          22000000,
          23000000,
          24000000,
          25000000,
          26000000,
          27000000,
          28000000,
          29000000,
          30000000,
          31000000,
          32000000,
          33000000,
          34000000
         ],
         "y": [
          101,
          100,
          85,
          53,
          46,
          85,
          52,
          49,
          44,
          62,
          42,
          54,
          21,
          29,
          38,
          46,
          44,
          34,
          15
         ]
        }
       ],
       "layout": {
        "autosize": true,
        "xaxis": {
         "autorange": true,
         "range": [
          15500000,
          34500000
         ],
         "type": "linear"
        },
        "yaxis": {
         "autorange": true,
         "range": [
          0,
          106.3157894736842
         ],
         "type": "linear"
        }
       }
      },
      "image/png": "[encoded data removed]",
      "text/html": [
       "<div id=\"86f33f07-7d33-4642-87f7-24785692cf44\" style=\"height: 525px; width: 100%;\" class=\"plotly-graph-div\"></div><script type=\"text/javascript\">require([\"plotly\"], function(Plotly) { window.PLOTLYENV=window.PLOTLYENV || {};window.PLOTLYENV.BASE_URL=\"https://plot.ly\";Plotly.newPlot(\"86f33f07-7d33-4642-87f7-24785692cf44\", [{\"x\": [16000000, 17000000, 18000000, 19000000, 20000000, 21000000, 22000000, 23000000, 24000000, 25000000, 26000000, 27000000, 28000000, 29000000, 30000000, 31000000, 32000000, 33000000, 34000000], \"y\": [101, 100, 85, 53, 46, 85, 52, 49, 44, 62, 42, 54, 21, 29, 38, 46, 44, 34, 15], \"type\": \"bar\", \"uid\": \"3843f776-d5f4-42cd-bdc1-7a69e3bc9641\"}], {}, {\"showLink\": true, \"linkText\": \"Export to plot.ly\", \"plotlyServerURL\": \"https://plot.ly\"})});</script><script type=\"text/javascript\">window.addEventListener(\"resize\", function(){window._Plotly.Plots.resize(document.getElementById(\"86f33f07-7d33-4642-87f7-24785692cf44\"));});</script>"
      ],
      "text/vnd.plotly.v1+html": [
       "<div id=\"86f33f07-7d33-4642-87f7-24785692cf44\" style=\"height: 525px; width: 100%;\" class=\"plotly-graph-div\"></div><script type=\"text/javascript\">require([\"plotly\"], function(Plotly) { window.PLOTLYENV=window.PLOTLYENV || {};window.PLOTLYENV.BASE_URL=\"https://plot.ly\";Plotly.newPlot(\"86f33f07-7d33-4642-87f7-24785692cf44\", [{\"x\": [16000000, 17000000, 18000000, 19000000, 20000000, 21000000, 22000000, 23000000, 24000000, 25000000, 26000000, 27000000, 28000000, 29000000, 30000000, 31000000, 32000000, 33000000, 34000000], \"y\": [101, 100, 85, 53, 46, 85, 52, 49, 44, 62, 42, 54, 21, 29, 38, 46, 44, 34, 15], \"type\": \"bar\", \"uid\": \"3843f776-d5f4-42cd-bdc1-7a69e3bc9641\"}], {}, {\"showLink\": true, \"linkText\": \"Export to plot.ly\", \"plotlyServerURL\": \"https://plot.ly\"})});</script><script type=\"text/javascript\">window.addEventListener(\"resize\", function(){window._Plotly.Plots.resize(document.getElementById(\"86f33f07-7d33-4642-87f7-24785692cf44\"));});</script>"
      ]
     },
     "metadata": {},
     "output_type": "display_data"
    }
   ],
   "source": [
    "import pandas as pd\n",
    "import numpy as np\n",
    "import scipy as sp\n",
    "import plotly.offline as py\n",
    "import plotly.figure_factory as ff\n",
    "import plotly.graph_objs as go\n",
    "from plotly.offline import get_plotlyjs, init_notebook_mode\n",
    "\n",
    "pandaDF = oskar.histogram(df,\"start\",1000000).toPandas()\n",
    "\n",
    "get_plotlyjs()\n",
    "init_notebook_mode(connected=True)\n",
    "\n",
    "data = [go.Bar(x=pandaDF[\"start\"], y=pandaDF[\"count\"])]\n",
    "py.iplot(data)"
   ]
  }
 ],
 "metadata": {
  "kernelspec": {
   "display_name": "Python 3",
   "language": "python",
   "name": "python3"
  },
  "language_info": {
   "codemirror_mode": {
    "name": "ipython",
    "version": 3
   },
   "file_extension": ".py",
   "mimetype": "text/x-python",
   "name": "python",
   "nbconvert_exporter": "python",
   "pygments_lexer": "ipython3",
   "version": "3.6.7"
  }
 },
 "nbformat": 4,
 "nbformat_minor": 2
}
