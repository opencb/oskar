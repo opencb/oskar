{
 "cells": [
  {
   "cell_type": "markdown",
   "metadata": {},
   "source": [
    "# **Statistics tutorial**\n",
    "In this second tutorial we will show some examples of how to executed more sofisticated analysis towards our data."
   ]
  },
  {
   "cell_type": "markdown",
   "metadata": {},
   "source": [
    "As we did in the previous tutorial, we need to import both Spark and Oskar APIs, as well as loading our data into a spark DataFrame."
   ]
  },
  {
   "cell_type": "code",
   "execution_count": 2,
   "metadata": {},
   "outputs": [],
   "source": [
    "from pyoskar.core import Oskar\n",
    "from pyoskar.sql import *\n",
    "from pyoskar.analysis import *\n",
    "from pyspark.sql.functions import col, udf, count, explode, concat, when, expr\n",
    "from pyspark.sql.functions import *\n",
    "\n",
    "oskar = Oskar(spark)\n",
    "df = oskar.load(\"/home/roldanx/appl/oskar/oskar-spark/src/test/resources/platinum_chr22.small.parquet\")"
   ]
  },
  {
   "cell_type": "markdown",
   "metadata": {},
   "source": [
    "## Stats per variant\n",
    "Here we present the genotypes of the first 10 variants from which the later stats will come out:"
   ]
  },
  {
   "cell_type": "code",
   "execution_count": 6,
   "metadata": {},
   "outputs": [
    {
     "name": "stdout",
     "output_type": "stream",
     "text": [
      "+---------------+-------------------------------------------------------------------------------------------------------------------------+\n",
      "|id             |genotypes                                                                                                                |\n",
      "+---------------+-------------------------------------------------------------------------------------------------------------------------+\n",
      "|22:16054454:C:T|[[[./.], [./.], [./.], [./.], [./.], [./.], [./.], [./.], [./.], [./.], [./.], [./.], [./.], [0/1], [./.], [./.], [./.]]]|\n",
      "|22:16065809:T:C|[[[0/1], [./.], [./.], [./.], [0/1], [./.], [0/1], [./.], [./.], [./.], [./.], [0/1], [0/1], [./.], [./.], [./.], [0/1]]]|\n",
      "|22:16077310:T:A|[[[./.], [0/1], [0/1], [./.], [./.], [0/1], [./.], [0/1], [./.], [0/1], [./.], [0/1], [./.], [./.], [0/1], [./.], [./.]]]|\n",
      "|22:16080499:A:G|[[[0/1], [./.], [0/1], [./.], [./.], [./.], [./.], [./.], [./.], [./.], [./.], [0/1], [0/1], [./.], [./.], [./.], [./.]]]|\n",
      "|22:16084621:T:C|[[[./.], [0/1], [./.], [./.], [./.], [0/1], [./.], [0/1], [./.], [./.], [./.], [0/1], [./.], [./.], [0/1], [./.], [./.]]]|\n",
      "|22:16091610:G:T|[[[./.], [./.], [./.], [./.], [./.], [./.], [./.], [0/1], [./.], [./.], [./.], [0/1], [./.], [./.], [0/1], [./.], [./.]]]|\n",
      "|22:16096040:G:A|[[[./.], [./.], [./.], [./.], [./.], [./.], [0/1], [0/1], [./.], [0/1], [0/1], [0/1], [./.], [0/1], [0/1], [0/1], [0/1]]]|\n",
      "|22:16099957:C:T|[[[0/1], [0/1], [0/1], [0/1], [0/1], [0/1], [0/1], [0/1], [0/1], [0/1], [0/1], [1/1], [0/1], [1/1], [1/1], [0/1], [0/1]]]|\n",
      "|22:16100462:A:G|[[[0/1], [0/1], [0/1], [0/1], [0/1], [0/1], [0/1], [0/1], [0/1], [0/1], [./.], [0/1], [0/1], [0/1], [0/1], [0/1], [0/1]]]|\n",
      "|22:16105660:G:A|[[[0/1], [./.], [0/1], [./.], [0/1], [./.], [0/1], [0/1], [./.], [0/1], [./.], [0/1], [0/1], [./.], [0/1], [./.], [0/1]]]|\n",
      "+---------------+-------------------------------------------------------------------------------------------------------------------------+\n",
      "only showing top 10 rows\n",
      "\n"
     ]
    }
   ],
   "source": [
    "df.select(df.id, df.studies.samplesData.alias(\"genotypes\")).show(10, False)"
   ]
  },
  {
   "cell_type": "markdown",
   "metadata": {},
   "source": [
    "In this case we are applying a transformation that will lead to adding new data inside the \"studies\" field, which is empty before we do anything:"
   ]
  },
  {
   "cell_type": "code",
   "execution_count": 8,
   "metadata": {},
   "outputs": [
    {
     "name": "stdout",
     "output_type": "stream",
     "text": [
      "+---------------+-----------+--------------+------------------+-------------+----+\n",
      "|id             |alleleCount|altAlleleCount|missingAlleleCount|altAlleleFreq|maf |\n",
      "+---------------+-----------+--------------+------------------+-------------+----+\n",
      "|22:16054454:C:T|null       |null          |null              |null         |null|\n",
      "|22:16065809:T:C|null       |null          |null              |null         |null|\n",
      "|22:16077310:T:A|null       |null          |null              |null         |null|\n",
      "|22:16080499:A:G|null       |null          |null              |null         |null|\n",
      "|22:16084621:T:C|null       |null          |null              |null         |null|\n",
      "|22:16091610:G:T|null       |null          |null              |null         |null|\n",
      "|22:16096040:G:A|null       |null          |null              |null         |null|\n",
      "|22:16099957:C:T|null       |null          |null              |null         |null|\n",
      "|22:16100462:A:G|null       |null          |null              |null         |null|\n",
      "|22:16105660:G:A|null       |null          |null              |null         |null|\n",
      "+---------------+-----------+--------------+------------------+-------------+----+\n",
      "only showing top 10 rows\n",
      "\n"
     ]
    }
   ],
   "source": [
    "df.selectExpr(\"id\", \"studies[0].stats.ALL as stats\").select(\"id\", \"stats.*\")\\\n",
    "    .select(\"id\", \"alleleCount\", \"altAlleleCount\", \"missingAlleleCount\", \"altAlleleFreq\", \"maf\").show(10, False)"
   ]
  },
  {
   "cell_type": "markdown",
   "metadata": {},
   "source": [
    "Now we proceed to apply a transformation, that means that our dataframe will suffer some kind of change. It is important to know how transformers work in order to tell spark how to extract the new information:"
   ]
  },
  {
   "cell_type": "code",
   "execution_count": 5,
   "metadata": {},
   "outputs": [
    {
     "name": "stdout",
     "output_type": "stream",
     "text": [
      "+---------------+-----------+--------------+------------------+-------------+---------+\n",
      "|id             |alleleCount|altAlleleCount|missingAlleleCount|altAlleleFreq|maf      |\n",
      "+---------------+-----------+--------------+------------------+-------------+---------+\n",
      "|22:16054454:C:T|2          |1             |32                |0.5          |0.5      |\n",
      "|22:16065809:T:C|12         |6             |22                |0.5          |0.5      |\n",
      "|22:16077310:T:A|14         |7             |20                |0.5          |0.5      |\n",
      "|22:16080499:A:G|8          |4             |26                |0.5          |0.5      |\n",
      "|22:16084621:T:C|10         |5             |24                |0.5          |0.5      |\n",
      "|22:16091610:G:T|6          |3             |28                |0.5          |0.5      |\n",
      "|22:16096040:G:A|18         |9             |16                |0.5          |0.5      |\n",
      "|22:16099957:C:T|34         |20            |0                 |0.5882353    |0.4117647|\n",
      "|22:16100462:A:G|32         |16            |2                 |0.5          |0.5      |\n",
      "|22:16105660:G:A|20         |10            |14                |0.5          |0.5      |\n",
      "+---------------+-----------+--------------+------------------+-------------+---------+\n",
      "only showing top 10 rows\n",
      "\n",
      "+---------------+-----------+--------------+------------------+-------------+-----------+\n",
      "|id             |alleleCount|altAlleleCount|missingAlleleCount|altAlleleFreq|maf        |\n",
      "+---------------+-----------+--------------+------------------+-------------+-----------+\n",
      "|22:16054454:C:T|34         |1             |0                 |0.029411765  |0.029411765|\n",
      "|22:16065809:T:C|34         |6             |0                 |0.1764706    |0.1764706  |\n",
      "|22:16077310:T:A|34         |7             |0                 |0.20588236   |0.20588236 |\n",
      "|22:16080499:A:G|34         |4             |0                 |0.11764706   |0.11764706 |\n",
      "|22:16084621:T:C|34         |5             |0                 |0.14705883   |0.14705883 |\n",
      "|22:16091610:G:T|34         |3             |0                 |0.0882353    |0.0882353  |\n",
      "|22:16096040:G:A|34         |9             |0                 |0.2647059    |0.2647059  |\n",
      "|22:16099957:C:T|34         |20            |0                 |0.5882353    |0.4117647  |\n",
      "|22:16100462:A:G|34         |16            |0                 |0.47058824   |0.47058824 |\n",
      "|22:16105660:G:A|34         |10            |0                 |0.29411766   |0.29411766 |\n",
      "+---------------+-----------+--------------+------------------+-------------+-----------+\n",
      "only showing top 10 rows\n",
      "\n"
     ]
    }
   ],
   "source": [
    "oskar.stats(df).selectExpr(\"id\", \"studies[0].stats.ALL as stats\").select(\"id\", \"stats.*\")\\\n",
    "    .select(\"id\", \"alleleCount\", \"altAlleleCount\", \"missingAlleleCount\", \"altAlleleFreq\", \"maf\").show(10, False)\n",
    "oskar.stats(df, missingAsReference=True).selectExpr(\"id\", \"studies[0].stats.ALL as stats\").select(\"id\", \"stats.*\") \\\n",
    "    .select(\"id\", \"alleleCount\", \"altAlleleCount\", \"missingAlleleCount\", \"altAlleleFreq\", \"maf\").show(10, False)"
   ]
  },
  {
   "cell_type": "markdown",
   "metadata": {},
   "source": [
    "*In this case we observe the same method called twiced enabling and disabling \"missingAsReference\", which converts non-existing genotype data into \"0/0\"*"
   ]
  },
  {
   "cell_type": "markdown",
   "metadata": {},
   "source": [
    "## Stats per dataframe\n",
    "We could also apply a transformation that provides statistics attached to the whole dataframe:"
   ]
  },
  {
   "cell_type": "code",
   "execution_count": 4,
   "metadata": {},
   "outputs": [
    {
     "name": "stdout",
     "output_type": "stream",
     "text": [
      "+-----------+----------+-------+---------+-----------+-------------+---------------+\n",
      "|numVariants|numSamples|numPass|tiTvRatio|meanQuality|stdDevQuality|numRareVariants|\n",
      "+-----------+----------+-------+---------+-----------+-------------+---------------+\n",
      "|       1000|         0|   4016|1.3342036|    773.252|    765.54596|             []|\n",
      "+-----------+----------+-------+---------+-----------+-------------+---------------+\n",
      "\n",
      "+-----------------+-----+\n",
      "|variantTypeCounts|value|\n",
      "+-----------------+-----+\n",
      "|              SNV|  894|\n",
      "|            INDEL|  106|\n",
      "+-----------------+-----+\n",
      "\n",
      "+----------------------------------+-----+\n",
      "|variantBiotypeCounts              |value|\n",
      "+----------------------------------+-----+\n",
      "|IG_C_pseudogene                   |1    |\n",
      "|IG_V_pseudogene                   |17   |\n",
      "|protein_coding                    |500  |\n",
      "|rRNA                              |4    |\n",
      "|retained_intron                   |192  |\n",
      "|nonsense_mediated_decay           |166  |\n",
      "|IG_V_gene                         |18   |\n",
      "|snRNA                             |6    |\n",
      "|snoRNA                            |6    |\n",
      "|transcribed_processed_pseudogene  |4    |\n",
      "|unitary_pseudogene                |2    |\n",
      "|IG_J_gene                         |4    |\n",
      "|transcribed_unprocessed_pseudogene|40   |\n",
      "|pseudogene                        |1    |\n",
      "|IG_C_gene                         |4    |\n",
      "|sense_intronic                    |10   |\n",
      "|processed_pseudogene              |74   |\n",
      "|unprocessed_pseudogene            |72   |\n",
      "|miRNA                             |12   |\n",
      "|lincRNA                           |102  |\n",
      "+----------------------------------+-----+\n",
      "only showing top 20 rows\n",
      "\n",
      "+----------------------------------+-----+\n",
      "|consequenceTypesCounts            |value|\n",
      "+----------------------------------+-----+\n",
      "|missense_variant                  |4    |\n",
      "|intergenic_variant                |222  |\n",
      "|2KB_downstream_variant            |146  |\n",
      "|3_prime_UTR_variant               |9    |\n",
      "|regulatory_region_variant         |764  |\n",
      "|downstream_gene_variant           |163  |\n",
      "|intron_variant                    |543  |\n",
      "|splice_region_variant             |2    |\n",
      "|upstream_gene_variant             |200  |\n",
      "|TF_binding_site_variant           |108  |\n",
      "|5_prime_UTR_variant               |1    |\n",
      "|non_coding_transcript_exon_variant|45   |\n",
      "|non_coding_transcript_variant     |385  |\n",
      "|2KB_upstream_variant              |146  |\n",
      "|splice_donor_variant              |1    |\n",
      "|NMD_transcript_variant            |140  |\n",
      "|synonymous_variant                |6    |\n",
      "+----------------------------------+-----+\n",
      "\n",
      "+---------------+-----------+\n",
      "|chromosomeStats|value      |\n",
      "+---------------+-----------+\n",
      "|22             |[1000, 0.0]|\n",
      "+---------------+-----------+\n",
      "\n"
     ]
    }
   ],
   "source": [
    "globalStatsTransformationDataframe = oskar.globalStats(df)\n",
    "globalStatsTransformationDataframe.drop(\"variantTypeCounts\", \"variantBiotypeCounts\", \"consequenceTypesCounts\", \"chromosomeStats\").show()\n",
    "globalStatsTransformationDataframe.select(explode(\"variantTypeCounts\").alias(\"variantTypeCounts\", \"value\")).show()\n",
    "globalStatsTransformationDataframe.select(explode(\"variantBiotypeCounts\").alias(\"variantBiotypeCounts\", \"value\")).show(truncate=False)\n",
    "globalStatsTransformationDataframe.select(explode(\"consequenceTypesCounts\").alias(\"consequenceTypesCounts\", \"value\")).show(truncate=False)\n",
    "globalStatsTransformationDataframe.select(explode(\"chromosomeStats\").alias(\"chromosomeStats\", \"value\")).show(truncate=False)"
   ]
  },
  {
   "cell_type": "markdown",
   "metadata": {},
   "source": [
    "## Histogram\n",
    "This last example shows how easily we can apply transformations at the same time we use some well known python functionality. We would like to know the frequency with which we can find variants depending on the region of our genome, but in this case we will store our transformed dataframe into the standard Pandas Dataframe."
   ]
  },
  {
   "cell_type": "code",
   "execution_count": 4,
   "metadata": {},
   "outputs": [
    {
     "name": "stdout",
     "output_type": "stream",
     "text": [
      "+--------+-----+\n",
      "|   start|count|\n",
      "+--------+-----+\n",
      "|16000000|  101|\n",
      "|17000000|  100|\n",
      "|18000000|   85|\n",
      "|19000000|   53|\n",
      "|20000000|   46|\n",
      "|21000000|   85|\n",
      "|22000000|   52|\n",
      "|23000000|   49|\n",
      "|24000000|   44|\n",
      "|25000000|   62|\n",
      "|26000000|   42|\n",
      "|27000000|   54|\n",
      "|28000000|   21|\n",
      "|29000000|   29|\n",
      "|30000000|   38|\n",
      "|31000000|   46|\n",
      "|32000000|   44|\n",
      "|33000000|   34|\n",
      "|34000000|   15|\n",
      "+--------+-----+\n",
      "\n"
     ]
    }
   ],
   "source": [
    "oskar.histogram(df,\"start\",1000000).show()"
   ]
  },
  {
   "cell_type": "code",
   "execution_count": 3,
   "metadata": {},
   "outputs": [
    {
     "data": {
      "text/html": [
       "<script type=\"text/javascript\">window.PlotlyConfig = {MathJaxConfig: 'local'};</script><script type=\"text/javascript\">if (window.MathJax) {MathJax.Hub.Config({SVG: {font: \"STIX-Web\"}});}</script><script>requirejs.config({paths: { 'plotly': ['https://cdn.plot.ly/plotly-latest.min']},});if(!window._Plotly) {require(['plotly'],function(plotly) {window._Plotly=plotly;});}</script>"
      ],
      "text/vnd.plotly.v1+html": [
       "<script type=\"text/javascript\">window.PlotlyConfig = {MathJaxConfig: 'local'};</script><script type=\"text/javascript\">if (window.MathJax) {MathJax.Hub.Config({SVG: {font: \"STIX-Web\"}});}</script><script>requirejs.config({paths: { 'plotly': ['https://cdn.plot.ly/plotly-latest.min']},});if(!window._Plotly) {require(['plotly'],function(plotly) {window._Plotly=plotly;});}</script>"
      ]
     },
     "metadata": {},
     "output_type": "display_data"
    },
    {
     "data": {
      "application/vnd.plotly.v1+json": {
       "config": {
        "linkText": "Export to plot.ly",
        "plotlyServerURL": "https://plot.ly",
        "showLink": true
       },
       "data": [
        {
         "type": "bar",
         "uid": "cbdcb5b5-eeaf-4396-8af2-ac300c89f0f1",
         "x": [
          16000000,
          17000000,
          18000000,
          19000000,
          20000000,
          21000000,
          22000000,
          23000000,
          24000000,
          25000000,
          26000000,
          27000000,
          28000000,
          29000000,
          30000000,
          31000000,
          32000000,
          33000000,
          34000000
         ],
         "y": [
          101,
          100,
          85,
          53,
          46,
          85,
          52,
          49,
          44,
          62,
          42,
          54,
          21,
          29,
          38,
          46,
          44,
          34,
          15
         ]
        }
       ],
       "layout": {
        "autosize": true,
        "xaxis": {
         "autorange": true,
         "range": [
          15500000,
          34500000
         ],
         "type": "linear"
        },
        "yaxis": {
         "autorange": true,
         "range": [
          0,
          106.3157894736842
         ],
         "type": "linear"
        }
       }
      },
      "image/png": "[encoded data removed]",
      "text/html": [
       "<div id=\"d94e36e2-8621-4255-9345-9cf1f4b702d4\" style=\"height: 525px; width: 100%;\" class=\"plotly-graph-div\"></div><script type=\"text/javascript\">require([\"plotly\"], function(Plotly) { window.PLOTLYENV=window.PLOTLYENV || {};window.PLOTLYENV.BASE_URL=\"https://plot.ly\";Plotly.newPlot(\"d94e36e2-8621-4255-9345-9cf1f4b702d4\", [{\"x\": [16000000, 17000000, 18000000, 19000000, 20000000, 21000000, 22000000, 23000000, 24000000, 25000000, 26000000, 27000000, 28000000, 29000000, 30000000, 31000000, 32000000, 33000000, 34000000], \"y\": [101, 100, 85, 53, 46, 85, 52, 49, 44, 62, 42, 54, 21, 29, 38, 46, 44, 34, 15], \"type\": \"bar\", \"uid\": \"28a33107-074a-4964-b554-af4323e368ee\"}], {}, {\"showLink\": true, \"linkText\": \"Export to plot.ly\", \"plotlyServerURL\": \"https://plot.ly\"})});</script><script type=\"text/javascript\">window.addEventListener(\"resize\", function(){window._Plotly.Plots.resize(document.getElementById(\"d94e36e2-8621-4255-9345-9cf1f4b702d4\"));});</script>"
      ],
      "text/vnd.plotly.v1+html": [
       "<div id=\"d94e36e2-8621-4255-9345-9cf1f4b702d4\" style=\"height: 525px; width: 100%;\" class=\"plotly-graph-div\"></div><script type=\"text/javascript\">require([\"plotly\"], function(Plotly) { window.PLOTLYENV=window.PLOTLYENV || {};window.PLOTLYENV.BASE_URL=\"https://plot.ly\";Plotly.newPlot(\"d94e36e2-8621-4255-9345-9cf1f4b702d4\", [{\"x\": [16000000, 17000000, 18000000, 19000000, 20000000, 21000000, 22000000, 23000000, 24000000, 25000000, 26000000, 27000000, 28000000, 29000000, 30000000, 31000000, 32000000, 33000000, 34000000], \"y\": [101, 100, 85, 53, 46, 85, 52, 49, 44, 62, 42, 54, 21, 29, 38, 46, 44, 34, 15], \"type\": \"bar\", \"uid\": \"28a33107-074a-4964-b554-af4323e368ee\"}], {}, {\"showLink\": true, \"linkText\": \"Export to plot.ly\", \"plotlyServerURL\": \"https://plot.ly\"})});</script><script type=\"text/javascript\">window.addEventListener(\"resize\", function(){window._Plotly.Plots.resize(document.getElementById(\"d94e36e2-8621-4255-9345-9cf1f4b702d4\"));});</script>"
      ]
     },
     "metadata": {},
     "output_type": "display_data"
    }
   ],
   "source": [
    "import plotly.offline as py\n",
    "import plotly.figure_factory as ff\n",
    "import plotly.graph_objs as go\n",
    "from plotly.offline import get_plotlyjs, init_notebook_mode\n",
    "\n",
    "pandasDF = oskar.histogram(df,\"start\",1000000).toPandas()\n",
    "\n",
    "init_notebook_mode(connected=True)\n",
    "\n",
    "data = [go.Bar(x=pandasDF[\"start\"], y=pandasDF[\"count\"])]\n",
    "py.iplot(data)"
   ]
  },
  {
   "cell_type": "markdown",
   "metadata": {},
   "source": [
    "**Note that the region covers from the self x-axis value to the next one*"
   ]
  },
  {
   "cell_type": "markdown",
   "metadata": {},
   "source": [
    "## Hardy Weinberg"
   ]
  },
  {
   "cell_type": "code",
   "execution_count": 13,
   "metadata": {},
   "outputs": [
    {
     "name": "stdout",
     "output_type": "stream",
     "text": [
      "+---------------+--------------------+\n",
      "|             id|                 HWE|\n",
      "+---------------+--------------------+\n",
      "|22:16054454:C:T|                 1.0|\n",
      "|22:16065809:T:C|                 1.0|\n",
      "|22:16077310:T:A|  0.9254727474972191|\n",
      "|22:16080499:A:G|                 1.0|\n",
      "|22:16084621:T:C|                 1.0|\n",
      "|22:16091610:G:T|                 1.0|\n",
      "|22:16096040:G:A|  0.4746014089729329|\n",
      "|22:16099957:C:T|0.016007636455477054|\n",
      "|22:16100462:A:G|0.001011008618240...|\n",
      "|22:16105660:G:A|  0.3037449017426771|\n",
      "|22:16112391:G:A| 0.17718452601656157|\n",
      "|22:16114913:A:T|  0.6855353685164587|\n",
      "|22:16127471:A:-|                 1.0|\n",
      "|22:16134019:G:T| 0.17718452601656157|\n",
      "|22:16138943:C:G|  0.6855353685164587|\n",
      "|22:16144239:T:C| 0.18181818181818182|\n",
      "|22:16147398:G:A|0.001011224592982...|\n",
      "|22:16149692:G:T| 0.08884238232789762|\n",
      "|22:16195955:G:A|0.007751066073178...|\n",
      "|22:16196041:C:T|  0.6855353685164587|\n",
      "|22:16202382:C:T|0.001011008618240...|\n",
      "|22:16212765:C:T|                 1.0|\n",
      "|22:16223351:C:T|                 1.0|\n",
      "|22:16229483:C:T|                 1.0|\n",
      "|22:16232104:G:A|                 1.0|\n",
      "|22:16240905:C:T|                 1.0|\n",
      "|22:16252532:A:G| 0.06060606060606061|\n",
      "|22:16289841:A:-|  0.3547151155604993|\n",
      "|22:16302286:G:T|                 1.0|\n",
      "|22:16308379:G:A|                 1.0|\n",
      "+---------------+--------------------+\n",
      "only showing top 30 rows\n",
      "\n"
     ]
    }
   ],
   "source": [
    "oskar.hardyWeinberg(df,\"hgvauser@platinum:illumina_platinum\").select(\"id\", \"HWE\").show(10)"
   ]
  },
  {
   "cell_type": "markdown",
   "metadata": {},
   "source": [
    "## Inbreeding coefficient"
   ]
  },
  {
   "cell_type": "code",
   "execution_count": 49,
   "metadata": {},
   "outputs": [
    {
     "name": "stdout",
     "output_type": "stream",
     "text": [
      "+--------+-------------------+-----------+------------------+--------------+\n",
      "|SampleId|                  F|ObservedHom|       ExpectedHom|GenotypesCount|\n",
      "+--------+-------------------+-----------+------------------+--------------+\n",
      "| NA12877|-1.0857581722788996|         70|233.97577702999115|           385|\n",
      "| NA12878|-1.1024114888695444|         69|244.65916746854782|           404|\n",
      "| NA12879|-1.1890914293957586|         69| 247.7093403339386|           398|\n",
      "| NA12880|-1.1013660394101679|         71|248.15224742889404|           409|\n",
      "| NA12881|-1.1560267972581504|         65| 252.6643579006195|           415|\n",
      "| NA12882|-1.0112382612189488|         76| 224.8269881606102|           372|\n",
      "| NA12883|-1.0602574055431329|         67|229.62110525369644|           383|\n",
      "| NA12884|-1.0340014363992485|         74|224.47404664754868|           370|\n",
      "| NA12885|-1.1105665251221366|         78| 254.8010356426239|           414|\n",
      "| NA12886| -1.067867784696387|         72|244.48096668720245|           406|\n",
      "+--------+-------------------+-----------+------------------+--------------+\n",
      "only showing top 10 rows\n",
      "\n"
     ]
    }
   ],
   "source": [
    "df2 = oskar.stats(df, studyId=\"hgvauser@platinum:illumina_platinum\", missingAsReference=True)\n",
    "oskar.inbreedingCoefficient(df2).show(10)"
   ]
  },
  {
   "cell_type": "markdown",
   "metadata": {},
   "source": [
    "## Mendelian error"
   ]
  },
  {
   "cell_type": "code",
   "execution_count": 6,
   "metadata": {},
   "outputs": [
    {
     "name": "stdout",
     "output_type": "stream",
     "text": [
      "+------------------+--------------+\n",
      "|                id|mendelianError|\n",
      "+------------------+--------------+\n",
      "|22:19748211:CCCC:-|             1|\n",
      "+------------------+--------------+\n",
      "\n"
     ]
    }
   ],
   "source": [
    "oskar.mendel(df, \"NA12877\", \"NA12878\", \"NA12879\").select(\"id\", \"mendelianError\").filter(col(\"mendelianError\") != \"0\").show()"
   ]
  },
  {
   "cell_type": "markdown",
   "metadata": {},
   "source": [
    "## ChiSquare vs Fisher"
   ]
  },
  {
   "cell_type": "code",
   "execution_count": 136,
   "metadata": {},
   "outputs": [
    {
     "data": {
      "text/html": [
       "<script type=\"text/javascript\">window.PlotlyConfig = {MathJaxConfig: 'local'};</script><script type=\"text/javascript\">if (window.MathJax) {MathJax.Hub.Config({SVG: {font: \"STIX-Web\"}});}</script><script>requirejs.config({paths: { 'plotly': ['https://cdn.plot.ly/plotly-latest.min']},});if(!window._Plotly) {require(['plotly'],function(plotly) {window._Plotly=plotly;});}</script>"
      ],
      "text/vnd.plotly.v1+html": [
       "<script type=\"text/javascript\">window.PlotlyConfig = {MathJaxConfig: 'local'};</script><script type=\"text/javascript\">if (window.MathJax) {MathJax.Hub.Config({SVG: {font: \"STIX-Web\"}});}</script><script>requirejs.config({paths: { 'plotly': ['https://cdn.plot.ly/plotly-latest.min']},});if(!window._Plotly) {require(['plotly'],function(plotly) {window._Plotly=plotly;});}</script>"
      ]
     },
     "metadata": {},
     "output_type": "display_data"
    },
    {
     "data": {
      "application/vnd.plotly.v1+json": {
       "config": {
        "linkText": "Export to plot.ly",
        "plotlyServerURL": "https://plot.ly",
        "showLink": true
       },
       "data": [
        {
         "hoverinfo": "text",
         "marker": {
          "color": "rgb(61,153,112)"
         },
         "mode": "lines",
         "type": "scatter",
         "uid": "31df3429-fd53-4234-82a2-408651b4e719",
         "x": [
          15,
          15,
          25,
          25
         ],
         "xaxis": "x",
         "y": [
          0,
          1.6871454876928687,
          1.6871454876928687,
          0
         ],
         "yaxis": "y"
        },
        {
         "hoverinfo": "text",
         "marker": {
          "color": "rgb(0,116,217)"
         },
         "mode": "lines",
         "type": "scatter",
         "uid": "5cdc648d-6cf1-42ae-86fa-f2b3a4859ccd",
         "x": [
          5,
          5,
          20,
          20
         ],
         "xaxis": "x",
         "y": [
          0,
          2.29373448096975,
          2.29373448096975,
          1.6871454876928687
         ],
         "yaxis": "y"
        },
        {
         "hoverinfo": "text",
         "marker": {
          "color": "rgb(255,65,54)"
         },
         "mode": "lines",
         "type": "scatter",
         "uid": "afc2f881-df1e-49a5-aaa9-f86cdd10db25",
         "x": [
          55,
          55,
          65,
          65
         ],
         "xaxis": "x",
         "y": [
          0,
          0,
          0,
          0
         ],
         "yaxis": "y"
        },
        {
         "hoverinfo": "text",
         "marker": {
          "color": "rgb(255,65,54)"
         },
         "mode": "lines",
         "type": "scatter",
         "uid": "4a0ff3ed-19e4-4a36-bad3-12e7eac03f8a",
         "x": [
          75,
          75,
          85,
          85
         ],
         "xaxis": "x",
         "y": [
          0,
          0.3508941394440716,
          0.3508941394440716,
          0
         ],
         "yaxis": "y"
        },
        {
         "hoverinfo": "text",
         "marker": {
          "color": "rgb(255,65,54)"
         },
         "mode": "lines",
         "type": "scatter",
         "uid": "79d6bf40-5cef-466c-924a-1e5831f68967",
         "x": [
          105,
          105,
          115,
          115
         ],
         "xaxis": "x",
         "y": [
          0,
          0,
          0,
          0
         ],
         "yaxis": "y"
        },
        {
         "hoverinfo": "text",
         "marker": {
          "color": "rgb(255,65,54)"
         },
         "mode": "lines",
         "type": "scatter",
         "uid": "99b1794c-c093-40ec-a9fb-0c2402ae8e07",
         "x": [
          95,
          95,
          110,
          110
         ],
         "xaxis": "x",
         "y": [
          0,
          0.5821369658815798,
          0.5821369658815798,
          0
         ],
         "yaxis": "y"
        },
        {
         "hoverinfo": "text",
         "marker": {
          "color": "rgb(255,65,54)"
         },
         "mode": "lines",
         "type": "scatter",
         "uid": "e705ba38-196c-4a42-850c-27deb14ac87d",
         "x": [
          80,
          80,
          102.5,
          102.5
         ],
         "xaxis": "x",
         "y": [
          0.3508941394440716,
          0.7720730356839107,
          0.7720730356839107,
          0.5821369658815798
         ],
         "yaxis": "y"
        },
        {
         "hoverinfo": "text",
         "marker": {
          "color": "rgb(255,65,54)"
         },
         "mode": "lines",
         "type": "scatter",
         "uid": "a934ca81-edc3-4941-886e-27c01e9043e9",
         "x": [
          60,
          60,
          91.25,
          91.25
         ],
         "xaxis": "x",
         "y": [
          0,
          0.9677817854449902,
          0.9677817854449902,
          0.7720730356839107
         ],
         "yaxis": "y"
        },
        {
         "hoverinfo": "text",
         "marker": {
          "color": "rgb(255,65,54)"
         },
         "mode": "lines",
         "type": "scatter",
         "uid": "7a539787-3a0f-47db-b2d4-4bca0229c282",
         "x": [
          125,
          125,
          135,
          135
         ],
         "xaxis": "x",
         "y": [
          0,
          1.0904496280221494,
          1.0904496280221494,
          0
         ],
         "yaxis": "y"
        },
        {
         "hoverinfo": "text",
         "marker": {
          "color": "rgb(255,65,54)"
         },
         "mode": "lines",
         "type": "scatter",
         "uid": "f37effa4-0e60-46b1-850a-010faa12124c",
         "x": [
          75.625,
          75.625,
          130,
          130
         ],
         "xaxis": "x",
         "y": [
          0.9677817854449902,
          1.6205334320017801,
          1.6205334320017801,
          1.0904496280221494
         ],
         "yaxis": "y"
        },
        {
         "hoverinfo": "text",
         "marker": {
          "color": "rgb(255,65,54)"
         },
         "mode": "lines",
         "type": "scatter",
         "uid": "74f74044-fc94-4e48-861a-75be16de0656",
         "x": [
          45,
          45,
          102.8125,
          102.8125
         ],
         "xaxis": "x",
         "y": [
          0,
          1.9521672314666256,
          1.9521672314666256,
          1.6205334320017801
         ],
         "yaxis": "y"
        },
        {
         "hoverinfo": "text",
         "marker": {
          "color": "rgb(35,205,205)"
         },
         "mode": "lines",
         "type": "scatter",
         "uid": "aff8490f-f073-4009-9e78-cd51e6d35af7",
         "x": [
          145,
          145,
          155,
          155
         ],
         "xaxis": "x",
         "y": [
          0,
          0.08677209068463083,
          0.08677209068463083,
          0
         ],
         "yaxis": "y"
        },
        {
         "hoverinfo": "text",
         "marker": {
          "color": "rgb(35,205,205)"
         },
         "mode": "lines",
         "type": "scatter",
         "uid": "0139ec62-2cc9-4cb4-a1b6-96292d10b31e",
         "x": [
          165,
          165,
          175,
          175
         ],
         "xaxis": "x",
         "y": [
          0,
          1.1304346893482213,
          1.1304346893482213,
          0
         ],
         "yaxis": "y"
        },
        {
         "hoverinfo": "text",
         "marker": {
          "color": "rgb(35,205,205)"
         },
         "mode": "lines",
         "type": "scatter",
         "uid": "fe9821ec-4037-455d-a9ae-6f22e7b0d66d",
         "x": [
          150,
          150,
          170,
          170
         ],
         "xaxis": "x",
         "y": [
          0.08677209068463083,
          1.963610341160946,
          1.963610341160946,
          1.1304346893482213
         ],
         "yaxis": "y"
        },
        {
         "hoverinfo": "text",
         "marker": {
          "color": "rgb(0,116,217)"
         },
         "mode": "lines",
         "type": "scatter",
         "uid": "0c8ba27a-709b-47da-90c9-0d6c5f9e6a07",
         "x": [
          73.90625,
          73.90625,
          160,
          160
         ],
         "xaxis": "x",
         "y": [
          1.9521672314666256,
          2.442855988563247,
          2.442855988563247,
          1.963610341160946
         ],
         "yaxis": "y"
        },
        {
         "hoverinfo": "text",
         "marker": {
          "color": "rgb(0,116,217)"
         },
         "mode": "lines",
         "type": "scatter",
         "uid": "57389f49-3cab-48e3-9e1d-78031321378a",
         "x": [
          35,
          35,
          116.953125,
          116.953125
         ],
         "xaxis": "x",
         "y": [
          0,
          3.4854362989705305,
          3.4854362989705305,
          2.442855988563247
         ],
         "yaxis": "y"
        },
        {
         "hoverinfo": "text",
         "marker": {
          "color": "rgb(0,116,217)"
         },
         "mode": "lines",
         "type": "scatter",
         "uid": "ece16c99-528a-4845-adfe-9377e7d6f32b",
         "x": [
          12.5,
          12.5,
          75.9765625,
          75.9765625
         ],
         "xaxis": "x",
         "y": [
          2.29373448096975,
          5.1136452849726854,
          5.1136452849726854,
          3.4854362989705305
         ],
         "yaxis": "y"
        }
       ],
       "layout": {
        "autosize": false,
        "height": 500,
        "hovermode": "closest",
        "showlegend": true,
        "title": "chiSquare vs fisher",
        "width": 1440,
        "xaxis": {
         "autorange": true,
         "mirror": "allticks",
         "range": [
          0,
          175
         ],
         "rangemode": "tozero",
         "showgrid": false,
         "showline": true,
         "showticklabels": true,
         "tickmode": "array",
         "ticks": "outside",
         "ticktext": [
          "22:16914822:C:G",
          "22:16912210:A:G",
          "22:16927996:G:A",
          "22:16952200:T:C",
          "22:16957623:G:A",
          "22:16950203:C:T",
          "22:16950203:C:T",
          "22:16928421:A:G",
          "22:16932137:C:A",
          "22:16938334:G:C",
          "22:16948327:G:A",
          "22:16948479:A:G",
          "22:16916066:T:C",
          "22:16926176:T:A",
          "22:16912775:C:A",
          "22:16913788:A:T",
          "22:16933241:T:C",
          "22:16950192:A:T"
         ],
         "tickvals": [
          5,
          15,
          25,
          35,
          45,
          55,
          65,
          75,
          85,
          95,
          105,
          115,
          125,
          135,
          145,
          155,
          165,
          175
         ],
         "type": "linear",
         "zeroline": false
        },
        "yaxis": {
         "autorange": true,
         "mirror": "allticks",
         "range": [
          0,
          5.382784510497563
         ],
         "rangemode": "tozero",
         "showgrid": false,
         "showline": true,
         "showticklabels": true,
         "ticks": "outside",
         "type": "linear",
         "zeroline": false
        }
       }
      },
      "image/png": "[encoded data removed]",
      "text/html": [
       "<div id=\"4dabc206-49a6-4029-b6ec-120d8dbc51df\" style=\"height: 500px; width: 1440px;\" class=\"plotly-graph-div\"></div><script type=\"text/javascript\">require([\"plotly\"], function(Plotly) { window.PLOTLYENV=window.PLOTLYENV || {};window.PLOTLYENV.BASE_URL=\"https://plot.ly\";Plotly.newPlot(\"4dabc206-49a6-4029-b6ec-120d8dbc51df\", [{\"hoverinfo\": \"text\", \"marker\": {\"color\": \"rgb(61,153,112)\"}, \"mode\": \"lines\", \"x\": [15.0, 15.0, 25.0, 25.0], \"xaxis\": \"x\", \"y\": [0.0, 1.6871454876928687, 1.6871454876928687, 0.0], \"yaxis\": \"y\", \"type\": \"scatter\", \"uid\": \"31df3429-fd53-4234-82a2-408651b4e719\"}, {\"hoverinfo\": \"text\", \"marker\": {\"color\": \"rgb(0,116,217)\"}, \"mode\": \"lines\", \"x\": [5.0, 5.0, 20.0, 20.0], \"xaxis\": \"x\", \"y\": [0.0, 2.29373448096975, 2.29373448096975, 1.6871454876928687], \"yaxis\": \"y\", \"type\": \"scatter\", \"uid\": \"5cdc648d-6cf1-42ae-86fa-f2b3a4859ccd\"}, {\"hoverinfo\": \"text\", \"marker\": {\"color\": \"rgb(255,65,54)\"}, \"mode\": \"lines\", \"x\": [55.0, 55.0, 65.0, 65.0], \"xaxis\": \"x\", \"y\": [0.0, 0.0, 0.0, 0.0], \"yaxis\": \"y\", \"type\": \"scatter\", \"uid\": \"afc2f881-df1e-49a5-aaa9-f86cdd10db25\"}, {\"hoverinfo\": \"text\", \"marker\": {\"color\": \"rgb(255,65,54)\"}, \"mode\": \"lines\", \"x\": [75.0, 75.0, 85.0, 85.0], \"xaxis\": \"x\", \"y\": [0.0, 0.3508941394440716, 0.3508941394440716, 0.0], \"yaxis\": \"y\", \"type\": \"scatter\", \"uid\": \"4a0ff3ed-19e4-4a36-bad3-12e7eac03f8a\"}, {\"hoverinfo\": \"text\", \"marker\": {\"color\": \"rgb(255,65,54)\"}, \"mode\": \"lines\", \"x\": [105.0, 105.0, 115.0, 115.0], \"xaxis\": \"x\", \"y\": [0.0, 0.0, 0.0, 0.0], \"yaxis\": \"y\", \"type\": \"scatter\", \"uid\": \"79d6bf40-5cef-466c-924a-1e5831f68967\"}, {\"hoverinfo\": \"text\", \"marker\": {\"color\": \"rgb(255,65,54)\"}, \"mode\": \"lines\", \"x\": [95.0, 95.0, 110.0, 110.0], \"xaxis\": \"x\", \"y\": [0.0, 0.5821369658815798, 0.5821369658815798, 0.0], \"yaxis\": \"y\", \"type\": \"scatter\", \"uid\": \"99b1794c-c093-40ec-a9fb-0c2402ae8e07\"}, {\"hoverinfo\": \"text\", \"marker\": {\"color\": \"rgb(255,65,54)\"}, \"mode\": \"lines\", \"x\": [80.0, 80.0, 102.5, 102.5], \"xaxis\": \"x\", \"y\": [0.3508941394440716, 0.7720730356839107, 0.7720730356839107, 0.5821369658815798], \"yaxis\": \"y\", \"type\": \"scatter\", \"uid\": \"e705ba38-196c-4a42-850c-27deb14ac87d\"}, {\"hoverinfo\": \"text\", \"marker\": {\"color\": \"rgb(255,65,54)\"}, \"mode\": \"lines\", \"x\": [60.0, 60.0, 91.25, 91.25], \"xaxis\": \"x\", \"y\": [0.0, 0.9677817854449902, 0.9677817854449902, 0.7720730356839107], \"yaxis\": \"y\", \"type\": \"scatter\", \"uid\": \"a934ca81-edc3-4941-886e-27c01e9043e9\"}, {\"hoverinfo\": \"text\", \"marker\": {\"color\": \"rgb(255,65,54)\"}, \"mode\": \"lines\", \"x\": [125.0, 125.0, 135.0, 135.0], \"xaxis\": \"x\", \"y\": [0.0, 1.0904496280221494, 1.0904496280221494, 0.0], \"yaxis\": \"y\", \"type\": \"scatter\", \"uid\": \"7a539787-3a0f-47db-b2d4-4bca0229c282\"}, {\"hoverinfo\": \"text\", \"marker\": {\"color\": \"rgb(255,65,54)\"}, \"mode\": \"lines\", \"x\": [75.625, 75.625, 130.0, 130.0], \"xaxis\": \"x\", \"y\": [0.9677817854449902, 1.6205334320017801, 1.6205334320017801, 1.0904496280221494], \"yaxis\": \"y\", \"type\": \"scatter\", \"uid\": \"f37effa4-0e60-46b1-850a-010faa12124c\"}, {\"hoverinfo\": \"text\", \"marker\": {\"color\": \"rgb(255,65,54)\"}, \"mode\": \"lines\", \"x\": [45.0, 45.0, 102.8125, 102.8125], \"xaxis\": \"x\", \"y\": [0.0, 1.9521672314666256, 1.9521672314666256, 1.6205334320017801], \"yaxis\": \"y\", \"type\": \"scatter\", \"uid\": \"74f74044-fc94-4e48-861a-75be16de0656\"}, {\"hoverinfo\": \"text\", \"marker\": {\"color\": \"rgb(35,205,205)\"}, \"mode\": \"lines\", \"x\": [145.0, 145.0, 155.0, 155.0], \"xaxis\": \"x\", \"y\": [0.0, 0.08677209068463083, 0.08677209068463083, 0.0], \"yaxis\": \"y\", \"type\": \"scatter\", \"uid\": \"aff8490f-f073-4009-9e78-cd51e6d35af7\"}, {\"hoverinfo\": \"text\", \"marker\": {\"color\": \"rgb(35,205,205)\"}, \"mode\": \"lines\", \"x\": [165.0, 165.0, 175.0, 175.0], \"xaxis\": \"x\", \"y\": [0.0, 1.1304346893482213, 1.1304346893482213, 0.0], \"yaxis\": \"y\", \"type\": \"scatter\", \"uid\": \"0139ec62-2cc9-4cb4-a1b6-96292d10b31e\"}, {\"hoverinfo\": \"text\", \"marker\": {\"color\": \"rgb(35,205,205)\"}, \"mode\": \"lines\", \"x\": [150.0, 150.0, 170.0, 170.0], \"xaxis\": \"x\", \"y\": [0.08677209068463083, 1.963610341160946, 1.963610341160946, 1.1304346893482213], \"yaxis\": \"y\", \"type\": \"scatter\", \"uid\": \"fe9821ec-4037-455d-a9ae-6f22e7b0d66d\"}, {\"hoverinfo\": \"text\", \"marker\": {\"color\": \"rgb(0,116,217)\"}, \"mode\": \"lines\", \"x\": [73.90625, 73.90625, 160.0, 160.0], \"xaxis\": \"x\", \"y\": [1.9521672314666256, 2.442855988563247, 2.442855988563247, 1.963610341160946], \"yaxis\": \"y\", \"type\": \"scatter\", \"uid\": \"0c8ba27a-709b-47da-90c9-0d6c5f9e6a07\"}, {\"hoverinfo\": \"text\", \"marker\": {\"color\": \"rgb(0,116,217)\"}, \"mode\": \"lines\", \"x\": [35.0, 35.0, 116.953125, 116.953125], \"xaxis\": \"x\", \"y\": [0.0, 3.4854362989705305, 3.4854362989705305, 2.442855988563247], \"yaxis\": \"y\", \"type\": \"scatter\", \"uid\": \"57389f49-3cab-48e3-9e1d-78031321378a\"}, {\"hoverinfo\": \"text\", \"marker\": {\"color\": \"rgb(0,116,217)\"}, \"mode\": \"lines\", \"x\": [12.5, 12.5, 75.9765625, 75.9765625], \"xaxis\": \"x\", \"y\": [2.29373448096975, 5.1136452849726854, 5.1136452849726854, 3.4854362989705305], \"yaxis\": \"y\", \"type\": \"scatter\", \"uid\": \"ece16c99-528a-4845-adfe-9377e7d6f32b\"}], {\"autosize\": false, \"height\": 500, \"hovermode\": \"closest\", \"showlegend\": true, \"width\": 1440, \"xaxis\": {\"mirror\": \"allticks\", \"rangemode\": \"tozero\", \"showgrid\": false, \"showline\": true, \"showticklabels\": true, \"tickmode\": \"array\", \"ticks\": \"outside\", \"ticktext\": [\"22:16914822:C:G\", \"22:16912210:A:G\", \"22:16927996:G:A\", \"22:16952200:T:C\", \"22:16957623:G:A\", \"22:16950203:C:T\", \"22:16950203:C:T\", \"22:16928421:A:G\", \"22:16932137:C:A\", \"22:16938334:G:C\", \"22:16948327:G:A\", \"22:16948479:A:G\", \"22:16916066:T:C\", \"22:16926176:T:A\", \"22:16912775:C:A\", \"22:16913788:A:T\", \"22:16933241:T:C\", \"22:16950192:A:T\"], \"tickvals\": [5, 15, 25, 35, 45, 55, 65, 75, 85, 95, 105, 115, 125, 135, 145, 155, 165, 175], \"type\": \"linear\", \"zeroline\": false}, \"yaxis\": {\"mirror\": \"allticks\", \"rangemode\": \"tozero\", \"showgrid\": false, \"showline\": true, \"showticklabels\": true, \"ticks\": \"outside\", \"type\": \"linear\", \"zeroline\": false}, \"title\": \"chiSquare vs fisher\"}, {\"showLink\": true, \"linkText\": \"Export to plot.ly\", \"plotlyServerURL\": \"https://plot.ly\"})});</script>"
      ],
      "text/vnd.plotly.v1+html": [
       "<div id=\"4dabc206-49a6-4029-b6ec-120d8dbc51df\" style=\"height: 500px; width: 1440px;\" class=\"plotly-graph-div\"></div><script type=\"text/javascript\">require([\"plotly\"], function(Plotly) { window.PLOTLYENV=window.PLOTLYENV || {};window.PLOTLYENV.BASE_URL=\"https://plot.ly\";Plotly.newPlot(\"4dabc206-49a6-4029-b6ec-120d8dbc51df\", [{\"hoverinfo\": \"text\", \"marker\": {\"color\": \"rgb(61,153,112)\"}, \"mode\": \"lines\", \"x\": [15.0, 15.0, 25.0, 25.0], \"xaxis\": \"x\", \"y\": [0.0, 1.6871454876928687, 1.6871454876928687, 0.0], \"yaxis\": \"y\", \"type\": \"scatter\", \"uid\": \"31df3429-fd53-4234-82a2-408651b4e719\"}, {\"hoverinfo\": \"text\", \"marker\": {\"color\": \"rgb(0,116,217)\"}, \"mode\": \"lines\", \"x\": [5.0, 5.0, 20.0, 20.0], \"xaxis\": \"x\", \"y\": [0.0, 2.29373448096975, 2.29373448096975, 1.6871454876928687], \"yaxis\": \"y\", \"type\": \"scatter\", \"uid\": \"5cdc648d-6cf1-42ae-86fa-f2b3a4859ccd\"}, {\"hoverinfo\": \"text\", \"marker\": {\"color\": \"rgb(255,65,54)\"}, \"mode\": \"lines\", \"x\": [55.0, 55.0, 65.0, 65.0], \"xaxis\": \"x\", \"y\": [0.0, 0.0, 0.0, 0.0], \"yaxis\": \"y\", \"type\": \"scatter\", \"uid\": \"afc2f881-df1e-49a5-aaa9-f86cdd10db25\"}, {\"hoverinfo\": \"text\", \"marker\": {\"color\": \"rgb(255,65,54)\"}, \"mode\": \"lines\", \"x\": [75.0, 75.0, 85.0, 85.0], \"xaxis\": \"x\", \"y\": [0.0, 0.3508941394440716, 0.3508941394440716, 0.0], \"yaxis\": \"y\", \"type\": \"scatter\", \"uid\": \"4a0ff3ed-19e4-4a36-bad3-12e7eac03f8a\"}, {\"hoverinfo\": \"text\", \"marker\": {\"color\": \"rgb(255,65,54)\"}, \"mode\": \"lines\", \"x\": [105.0, 105.0, 115.0, 115.0], \"xaxis\": \"x\", \"y\": [0.0, 0.0, 0.0, 0.0], \"yaxis\": \"y\", \"type\": \"scatter\", \"uid\": \"79d6bf40-5cef-466c-924a-1e5831f68967\"}, {\"hoverinfo\": \"text\", \"marker\": {\"color\": \"rgb(255,65,54)\"}, \"mode\": \"lines\", \"x\": [95.0, 95.0, 110.0, 110.0], \"xaxis\": \"x\", \"y\": [0.0, 0.5821369658815798, 0.5821369658815798, 0.0], \"yaxis\": \"y\", \"type\": \"scatter\", \"uid\": \"99b1794c-c093-40ec-a9fb-0c2402ae8e07\"}, {\"hoverinfo\": \"text\", \"marker\": {\"color\": \"rgb(255,65,54)\"}, \"mode\": \"lines\", \"x\": [80.0, 80.0, 102.5, 102.5], \"xaxis\": \"x\", \"y\": [0.3508941394440716, 0.7720730356839107, 0.7720730356839107, 0.5821369658815798], \"yaxis\": \"y\", \"type\": \"scatter\", \"uid\": \"e705ba38-196c-4a42-850c-27deb14ac87d\"}, {\"hoverinfo\": \"text\", \"marker\": {\"color\": \"rgb(255,65,54)\"}, \"mode\": \"lines\", \"x\": [60.0, 60.0, 91.25, 91.25], \"xaxis\": \"x\", \"y\": [0.0, 0.9677817854449902, 0.9677817854449902, 0.7720730356839107], \"yaxis\": \"y\", \"type\": \"scatter\", \"uid\": \"a934ca81-edc3-4941-886e-27c01e9043e9\"}, {\"hoverinfo\": \"text\", \"marker\": {\"color\": \"rgb(255,65,54)\"}, \"mode\": \"lines\", \"x\": [125.0, 125.0, 135.0, 135.0], \"xaxis\": \"x\", \"y\": [0.0, 1.0904496280221494, 1.0904496280221494, 0.0], \"yaxis\": \"y\", \"type\": \"scatter\", \"uid\": \"7a539787-3a0f-47db-b2d4-4bca0229c282\"}, {\"hoverinfo\": \"text\", \"marker\": {\"color\": \"rgb(255,65,54)\"}, \"mode\": \"lines\", \"x\": [75.625, 75.625, 130.0, 130.0], \"xaxis\": \"x\", \"y\": [0.9677817854449902, 1.6205334320017801, 1.6205334320017801, 1.0904496280221494], \"yaxis\": \"y\", \"type\": \"scatter\", \"uid\": \"f37effa4-0e60-46b1-850a-010faa12124c\"}, {\"hoverinfo\": \"text\", \"marker\": {\"color\": \"rgb(255,65,54)\"}, \"mode\": \"lines\", \"x\": [45.0, 45.0, 102.8125, 102.8125], \"xaxis\": \"x\", \"y\": [0.0, 1.9521672314666256, 1.9521672314666256, 1.6205334320017801], \"yaxis\": \"y\", \"type\": \"scatter\", \"uid\": \"74f74044-fc94-4e48-861a-75be16de0656\"}, {\"hoverinfo\": \"text\", \"marker\": {\"color\": \"rgb(35,205,205)\"}, \"mode\": \"lines\", \"x\": [145.0, 145.0, 155.0, 155.0], \"xaxis\": \"x\", \"y\": [0.0, 0.08677209068463083, 0.08677209068463083, 0.0], \"yaxis\": \"y\", \"type\": \"scatter\", \"uid\": \"aff8490f-f073-4009-9e78-cd51e6d35af7\"}, {\"hoverinfo\": \"text\", \"marker\": {\"color\": \"rgb(35,205,205)\"}, \"mode\": \"lines\", \"x\": [165.0, 165.0, 175.0, 175.0], \"xaxis\": \"x\", \"y\": [0.0, 1.1304346893482213, 1.1304346893482213, 0.0], \"yaxis\": \"y\", \"type\": \"scatter\", \"uid\": \"0139ec62-2cc9-4cb4-a1b6-96292d10b31e\"}, {\"hoverinfo\": \"text\", \"marker\": {\"color\": \"rgb(35,205,205)\"}, \"mode\": \"lines\", \"x\": [150.0, 150.0, 170.0, 170.0], \"xaxis\": \"x\", \"y\": [0.08677209068463083, 1.963610341160946, 1.963610341160946, 1.1304346893482213], \"yaxis\": \"y\", \"type\": \"scatter\", \"uid\": \"fe9821ec-4037-455d-a9ae-6f22e7b0d66d\"}, {\"hoverinfo\": \"text\", \"marker\": {\"color\": \"rgb(0,116,217)\"}, \"mode\": \"lines\", \"x\": [73.90625, 73.90625, 160.0, 160.0], \"xaxis\": \"x\", \"y\": [1.9521672314666256, 2.442855988563247, 2.442855988563247, 1.963610341160946], \"yaxis\": \"y\", \"type\": \"scatter\", \"uid\": \"0c8ba27a-709b-47da-90c9-0d6c5f9e6a07\"}, {\"hoverinfo\": \"text\", \"marker\": {\"color\": \"rgb(0,116,217)\"}, \"mode\": \"lines\", \"x\": [35.0, 35.0, 116.953125, 116.953125], \"xaxis\": \"x\", \"y\": [0.0, 3.4854362989705305, 3.4854362989705305, 2.442855988563247], \"yaxis\": \"y\", \"type\": \"scatter\", \"uid\": \"57389f49-3cab-48e3-9e1d-78031321378a\"}, {\"hoverinfo\": \"text\", \"marker\": {\"color\": \"rgb(0,116,217)\"}, \"mode\": \"lines\", \"x\": [12.5, 12.5, 75.9765625, 75.9765625], \"xaxis\": \"x\", \"y\": [2.29373448096975, 5.1136452849726854, 5.1136452849726854, 3.4854362989705305], \"yaxis\": \"y\", \"type\": \"scatter\", \"uid\": \"ece16c99-528a-4845-adfe-9377e7d6f32b\"}], {\"autosize\": false, \"height\": 500, \"hovermode\": \"closest\", \"showlegend\": true, \"width\": 1440, \"xaxis\": {\"mirror\": \"allticks\", \"rangemode\": \"tozero\", \"showgrid\": false, \"showline\": true, \"showticklabels\": true, \"tickmode\": \"array\", \"ticks\": \"outside\", \"ticktext\": [\"22:16914822:C:G\", \"22:16912210:A:G\", \"22:16927996:G:A\", \"22:16952200:T:C\", \"22:16957623:G:A\", \"22:16950203:C:T\", \"22:16950203:C:T\", \"22:16928421:A:G\", \"22:16932137:C:A\", \"22:16938334:G:C\", \"22:16948327:G:A\", \"22:16948479:A:G\", \"22:16916066:T:C\", \"22:16926176:T:A\", \"22:16912775:C:A\", \"22:16913788:A:T\", \"22:16933241:T:C\", \"22:16950192:A:T\"], \"tickvals\": [5, 15, 25, 35, 45, 55, 65, 75, 85, 95, 105, 115, 125, 135, 145, 155, 165, 175], \"type\": \"linear\", \"zeroline\": false}, \"yaxis\": {\"mirror\": \"allticks\", \"rangemode\": \"tozero\", \"showgrid\": false, \"showline\": true, \"showticklabels\": true, \"ticks\": \"outside\", \"type\": \"linear\", \"zeroline\": false}, \"title\": \"chiSquare vs fisher\"}, {\"showLink\": true, \"linkText\": \"Export to plot.ly\", \"plotlyServerURL\": \"https://plot.ly\"})});</script>"
      ]
     },
     "metadata": {},
     "output_type": "display_data"
    }
   ],
   "source": [
    "import numpy as np\n",
    "import plotly.offline as py\n",
    "import plotly.figure_factory as ff\n",
    "from plotly.offline import get_plotlyjs, init_notebook_mode\n",
    "\n",
    "init_notebook_mode(connected=True)\n",
    "\n",
    "statsDF = oskar.stats(df, studyId=\"hgvauser@platinum:illumina_platinum\", missingAsReference=True)\n",
    "dfSLC = statsDF.filter(array_contains(genes(\"annotation\"), \"SLC9B1P4\"))\n",
    "\n",
    "pandasFisher = oskar.fisher(dfSLC, \"hgvauser@platinum:illumina_platinum\", \"KK\").select(\"id\", col(\"Fisher p-value\").alias(\"fisher\")).toPandas()\n",
    "pandasChiSquare = oskar.chiSquare(dfSLC, \"hgvauser@platinum:illumina_platinum\", \"KK\").select(\"id\", col(\"ChiSquare p-value\").alias(\"chiSquare\")).toPandas()\n",
    "\n",
    "labels=pandasFisher[\"id\"].tolist()\n",
    "\n",
    "dim = len(labels)\n",
    "X = np.zeros((dim, dim))\n",
    "for i in range(dim):\n",
    "    for j in range(i, dim):\n",
    "        X[i, j] = pandasFisher[\"fisher\"][i] - pandasFisher[\"fisher\"][j]\n",
    "for i in range(dim):\n",
    "    for j in range(i, dim):\n",
    "        X[j, i] = pandasChiSquare[\"chiSquare\"][i] - pandasChiSquare[\"chiSquare\"][j]\n",
    "\n",
    "fig = ff.create_dendrogram(X, labels=labels, color_threshold=2)\n",
    "fig['layout'].update({'width':1440, 'height':500, 'showlegend':True, \"title\":\"chiSquare vs fisher\"})\n",
    "py.iplot(fig, filename='dendrogram')"
   ]
  },
  {
   "cell_type": "markdown",
   "metadata": {},
   "source": [
    "## ChiSquare"
   ]
  },
  {
   "cell_type": "code",
   "execution_count": 157,
   "metadata": {},
   "outputs": [
    {
     "data": {
      "text/html": [
       "<script type=\"text/javascript\">window.PlotlyConfig = {MathJaxConfig: 'local'};</script><script type=\"text/javascript\">if (window.MathJax) {MathJax.Hub.Config({SVG: {font: \"STIX-Web\"}});}</script><script>requirejs.config({paths: { 'plotly': ['https://cdn.plot.ly/plotly-latest.min']},});if(!window._Plotly) {require(['plotly'],function(plotly) {window._Plotly=plotly;});}</script>"
      ],
      "text/vnd.plotly.v1+html": [
       "<script type=\"text/javascript\">window.PlotlyConfig = {MathJaxConfig: 'local'};</script><script type=\"text/javascript\">if (window.MathJax) {MathJax.Hub.Config({SVG: {font: \"STIX-Web\"}});}</script><script>requirejs.config({paths: { 'plotly': ['https://cdn.plot.ly/plotly-latest.min']},});if(!window._Plotly) {require(['plotly'],function(plotly) {window._Plotly=plotly;});}</script>"
      ]
     },
     "metadata": {},
     "output_type": "display_data"
    },
    {
     "data": {
      "application/vnd.plotly.v1+json": {
       "config": {
        "linkText": "Export to plot.ly",
        "plotlyServerURL": "https://plot.ly",
        "showLink": true
       },
       "data": [
        {
         "colorscale": "Viridis",
         "type": "heatmap",
         "uid": "ae3b5dc9-39cd-4653-854e-63c53def5450",
         "x": [
          "22:16912210:A:G",
          "22:16912775:C:A",
          "22:16913788:A:T",
          "22:16914822:C:G",
          "22:16916066:T:C",
          "22:16926176:T:A",
          "22:16927996:G:A",
          "22:16928421:A:G",
          "22:16932137:C:A",
          "22:16933241:T:C",
          "22:16938334:G:C",
          "22:16948327:G:A",
          "22:16948479:A:G",
          "22:16950192:A:T",
          "22:16950203:C:T",
          "22:16950203:C:T",
          "22:16952200:T:C",
          "22:16957623:G:A"
         ],
         "y": [
          "22:16912210:A:G",
          "22:16912775:C:A",
          "22:16913788:A:T",
          "22:16914822:C:G",
          "22:16916066:T:C",
          "22:16926176:T:A",
          "22:16927996:G:A",
          "22:16928421:A:G",
          "22:16932137:C:A",
          "22:16933241:T:C",
          "22:16938334:G:C",
          "22:16948327:G:A",
          "22:16948479:A:G",
          "22:16950192:A:T",
          "22:16950203:C:T",
          "22:16950203:C:T",
          "22:16952200:T:C",
          "22:16957623:G:A"
         ],
         "z": [
          [
           0,
           0.41891910048056846,
           0.480276234221405,
           -0.25456978650843776,
           0.17631562069309537,
           0.6639795195524725,
           0.1740833216553972,
           0.6639795195524725,
           0.539919706812712,
           0.010701897019867901,
           0.48845862024109765,
           0.6639795195524725,
           0.6639795195524725,
           0.16378136987865277,
           0.480276234221405,
           0.480276234221405,
           -0.2201837061292118,
           0.480276234221405
          ],
          [
           -0.41891910048056846,
           0,
           0.06135713374083651,
           -0.6734888869890062,
           -0.2426034797874731,
           0.245060419071904,
           -0.24483577882517127,
           0.245060419071904,
           0.12100060633214349,
           -0.40821720346070056,
           0.06953951976052919,
           0.245060419071904,
           0.245060419071904,
           -0.2551377306019157,
           0.06135713374083651,
           0.06135713374083651,
           -0.6391028066097802,
           0.06135713374083651
          ],
          [
           -0.480276234221405,
           -0.06135713374083651,
           0,
           -0.7348460207298427,
           -0.3039606135283096,
           0.1837032853310675,
           -0.3061929125660078,
           0.1837032853310675,
           0.05964347259130698,
           -0.4695743372015371,
           0.008182386019692678,
           0.1837032853310675,
           0.1837032853310675,
           -0.3164948643427522,
           0,
           0,
           -0.7004599403506168,
           0
          ],
          [
           0.25456978650843776,
           0.6734888869890062,
           0.7348460207298427,
           0,
           0.4308854072015331,
           0.9185493060609102,
           0.42865310816383495,
           0.9185493060609102,
           0.7944894933211497,
           0.26527168352830566,
           0.7430284067495354,
           0.9185493060609102,
           0.9185493060609102,
           0.41835115638709053,
           0.7348460207298427,
           0.7348460207298427,
           0.03438608037922597,
           0.7348460207298427
          ],
          [
           -0.17631562069309537,
           0.2426034797874731,
           0.3039606135283096,
           -0.4308854072015331,
           0,
           0.4876638988593771,
           -0.002232299037698171,
           0.4876638988593771,
           0.3636040861196166,
           -0.16561372367322746,
           0.3121429995480023,
           0.4876638988593771,
           0.4876638988593771,
           -0.012534250814442593,
           0.3039606135283096,
           0.3039606135283096,
           -0.39649932682230715,
           0.3039606135283096
          ],
          [
           -0.6639795195524725,
           -0.245060419071904,
           -0.1837032853310675,
           -0.9185493060609102,
           -0.4876638988593771,
           0,
           -0.4898961978970753,
           0,
           -0.12405981273976052,
           -0.6532776225326046,
           -0.17552089931137482,
           0,
           0,
           -0.5001981496738197,
           -0.1837032853310675,
           -0.1837032853310675,
           -0.8841632256816843,
           -0.1837032853310675
          ],
          [
           -0.1740833216553972,
           0.24483577882517127,
           0.3061929125660078,
           -0.42865310816383495,
           0.002232299037698171,
           0.4898961978970753,
           0,
           0.4898961978970753,
           0.36583638515731476,
           -0.1633814246355293,
           0.31437529858570046,
           0.4898961978970753,
           0.4898961978970753,
           -0.010301951776744422,
           0.3061929125660078,
           0.3061929125660078,
           -0.394267027784609,
           0.3061929125660078
          ],
          [
           -0.6639795195524725,
           -0.245060419071904,
           -0.1837032853310675,
           -0.9185493060609102,
           -0.4876638988593771,
           0,
           -0.4898961978970753,
           0,
           -0.12405981273976052,
           -0.6532776225326046,
           -0.17552089931137482,
           0,
           0,
           -0.5001981496738197,
           -0.1837032853310675,
           -0.1837032853310675,
           -0.8841632256816843,
           -0.1837032853310675
          ],
          [
           -0.539919706812712,
           -0.12100060633214349,
           -0.05964347259130698,
           -0.7944894933211497,
           -0.3636040861196166,
           0.12405981273976052,
           -0.36583638515731476,
           0.12405981273976052,
           0,
           -0.529217809792844,
           -0.0514610865716143,
           0.12405981273976052,
           0.12405981273976052,
           -0.3761383369340592,
           -0.05964347259130698,
           -0.05964347259130698,
           -0.7601034129419237,
           -0.05964347259130698
          ],
          [
           -0.010701897019867901,
           0.40821720346070056,
           0.4695743372015371,
           -0.26527168352830566,
           0.16561372367322746,
           0.6532776225326046,
           0.1633814246355293,
           0.6532776225326046,
           0.529217809792844,
           0,
           0.47775672322122975,
           0.6532776225326046,
           0.6532776225326046,
           0.15307947285878487,
           0.4695743372015371,
           0.4695743372015371,
           -0.2308856031490797,
           0.4695743372015371
          ],
          [
           -0.48845862024109765,
           -0.06953951976052919,
           -0.008182386019692678,
           -0.7430284067495354,
           -0.3121429995480023,
           0.17552089931137482,
           -0.31437529858570046,
           0.17552089931137482,
           0.0514610865716143,
           -0.47775672322122975,
           0,
           0.17552089931137482,
           0.17552089931137482,
           -0.3246772503624449,
           -0.008182386019692678,
           -0.008182386019692678,
           -0.7086423263703094,
           -0.008182386019692678
          ],
          [
           -0.6639795195524725,
           -0.245060419071904,
           -0.1837032853310675,
           -0.9185493060609102,
           -0.4876638988593771,
           0,
           -0.4898961978970753,
           0,
           -0.12405981273976052,
           -0.6532776225326046,
           -0.17552089931137482,
           0,
           0,
           -0.5001981496738197,
           -0.1837032853310675,
           -0.1837032853310675,
           -0.8841632256816843,
           -0.1837032853310675
          ],
          [
           -0.6639795195524725,
           -0.245060419071904,
           -0.1837032853310675,
           -0.9185493060609102,
           -0.4876638988593771,
           0,
           -0.4898961978970753,
           0,
           -0.12405981273976052,
           -0.6532776225326046,
           -0.17552089931137482,
           0,
           0,
           -0.5001981496738197,
           -0.1837032853310675,
           -0.1837032853310675,
           -0.8841632256816843,
           -0.1837032853310675
          ],
          [
           -0.16378136987865277,
           0.2551377306019157,
           0.3164948643427522,
           -0.41835115638709053,
           0.012534250814442593,
           0.5001981496738197,
           0.010301951776744422,
           0.5001981496738197,
           0.3761383369340592,
           -0.15307947285878487,
           0.3246772503624449,
           0.5001981496738197,
           0.5001981496738197,
           0,
           0.3164948643427522,
           0.3164948643427522,
           -0.38396507600786456,
           0.3164948643427522
          ],
          [
           -0.480276234221405,
           -0.06135713374083651,
           0,
           -0.7348460207298427,
           -0.3039606135283096,
           0.1837032853310675,
           -0.3061929125660078,
           0.1837032853310675,
           0.05964347259130698,
           -0.4695743372015371,
           0.008182386019692678,
           0.1837032853310675,
           0.1837032853310675,
           -0.3164948643427522,
           0,
           0,
           -0.7004599403506168,
           0
          ],
          [
           -0.480276234221405,
           -0.06135713374083651,
           0,
           -0.7348460207298427,
           -0.3039606135283096,
           0.1837032853310675,
           -0.3061929125660078,
           0.1837032853310675,
           0.05964347259130698,
           -0.4695743372015371,
           0.008182386019692678,
           0.1837032853310675,
           0.1837032853310675,
           -0.3164948643427522,
           0,
           0,
           -0.7004599403506168,
           0
          ],
          [
           0.2201837061292118,
           0.6391028066097802,
           0.7004599403506168,
           -0.03438608037922597,
           0.39649932682230715,
           0.8841632256816843,
           0.394267027784609,
           0.8841632256816843,
           0.7601034129419237,
           0.2308856031490797,
           0.7086423263703094,
           0.8841632256816843,
           0.8841632256816843,
           0.38396507600786456,
           0.7004599403506168,
           0.7004599403506168,
           0,
           0.7004599403506168
          ],
          [
           -0.480276234221405,
           -0.06135713374083651,
           0,
           -0.7348460207298427,
           -0.3039606135283096,
           0.1837032853310675,
           -0.3061929125660078,
           0.1837032853310675,
           0.05964347259130698,
           -0.4695743372015371,
           0.008182386019692678,
           0.1837032853310675,
           0.1837032853310675,
           -0.3164948643427522,
           0,
           0,
           -0.7004599403506168,
           0
          ]
         ],
         "zauto": true,
         "zmax": 0.9185493060609102,
         "zmin": -0.9185493060609102
        }
       ],
       "layout": {
        "height": 500,
        "title": "chiSquare",
        "width": 1440,
        "xaxis": {
         "autorange": true,
         "range": [
          -0.5,
          17.5
         ],
         "type": "category"
        },
        "yaxis": {
         "autorange": true,
         "range": [
          -0.5,
          17.5
         ],
         "type": "category"
        }
       }
      },
      "image/png": "[encoded data removed]",
      "text/html": [
       "<div id=\"82e47978-ebca-43c3-9443-593520c46d2f\" style=\"height: 500px; width: 1440px;\" class=\"plotly-graph-div\"></div><script type=\"text/javascript\">require([\"plotly\"], function(Plotly) { window.PLOTLYENV=window.PLOTLYENV || {};window.PLOTLYENV.BASE_URL=\"https://plot.ly\";Plotly.newPlot(\"82e47978-ebca-43c3-9443-593520c46d2f\", [{\"colorscale\": \"Viridis\", \"x\": [\"22:16912210:A:G\", \"22:16912775:C:A\", \"22:16913788:A:T\", \"22:16914822:C:G\", \"22:16916066:T:C\", \"22:16926176:T:A\", \"22:16927996:G:A\", \"22:16928421:A:G\", \"22:16932137:C:A\", \"22:16933241:T:C\", \"22:16938334:G:C\", \"22:16948327:G:A\", \"22:16948479:A:G\", \"22:16950192:A:T\", \"22:16950203:C:T\", \"22:16950203:C:T\", \"22:16952200:T:C\", \"22:16957623:G:A\"], \"y\": [\"22:16912210:A:G\", \"22:16912775:C:A\", \"22:16913788:A:T\", \"22:16914822:C:G\", \"22:16916066:T:C\", \"22:16926176:T:A\", \"22:16927996:G:A\", \"22:16928421:A:G\", \"22:16932137:C:A\", \"22:16933241:T:C\", \"22:16938334:G:C\", \"22:16948327:G:A\", \"22:16948479:A:G\", \"22:16950192:A:T\", \"22:16950203:C:T\", \"22:16950203:C:T\", \"22:16952200:T:C\", \"22:16957623:G:A\"], \"z\": [[0.0, 0.41891910048056846, 0.480276234221405, -0.25456978650843776, 0.17631562069309537, 0.6639795195524725, 0.1740833216553972, 0.6639795195524725, 0.539919706812712, 0.010701897019867901, 0.48845862024109765, 0.6639795195524725, 0.6639795195524725, 0.16378136987865277, 0.480276234221405, 0.480276234221405, -0.2201837061292118, 0.480276234221405], [-0.41891910048056846, 0.0, 0.06135713374083651, -0.6734888869890062, -0.2426034797874731, 0.245060419071904, -0.24483577882517127, 0.245060419071904, 0.12100060633214349, -0.40821720346070056, 0.06953951976052919, 0.245060419071904, 0.245060419071904, -0.2551377306019157, 0.06135713374083651, 0.06135713374083651, -0.6391028066097802, 0.06135713374083651], [-0.480276234221405, -0.06135713374083651, 0.0, -0.7348460207298427, -0.3039606135283096, 0.1837032853310675, -0.3061929125660078, 0.1837032853310675, 0.05964347259130698, -0.4695743372015371, 0.008182386019692678, 0.1837032853310675, 0.1837032853310675, -0.3164948643427522, 0.0, 0.0, -0.7004599403506168, 0.0], [0.25456978650843776, 0.6734888869890062, 0.7348460207298427, 0.0, 0.4308854072015331, 0.9185493060609102, 0.42865310816383495, 0.9185493060609102, 0.7944894933211497, 0.26527168352830566, 0.7430284067495354, 0.9185493060609102, 0.9185493060609102, 0.41835115638709053, 0.7348460207298427, 0.7348460207298427, 0.03438608037922597, 0.7348460207298427], [-0.17631562069309537, 0.2426034797874731, 0.3039606135283096, -0.4308854072015331, 0.0, 0.4876638988593771, -0.002232299037698171, 0.4876638988593771, 0.3636040861196166, -0.16561372367322746, 0.3121429995480023, 0.4876638988593771, 0.4876638988593771, -0.012534250814442593, 0.3039606135283096, 0.3039606135283096, -0.39649932682230715, 0.3039606135283096], [-0.6639795195524725, -0.245060419071904, -0.1837032853310675, -0.9185493060609102, -0.4876638988593771, 0.0, -0.4898961978970753, 0.0, -0.12405981273976052, -0.6532776225326046, -0.17552089931137482, 0.0, 0.0, -0.5001981496738197, -0.1837032853310675, -0.1837032853310675, -0.8841632256816843, -0.1837032853310675], [-0.1740833216553972, 0.24483577882517127, 0.3061929125660078, -0.42865310816383495, 0.002232299037698171, 0.4898961978970753, 0.0, 0.4898961978970753, 0.36583638515731476, -0.1633814246355293, 0.31437529858570046, 0.4898961978970753, 0.4898961978970753, -0.010301951776744422, 0.3061929125660078, 0.3061929125660078, -0.394267027784609, 0.3061929125660078], [-0.6639795195524725, -0.245060419071904, -0.1837032853310675, -0.9185493060609102, -0.4876638988593771, 0.0, -0.4898961978970753, 0.0, -0.12405981273976052, -0.6532776225326046, -0.17552089931137482, 0.0, 0.0, -0.5001981496738197, -0.1837032853310675, -0.1837032853310675, -0.8841632256816843, -0.1837032853310675], [-0.539919706812712, -0.12100060633214349, -0.05964347259130698, -0.7944894933211497, -0.3636040861196166, 0.12405981273976052, -0.36583638515731476, 0.12405981273976052, 0.0, -0.529217809792844, -0.0514610865716143, 0.12405981273976052, 0.12405981273976052, -0.3761383369340592, -0.05964347259130698, -0.05964347259130698, -0.7601034129419237, -0.05964347259130698], [-0.010701897019867901, 0.40821720346070056, 0.4695743372015371, -0.26527168352830566, 0.16561372367322746, 0.6532776225326046, 0.1633814246355293, 0.6532776225326046, 0.529217809792844, 0.0, 0.47775672322122975, 0.6532776225326046, 0.6532776225326046, 0.15307947285878487, 0.4695743372015371, 0.4695743372015371, -0.2308856031490797, 0.4695743372015371], [-0.48845862024109765, -0.06953951976052919, -0.008182386019692678, -0.7430284067495354, -0.3121429995480023, 0.17552089931137482, -0.31437529858570046, 0.17552089931137482, 0.0514610865716143, -0.47775672322122975, 0.0, 0.17552089931137482, 0.17552089931137482, -0.3246772503624449, -0.008182386019692678, -0.008182386019692678, -0.7086423263703094, -0.008182386019692678], [-0.6639795195524725, -0.245060419071904, -0.1837032853310675, -0.9185493060609102, -0.4876638988593771, 0.0, -0.4898961978970753, 0.0, -0.12405981273976052, -0.6532776225326046, -0.17552089931137482, 0.0, 0.0, -0.5001981496738197, -0.1837032853310675, -0.1837032853310675, -0.8841632256816843, -0.1837032853310675], [-0.6639795195524725, -0.245060419071904, -0.1837032853310675, -0.9185493060609102, -0.4876638988593771, 0.0, -0.4898961978970753, 0.0, -0.12405981273976052, -0.6532776225326046, -0.17552089931137482, 0.0, 0.0, -0.5001981496738197, -0.1837032853310675, -0.1837032853310675, -0.8841632256816843, -0.1837032853310675], [-0.16378136987865277, 0.2551377306019157, 0.3164948643427522, -0.41835115638709053, 0.012534250814442593, 0.5001981496738197, 0.010301951776744422, 0.5001981496738197, 0.3761383369340592, -0.15307947285878487, 0.3246772503624449, 0.5001981496738197, 0.5001981496738197, 0.0, 0.3164948643427522, 0.3164948643427522, -0.38396507600786456, 0.3164948643427522], [-0.480276234221405, -0.06135713374083651, 0.0, -0.7348460207298427, -0.3039606135283096, 0.1837032853310675, -0.3061929125660078, 0.1837032853310675, 0.05964347259130698, -0.4695743372015371, 0.008182386019692678, 0.1837032853310675, 0.1837032853310675, -0.3164948643427522, 0.0, 0.0, -0.7004599403506168, 0.0], [-0.480276234221405, -0.06135713374083651, 0.0, -0.7348460207298427, -0.3039606135283096, 0.1837032853310675, -0.3061929125660078, 0.1837032853310675, 0.05964347259130698, -0.4695743372015371, 0.008182386019692678, 0.1837032853310675, 0.1837032853310675, -0.3164948643427522, 0.0, 0.0, -0.7004599403506168, 0.0], [0.2201837061292118, 0.6391028066097802, 0.7004599403506168, -0.03438608037922597, 0.39649932682230715, 0.8841632256816843, 0.394267027784609, 0.8841632256816843, 0.7601034129419237, 0.2308856031490797, 0.7086423263703094, 0.8841632256816843, 0.8841632256816843, 0.38396507600786456, 0.7004599403506168, 0.7004599403506168, 0.0, 0.7004599403506168], [-0.480276234221405, -0.06135713374083651, 0.0, -0.7348460207298427, -0.3039606135283096, 0.1837032853310675, -0.3061929125660078, 0.1837032853310675, 0.05964347259130698, -0.4695743372015371, 0.008182386019692678, 0.1837032853310675, 0.1837032853310675, -0.3164948643427522, 0.0, 0.0, -0.7004599403506168, 0.0]], \"type\": \"heatmap\", \"uid\": \"ae3b5dc9-39cd-4653-854e-63c53def5450\"}], {\"width\": 1440, \"height\": 500, \"title\": \"chiSquare\"}, {\"showLink\": true, \"linkText\": \"Export to plot.ly\", \"plotlyServerURL\": \"https://plot.ly\"})});</script>"
      ],
      "text/vnd.plotly.v1+html": [
       "<div id=\"82e47978-ebca-43c3-9443-593520c46d2f\" style=\"height: 500px; width: 1440px;\" class=\"plotly-graph-div\"></div><script type=\"text/javascript\">require([\"plotly\"], function(Plotly) { window.PLOTLYENV=window.PLOTLYENV || {};window.PLOTLYENV.BASE_URL=\"https://plot.ly\";Plotly.newPlot(\"82e47978-ebca-43c3-9443-593520c46d2f\", [{\"colorscale\": \"Viridis\", \"x\": [\"22:16912210:A:G\", \"22:16912775:C:A\", \"22:16913788:A:T\", \"22:16914822:C:G\", \"22:16916066:T:C\", \"22:16926176:T:A\", \"22:16927996:G:A\", \"22:16928421:A:G\", \"22:16932137:C:A\", \"22:16933241:T:C\", \"22:16938334:G:C\", \"22:16948327:G:A\", \"22:16948479:A:G\", \"22:16950192:A:T\", \"22:16950203:C:T\", \"22:16950203:C:T\", \"22:16952200:T:C\", \"22:16957623:G:A\"], \"y\": [\"22:16912210:A:G\", \"22:16912775:C:A\", \"22:16913788:A:T\", \"22:16914822:C:G\", \"22:16916066:T:C\", \"22:16926176:T:A\", \"22:16927996:G:A\", \"22:16928421:A:G\", \"22:16932137:C:A\", \"22:16933241:T:C\", \"22:16938334:G:C\", \"22:16948327:G:A\", \"22:16948479:A:G\", \"22:16950192:A:T\", \"22:16950203:C:T\", \"22:16950203:C:T\", \"22:16952200:T:C\", \"22:16957623:G:A\"], \"z\": [[0.0, 0.41891910048056846, 0.480276234221405, -0.25456978650843776, 0.17631562069309537, 0.6639795195524725, 0.1740833216553972, 0.6639795195524725, 0.539919706812712, 0.010701897019867901, 0.48845862024109765, 0.6639795195524725, 0.6639795195524725, 0.16378136987865277, 0.480276234221405, 0.480276234221405, -0.2201837061292118, 0.480276234221405], [-0.41891910048056846, 0.0, 0.06135713374083651, -0.6734888869890062, -0.2426034797874731, 0.245060419071904, -0.24483577882517127, 0.245060419071904, 0.12100060633214349, -0.40821720346070056, 0.06953951976052919, 0.245060419071904, 0.245060419071904, -0.2551377306019157, 0.06135713374083651, 0.06135713374083651, -0.6391028066097802, 0.06135713374083651], [-0.480276234221405, -0.06135713374083651, 0.0, -0.7348460207298427, -0.3039606135283096, 0.1837032853310675, -0.3061929125660078, 0.1837032853310675, 0.05964347259130698, -0.4695743372015371, 0.008182386019692678, 0.1837032853310675, 0.1837032853310675, -0.3164948643427522, 0.0, 0.0, -0.7004599403506168, 0.0], [0.25456978650843776, 0.6734888869890062, 0.7348460207298427, 0.0, 0.4308854072015331, 0.9185493060609102, 0.42865310816383495, 0.9185493060609102, 0.7944894933211497, 0.26527168352830566, 0.7430284067495354, 0.9185493060609102, 0.9185493060609102, 0.41835115638709053, 0.7348460207298427, 0.7348460207298427, 0.03438608037922597, 0.7348460207298427], [-0.17631562069309537, 0.2426034797874731, 0.3039606135283096, -0.4308854072015331, 0.0, 0.4876638988593771, -0.002232299037698171, 0.4876638988593771, 0.3636040861196166, -0.16561372367322746, 0.3121429995480023, 0.4876638988593771, 0.4876638988593771, -0.012534250814442593, 0.3039606135283096, 0.3039606135283096, -0.39649932682230715, 0.3039606135283096], [-0.6639795195524725, -0.245060419071904, -0.1837032853310675, -0.9185493060609102, -0.4876638988593771, 0.0, -0.4898961978970753, 0.0, -0.12405981273976052, -0.6532776225326046, -0.17552089931137482, 0.0, 0.0, -0.5001981496738197, -0.1837032853310675, -0.1837032853310675, -0.8841632256816843, -0.1837032853310675], [-0.1740833216553972, 0.24483577882517127, 0.3061929125660078, -0.42865310816383495, 0.002232299037698171, 0.4898961978970753, 0.0, 0.4898961978970753, 0.36583638515731476, -0.1633814246355293, 0.31437529858570046, 0.4898961978970753, 0.4898961978970753, -0.010301951776744422, 0.3061929125660078, 0.3061929125660078, -0.394267027784609, 0.3061929125660078], [-0.6639795195524725, -0.245060419071904, -0.1837032853310675, -0.9185493060609102, -0.4876638988593771, 0.0, -0.4898961978970753, 0.0, -0.12405981273976052, -0.6532776225326046, -0.17552089931137482, 0.0, 0.0, -0.5001981496738197, -0.1837032853310675, -0.1837032853310675, -0.8841632256816843, -0.1837032853310675], [-0.539919706812712, -0.12100060633214349, -0.05964347259130698, -0.7944894933211497, -0.3636040861196166, 0.12405981273976052, -0.36583638515731476, 0.12405981273976052, 0.0, -0.529217809792844, -0.0514610865716143, 0.12405981273976052, 0.12405981273976052, -0.3761383369340592, -0.05964347259130698, -0.05964347259130698, -0.7601034129419237, -0.05964347259130698], [-0.010701897019867901, 0.40821720346070056, 0.4695743372015371, -0.26527168352830566, 0.16561372367322746, 0.6532776225326046, 0.1633814246355293, 0.6532776225326046, 0.529217809792844, 0.0, 0.47775672322122975, 0.6532776225326046, 0.6532776225326046, 0.15307947285878487, 0.4695743372015371, 0.4695743372015371, -0.2308856031490797, 0.4695743372015371], [-0.48845862024109765, -0.06953951976052919, -0.008182386019692678, -0.7430284067495354, -0.3121429995480023, 0.17552089931137482, -0.31437529858570046, 0.17552089931137482, 0.0514610865716143, -0.47775672322122975, 0.0, 0.17552089931137482, 0.17552089931137482, -0.3246772503624449, -0.008182386019692678, -0.008182386019692678, -0.7086423263703094, -0.008182386019692678], [-0.6639795195524725, -0.245060419071904, -0.1837032853310675, -0.9185493060609102, -0.4876638988593771, 0.0, -0.4898961978970753, 0.0, -0.12405981273976052, -0.6532776225326046, -0.17552089931137482, 0.0, 0.0, -0.5001981496738197, -0.1837032853310675, -0.1837032853310675, -0.8841632256816843, -0.1837032853310675], [-0.6639795195524725, -0.245060419071904, -0.1837032853310675, -0.9185493060609102, -0.4876638988593771, 0.0, -0.4898961978970753, 0.0, -0.12405981273976052, -0.6532776225326046, -0.17552089931137482, 0.0, 0.0, -0.5001981496738197, -0.1837032853310675, -0.1837032853310675, -0.8841632256816843, -0.1837032853310675], [-0.16378136987865277, 0.2551377306019157, 0.3164948643427522, -0.41835115638709053, 0.012534250814442593, 0.5001981496738197, 0.010301951776744422, 0.5001981496738197, 0.3761383369340592, -0.15307947285878487, 0.3246772503624449, 0.5001981496738197, 0.5001981496738197, 0.0, 0.3164948643427522, 0.3164948643427522, -0.38396507600786456, 0.3164948643427522], [-0.480276234221405, -0.06135713374083651, 0.0, -0.7348460207298427, -0.3039606135283096, 0.1837032853310675, -0.3061929125660078, 0.1837032853310675, 0.05964347259130698, -0.4695743372015371, 0.008182386019692678, 0.1837032853310675, 0.1837032853310675, -0.3164948643427522, 0.0, 0.0, -0.7004599403506168, 0.0], [-0.480276234221405, -0.06135713374083651, 0.0, -0.7348460207298427, -0.3039606135283096, 0.1837032853310675, -0.3061929125660078, 0.1837032853310675, 0.05964347259130698, -0.4695743372015371, 0.008182386019692678, 0.1837032853310675, 0.1837032853310675, -0.3164948643427522, 0.0, 0.0, -0.7004599403506168, 0.0], [0.2201837061292118, 0.6391028066097802, 0.7004599403506168, -0.03438608037922597, 0.39649932682230715, 0.8841632256816843, 0.394267027784609, 0.8841632256816843, 0.7601034129419237, 0.2308856031490797, 0.7086423263703094, 0.8841632256816843, 0.8841632256816843, 0.38396507600786456, 0.7004599403506168, 0.7004599403506168, 0.0, 0.7004599403506168], [-0.480276234221405, -0.06135713374083651, 0.0, -0.7348460207298427, -0.3039606135283096, 0.1837032853310675, -0.3061929125660078, 0.1837032853310675, 0.05964347259130698, -0.4695743372015371, 0.008182386019692678, 0.1837032853310675, 0.1837032853310675, -0.3164948643427522, 0.0, 0.0, -0.7004599403506168, 0.0]], \"type\": \"heatmap\", \"uid\": \"ae3b5dc9-39cd-4653-854e-63c53def5450\"}], {\"width\": 1440, \"height\": 500, \"title\": \"chiSquare\"}, {\"showLink\": true, \"linkText\": \"Export to plot.ly\", \"plotlyServerURL\": \"https://plot.ly\"})});</script>"
      ]
     },
     "metadata": {},
     "output_type": "display_data"
    }
   ],
   "source": [
    "import numpy as np\n",
    "import plotly.graph_objs as go\n",
    "import plotly.offline as py\n",
    "from plotly.offline import get_plotlyjs, init_notebook_mode\n",
    "\n",
    "init_notebook_mode(connected=True)\n",
    "\n",
    "statsDF = oskar.stats(df, studyId=\"hgvauser@platinum:illumina_platinum\", missingAsReference=True)\n",
    "dfSLC = statsDF.filter(array_contains(genes(\"annotation\"), \"SLC9B1P4\"))\n",
    "\n",
    "pandasFisher = oskar.fisher(dfSLC, \"hgvauser@platinum:illumina_platinum\", \"KK\").select(\"id\", col(\"Fisher p-value\").alias(\"fisher\")).toPandas()\n",
    "pandasChiSquare = oskar.chiSquare(dfSLC, \"hgvauser@platinum:illumina_platinum\", \"KK\").select(\"id\", col(\"ChiSquare p-value\").alias(\"chiSquare\")).toPandas()\n",
    "\n",
    "labels=pandasFisher[\"id\"].tolist()\n",
    "\n",
    "dim = len(labels)\n",
    "X = np.zeros((dim, dim))\n",
    "for i in range(dim):\n",
    "    for j in range(dim):\n",
    "        X[j, i] = pandasChiSquare[\"chiSquare\"][i] - pandasChiSquare[\"chiSquare\"][j]\n",
    "\n",
    "trace = go.Heatmap(x=labels, y=labels, z=X, colorscale='Viridis')\n",
    "fig = go.Figure(data=[trace])\n",
    "fig['layout'].update({'width':1440, 'height':500, 'title':'chiSquare'})\n",
    "py.iplot(fig, filename='annotated_heatmap_color')"
   ]
  }
 ],
 "metadata": {
  "kernelspec": {
   "display_name": "Python 3",
   "language": "python",
   "name": "python3"
  },
  "language_info": {
   "codemirror_mode": {
    "name": "ipython",
    "version": 3
   },
   "file_extension": ".py",
   "mimetype": "text/x-python",
   "name": "python",
   "nbconvert_exporter": "python",
   "pygments_lexer": "ipython3",
   "version": "3.6.7"
  }
 },
 "nbformat": 4,
 "nbformat_minor": 2
}
