{
 "cells": [
  {
   "cell_type": "code",
   "execution_count": 1,
   "metadata": {},
   "outputs": [
    {
     "data": {
      "text/html": [
       "\n",
       "            <div>\n",
       "                <p><b>SparkSession - hive</b></p>\n",
       "                \n",
       "        <div>\n",
       "            <p><b>SparkContext</b></p>\n",
       "\n",
       "            <p><a href=\"http://dhcp-172-24-193-148.rnb.csi.private.cam.ac.uk:4040\">Spark UI</a></p>\n",
       "\n",
       "            <dl>\n",
       "              <dt>Version</dt>\n",
       "                <dd><code>v2.4.0</code></dd>\n",
       "              <dt>Master</dt>\n",
       "                <dd><code>local[*]</code></dd>\n",
       "              <dt>AppName</dt>\n",
       "                <dd><code>PySparkShell</code></dd>\n",
       "            </dl>\n",
       "        </div>\n",
       "        \n",
       "            </div>\n",
       "        "
      ],
      "text/plain": [
       "<pyspark.sql.session.SparkSession at 0x7f721c42bcc0>"
      ]
     },
     "execution_count": 1,
     "metadata": {},
     "output_type": "execute_result"
    }
   ],
   "source": [
    "spark"
   ]
  },
  {
   "cell_type": "code",
   "execution_count": 2,
   "metadata": {},
   "outputs": [
    {
     "ename": "NameError",
     "evalue": "name 'Oskar' is not defined",
     "traceback": [
      "\u001b[0;31m---------------------------------------------------------------------------\u001b[0m",
      "\u001b[0;31mNameError\u001b[0m                                 Traceback (most recent call last)",
      "\u001b[0;32m<ipython-input-2-aab62c8f11e9>\u001b[0m in \u001b[0;36m<module>\u001b[0;34m\u001b[0m\n\u001b[0;32m----> 1\u001b[0;31m \u001b[0mOskar\u001b[0m\u001b[0;34m(\u001b[0m\u001b[0;34m)\u001b[0m\u001b[0;34m\u001b[0m\u001b[0;34m\u001b[0m\u001b[0m\n\u001b[0m",
      "\u001b[0;31mNameError\u001b[0m: name 'Oskar' is not defined"
     ],
     "output_type": "error"
    }
   ],
   "source": [
    "Oskar()"
   ]
  },
  {
   "cell_type": "code",
   "execution_count": null,
   "metadata": {},
   "outputs": [
    {
     "ename": "TypeError",
     "evalue": "'JavaPackage' object is not callable",
     "traceback": [
      "\u001b[0;31m---------------------------------------------------------------------------\u001b[0m",
      "\u001b[0;31mTypeError\u001b[0m                                 Traceback (most recent call last)",
      "\u001b[0;32m<ipython-input-3-fc13ca50f751>\u001b[0m in \u001b[0;36m<module>\u001b[0;34m\u001b[0m\n\u001b[1;32m      5\u001b[0m \u001b[0;32mfrom\u001b[0m \u001b[0mpyspark\u001b[0m\u001b[0;34m.\u001b[0m\u001b[0msql\u001b[0m\u001b[0;34m.\u001b[0m\u001b[0mfunctions\u001b[0m \u001b[0;32mimport\u001b[0m \u001b[0;34m*\u001b[0m\u001b[0;34m\u001b[0m\u001b[0;34m\u001b[0m\u001b[0m\n\u001b[1;32m      6\u001b[0m \u001b[0;34m\u001b[0m\u001b[0m\n\u001b[0;32m----> 7\u001b[0;31m \u001b[0moskar\u001b[0m \u001b[0;34m=\u001b[0m \u001b[0mOskar\u001b[0m\u001b[0;34m(\u001b[0m\u001b[0mspark\u001b[0m\u001b[0;34m)\u001b[0m\u001b[0;34m\u001b[0m\u001b[0;34m\u001b[0m\u001b[0m\n\u001b[0m\u001b[1;32m      8\u001b[0m \u001b[0mdf\u001b[0m \u001b[0;34m=\u001b[0m \u001b[0moskar\u001b[0m\u001b[0;34m.\u001b[0m\u001b[0mload\u001b[0m\u001b[0;34m(\u001b[0m\u001b[0;34m\"/home/roldanx/appl/oskar/oskar-spark/src/test/resources/platinum_chr22.small.parquet\"\u001b[0m\u001b[0;34m)\u001b[0m\u001b[0;34m\u001b[0m\u001b[0;34m\u001b[0m\u001b[0m\n",
      "\u001b[0;32m~/appl/oskar/oskar-spark/src/main/python/pyoskar/core.py\u001b[0m in \u001b[0;36m__init__\u001b[0;34m(self, spark)\u001b[0m\n\u001b[1;32m     13\u001b[0m     \u001b[0;32mdef\u001b[0m \u001b[0m__init__\u001b[0m\u001b[0;34m(\u001b[0m\u001b[0mself\u001b[0m\u001b[0;34m,\u001b[0m \u001b[0mspark\u001b[0m\u001b[0;34m)\u001b[0m\u001b[0;34m:\u001b[0m\u001b[0;34m\u001b[0m\u001b[0;34m\u001b[0m\u001b[0m\n\u001b[1;32m     14\u001b[0m         \u001b[0msuper\u001b[0m\u001b[0;34m(\u001b[0m\u001b[0mOskar\u001b[0m\u001b[0;34m,\u001b[0m \u001b[0mself\u001b[0m\u001b[0;34m)\u001b[0m\u001b[0;34m.\u001b[0m\u001b[0m__init__\u001b[0m\u001b[0;34m(\u001b[0m\u001b[0;34m)\u001b[0m\u001b[0;34m\u001b[0m\u001b[0;34m\u001b[0m\u001b[0m\n\u001b[0;32m---> 15\u001b[0;31m         \u001b[0mself\u001b[0m\u001b[0;34m.\u001b[0m\u001b[0m_java_obj\u001b[0m \u001b[0;34m=\u001b[0m \u001b[0mself\u001b[0m\u001b[0;34m.\u001b[0m\u001b[0m_new_java_obj\u001b[0m\u001b[0;34m(\u001b[0m\u001b[0;34m\"org.opencb.oskar.spark.variant.Oskar\"\u001b[0m\u001b[0;34m,\u001b[0m \u001b[0mspark\u001b[0m\u001b[0;34m.\u001b[0m\u001b[0m_jsparkSession\u001b[0m\u001b[0;34m)\u001b[0m\u001b[0;34m\u001b[0m\u001b[0;34m\u001b[0m\u001b[0m\n\u001b[0m\u001b[1;32m     16\u001b[0m         \u001b[0mself\u001b[0m\u001b[0;34m.\u001b[0m\u001b[0mspark\u001b[0m \u001b[0;34m=\u001b[0m \u001b[0mspark\u001b[0m\u001b[0;34m\u001b[0m\u001b[0;34m\u001b[0m\u001b[0m\n\u001b[1;32m     17\u001b[0m         \u001b[0mself\u001b[0m\u001b[0;34m.\u001b[0m\u001b[0mmetadata\u001b[0m \u001b[0;34m=\u001b[0m \u001b[0mVariantMetadataManager\u001b[0m\u001b[0;34m(\u001b[0m\u001b[0;34m)\u001b[0m\u001b[0;34m\u001b[0m\u001b[0;34m\u001b[0m\u001b[0m\n",
      "\u001b[0;32m~/soft/spark-2.4.0-bin-hadoop2.7/python/pyspark/ml/wrapper.py\u001b[0m in \u001b[0;36m_new_java_obj\u001b[0;34m(java_class, *args)\u001b[0m\n\u001b[1;32m     65\u001b[0m             \u001b[0mjava_obj\u001b[0m \u001b[0;34m=\u001b[0m \u001b[0mgetattr\u001b[0m\u001b[0;34m(\u001b[0m\u001b[0mjava_obj\u001b[0m\u001b[0;34m,\u001b[0m \u001b[0mname\u001b[0m\u001b[0;34m)\u001b[0m\u001b[0;34m\u001b[0m\u001b[0;34m\u001b[0m\u001b[0m\n\u001b[1;32m     66\u001b[0m         \u001b[0mjava_args\u001b[0m \u001b[0;34m=\u001b[0m \u001b[0;34m[\u001b[0m\u001b[0m_py2java\u001b[0m\u001b[0;34m(\u001b[0m\u001b[0msc\u001b[0m\u001b[0;34m,\u001b[0m \u001b[0marg\u001b[0m\u001b[0;34m)\u001b[0m \u001b[0;32mfor\u001b[0m \u001b[0marg\u001b[0m \u001b[0;32min\u001b[0m \u001b[0margs\u001b[0m\u001b[0;34m]\u001b[0m\u001b[0;34m\u001b[0m\u001b[0;34m\u001b[0m\u001b[0m\n\u001b[0;32m---> 67\u001b[0;31m         \u001b[0;32mreturn\u001b[0m \u001b[0mjava_obj\u001b[0m\u001b[0;34m(\u001b[0m\u001b[0;34m*\u001b[0m\u001b[0mjava_args\u001b[0m\u001b[0;34m)\u001b[0m\u001b[0;34m\u001b[0m\u001b[0;34m\u001b[0m\u001b[0m\n\u001b[0m\u001b[1;32m     68\u001b[0m \u001b[0;34m\u001b[0m\u001b[0m\n\u001b[1;32m     69\u001b[0m     \u001b[0;34m@\u001b[0m\u001b[0mstaticmethod\u001b[0m\u001b[0;34m\u001b[0m\u001b[0;34m\u001b[0m\u001b[0m\n",
      "\u001b[0;31mTypeError\u001b[0m: 'JavaPackage' object is not callable"
     ],
     "output_type": "error"
    }
   ],
   "source": [
    "from pyoskar.core import Oskar\n",
    "from pyoskar.sql import *\n",
    "from pyoskar.analysis import *\n",
    "from pyspark.sql.functions import col, udf, count, explode, concat, when, expr\n",
    "from pyspark.sql.functions import *\n",
    "\n",
    "oskar = Oskar(spark)\n",
    "df = oskar.load(\"/home/roldanx/appl/oskar/oskar-spark/src/test/resources/platinum_chr22.small.parquet\")"
   ]
  },
  {
   "cell_type": "code",
   "execution_count": 13,
   "metadata": {},
   "outputs": [
    {
     "data": {
      "text/plain": [
       "<matplotlib.axes._subplots.AxesSubplot at 0x7f247f204438>"
      ]
     },
     "execution_count": 13,
     "metadata": {},
     "output_type": "execute_result"
    },
    {
     "data": {
      "image/png": "[encoded data removed]",
      "text/plain": [
       "<Figure size 432x288 with 1 Axes>"
      ]
     },
     "metadata": {
      "needs_background": "light"
     },
     "output_type": "display_data"
    }
   ],
   "source": [
    "pandaDF = oskar.histogram(df,\"start\",100000).toPandas()\n",
    "pandaDF.plot(x = \"start\", y = \"count\")"
   ]
  },
  {
   "cell_type": "code",
   "execution_count": 9,
   "metadata": {},
   "outputs": [
    {
     "name": "stdout",
     "output_type": "stream",
     "text": [
      "{'hgvauser@platinum:illumina_platinum': ['NA12877', 'NA12878', 'NA12879', 'NA12880', 'NA12881', 'NA12882', 'NA12883', 'NA12884', 'NA12885', 'NA12886', 'NA12887', 'NA12888', 'NA12889', 'NA12890', 'NA12891', 'NA12892', 'NA12893']}\n",
      "+---------------+--------------------+\n",
      "|             id|                 HWE|\n",
      "+---------------+--------------------+\n",
      "|22:16054454:C:T|                 1.0|\n",
      "|22:16065809:T:C|                 1.0|\n",
      "|22:16077310:T:A|  0.9254727474972191|\n",
      "|22:16080499:A:G|                 1.0|\n",
      "|22:16084621:T:C|                 1.0|\n",
      "|22:16091610:G:T|                 1.0|\n",
      "|22:16096040:G:A|  0.4746014089729329|\n",
      "|22:16099957:C:T|0.016007636455477054|\n",
      "|22:16100462:A:G|0.001011008618240...|\n",
      "|22:16105660:G:A|  0.3037449017426771|\n",
      "|22:16112391:G:A| 0.17718452601656157|\n",
      "|22:16114913:A:T|  0.6855353685164587|\n",
      "|22:16127471:A:-|                 1.0|\n",
      "|22:16134019:G:T| 0.17718452601656157|\n",
      "|22:16138943:C:G|  0.6855353685164587|\n",
      "|22:16144239:T:C| 0.18181818181818182|\n",
      "|22:16147398:G:A|0.001011224592982...|\n",
      "|22:16149692:G:T| 0.08884238232789762|\n",
      "|22:16195955:G:A|0.007751066073178...|\n",
      "|22:16196041:C:T|  0.6855353685164587|\n",
      "+---------------+--------------------+\n",
      "only showing top 20 rows\n",
      "\n",
      "+-----+-----+\n",
      "| type|count|\n",
      "+-----+-----+\n",
      "|INDEL|  106|\n",
      "|  SNV|  894|\n",
      "+-----+-----+\n",
      "\n",
      "+-----+--------+\n",
      "| type|count(1)|\n",
      "+-----+--------+\n",
      "|INDEL|     106|\n",
      "|  SNV|     894|\n",
      "+-----+--------+\n",
      "\n",
      "+---------+---------+-----+\n",
      "|reference|alternate|count|\n",
      "+---------+---------+-----+\n",
      "|        C|        T|  142|\n",
      "|        G|        A|  138|\n",
      "|        A|        G|  120|\n",
      "|        T|        C|  111|\n",
      "|        C|        A|   63|\n",
      "|        G|        T|   53|\n",
      "|        A|        C|   53|\n",
      "|        T|        A|   52|\n",
      "|        T|        G|   48|\n",
      "|        A|        T|   47|\n",
      "|        C|        G|   34|\n",
      "|        G|        C|   33|\n",
      "+---------+---------+-----+\n",
      "\n",
      "+---------+---------+-----+\n",
      "|reference|alternate|count|\n",
      "+---------+---------+-----+\n",
      "|        C|        T|  142|\n",
      "|        G|        A|  138|\n",
      "|        A|        G|  120|\n",
      "|        T|        C|  111|\n",
      "|        C|        A|   63|\n",
      "|        A|        C|   53|\n",
      "|        G|        T|   53|\n",
      "|        T|        A|   52|\n",
      "|        T|        G|   48|\n",
      "|        A|        T|   47|\n",
      "|        C|        G|   34|\n",
      "|        G|        C|   33|\n",
      "+---------+---------+-----+\n",
      "\n",
      "+---------+---------+-----+\n",
      "|reference|alternate|count|\n",
      "+---------+---------+-----+\n",
      "|        C|        T|  142|\n",
      "|        G|        A|  138|\n",
      "|        A|        G|  120|\n",
      "|        T|        C|  111|\n",
      "|        C|        A|   63|\n",
      "|        A|        C|   53|\n",
      "|        G|        T|   53|\n",
      "|        T|        A|   52|\n",
      "|        T|        G|   48|\n",
      "|        A|        T|   47|\n",
      "|        C|        G|   34|\n",
      "|        G|        C|   33|\n",
      "+---------+---------+-----+\n",
      "\n",
      "+---------+---------+--------+\n",
      "|reference|alternate|count(1)|\n",
      "+---------+---------+--------+\n",
      "|        C|        T|     142|\n",
      "|        G|        A|     138|\n",
      "|        A|        G|     120|\n",
      "|        T|        C|     111|\n",
      "|        C|        A|      63|\n",
      "|        A|        C|      53|\n",
      "|        G|        T|      53|\n",
      "|        T|        A|      52|\n",
      "|        T|        G|      48|\n",
      "|        A|        T|      47|\n",
      "|        C|        G|      34|\n",
      "|        G|        C|      33|\n",
      "+---------+---------+--------+\n",
      "\n"
     ]
    }
   ],
   "source": [
    "df.createOrReplaceTempView(\"chr22\")\n",
    "print(oskar.metadata.samples(df))\n",
    "oskar.hardy_weinberg(df, \"hgvauser@platinum:illumina_platinum\").select(\"id\", \"HWE\").show()\n",
    "\n",
    "# Group by type\n",
    "df.groupBy(\"type\").count().show()\n",
    "spark.sql(\"SELECT type, count(*) FROM chr22 GROUP BY type\").show()\n",
    "\n",
    "## Group by variant\n",
    "# 1)\n",
    "df.where(\"type = 'SNV'\").select(\"reference\", \"alternate\").groupBy(\"reference\", \"alternate\").count().sort(\"count\", ascending=False).show()\n",
    "# 2)\n",
    "df.where(col(\"type\").isin(\"SNV\", \"SNP\")).select(\"reference\", \"alternate\").groupBy(\"reference\", \"alternate\").count().sort(\"count\", ascending=False).show()\n",
    "# 3)\n",
    "df.where(df.type.isin(\"SNV\", \"SNP\")).select(df.reference, df.alternate).groupBy(df.reference, df.alternate).count().sort(\"count\", ascending=False).show()\n",
    "# 4)\n",
    "spark.sql(\"SELECT reference, alternate, count(*) FROM chr22 WHERE type = 'SNV' GROUP BY reference,alternate ORDER BY count(*) DESC\").show()"
   ]
  },
  {
   "cell_type": "code",
   "execution_count": 28,
   "metadata": {},
   "outputs": [
    {
     "name": "stdout",
     "output_type": "stream",
     "text": [
      "+---------------+-----------+--------------+--------------+-------------+-------------+--------------------+------------------------------------+------------------+--------------------+----+----+---------+-----------+\n",
      "|id             |alleleCount|refAlleleCount|altAlleleCount|refAlleleFreq|altAlleleFreq|genotypeCount       |genotypeFreq                        |missingAlleleCount|missingGenotypeCount|maf |mgf |mafAllele|mgfGenotype|\n",
      "+---------------+-----------+--------------+--------------+-------------+-------------+--------------------+------------------------------------+------------------+--------------------+----+----+---------+-----------+\n",
      "|22:16054454:C:T|-1         |0             |0             |-1.0         |-1.0         |[./. -> 2]          |[]                                  |3                 |1                   |-1.0|-1.0|null     |null       |\n",
      "|22:16065809:T:C|2          |1             |1             |0.5          |0.5          |[0/1 -> 1, ./. -> 1]|[0/0 -> 0.0, 0/1 -> 0.0, 1/1 -> 0.0]|1                 |0                   |0.5 |0.0 |T        |1/1        |\n",
      "|22:16077310:T:A|2          |1             |1             |0.5          |0.5          |[0/1 -> 1, ./. -> 1]|[0/0 -> 0.0, 0/1 -> 0.0, 1/1 -> 0.0]|1                 |0                   |0.5 |0.0 |T        |1/1        |\n",
      "|22:16080499:A:G|2          |1             |1             |0.5          |0.5          |[0/1 -> 1, ./. -> 1]|[0/0 -> 0.0, 0/1 -> 0.0, 1/1 -> 0.0]|1                 |0                   |0.5 |0.0 |A        |1/1        |\n",
      "|22:16084621:T:C|2          |1             |1             |0.5          |0.5          |[0/1 -> 1, ./. -> 1]|[0/0 -> 0.0, 0/1 -> 0.0, 1/1 -> 0.0]|1                 |0                   |0.5 |0.0 |T        |1/1        |\n",
      "|22:16091610:G:T|-1         |0             |0             |-1.0         |-1.0         |[./. -> 2]          |[]                                  |3                 |1                   |-1.0|-1.0|null     |null       |\n",
      "|22:16096040:G:A|-1         |0             |0             |-1.0         |-1.0         |[./. -> 2]          |[]                                  |3                 |1                   |-1.0|-1.0|null     |null       |\n",
      "|22:16099957:C:T|4          |2             |2             |0.5          |0.5          |[0/1 -> 2]          |[0/0 -> 0.0, 0/1 -> 0.0, 1/1 -> 0.0]|-1                |-1                  |0.5 |0.0 |C        |1/1        |\n",
      "|22:16100462:A:G|4          |2             |2             |0.5          |0.5          |[0/1 -> 2]          |[0/0 -> 0.0, 0/1 -> 0.0, 1/1 -> 0.0]|-1                |-1                  |0.5 |0.0 |A        |1/1        |\n",
      "|22:16105660:G:A|2          |1             |1             |0.5          |0.5          |[0/1 -> 1, ./. -> 1]|[0/0 -> 0.0, 0/1 -> 0.0, 1/1 -> 0.0]|1                 |0                   |0.5 |0.0 |G        |1/1        |\n",
      "+---------------+-----------+--------------+--------------+-------------+-------------+--------------------+------------------------------------+------------------+--------------------+----+----+---------+-----------+\n",
      "only showing top 10 rows\n",
      "\n"
     ]
    }
   ],
   "source": [
    "oskar.stats(df, cohort=\"AFR\", samples=['NA12877', 'NA12878']).selectExpr(\"id\", \"studies[0].stats['AFR'] as stats\").selectExpr(\"id\", \"stats.*\").show(10,False)"
   ]
  },
  {
   "cell_type": "code",
   "execution_count": 16,
   "metadata": {},
   "outputs": [
    {
     "name": "stdout",
     "output_type": "stream",
     "text": [
      "+---------------+----------+--------+--------+\n",
      "|             id|chromosome|   start|     end|\n",
      "+---------------+----------+--------+--------+\n",
      "|22:17001352:C:G|        22|17001352|17001352|\n",
      "|22:17002352:C:A|        22|17002352|17002352|\n",
      "|22:17004097:G:A|        22|17004097|17004097|\n",
      "|22:17011943:G:C|        22|17011943|17011943|\n",
      "|22:17012760:G:A|        22|17012760|17012760|\n",
      "+---------------+----------+--------+--------+\n",
      "only showing top 5 rows\n",
      "\n",
      "+---------------+----------+--------+--------+\n",
      "|             id|chromosome|   start|     end|\n",
      "+---------------+----------+--------+--------+\n",
      "|22:17001352:C:G|        22|17001352|17001352|\n",
      "|22:17002352:C:A|        22|17002352|17002352|\n",
      "|22:17004097:G:A|        22|17004097|17004097|\n",
      "|22:17011943:G:C|        22|17011943|17011943|\n",
      "|22:17012760:G:A|        22|17012760|17012760|\n",
      "+---------------+----------+--------+--------+\n",
      "only showing top 5 rows\n",
      "\n",
      "+---------------+----------+--------+--------+\n",
      "|             id|chromosome|   start|     end|\n",
      "+---------------+----------+--------+--------+\n",
      "|22:17001352:C:G|        22|17001352|17001352|\n",
      "|22:17002352:C:A|        22|17002352|17002352|\n",
      "|22:17004097:G:A|        22|17004097|17004097|\n",
      "|22:17011943:G:C|        22|17011943|17011943|\n",
      "|22:17012760:G:A|        22|17012760|17012760|\n",
      "+---------------+----------+--------+--------+\n",
      "only showing top 5 rows\n",
      "\n",
      "+---------------+----------+--------+--------+\n",
      "|             id|chromosome|   start|     end|\n",
      "+---------------+----------+--------+--------+\n",
      "|22:17001352:C:G|        22|17001352|17001352|\n",
      "|22:17002352:C:A|        22|17002352|17002352|\n",
      "|22:17004097:G:A|        22|17004097|17004097|\n",
      "|22:17011943:G:C|        22|17011943|17011943|\n",
      "|22:17012760:G:A|        22|17012760|17012760|\n",
      "+---------------+----------+--------+--------+\n",
      "only showing top 5 rows\n",
      "\n",
      "+---------------+----------+--------+--------+\n",
      "|             id|chromosome|   start|     end|\n",
      "+---------------+----------+--------+--------+\n",
      "|22:17001352:C:G|        22|17001352|17001352|\n",
      "|22:17002352:C:A|        22|17002352|17002352|\n",
      "|22:17004097:G:A|        22|17004097|17004097|\n",
      "|22:17011943:G:C|        22|17011943|17011943|\n",
      "|22:17012760:G:A|        22|17012760|17012760|\n",
      "+---------------+----------+--------+--------+\n",
      "only showing top 5 rows\n",
      "\n"
     ]
    }
   ],
   "source": [
    "df.select(\"id\", \"chromosome\", \"start\", \"end\").filter(df.chromosome == 22).filter(df.start > 17000000).filter(df.end < 17500000).show(5)\n",
    "df.select(\"id\", \"chromosome\", \"start\", \"end\").filter(col(\"chromosome\") == 22).filter(col(\"start\") > 17000000).filter(col(\"end\") < 17500000).show(5)\n",
    "df.select(\"id\", \"chromosome\", \"start\", \"end\").filter((col(\"chromosome\") == 22) & (col(\"start\") > 17000000) & (col(\"end\") < 17500000)).show(5)\n",
    "df.select(\"id\", \"chromosome\", \"start\", \"end\").filter(expr(\"chromosome =='22' AND start > 17000000 AND end < 17500000\")).show(5)\n",
    "df.select(\"id\", \"chromosome\", col(\"start\").alias(\"start\"), \"end\").filter(col(\"start\") > 17000000).show(5)\n",
    "# spark.sql(\"SELECT id,chromosome,start,end FROM platinum WHERE chromosome =='22' AND start > 17000000 AND end < 17500000\").show(5)"
   ]
  },
  {
   "cell_type": "code",
   "execution_count": 8,
   "metadata": {},
   "outputs": [
    {
     "name": "stdout",
     "output_type": "stream",
     "text": [
      "+---------------+--------------------+\n",
      "|             id|                gene|\n",
      "+---------------+--------------------+\n",
      "|22:16096040:G:A|            [NBEAP3]|\n",
      "|22:16099957:C:T|            [NBEAP3]|\n",
      "|22:16100462:A:G|            [NBEAP3]|\n",
      "|22:16105660:G:A|            [NBEAP3]|\n",
      "|22:16112391:G:A|            [NBEAP3]|\n",
      "|22:16114913:A:T|            [NBEAP3]|\n",
      "|22:16127471:A:-|[LA16c-60H5.7, NB...|\n",
      "+---------------+--------------------+\n",
      "\n",
      "+---------------+--------------------+\n",
      "|             id|                gene|\n",
      "+---------------+--------------------+\n",
      "|22:16096040:G:A|            [NBEAP3]|\n",
      "|22:16099957:C:T|            [NBEAP3]|\n",
      "|22:16100462:A:G|            [NBEAP3]|\n",
      "|22:16105660:G:A|            [NBEAP3]|\n",
      "|22:16112391:G:A|            [NBEAP3]|\n",
      "|22:16114913:A:T|            [NBEAP3]|\n",
      "|22:16127471:A:-|[LA16c-60H5.7, NB...|\n",
      "+---------------+--------------------+\n",
      "\n"
     ]
    }
   ],
   "source": [
    "df.select(df.id, genes(\"annotation\").alias(\"gene\")).filter(array_contains(\"gene\", \"NBEAP3\")).show()\n",
    "df.selectExpr(\"id\", \"genes(annotation) AS gene\").filter(array_contains(\"gene\", \"NBEAP3\")).show()"
   ]
  },
  {
   "cell_type": "code",
   "execution_count": 9,
   "metadata": {},
   "outputs": [
    {
     "name": "stdout",
     "output_type": "stream",
     "text": [
      "+-------+-----+\n",
      "|variant|count|\n",
      "+-------+-----+\n",
      "| C -> T|  142|\n",
      "| G -> A|  138|\n",
      "| A -> G|  120|\n",
      "| T -> C|  111|\n",
      "| C -> A|   63|\n",
      "| A -> C|   53|\n",
      "| G -> T|   53|\n",
      "| T -> A|   52|\n",
      "| T -> G|   48|\n",
      "| A -> T|   47|\n",
      "| C -> G|   34|\n",
      "| G -> C|   33|\n",
      "+-------+-----+\n",
      "\n"
     ]
    }
   ],
   "source": [
    "pandas = df.where(\"type = 'SNV'\") \\\n",
    "    .select(\"reference\", \"alternate\") \\\n",
    "    .groupBy(\"reference\", \"alternate\") \\\n",
    "    .count() \\\n",
    "    .sort(\"count\", ascending=False) \\\n",
    "    .select(concat(col(\"reference\"), lit(\" -> \"), col(\"alternate\")).alias(\"variant\"), col(\"count\")).show()"
   ]
  }
 ],
 "metadata": {
  "kernelspec": {
   "display_name": "Python 3",
   "language": "python",
   "name": "python3"
  },
  "language_info": {
   "codemirror_mode": {
    "name": "ipython",
    "version": 3
   },
   "file_extension": ".py",
   "mimetype": "text/x-python",
   "name": "python",
   "nbconvert_exporter": "python",
   "pygments_lexer": "ipython3",
   "version": "3.6.7"
  }
 },
 "nbformat": 4,
 "nbformat_minor": 2
}
