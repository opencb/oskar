{
 "cells": [
  {
   "cell_type": "markdown",
   "metadata": {},
   "source": [
    "# **Advanced Variant Filtering tutorial**\n",
    "\n",
    "In this Jupyter tutorial you can learn how to query variants based on some well known statistical tests, which are implemented as part of the functionality of PyOskar API. Here we will use transformers to access PySpark functionality. These kind of functions depend directly from an Oskar object, and they will return a whole dataframe with the due transformation applied."
   ]
  },
  {
   "cell_type": "markdown",
   "metadata": {},
   "source": [
    "First, we need to import the PyOskar and PySpark modules. Second, we need to create an instance of the _Oskar_ object, from which depends a big part of the functionality. Finally, we can load our data in a DataFrame _df_ and we are ready to start playing."
   ]
  },
  {
   "cell_type": "code",
   "execution_count": 2,
   "metadata": {},
   "outputs": [],
   "source": [
    "from pyoskar.core import Oskar\n",
    "from pyoskar.sql import *\n",
    "from pyoskar.analysis import *\n",
    "from pyspark.sql.functions import col, udf, count, explode, concat, when, expr\n",
    "from pyspark.sql.functions import *\n",
    "\n",
    "oskar = Oskar(spark)\n",
    "df = oskar.load(\"/home/roldanx/appl/oskar/oskar-spark/src/test/resources/platinum_chr22.small.parquet\")"
   ]
  },
  {
   "cell_type": "markdown",
   "metadata": {},
   "source": [
    "You can use PySpark to print the data from _df_. This is how our testing dataframe looks like, you can see that for this tutorial we are using a small dataset from Illumina Platinum Genomes with 1,000 random variants from chromosome 22:"
   ]
  },
  {
   "cell_type": "code",
   "execution_count": 3,
   "metadata": {},
   "outputs": [
    {
     "name": "stdout",
     "output_type": "stream",
     "text": [
      "Print first 20 variants:\n",
      "+---------------+-----+----------+--------+--------+---------+---------+------+----+------+-----+----+--------------------+--------------------+\n",
      "|             id|names|chromosome|   start|     end|reference|alternate|strand|  sv|length| type|hgvs|             studies|          annotation|\n",
      "+---------------+-----+----------+--------+--------+---------+---------+------+----+------+-----+----+--------------------+--------------------+\n",
      "|22:16054454:C:T|   []|        22|16054454|16054454|        C|        T|     +|null|     1|  SNV|  []|[[hgvauser@platin...|[22, 16054454, 16...|\n",
      "|22:16065809:T:C|   []|        22|16065809|16065809|        T|        C|     +|null|     1|  SNV|  []|[[hgvauser@platin...|[22, 16065809, 16...|\n",
      "|22:16077310:T:A|   []|        22|16077310|16077310|        T|        A|     +|null|     1|  SNV|  []|[[hgvauser@platin...|[22, 16077310, 16...|\n",
      "|22:16080499:A:G|   []|        22|16080499|16080499|        A|        G|     +|null|     1|  SNV|  []|[[hgvauser@platin...|[22, 16080499, 16...|\n",
      "|22:16084621:T:C|   []|        22|16084621|16084621|        T|        C|     +|null|     1|  SNV|  []|[[hgvauser@platin...|[22, 16084621, 16...|\n",
      "|22:16091610:G:T|   []|        22|16091610|16091610|        G|        T|     +|null|     1|  SNV|  []|[[hgvauser@platin...|[22, 16091610, 16...|\n",
      "|22:16096040:G:A|   []|        22|16096040|16096040|        G|        A|     +|null|     1|  SNV|  []|[[hgvauser@platin...|[22, 16096040, 16...|\n",
      "|22:16099957:C:T|   []|        22|16099957|16099957|        C|        T|     +|null|     1|  SNV|  []|[[hgvauser@platin...|[22, 16099957, 16...|\n",
      "|22:16100462:A:G|   []|        22|16100462|16100462|        A|        G|     +|null|     1|  SNV|  []|[[hgvauser@platin...|[22, 16100462, 16...|\n",
      "|22:16105660:G:A|   []|        22|16105660|16105660|        G|        A|     +|null|     1|  SNV|  []|[[hgvauser@platin...|[22, 16105660, 16...|\n",
      "|22:16112391:G:A|   []|        22|16112391|16112391|        G|        A|     +|null|     1|  SNV|  []|[[hgvauser@platin...|[22, 16112391, 16...|\n",
      "|22:16114913:A:T|   []|        22|16114913|16114913|        A|        T|     +|null|     1|  SNV|  []|[[hgvauser@platin...|[22, 16114913, 16...|\n",
      "|22:16127471:A:-|   []|        22|16127471|16127471|        A|         |     +|null|     1|INDEL|  []|[[hgvauser@platin...|[22, 16127471, 16...|\n",
      "|22:16134019:G:T|   []|        22|16134019|16134019|        G|        T|     +|null|     1|  SNV|  []|[[hgvauser@platin...|[22, 16134019, 16...|\n",
      "|22:16138943:C:G|   []|        22|16138943|16138943|        C|        G|     +|null|     1|  SNV|  []|[[hgvauser@platin...|[22, 16138943, 16...|\n",
      "|22:16144239:T:C|   []|        22|16144239|16144239|        T|        C|     +|null|     1|  SNV|  []|[[hgvauser@platin...|[22, 16144239, 16...|\n",
      "|22:16147398:G:A|   []|        22|16147398|16147398|        G|        A|     +|null|     1|  SNV|  []|[[hgvauser@platin...|[22, 16147398, 16...|\n",
      "|22:16149692:G:T|   []|        22|16149692|16149692|        G|        T|     +|null|     1|  SNV|  []|[[hgvauser@platin...|[22, 16149692, 16...|\n",
      "|22:16195955:G:A|   []|        22|16195955|16195955|        G|        A|     +|null|     1|  SNV|  []|[[hgvauser@platin...|[22, 16195955, 16...|\n",
      "|22:16196041:C:T|   []|        22|16196041|16196041|        C|        T|     +|null|     1|  SNV|  []|[[hgvauser@platin...|[22, 16196041, 16...|\n",
      "+---------------+-----+----------+--------+--------+---------+---------+------+----+------+-----+----+--------------------+--------------------+\n",
      "only showing top 20 rows\n",
      "\n"
     ]
    }
   ],
   "source": [
    "print(\"Print first 20 variants:\")\n",
    "df.show()"
   ]
  },
  {
   "cell_type": "code",
   "execution_count": 4,
   "metadata": {},
   "outputs": [
    {
     "name": "stdout",
     "output_type": "stream",
     "text": [
      "Total number of variants:\n"
     ]
    },
    {
     "data": {
      "text/plain": [
       "1000"
      ]
     },
     "execution_count": 4,
     "metadata": {},
     "output_type": "execute_result"
    }
   ],
   "source": [
    "print(\"Total number of variants:\")\n",
    "df.count()"
   ]
  },
  {
   "cell_type": "markdown",
   "metadata": {},
   "source": [
    " We will give a few examples of simple queries that could be of interest for the user."
   ]
  },
  {
   "cell_type": "markdown",
   "metadata": {},
   "source": [
    "## Hardy Weinberg\n",
    "This transformer calculates the Hardy Weinberg Equilibrium based fisher test by using the poblational data stored in the dataframe.\n",
    "Usage:\n",
    "```python\n",
    "hardyWeinberg(df[DataFrame], studyId[str]=None)\n",
    "```"
   ]
  },
  {
   "cell_type": "code",
   "execution_count": 4,
   "metadata": {},
   "outputs": [
    {
     "name": "stdout",
     "output_type": "stream",
     "text": [
      "+---------------+--------------------+\n",
      "|             id|                 HWE|\n",
      "+---------------+--------------------+\n",
      "|22:16054454:C:T|                 1.0|\n",
      "|22:16065809:T:C|                 1.0|\n",
      "|22:16077310:T:A|  0.9254727474972191|\n",
      "|22:16080499:A:G|                 1.0|\n",
      "|22:16084621:T:C|                 1.0|\n",
      "|22:16091610:G:T|                 1.0|\n",
      "|22:16096040:G:A|  0.4746014089729329|\n",
      "|22:16099957:C:T|0.016007636455477054|\n",
      "|22:16100462:A:G|0.001011008618240...|\n",
      "|22:16105660:G:A|  0.3037449017426771|\n",
      "+---------------+--------------------+\n",
      "only showing top 10 rows\n",
      "\n"
     ]
    }
   ],
   "source": [
    "oskar.hardyWeinberg(df, \"hgvauser@platinum:illumina_platinum\").select(\"id\", \"HWE\").show(10)"
   ]
  },
  {
   "cell_type": "code",
   "execution_count": 9,
   "metadata": {},
   "outputs": [
    {
     "name": "stdout",
     "output_type": "stream",
     "text": [
      "+---------------+---------------------+\n",
      "|id             |HWE                  |\n",
      "+---------------+---------------------+\n",
      "|22:16100462:A:G|0.0010110086182406558|\n",
      "|22:16147398:G:A|0.0010112245929821014|\n",
      "|22:16202382:C:T|0.0010110086182406558|\n",
      "|22:16409256:C:A|0.0010110086182406558|\n",
      "|22:16409275:T:C|0.0010110086182406558|\n",
      "|22:16463338:T:C|4.51387209620996E-5  |\n",
      "|22:16847903:T:A|1.1233429091562846E-4|\n",
      "|22:16850925:C:T|1.1233429091562846E-4|\n",
      "|22:16853987:T:C|1.1233429091562846E-4|\n",
      "|22:16854418:G:A|1.1233429091562846E-4|\n",
      "+---------------+---------------------+\n",
      "only showing top 10 rows\n",
      "\n"
     ]
    }
   ],
   "source": [
    "oskar.hardyWeinberg(df, \"hgvauser@platinum:illumina_platinum\").select(\"id\", \"HWE\").filter(\"HWE < 0.005\").show(10, truncate = False)"
   ]
  },
  {
   "cell_type": "markdown",
   "metadata": {},
   "source": [
    "## Inbreeding coefficient\n",
    "This transformer calculates the Hardy Weinberg Equilibrium based COI by using the poblational data stored in the dataframe. This one needs a previous transformation that generates new stats data. The use of that method is fully explained in the _stats_ tutorial.\n",
    "Usage:\n",
    "```python\n",
    "inbreedingCoefficient(df[DataFrame], missingGenotypesAsHomRef[bool]=None, includeMultiAllelicGenotypes[bool]=None, mafThreshold[float]=None)\n",
    "```"
   ]
  },
  {
   "cell_type": "code",
   "execution_count": 11,
   "metadata": {},
   "outputs": [
    {
     "name": "stdout",
     "output_type": "stream",
     "text": [
      "+--------+-------------------+-----------+------------------+--------------+\n",
      "|SampleId|                  F|ObservedHom|       ExpectedHom|GenotypesCount|\n",
      "+--------+-------------------+-----------+------------------+--------------+\n",
      "| NA12877|-1.0857581722788996|         70|233.97577702999115|           385|\n",
      "| NA12878|-1.1024114888695444|         69|244.65916746854782|           404|\n",
      "| NA12879|-1.1890914293957586|         69| 247.7093403339386|           398|\n",
      "| NA12880|-1.1013660394101679|         71|248.15224742889404|           409|\n",
      "| NA12881|-1.1560267972581504|         65| 252.6643579006195|           415|\n",
      "| NA12882|-1.0112382612189488|         76| 224.8269881606102|           372|\n",
      "| NA12883|-1.0602574055431329|         67|229.62110525369644|           383|\n",
      "| NA12884|-1.0340014363992485|         74|224.47404664754868|           370|\n",
      "| NA12885|-1.1105665251221366|         78| 254.8010356426239|           414|\n",
      "| NA12886| -1.067867784696387|         72|244.48096668720245|           406|\n",
      "+--------+-------------------+-----------+------------------+--------------+\n",
      "only showing top 10 rows\n",
      "\n"
     ]
    }
   ],
   "source": [
    "df2 = oskar.stats(df, studyId = \"hgvauser@platinum:illumina_platinum\", missingAsReference = True)\n",
    "oskar.inbreedingCoefficient(df2).show(10)"
   ]
  },
  {
   "cell_type": "code",
   "execution_count": 19,
   "metadata": {},
   "outputs": [
    {
     "name": "stdout",
     "output_type": "stream",
     "text": [
      "+--------+---+-----------+-----------+--------------+\n",
      "|SampleId|  F|ObservedHom|ExpectedHom|GenotypesCount|\n",
      "+--------+---+-----------+-----------+--------------+\n",
      "+--------+---+-----------+-----------+--------------+\n",
      "\n"
     ]
    }
   ],
   "source": [
    "df2 = oskar.stats(df, studyId = \"hgvauser@platinum:illumina_platinum\", missingAsReference = True)\n",
    "oskar.inbreedingCoefficient(df2).filter(\"F > -1\").show()"
   ]
  },
  {
   "cell_type": "markdown",
   "metadata": {},
   "source": [
    "_* This null result evidences that there are a lot more observed heterozygous variants than expected, so Inbreeding cases are unlikely for this population's ancestry._"
   ]
  },
  {
   "cell_type": "markdown",
   "metadata": {},
   "source": [
    "### DE HECHO CREO Q EL COEF ES DEMASIADO BAJO, ALGO PASA AHÍ CON LOS VALORES."
   ]
  },
  {
   "cell_type": "markdown",
   "metadata": {},
   "source": [
    "## Mendelian error\n",
    "This transformer looks for variants which can't have been inherited by the specified samples.\n",
    "Usage:\n",
    "```python\n",
    "mendel(df[DataFrame], father[str], mother[str], child[str], studyId[str]=None)\n",
    "```"
   ]
  },
  {
   "cell_type": "code",
   "execution_count": 24,
   "metadata": {},
   "outputs": [
    {
     "name": "stdout",
     "output_type": "stream",
     "text": [
      "+---------------+--------------+\n",
      "|             id|mendelianError|\n",
      "+---------------+--------------+\n",
      "|22:16054454:C:T|             0|\n",
      "|22:16065809:T:C|             0|\n",
      "|22:16077310:T:A|             0|\n",
      "|22:16080499:A:G|             0|\n",
      "|22:16084621:T:C|             0|\n",
      "|22:16091610:G:T|             0|\n",
      "|22:16096040:G:A|             0|\n",
      "|22:16099957:C:T|             0|\n",
      "|22:16100462:A:G|             0|\n",
      "|22:16105660:G:A|             0|\n",
      "+---------------+--------------+\n",
      "only showing top 10 rows\n",
      "\n"
     ]
    }
   ],
   "source": [
    "oskar.mendel(df, \"NA12877\", \"NA12878\", \"NA12879\").select(\"id\", \"mendelianError\").show(10)"
   ]
  },
  {
   "cell_type": "code",
   "execution_count": 22,
   "metadata": {},
   "outputs": [
    {
     "name": "stdout",
     "output_type": "stream",
     "text": [
      "+------------------+--------------+\n",
      "|                id|mendelianError|\n",
      "+------------------+--------------+\n",
      "|22:19748211:CCCC:-|             1|\n",
      "+------------------+--------------+\n",
      "\n"
     ]
    }
   ],
   "source": [
    "# El ID del resultado es normal??? # df.filter(\"id = '22:19748211:CCCC:-'\").show()\n",
    "oskar.mendel(df, \"NA12877\", \"NA12878\", \"NA12879\").select(\"id\", \"mendelianError\").filter(col(\"mendelianError\") != \"0\").show()"
   ]
  },
  {
   "cell_type": "markdown",
   "metadata": {},
   "source": [
    "# TDT??? [No se pue poner aun pq el dataframe no tiene info de fenotipos creo]"
   ]
  },
  {
   "cell_type": "markdown",
   "metadata": {},
   "source": [
    "# COMPOUND HETEROZYGOTE???"
   ]
  }
 ],
 "metadata": {
  "kernelspec": {
   "display_name": "Python 3",
   "language": "python",
   "name": "python3"
  },
  "language_info": {
   "codemirror_mode": {
    "name": "ipython",
    "version": 3
   },
   "file_extension": ".py",
   "mimetype": "text/x-python",
   "name": "python",
   "nbconvert_exporter": "python",
   "pygments_lexer": "ipython3",
   "version": "3.6.7"
  }
 },
 "nbformat": 4,
 "nbformat_minor": 2
}
