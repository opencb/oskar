{
 "cells": [
  {
   "cell_type": "markdown",
   "metadata": {},
   "source": [
    "# **Facets tutorial**\n",
    "This Jupyter script is an example for a use case of the Pyoskar API, which works in perfect combination with Pyspark in order to provide a genomic analysis tool. On this example we show some ways that could be of interest to start using the Facets functionality."
   ]
  },
  {
   "cell_type": "markdown",
   "metadata": {},
   "source": [
    "We have to go through this step before we start using Pyoskar:"
   ]
  },
  {
   "cell_type": "code",
   "execution_count": 3,
   "metadata": {},
   "outputs": [],
   "source": [
    "from pyoskar.core import Oskar\n",
    "from pyoskar.sql import *\n",
    "from pyoskar.analysis import *\n",
    "from pyspark.sql.functions import col, udf, count, explode, concat, when, expr\n",
    "from pyspark.sql.functions import *\n",
    "\n",
    "oskar = Oskar(spark)\n",
    "df = oskar.load(\"/home/roldanx/appl/oskar/oskar-spark/src/test/resources/platinum_chr22.small.parquet\")"
   ]
  },
  {
   "cell_type": "markdown",
   "metadata": {},
   "source": [
    "## Simple facets\n",
    "Now that we have loaded our data, we start with an easy facet. This example executes the classics \"groupBy\" and \"count\" upon our dataframe. The next format was designed to be applied on categorical or discrete quantitative variants. That could be any among these: \n",
    " - Chromosome [<span style=\"color:#FF1493\"> **chromosome** </span>]\n",
    " - Variant type [<span style=\"color:#FF1493\"> **type** </span>]\n",
    " - Studies [<span style=\"color:#FF1493\"> **studies** </span>]\n",
    " - Biotype [<span style=\"color:#FF1493\"> **biotype** </span>]\n",
    " - Consequence type [<span style=\"color:#FF1493\"> **ct** </span>]\n",
    " - Gene [<span style=\"color:#FF1493\"> **gene** </span>]\n",
    " - Ensemble gene ID [<span style=\"color:#FF1493\"> **ensemblGeneId** </span>]\n",
    " - Ensemble gene transcript [<span style=\"color:#FF1493\"> **ensemblTranscriptId** </span>]"
   ]
  },
  {
   "cell_type": "code",
   "execution_count": 5,
   "metadata": {},
   "outputs": [
    {
     "name": "stdout",
     "output_type": "stream",
     "text": [
      "+-----+-----+\n",
      "| type|count|\n",
      "+-----+-----+\n",
      "|INDEL|  106|\n",
      "|  SNV|  894|\n",
      "+-----+-----+\n",
      "\n"
     ]
    }
   ],
   "source": [
    "oskar.facet(df, \"type\").show()"
   ]
  },
  {
   "cell_type": "code",
   "execution_count": 40,
   "metadata": {},
   "outputs": [
    {
     "name": "stdout",
     "output_type": "stream",
     "text": [
      "+----------------------------------+-----+\n",
      "|ct                                |count|\n",
      "+----------------------------------+-----+\n",
      "|2KB_downstream_variant            |146  |\n",
      "|2KB_upstream_variant              |146  |\n",
      "|3_prime_UTR_variant               |9    |\n",
      "|5_prime_UTR_variant               |1    |\n",
      "|NMD_transcript_variant            |140  |\n",
      "|TF_binding_site_variant           |108  |\n",
      "|downstream_gene_variant           |163  |\n",
      "|intergenic_variant                |222  |\n",
      "|intron_variant                    |543  |\n",
      "|missense_variant                  |4    |\n",
      "|non_coding_transcript_exon_variant|45   |\n",
      "|non_coding_transcript_variant     |385  |\n",
      "|regulatory_region_variant         |764  |\n",
      "|splice_donor_variant              |1    |\n",
      "|splice_region_variant             |2    |\n",
      "|synonymous_variant                |6    |\n",
      "|upstream_gene_variant             |200  |\n",
      "+----------------------------------+-----+\n",
      "\n"
     ]
    }
   ],
   "source": [
    "oskar.facet(df, \"ct\").show(truncate=False)"
   ]
  },
  {
   "cell_type": "markdown",
   "metadata": {},
   "source": [
    "## Include facets\n",
    "We can also applies a filtering based on the values we explicit in the function:"
   ]
  },
  {
   "cell_type": "code",
   "execution_count": 41,
   "metadata": {},
   "outputs": [
    {
     "name": "stdout",
     "output_type": "stream",
     "text": [
      "+-------+-----+\n",
      "|   gene|count|\n",
      "+-------+-----+\n",
      "|BCL2L13|    8|\n",
      "|  CECR2|   11|\n",
      "+-------+-----+\n",
      "\n"
     ]
    }
   ],
   "source": [
    "oskar.facet(df, \"gene[BCL2L13,CECR2]\").show()"
   ]
  },
  {
   "cell_type": "markdown",
   "metadata": {},
   "source": [
    "## Range facets\n",
    "Using a similar syntax as with \"Include facets\" but dealing with continuous quantitative we find that we can apply facets by range, where we can determine both upper and downer thresholds as well as the step e.g. \"[start..end]:step\". Available range fields:\n",
    " - Conservation scores: [<span style=\"color:#FF1493\"> **grep** </span>], [<span style=\"color:#FF1493\"> **phylop** </span>] or [<span style=\"color:#FF1493\"> **phastCons** </span>]\n",
    " - Functional scores: [<span style=\"color:#FF1493\"> **cadd_scaled** </span>] or [<span style=\"color:#FF1493\"> **cadd_raw** </span>]\n",
    " - Substitution scores: [<span style=\"color:#FF1493\"> **sift** </span>] or [<span style=\"color:#FF1493\"> **polyphen** </span>]"
   ]
  },
  {
   "cell_type": "code",
   "execution_count": 44,
   "metadata": {},
   "outputs": [
    {
     "name": "stdout",
     "output_type": "stream",
     "text": [
      "+-----------+-----+\n",
      "|phylopRange|count|\n",
      "+-----------+-----+\n",
      "|       -4.0|    3|\n",
      "|       -3.0|   12|\n",
      "|       -2.0|   55|\n",
      "|       -1.0|  171|\n",
      "|        0.0|  681|\n",
      "+-----------+-----+\n",
      "\n"
     ]
    }
   ],
   "source": [
    "oskar.facet(df, \"phylop[-5..0]:1\").show()"
   ]
  },
  {
   "cell_type": "markdown",
   "metadata": {},
   "source": [
    "Furthermore, we dispose two more rangeable fields where we could use our facets. These ones have the peculiarity that they need extra inputs to be fully defined; we will need to explicit the study which they pertain and the cohort delimited by two underscores. These fields are:\n",
    " - Global alternate population frequency [<span style=\"color:#FF1493\"> **popFreq** </span>] \n",
    " - Dataframe alternate population frequency [<span style=\"color:#FF1493\"> **stats** </span>], which is included in the dataframe stats field."
   ]
  },
  {
   "cell_type": "code",
   "execution_count": 123,
   "metadata": {},
   "outputs": [
    {
     "name": "stdout",
     "output_type": "stream",
     "text": [
      "+---------------------------------+-----+\n",
      "|popFreq__GNOMAD_GENOMES__ALLRange|count|\n",
      "+---------------------------------+-----+\n",
      "|                              0.0|  514|\n",
      "|                              0.1|  112|\n",
      "|                              0.2|   75|\n",
      "|              0.30000000000000004|   97|\n",
      "|                              0.4|   77|\n",
      "|                              0.5|   26|\n",
      "|               0.6000000000000001|   35|\n",
      "|               0.7000000000000001|   23|\n",
      "|                              0.8|   18|\n",
      "|                              0.9|   15|\n",
      "|                              1.0|    8|\n",
      "+---------------------------------+-----+\n",
      "\n"
     ]
    }
   ],
   "source": [
    "oskar.facet(df, \"popFreq__GNOMAD_GENOMES__ALL[0..1]:0.1\").show()"
   ]
  },
  {
   "cell_type": "markdown",
   "metadata": {},
   "source": [
    "In case we want to get the dataframe alternate population frequency, first we will need to fill the stats field as explained in the \"stats\" tutorial:"
   ]
  },
  {
   "cell_type": "code",
   "execution_count": 9,
   "metadata": {},
   "outputs": [
    {
     "name": "stdout",
     "output_type": "stream",
     "text": [
      "+----------------------------------------------------+-----+\n",
      "|stats__hgvauser@platinum:illumina_platinum__ALLRange|count|\n",
      "+----------------------------------------------------+-----+\n",
      "|                                                 0.0|   41|\n",
      "|                                                 0.1|   15|\n",
      "|                                                 0.2|   14|\n",
      "|                                 0.30000000000000004|   10|\n",
      "|                                                 0.4|    7|\n",
      "|                                                 0.5|  714|\n",
      "|                                  0.6000000000000001|   68|\n",
      "|                                  0.7000000000000001|   49|\n",
      "|                                                 0.8|   12|\n",
      "|                                                 0.9|   21|\n",
      "|                                                 1.0|   48|\n",
      "+----------------------------------------------------+-----+\n",
      "\n"
     ]
    }
   ],
   "source": [
    "samples = oskar.metadata.samples(df)[\"hgvauser@platinum:illumina_platinum\"]\n",
    "df2 = oskar.stats(df,studyId=\"hgvauser@platinum:illumina_platinum\",cohort=\"ALL\",samples=samples)\n",
    "oskar.facet(df2, \"stats__hgvauser@platinum:illumina_platinum__ALL[0..1]:0.1\").show()"
   ]
  },
  {
   "cell_type": "markdown",
   "metadata": {},
   "source": [
    "## Aggregation facets\n",
    "We may want to check whether the compounds of all variants have historically been well conservated or otherways have notably evolved. For this task we could use the aggregation facets, with substitutes the default \"count\" function for another one we decide among this ones:\n",
    " - Average [<span style=\"color:#FF1493\"> **avg** </span>]\n",
    " - Maximum [<span style=\"color:#FF1493\"> **max** </span>]\n",
    " - Minimum [<span style=\"color:#FF1493\"> **min** </span>]\n",
    " - Sumatory [<span style=\"color:#FF1493\"> **sum** </span>]\n",
    " - Squared sumatory [<span style=\"color:#FF1493\"> **sumsq** </span>]\n",
    " - Standard deviation [<span style=\"color:#FF1493\"> **stddev** </span>]\n",
    " - Variance [<span style=\"color:#FF1493\"> **var** </span>]\n",
    " - Percentile values [<span style=\"color:#FF1493\"> **percentile** </span>]\n",
    " - Set of values [<span style=\"color:#FF1493\"> **unique** </span>]"
   ]
  },
  {
   "cell_type": "code",
   "execution_count": 16,
   "metadata": {},
   "outputs": [
    {
     "name": "stdout",
     "output_type": "stream",
     "text": [
      "+-------------------+-----+\n",
      "|          avg(gerp)|count|\n",
      "+-------------------+-----+\n",
      "|-0.3518712293113349| 1000|\n",
      "+-------------------+-----+\n",
      "\n"
     ]
    }
   ],
   "source": [
    "oskar.facet(df, \"avg(gerp)\").show(truncate=False)"
   ]
  },
  {
   "cell_type": "code",
   "execution_count": 162,
   "metadata": {},
   "outputs": [
    {
     "name": "stdout",
     "output_type": "stream",
     "text": [
      "+---------------------------------------------------------------------------------------+-----+\n",
      "|percentile(gerp)                                                                       |count|\n",
      "+---------------------------------------------------------------------------------------+-----+\n",
      "|[-2.152000093460083, -0.6257500052452087, 0.0, 0.14900000393390656, 0.7430999755859375]|1000 |\n",
      "+---------------------------------------------------------------------------------------+-----+\n",
      "\n"
     ]
    }
   ],
   "source": [
    "oskar.facet(df, \"percentile(gerp)\").show(truncate=False)"
   ]
  },
  {
   "cell_type": "markdown",
   "metadata": {},
   "source": [
    "## Nested facets\n",
    "The last feature we find available for our facet queries is nesting, which allows us to concatenate gruops and reach complex studies by using \">>\" separator."
   ]
  },
  {
   "cell_type": "code",
   "execution_count": 52,
   "metadata": {},
   "outputs": [
    {
     "name": "stdout",
     "output_type": "stream",
     "text": [
      "+-----------------------+--------------------+-----+\n",
      "|biotype                |ct                  |count|\n",
      "+-----------------------+--------------------+-----+\n",
      "|nonsense_mediated_decay|splice_donor_variant|1    |\n",
      "|processed_transcript   |splice_donor_variant|1    |\n",
      "|protein_coding         |splice_donor_variant|1    |\n",
      "|retained_intron        |splice_donor_variant|1    |\n",
      "+-----------------------+--------------------+-----+\n",
      "\n"
     ]
    }
   ],
   "source": [
    "oskar.facet(df, \"biotype>>ct[splice_donor_variant]\").show(truncate=False)"
   ]
  },
  {
   "cell_type": "markdown",
   "metadata": {},
   "source": [
    "## Final facets\n",
    "Now it is up to us to mix all these ingredients:"
   ]
  },
  {
   "cell_type": "code",
   "execution_count": 122,
   "metadata": {},
   "outputs": [
    {
     "name": "stdout",
     "output_type": "stream",
     "text": [
      "+-----+-----------------------+-------------+----------------+--------------------+-----+\n",
      "|gene |biotype                |cadd_rawRange|cadd_scaledRange|min(phylop)         |count|\n",
      "+-----+-----------------------+-------------+----------------+--------------------+-----+\n",
      "|AIFM3|lincRNA                |0.2          |6.0             |-0.2809999883174896 |1    |\n",
      "|AIFM3|nonsense_mediated_decay|0.2          |6.0             |-0.2809999883174896 |1    |\n",
      "|AIFM3|processed_transcript   |0.2          |6.0             |-0.2809999883174896 |1    |\n",
      "|AIFM3|protein_coding         |0.2          |6.0             |-0.2809999883174896 |1    |\n",
      "|AIFM3|retained_intron        |0.2          |6.0             |-0.2809999883174896 |1    |\n",
      "|GGT1 |nonsense_mediated_decay|-0.2         |0.0             |-1.1380000114440918 |2    |\n",
      "|GGT1 |nonsense_mediated_decay|0.0          |1.0             |0.10199999809265137 |2    |\n",
      "|GGT1 |nonsense_mediated_decay|0.0          |2.0             |0.054999999701976776|1    |\n",
      "|GGT1 |nonsense_mediated_decay|0.0          |4.0             |0.2809999883174896  |1    |\n",
      "|GGT1 |nonsense_mediated_decay|0.4          |7.0             |-1.50600004196167   |2    |\n",
      "|GGT1 |processed_transcript   |-0.2         |0.0             |0.10199999809265137 |1    |\n",
      "|GGT1 |processed_transcript   |0.0          |1.0             |0.10199999809265137 |1    |\n",
      "|GGT1 |processed_transcript   |0.0          |2.0             |0.054999999701976776|1    |\n",
      "|GGT1 |processed_transcript   |0.0          |4.0             |0.2809999883174896  |1    |\n",
      "|GGT1 |processed_transcript   |0.4          |7.0             |-1.50600004196167   |2    |\n",
      "|GGT1 |protein_coding         |-0.2         |0.0             |-1.1380000114440918 |2    |\n",
      "|GGT1 |protein_coding         |0.0          |1.0             |0.10199999809265137 |2    |\n",
      "|GGT1 |protein_coding         |0.0          |2.0             |0.054999999701976776|1    |\n",
      "|GGT1 |protein_coding         |0.0          |4.0             |0.2809999883174896  |1    |\n",
      "|GGT1 |protein_coding         |0.4          |7.0             |-1.50600004196167   |2    |\n",
      "|GGT1 |retained_intron        |-0.2         |0.0             |0.10199999809265137 |1    |\n",
      "|GGT1 |retained_intron        |0.0          |1.0             |0.10199999809265137 |2    |\n",
      "|GGT1 |retained_intron        |0.4          |7.0             |-0.7080000042915344 |1    |\n",
      "|GGT1 |sense_intronic         |-0.2         |0.0             |-1.1380000114440918 |1    |\n",
      "|GGT1 |unprocessed_pseudogene |0.4          |7.0             |-1.50600004196167   |1    |\n",
      "+-----+-----------------------+-------------+----------------+--------------------+-----+\n",
      "\n"
     ]
    }
   ],
   "source": [
    "oskar.facet(df, \"gene[AIFM3,GGT1]>>biotype>>cadd_raw[-10..10]:0.2>>cadd_scaled[-10..10]:1>>min(phylop)\").show(25, truncate=False)"
   ]
  },
  {
   "cell_type": "code",
   "execution_count": 96,
   "metadata": {},
   "outputs": [
    {
     "name": "stdout",
     "output_type": "stream",
     "text": [
      "+----+---------------------------------+-----+\n",
      "|type|popFreq__GNOMAD_GENOMES__ALLRange|count|\n",
      "+----+---------------------------------+-----+\n",
      "| SNV|                              0.0|  478|\n",
      "| SNV|                              0.1|   95|\n",
      "| SNV|                              0.2|   57|\n",
      "| SNV|              0.30000000000000004|   90|\n",
      "| SNV|                              0.4|   66|\n",
      "| SNV|                              0.5|   21|\n",
      "+----+---------------------------------+-----+\n",
      "\n",
      "+-----+---------------------------------+-----+\n",
      "| type|popFreq__GNOMAD_GENOMES__ALLRange|count|\n",
      "+-----+---------------------------------+-----+\n",
      "|INDEL|                              0.0|   36|\n",
      "|INDEL|                              0.1|   17|\n",
      "|INDEL|                              0.2|   18|\n",
      "|INDEL|              0.30000000000000004|    7|\n",
      "|INDEL|                              0.4|   11|\n",
      "|INDEL|                              0.5|    5|\n",
      "+-----+---------------------------------+-----+\n",
      "\n"
     ]
    }
   ],
   "source": [
    "snvPandas = oskar.facet(df, \"type[SNV]>>popFreq__GNOMAD_GENOMES__ALL[0..0.5]:0.1\").show()\n",
    "indelPandas = oskar.facet(df, \"type[INDEL]>>popFreq__GNOMAD_GENOMES__ALL[0..0.5]:0.1\").show()"
   ]
  },
  {
   "cell_type": "code",
   "execution_count": 7,
   "metadata": {},
   "outputs": [
    {
     "data": {
      "text/html": [
       "<script type=\"text/javascript\">window.PlotlyConfig = {MathJaxConfig: 'local'};</script><script type=\"text/javascript\">if (window.MathJax) {MathJax.Hub.Config({SVG: {font: \"STIX-Web\"}});}</script><script>requirejs.config({paths: { 'plotly': ['https://cdn.plot.ly/plotly-latest.min']},});if(!window._Plotly) {require(['plotly'],function(plotly) {window._Plotly=plotly;});}</script>"
      ],
      "text/vnd.plotly.v1+html": [
       "<script type=\"text/javascript\">window.PlotlyConfig = {MathJaxConfig: 'local'};</script><script type=\"text/javascript\">if (window.MathJax) {MathJax.Hub.Config({SVG: {font: \"STIX-Web\"}});}</script><script>requirejs.config({paths: { 'plotly': ['https://cdn.plot.ly/plotly-latest.min']},});if(!window._Plotly) {require(['plotly'],function(plotly) {window._Plotly=plotly;});}</script>"
      ]
     },
     "metadata": {},
     "output_type": "display_data"
    },
    {
     "data": {
      "application/vnd.plotly.v1+json": {
       "config": {
        "linkText": "Export to plot.ly",
        "plotlyServerURL": "https://plot.ly",
        "showLink": true
       },
       "data": [
        {
         "domain": {
          "x": [
           0,
           0.48
          ]
         },
         "hole": 0.4,
         "labels": [
          0,
          0.1,
          0.2,
          0.30000000000000004,
          0.4,
          0.5
         ],
         "type": "pie",
         "uid": "935ed220-f713-4035-8a30-1c79dee5aa7d",
         "values": [
          478,
          95,
          57,
          90,
          66,
          21
         ]
        },
        {
         "domain": {
          "x": [
           0.51,
           1
          ]
         },
         "hole": 0.4,
         "labels": [
          0,
          0.1,
          0.2,
          0.30000000000000004,
          0.4,
          0.5
         ],
         "type": "pie",
         "uid": "fcf24555-7061-411c-9ed7-ac58ebb3c67c",
         "values": [
          36,
          17,
          18,
          7,
          11,
          5
         ]
        }
       ],
       "layout": {
        "annotations": [
         {
          "font": {
           "size": 18
          },
          "showarrow": false,
          "text": "SNV",
          "x": 0.22,
          "y": 0.5
         },
         {
          "font": {
           "size": 18
          },
          "showarrow": false,
          "text": "INDEL",
          "x": 0.78,
          "y": 0.5
         }
        ],
        "autosize": false,
        "height": 600,
        "title": "Global alternate population frequencies [ALL]",
        "width": 1500
       }
      },
      "image/png": "[encoded data removed]",
      "text/html": [
       "<div id=\"b0fd50ac-6d9c-4d2f-8b09-a10f96c4914f\" style=\"height: 600px; width: 1500px;\" class=\"plotly-graph-div\"></div><script type=\"text/javascript\">require([\"plotly\"], function(Plotly) { window.PLOTLYENV=window.PLOTLYENV || {};window.PLOTLYENV.BASE_URL=\"https://plot.ly\";Plotly.newPlot(\"b0fd50ac-6d9c-4d2f-8b09-a10f96c4914f\", [{\"domain\": {\"x\": [0, 0.48]}, \"hole\": 0.4, \"labels\": [0.0, 0.1, 0.2, 0.30000000000000004, 0.4, 0.5], \"values\": [478, 95, 57, 90, 66, 21], \"type\": \"pie\", \"uid\": \"ccdae7d1-3d6b-4097-a3e0-c1e82c78cbd4\"}, {\"domain\": {\"x\": [0.51, 1]}, \"hole\": 0.4, \"labels\": [0.0, 0.1, 0.2, 0.30000000000000004, 0.4, 0.5], \"values\": [36, 17, 18, 7, 11, 5], \"type\": \"pie\", \"uid\": \"568a15b5-c6c6-4e62-bd00-ef9f281c63e3\"}], {\"annotations\": [{\"font\": {\"size\": 18}, \"showarrow\": false, \"text\": \"SNV\", \"x\": 0.22, \"y\": 0.5}, {\"font\": {\"size\": 18}, \"showarrow\": false, \"text\": \"INDEL\", \"x\": 0.78, \"y\": 0.5}], \"autosize\": false, \"height\": 600, \"title\": \"Global alternate population frequencies [ALL]\", \"width\": 1500}, {\"showLink\": true, \"linkText\": \"Export to plot.ly\", \"plotlyServerURL\": \"https://plot.ly\"})});</script>"
      ],
      "text/vnd.plotly.v1+html": [
       "<div id=\"b0fd50ac-6d9c-4d2f-8b09-a10f96c4914f\" style=\"height: 600px; width: 1500px;\" class=\"plotly-graph-div\"></div><script type=\"text/javascript\">require([\"plotly\"], function(Plotly) { window.PLOTLYENV=window.PLOTLYENV || {};window.PLOTLYENV.BASE_URL=\"https://plot.ly\";Plotly.newPlot(\"b0fd50ac-6d9c-4d2f-8b09-a10f96c4914f\", [{\"domain\": {\"x\": [0, 0.48]}, \"hole\": 0.4, \"labels\": [0.0, 0.1, 0.2, 0.30000000000000004, 0.4, 0.5], \"values\": [478, 95, 57, 90, 66, 21], \"type\": \"pie\", \"uid\": \"ccdae7d1-3d6b-4097-a3e0-c1e82c78cbd4\"}, {\"domain\": {\"x\": [0.51, 1]}, \"hole\": 0.4, \"labels\": [0.0, 0.1, 0.2, 0.30000000000000004, 0.4, 0.5], \"values\": [36, 17, 18, 7, 11, 5], \"type\": \"pie\", \"uid\": \"568a15b5-c6c6-4e62-bd00-ef9f281c63e3\"}], {\"annotations\": [{\"font\": {\"size\": 18}, \"showarrow\": false, \"text\": \"SNV\", \"x\": 0.22, \"y\": 0.5}, {\"font\": {\"size\": 18}, \"showarrow\": false, \"text\": \"INDEL\", \"x\": 0.78, \"y\": 0.5}], \"autosize\": false, \"height\": 600, \"title\": \"Global alternate population frequencies [ALL]\", \"width\": 1500}, {\"showLink\": true, \"linkText\": \"Export to plot.ly\", \"plotlyServerURL\": \"https://plot.ly\"})});</script>"
      ]
     },
     "metadata": {},
     "output_type": "display_data"
    }
   ],
   "source": [
    "import plotly.offline as py\n",
    "import plotly.graph_objs as go\n",
    "from plotly.offline import get_plotlyjs, init_notebook_mode\n",
    "\n",
    "snvPandas = oskar.facet(df, \"type[SNV]>>popFreq__GNOMAD_GENOMES__ALL[0..0.5]:0.1\").toPandas()\n",
    "indelPandas = oskar.facet(df, \"type[INDEL]>>popFreq__GNOMAD_GENOMES__ALL[0..0.5]:0.1\").toPandas()\n",
    "\n",
    "init_notebook_mode(connected=True)\n",
    "\n",
    "fig = {\n",
    "  \"data\": [\n",
    "    {\n",
    "      \"values\": snvPandas[\"count\"],\n",
    "      \"labels\": snvPandas[\"popFreq__GNOMAD_GENOMES__ALLRange\"],\n",
    "      \"domain\": {\"x\": [0, .48]},\n",
    "      \"hole\": .4,\n",
    "      \"type\": \"pie\"\n",
    "    },\n",
    "    {\n",
    "      \"values\": indelPandas[\"count\"],\n",
    "      \"labels\": indelPandas[\"popFreq__GNOMAD_GENOMES__ALLRange\"],\n",
    "      \"domain\": {\"x\": [.51, 1]},\n",
    "      \"hole\": .4,\n",
    "      \"type\": \"pie\"\n",
    "    }],\n",
    "  \"layout\": {\n",
    "        \"title\":\"Global alternate population frequencies [ALL]\",\n",
    "        \"autosize\":False,\n",
    "        \"width\":1500,\n",
    "        \"height\":600,\n",
    "        \"annotations\": [\n",
    "            {\n",
    "                \"font\": {\n",
    "                    \"size\": 18\n",
    "                },\n",
    "                \"showarrow\": False,\n",
    "                \"text\": \"SNV\",\n",
    "                \"x\": 0.22,\n",
    "                \"y\": 0.5\n",
    "            },\n",
    "            {\n",
    "                \"font\": {\n",
    "                    \"size\": 18\n",
    "                },\n",
    "                \"showarrow\": False,\n",
    "                \"text\": \"INDEL\",\n",
    "                \"x\": 0.78,\n",
    "                \"y\": 0.5\n",
    "            }\n",
    "        ]\n",
    "    }\n",
    "}\n",
    "py.iplot(fig, filename='donut')"
   ]
  }
 ],
 "metadata": {
  "kernelspec": {
   "display_name": "Python 3",
   "language": "python",
   "name": "python3"
  },
  "language_info": {
   "codemirror_mode": {
    "name": "ipython",
    "version": 3
   },
   "file_extension": ".py",
   "mimetype": "text/x-python",
   "name": "python",
   "nbconvert_exporter": "python",
   "pygments_lexer": "ipython3",
   "version": "3.6.7"
  }
 },
 "nbformat": 4,
 "nbformat_minor": 2
}
