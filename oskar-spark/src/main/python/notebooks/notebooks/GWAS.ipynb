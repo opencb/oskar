{
 "cells": [
  {
   "cell_type": "markdown",
   "metadata": {},
   "source": [
    "# **GWAS tutorial**"
   ]
  },
  {
   "cell_type": "code",
   "execution_count": 2,
   "metadata": {},
   "outputs": [],
   "source": [
    "from pyoskar.core import Oskar\n",
    "from pyoskar.sql import *\n",
    "from pyoskar.analysis import *\n",
    "from pyspark.sql.functions import col, udf, count, explode, concat, when, expr\n",
    "from pyspark.sql.functions import *\n",
    "\n",
    "oskar = Oskar(spark)\n",
    "df = oskar.load(\"/home/roldanx/appl/oskar/oskar-spark/src/test/resources/platinum_chr22.small.parquet\")"
   ]
  },
  {
   "cell_type": "markdown",
   "metadata": {},
   "source": [
    "## ChiSquare vs Fisher"
   ]
  },
  {
   "cell_type": "code",
   "execution_count": 2,
   "metadata": {},
   "outputs": [
    {
     "data": {
      "text/html": [
       "<script type=\"text/javascript\">window.PlotlyConfig = {MathJaxConfig: 'local'};</script><script type=\"text/javascript\">if (window.MathJax) {MathJax.Hub.Config({SVG: {font: \"STIX-Web\"}});}</script><script>requirejs.config({paths: { 'plotly': ['https://cdn.plot.ly/plotly-latest.min']},});if(!window._Plotly) {require(['plotly'],function(plotly) {window._Plotly=plotly;});}</script>"
      ],
      "text/vnd.plotly.v1+html": [
       "<script type=\"text/javascript\">window.PlotlyConfig = {MathJaxConfig: 'local'};</script><script type=\"text/javascript\">if (window.MathJax) {MathJax.Hub.Config({SVG: {font: \"STIX-Web\"}});}</script><script>requirejs.config({paths: { 'plotly': ['https://cdn.plot.ly/plotly-latest.min']},});if(!window._Plotly) {require(['plotly'],function(plotly) {window._Plotly=plotly;});}</script>"
      ]
     },
     "metadata": {},
     "output_type": "display_data"
    },
    {
     "data": {
      "application/vnd.plotly.v1+json": {
       "config": {
        "linkText": "Export to plot.ly",
        "plotlyServerURL": "https://plot.ly",
        "showLink": true
       },
       "data": [
        {
         "hoverinfo": "text",
         "marker": {
          "color": "rgb(61,153,112)"
         },
         "mode": "lines",
         "type": "scatter",
         "uid": "6804433d-3874-47f1-9328-fd6d791d973f",
         "x": [
          5,
          5,
          15,
          15
         ],
         "xaxis": "x",
         "y": [
          0,
          0.8667335108277093,
          0.8667335108277093,
          0
         ],
         "yaxis": "y"
        },
        {
         "hoverinfo": "text",
         "marker": {
          "color": "rgb(255,65,54)"
         },
         "mode": "lines",
         "type": "scatter",
         "uid": "c409c96e-4124-4a37-98a9-5efed82f4e57",
         "x": [
          35,
          35,
          45,
          45
         ],
         "xaxis": "x",
         "y": [
          0,
          0.08677209068463083,
          0.08677209068463083,
          0
         ],
         "yaxis": "y"
        },
        {
         "hoverinfo": "text",
         "marker": {
          "color": "rgb(255,65,54)"
         },
         "mode": "lines",
         "type": "scatter",
         "uid": "e32c0705-d184-4c62-b0af-95a8220a554f",
         "x": [
          25,
          25,
          40,
          40
         ],
         "xaxis": "x",
         "y": [
          0,
          0.6285833547745917,
          0.6285833547745917,
          0.08677209068463083
         ],
         "yaxis": "y"
        },
        {
         "hoverinfo": "text",
         "marker": {
          "color": "rgb(35,205,205)"
         },
         "mode": "lines",
         "type": "scatter",
         "uid": "9d0446df-545d-425c-9cc6-64d4c3d9d22c",
         "x": [
          65,
          65,
          75,
          75
         ],
         "xaxis": "x",
         "y": [
          0,
          0.002082411728605238,
          0.002082411728605238,
          0
         ],
         "yaxis": "y"
        },
        {
         "hoverinfo": "text",
         "marker": {
          "color": "rgb(35,205,205)"
         },
         "mode": "lines",
         "type": "scatter",
         "uid": "4407f4d1-430f-426f-9f91-f9913a8d623a",
         "x": [
          55,
          55,
          70,
          70
         ],
         "xaxis": "x",
         "y": [
          0,
          0.3516357785450717,
          0.3516357785450717,
          0.002082411728605238
         ],
         "yaxis": "y"
        },
        {
         "hoverinfo": "text",
         "marker": {
          "color": "rgb(35,205,205)"
         },
         "mode": "lines",
         "type": "scatter",
         "uid": "75309dfe-b888-4e11-a76c-bf3c7b57c556",
         "x": [
          85,
          85,
          95,
          95
         ],
         "xaxis": "x",
         "y": [
          0,
          0,
          0,
          0
         ],
         "yaxis": "y"
        },
        {
         "hoverinfo": "text",
         "marker": {
          "color": "rgb(35,205,205)"
         },
         "mode": "lines",
         "type": "scatter",
         "uid": "d5f2fef9-fea2-487d-9c59-e181f0f89bcb",
         "x": [
          125,
          125,
          135,
          135
         ],
         "xaxis": "x",
         "y": [
          0,
          0,
          0,
          0
         ],
         "yaxis": "y"
        },
        {
         "hoverinfo": "text",
         "marker": {
          "color": "rgb(35,205,205)"
         },
         "mode": "lines",
         "type": "scatter",
         "uid": "315283d0-e8cc-4db4-aa2a-35941be5df36",
         "x": [
          115,
          115,
          130,
          130
         ],
         "xaxis": "x",
         "y": [
          0,
          0.005422412590526782,
          0.005422412590526782,
          0
         ],
         "yaxis": "y"
        },
        {
         "hoverinfo": "text",
         "marker": {
          "color": "rgb(35,205,205)"
         },
         "mode": "lines",
         "type": "scatter",
         "uid": "92d0e3ae-16ae-42db-9754-c0c2934bb42f",
         "x": [
          105,
          105,
          122.5,
          122.5
         ],
         "xaxis": "x",
         "y": [
          0,
          0.26207719702164006,
          0.26207719702164006,
          0.005422412590526782
         ],
         "yaxis": "y"
        },
        {
         "hoverinfo": "text",
         "marker": {
          "color": "rgb(35,205,205)"
         },
         "mode": "lines",
         "type": "scatter",
         "uid": "e32dad3d-3059-42e6-8675-c1c65ef7d66c",
         "x": [
          90,
          90,
          113.75,
          113.75
         ],
         "xaxis": "x",
         "y": [
          0,
          0.6354696748308597,
          0.6354696748308597,
          0.26207719702164006
         ],
         "yaxis": "y"
        },
        {
         "hoverinfo": "text",
         "marker": {
          "color": "rgb(35,205,205)"
         },
         "mode": "lines",
         "type": "scatter",
         "uid": "30a0e9d1-42b2-4c22-98cd-41e90a590964",
         "x": [
          62.5,
          62.5,
          101.875,
          101.875
         ],
         "xaxis": "x",
         "y": [
          0.3516357785450717,
          0.7720730356838806,
          0.7720730356838806,
          0.6354696748308597
         ],
         "yaxis": "y"
        },
        {
         "hoverinfo": "text",
         "marker": {
          "color": "rgb(0,116,217)"
         },
         "mode": "lines",
         "type": "scatter",
         "uid": "4b5a89e1-7ddd-4060-b259-3af9d931e454",
         "x": [
          32.5,
          32.5,
          82.1875,
          82.1875
         ],
         "xaxis": "x",
         "y": [
          0.6285833547745917,
          1.0958514990912334,
          1.0958514990912334,
          0.7720730356838806
         ],
         "yaxis": "y"
        },
        {
         "hoverinfo": "text",
         "marker": {
          "color": "rgb(133,20,75)"
         },
         "mode": "lines",
         "type": "scatter",
         "uid": "a3578510-25c7-4e00-affb-02fd5c55fc82",
         "x": [
          165,
          165,
          175,
          175
         ],
         "xaxis": "x",
         "y": [
          0,
          0.5590671224138731,
          0.5590671224138731,
          0
         ],
         "yaxis": "y"
        },
        {
         "hoverinfo": "text",
         "marker": {
          "color": "rgb(133,20,75)"
         },
         "mode": "lines",
         "type": "scatter",
         "uid": "e4eb3974-da54-49af-8cb1-aa7cfb2d42a5",
         "x": [
          155,
          155,
          170,
          170
         ],
         "xaxis": "x",
         "y": [
          0,
          0.6835699921250191,
          0.6835699921250191,
          0.5590671224138731
         ],
         "yaxis": "y"
        },
        {
         "hoverinfo": "text",
         "marker": {
          "color": "rgb(0,116,217)"
         },
         "mode": "lines",
         "type": "scatter",
         "uid": "4405b85e-7e62-4620-89eb-f4b6cf6b20de",
         "x": [
          145,
          145,
          162.5,
          162.5
         ],
         "xaxis": "x",
         "y": [
          0,
          1.46988442612576,
          1.46988442612576,
          0.6835699921250191
         ],
         "yaxis": "y"
        },
        {
         "hoverinfo": "text",
         "marker": {
          "color": "rgb(0,116,217)"
         },
         "mode": "lines",
         "type": "scatter",
         "uid": "1233e5d1-f240-4f92-a307-d1f7f5fe62ee",
         "x": [
          57.34375,
          57.34375,
          153.75,
          153.75
         ],
         "xaxis": "x",
         "y": [
          1.0958514990912334,
          1.9086835713758745,
          1.9086835713758745,
          1.46988442612576
         ],
         "yaxis": "y"
        },
        {
         "hoverinfo": "text",
         "marker": {
          "color": "rgb(0,116,217)"
         },
         "mode": "lines",
         "type": "scatter",
         "uid": "f0b1dae9-c667-465f-a1c5-c301ec994b53",
         "x": [
          10,
          10,
          105.546875,
          105.546875
         ],
         "xaxis": "x",
         "y": [
          0.8667335108277093,
          3.183282918968783,
          3.183282918968783,
          1.9086835713758745
         ],
         "yaxis": "y"
        }
       ],
       "layout": {
        "autosize": false,
        "height": 500,
        "hovermode": "closest",
        "showlegend": true,
        "title": "chiSquare vs fisher",
        "width": 1440,
        "xaxis": {
         "autorange": true,
         "mirror": "allticks",
         "range": [
          0,
          175
         ],
         "rangemode": "tozero",
         "showgrid": false,
         "showline": true,
         "showticklabels": true,
         "tickmode": "array",
         "ticks": "outside",
         "ticktext": [
          "22:16914822:C:G",
          "22:16952200:T:C",
          "22:16916066:T:C",
          "22:16912775:C:A",
          "22:16913788:A:T",
          "22:16932137:C:A",
          "22:16926176:T:A",
          "22:16928421:A:G",
          "22:16948327:G:A",
          "22:16948479:A:G",
          "22:16938334:G:C",
          "22:16957623:G:A",
          "22:16950203:C:T",
          "22:16950203:C:T",
          "22:16933241:T:C",
          "22:16950192:A:T",
          "22:16912210:A:G",
          "22:16927996:G:A"
         ],
         "tickvals": [
          5,
          15,
          25,
          35,
          45,
          55,
          65,
          75,
          85,
          95,
          105,
          115,
          125,
          135,
          145,
          155,
          165,
          175
         ],
         "type": "linear",
         "zeroline": false
        },
        "yaxis": {
         "autorange": true,
         "mirror": "allticks",
         "range": [
          0,
          3.350824125230298
         ],
         "rangemode": "tozero",
         "showgrid": false,
         "showline": true,
         "showticklabels": true,
         "ticks": "outside",
         "type": "linear",
         "zeroline": false
        }
       }
      },
      "image/png": "[encoded data removed]",
      "text/html": [
       "<div id=\"9c7141a2-9a7f-4667-a725-6f05fb12b4e8\" style=\"height: 500px; width: 1440px;\" class=\"plotly-graph-div\"></div><script type=\"text/javascript\">require([\"plotly\"], function(Plotly) { window.PLOTLYENV=window.PLOTLYENV || {};window.PLOTLYENV.BASE_URL=\"https://plot.ly\";Plotly.newPlot(\"9c7141a2-9a7f-4667-a725-6f05fb12b4e8\", [{\"hoverinfo\": \"text\", \"marker\": {\"color\": \"rgb(61,153,112)\"}, \"mode\": \"lines\", \"x\": [5.0, 5.0, 15.0, 15.0], \"xaxis\": \"x\", \"y\": [0.0, 0.8667335108277093, 0.8667335108277093, 0.0], \"yaxis\": \"y\", \"type\": \"scatter\", \"uid\": \"6804433d-3874-47f1-9328-fd6d791d973f\"}, {\"hoverinfo\": \"text\", \"marker\": {\"color\": \"rgb(255,65,54)\"}, \"mode\": \"lines\", \"x\": [35.0, 35.0, 45.0, 45.0], \"xaxis\": \"x\", \"y\": [0.0, 0.08677209068463083, 0.08677209068463083, 0.0], \"yaxis\": \"y\", \"type\": \"scatter\", \"uid\": \"c409c96e-4124-4a37-98a9-5efed82f4e57\"}, {\"hoverinfo\": \"text\", \"marker\": {\"color\": \"rgb(255,65,54)\"}, \"mode\": \"lines\", \"x\": [25.0, 25.0, 40.0, 40.0], \"xaxis\": \"x\", \"y\": [0.0, 0.6285833547745917, 0.6285833547745917, 0.08677209068463083], \"yaxis\": \"y\", \"type\": \"scatter\", \"uid\": \"e32c0705-d184-4c62-b0af-95a8220a554f\"}, {\"hoverinfo\": \"text\", \"marker\": {\"color\": \"rgb(35,205,205)\"}, \"mode\": \"lines\", \"x\": [65.0, 65.0, 75.0, 75.0], \"xaxis\": \"x\", \"y\": [0.0, 0.002082411728605238, 0.002082411728605238, 0.0], \"yaxis\": \"y\", \"type\": \"scatter\", \"uid\": \"9d0446df-545d-425c-9cc6-64d4c3d9d22c\"}, {\"hoverinfo\": \"text\", \"marker\": {\"color\": \"rgb(35,205,205)\"}, \"mode\": \"lines\", \"x\": [55.0, 55.0, 70.0, 70.0], \"xaxis\": \"x\", \"y\": [0.0, 0.3516357785450717, 0.3516357785450717, 0.002082411728605238], \"yaxis\": \"y\", \"type\": \"scatter\", \"uid\": \"4407f4d1-430f-426f-9f91-f9913a8d623a\"}, {\"hoverinfo\": \"text\", \"marker\": {\"color\": \"rgb(35,205,205)\"}, \"mode\": \"lines\", \"x\": [85.0, 85.0, 95.0, 95.0], \"xaxis\": \"x\", \"y\": [0.0, 0.0, 0.0, 0.0], \"yaxis\": \"y\", \"type\": \"scatter\", \"uid\": \"75309dfe-b888-4e11-a76c-bf3c7b57c556\"}, {\"hoverinfo\": \"text\", \"marker\": {\"color\": \"rgb(35,205,205)\"}, \"mode\": \"lines\", \"x\": [125.0, 125.0, 135.0, 135.0], \"xaxis\": \"x\", \"y\": [0.0, 0.0, 0.0, 0.0], \"yaxis\": \"y\", \"type\": \"scatter\", \"uid\": \"d5f2fef9-fea2-487d-9c59-e181f0f89bcb\"}, {\"hoverinfo\": \"text\", \"marker\": {\"color\": \"rgb(35,205,205)\"}, \"mode\": \"lines\", \"x\": [115.0, 115.0, 130.0, 130.0], \"xaxis\": \"x\", \"y\": [0.0, 0.005422412590526782, 0.005422412590526782, 0.0], \"yaxis\": \"y\", \"type\": \"scatter\", \"uid\": \"315283d0-e8cc-4db4-aa2a-35941be5df36\"}, {\"hoverinfo\": \"text\", \"marker\": {\"color\": \"rgb(35,205,205)\"}, \"mode\": \"lines\", \"x\": [105.0, 105.0, 122.5, 122.5], \"xaxis\": \"x\", \"y\": [0.0, 0.26207719702164006, 0.26207719702164006, 0.005422412590526782], \"yaxis\": \"y\", \"type\": \"scatter\", \"uid\": \"92d0e3ae-16ae-42db-9754-c0c2934bb42f\"}, {\"hoverinfo\": \"text\", \"marker\": {\"color\": \"rgb(35,205,205)\"}, \"mode\": \"lines\", \"x\": [90.0, 90.0, 113.75, 113.75], \"xaxis\": \"x\", \"y\": [0.0, 0.6354696748308597, 0.6354696748308597, 0.26207719702164006], \"yaxis\": \"y\", \"type\": \"scatter\", \"uid\": \"e32dad3d-3059-42e6-8675-c1c65ef7d66c\"}, {\"hoverinfo\": \"text\", \"marker\": {\"color\": \"rgb(35,205,205)\"}, \"mode\": \"lines\", \"x\": [62.5, 62.5, 101.875, 101.875], \"xaxis\": \"x\", \"y\": [0.3516357785450717, 0.7720730356838806, 0.7720730356838806, 0.6354696748308597], \"yaxis\": \"y\", \"type\": \"scatter\", \"uid\": \"30a0e9d1-42b2-4c22-98cd-41e90a590964\"}, {\"hoverinfo\": \"text\", \"marker\": {\"color\": \"rgb(0,116,217)\"}, \"mode\": \"lines\", \"x\": [32.5, 32.5, 82.1875, 82.1875], \"xaxis\": \"x\", \"y\": [0.6285833547745917, 1.0958514990912334, 1.0958514990912334, 0.7720730356838806], \"yaxis\": \"y\", \"type\": \"scatter\", \"uid\": \"4b5a89e1-7ddd-4060-b259-3af9d931e454\"}, {\"hoverinfo\": \"text\", \"marker\": {\"color\": \"rgb(133,20,75)\"}, \"mode\": \"lines\", \"x\": [165.0, 165.0, 175.0, 175.0], \"xaxis\": \"x\", \"y\": [0.0, 0.5590671224138731, 0.5590671224138731, 0.0], \"yaxis\": \"y\", \"type\": \"scatter\", \"uid\": \"a3578510-25c7-4e00-affb-02fd5c55fc82\"}, {\"hoverinfo\": \"text\", \"marker\": {\"color\": \"rgb(133,20,75)\"}, \"mode\": \"lines\", \"x\": [155.0, 155.0, 170.0, 170.0], \"xaxis\": \"x\", \"y\": [0.0, 0.6835699921250191, 0.6835699921250191, 0.5590671224138731], \"yaxis\": \"y\", \"type\": \"scatter\", \"uid\": \"e4eb3974-da54-49af-8cb1-aa7cfb2d42a5\"}, {\"hoverinfo\": \"text\", \"marker\": {\"color\": \"rgb(0,116,217)\"}, \"mode\": \"lines\", \"x\": [145.0, 145.0, 162.5, 162.5], \"xaxis\": \"x\", \"y\": [0.0, 1.46988442612576, 1.46988442612576, 0.6835699921250191], \"yaxis\": \"y\", \"type\": \"scatter\", \"uid\": \"4405b85e-7e62-4620-89eb-f4b6cf6b20de\"}, {\"hoverinfo\": \"text\", \"marker\": {\"color\": \"rgb(0,116,217)\"}, \"mode\": \"lines\", \"x\": [57.34375, 57.34375, 153.75, 153.75], \"xaxis\": \"x\", \"y\": [1.0958514990912334, 1.9086835713758745, 1.9086835713758745, 1.46988442612576], \"yaxis\": \"y\", \"type\": \"scatter\", \"uid\": \"1233e5d1-f240-4f92-a307-d1f7f5fe62ee\"}, {\"hoverinfo\": \"text\", \"marker\": {\"color\": \"rgb(0,116,217)\"}, \"mode\": \"lines\", \"x\": [10.0, 10.0, 105.546875, 105.546875], \"xaxis\": \"x\", \"y\": [0.8667335108277093, 3.183282918968783, 3.183282918968783, 1.9086835713758745], \"yaxis\": \"y\", \"type\": \"scatter\", \"uid\": \"f0b1dae9-c667-465f-a1c5-c301ec994b53\"}], {\"autosize\": false, \"height\": 500, \"hovermode\": \"closest\", \"showlegend\": true, \"width\": 1440, \"xaxis\": {\"mirror\": \"allticks\", \"rangemode\": \"tozero\", \"showgrid\": false, \"showline\": true, \"showticklabels\": true, \"tickmode\": \"array\", \"ticks\": \"outside\", \"ticktext\": [\"22:16914822:C:G\", \"22:16952200:T:C\", \"22:16916066:T:C\", \"22:16912775:C:A\", \"22:16913788:A:T\", \"22:16932137:C:A\", \"22:16926176:T:A\", \"22:16928421:A:G\", \"22:16948327:G:A\", \"22:16948479:A:G\", \"22:16938334:G:C\", \"22:16957623:G:A\", \"22:16950203:C:T\", \"22:16950203:C:T\", \"22:16933241:T:C\", \"22:16950192:A:T\", \"22:16912210:A:G\", \"22:16927996:G:A\"], \"tickvals\": [5, 15, 25, 35, 45, 55, 65, 75, 85, 95, 105, 115, 125, 135, 145, 155, 165, 175], \"type\": \"linear\", \"zeroline\": false}, \"yaxis\": {\"mirror\": \"allticks\", \"rangemode\": \"tozero\", \"showgrid\": false, \"showline\": true, \"showticklabels\": true, \"ticks\": \"outside\", \"type\": \"linear\", \"zeroline\": false}, \"title\": \"chiSquare vs fisher\"}, {\"showLink\": true, \"linkText\": \"Export to plot.ly\", \"plotlyServerURL\": \"https://plot.ly\"})});</script>"
      ],
      "text/vnd.plotly.v1+html": [
       "<div id=\"9c7141a2-9a7f-4667-a725-6f05fb12b4e8\" style=\"height: 500px; width: 1440px;\" class=\"plotly-graph-div\"></div><script type=\"text/javascript\">require([\"plotly\"], function(Plotly) { window.PLOTLYENV=window.PLOTLYENV || {};window.PLOTLYENV.BASE_URL=\"https://plot.ly\";Plotly.newPlot(\"9c7141a2-9a7f-4667-a725-6f05fb12b4e8\", [{\"hoverinfo\": \"text\", \"marker\": {\"color\": \"rgb(61,153,112)\"}, \"mode\": \"lines\", \"x\": [5.0, 5.0, 15.0, 15.0], \"xaxis\": \"x\", \"y\": [0.0, 0.8667335108277093, 0.8667335108277093, 0.0], \"yaxis\": \"y\", \"type\": \"scatter\", \"uid\": \"6804433d-3874-47f1-9328-fd6d791d973f\"}, {\"hoverinfo\": \"text\", \"marker\": {\"color\": \"rgb(255,65,54)\"}, \"mode\": \"lines\", \"x\": [35.0, 35.0, 45.0, 45.0], \"xaxis\": \"x\", \"y\": [0.0, 0.08677209068463083, 0.08677209068463083, 0.0], \"yaxis\": \"y\", \"type\": \"scatter\", \"uid\": \"c409c96e-4124-4a37-98a9-5efed82f4e57\"}, {\"hoverinfo\": \"text\", \"marker\": {\"color\": \"rgb(255,65,54)\"}, \"mode\": \"lines\", \"x\": [25.0, 25.0, 40.0, 40.0], \"xaxis\": \"x\", \"y\": [0.0, 0.6285833547745917, 0.6285833547745917, 0.08677209068463083], \"yaxis\": \"y\", \"type\": \"scatter\", \"uid\": \"e32c0705-d184-4c62-b0af-95a8220a554f\"}, {\"hoverinfo\": \"text\", \"marker\": {\"color\": \"rgb(35,205,205)\"}, \"mode\": \"lines\", \"x\": [65.0, 65.0, 75.0, 75.0], \"xaxis\": \"x\", \"y\": [0.0, 0.002082411728605238, 0.002082411728605238, 0.0], \"yaxis\": \"y\", \"type\": \"scatter\", \"uid\": \"9d0446df-545d-425c-9cc6-64d4c3d9d22c\"}, {\"hoverinfo\": \"text\", \"marker\": {\"color\": \"rgb(35,205,205)\"}, \"mode\": \"lines\", \"x\": [55.0, 55.0, 70.0, 70.0], \"xaxis\": \"x\", \"y\": [0.0, 0.3516357785450717, 0.3516357785450717, 0.002082411728605238], \"yaxis\": \"y\", \"type\": \"scatter\", \"uid\": \"4407f4d1-430f-426f-9f91-f9913a8d623a\"}, {\"hoverinfo\": \"text\", \"marker\": {\"color\": \"rgb(35,205,205)\"}, \"mode\": \"lines\", \"x\": [85.0, 85.0, 95.0, 95.0], \"xaxis\": \"x\", \"y\": [0.0, 0.0, 0.0, 0.0], \"yaxis\": \"y\", \"type\": \"scatter\", \"uid\": \"75309dfe-b888-4e11-a76c-bf3c7b57c556\"}, {\"hoverinfo\": \"text\", \"marker\": {\"color\": \"rgb(35,205,205)\"}, \"mode\": \"lines\", \"x\": [125.0, 125.0, 135.0, 135.0], \"xaxis\": \"x\", \"y\": [0.0, 0.0, 0.0, 0.0], \"yaxis\": \"y\", \"type\": \"scatter\", \"uid\": \"d5f2fef9-fea2-487d-9c59-e181f0f89bcb\"}, {\"hoverinfo\": \"text\", \"marker\": {\"color\": \"rgb(35,205,205)\"}, \"mode\": \"lines\", \"x\": [115.0, 115.0, 130.0, 130.0], \"xaxis\": \"x\", \"y\": [0.0, 0.005422412590526782, 0.005422412590526782, 0.0], \"yaxis\": \"y\", \"type\": \"scatter\", \"uid\": \"315283d0-e8cc-4db4-aa2a-35941be5df36\"}, {\"hoverinfo\": \"text\", \"marker\": {\"color\": \"rgb(35,205,205)\"}, \"mode\": \"lines\", \"x\": [105.0, 105.0, 122.5, 122.5], \"xaxis\": \"x\", \"y\": [0.0, 0.26207719702164006, 0.26207719702164006, 0.005422412590526782], \"yaxis\": \"y\", \"type\": \"scatter\", \"uid\": \"92d0e3ae-16ae-42db-9754-c0c2934bb42f\"}, {\"hoverinfo\": \"text\", \"marker\": {\"color\": \"rgb(35,205,205)\"}, \"mode\": \"lines\", \"x\": [90.0, 90.0, 113.75, 113.75], \"xaxis\": \"x\", \"y\": [0.0, 0.6354696748308597, 0.6354696748308597, 0.26207719702164006], \"yaxis\": \"y\", \"type\": \"scatter\", \"uid\": \"e32dad3d-3059-42e6-8675-c1c65ef7d66c\"}, {\"hoverinfo\": \"text\", \"marker\": {\"color\": \"rgb(35,205,205)\"}, \"mode\": \"lines\", \"x\": [62.5, 62.5, 101.875, 101.875], \"xaxis\": \"x\", \"y\": [0.3516357785450717, 0.7720730356838806, 0.7720730356838806, 0.6354696748308597], \"yaxis\": \"y\", \"type\": \"scatter\", \"uid\": \"30a0e9d1-42b2-4c22-98cd-41e90a590964\"}, {\"hoverinfo\": \"text\", \"marker\": {\"color\": \"rgb(0,116,217)\"}, \"mode\": \"lines\", \"x\": [32.5, 32.5, 82.1875, 82.1875], \"xaxis\": \"x\", \"y\": [0.6285833547745917, 1.0958514990912334, 1.0958514990912334, 0.7720730356838806], \"yaxis\": \"y\", \"type\": \"scatter\", \"uid\": \"4b5a89e1-7ddd-4060-b259-3af9d931e454\"}, {\"hoverinfo\": \"text\", \"marker\": {\"color\": \"rgb(133,20,75)\"}, \"mode\": \"lines\", \"x\": [165.0, 165.0, 175.0, 175.0], \"xaxis\": \"x\", \"y\": [0.0, 0.5590671224138731, 0.5590671224138731, 0.0], \"yaxis\": \"y\", \"type\": \"scatter\", \"uid\": \"a3578510-25c7-4e00-affb-02fd5c55fc82\"}, {\"hoverinfo\": \"text\", \"marker\": {\"color\": \"rgb(133,20,75)\"}, \"mode\": \"lines\", \"x\": [155.0, 155.0, 170.0, 170.0], \"xaxis\": \"x\", \"y\": [0.0, 0.6835699921250191, 0.6835699921250191, 0.5590671224138731], \"yaxis\": \"y\", \"type\": \"scatter\", \"uid\": \"e4eb3974-da54-49af-8cb1-aa7cfb2d42a5\"}, {\"hoverinfo\": \"text\", \"marker\": {\"color\": \"rgb(0,116,217)\"}, \"mode\": \"lines\", \"x\": [145.0, 145.0, 162.5, 162.5], \"xaxis\": \"x\", \"y\": [0.0, 1.46988442612576, 1.46988442612576, 0.6835699921250191], \"yaxis\": \"y\", \"type\": \"scatter\", \"uid\": \"4405b85e-7e62-4620-89eb-f4b6cf6b20de\"}, {\"hoverinfo\": \"text\", \"marker\": {\"color\": \"rgb(0,116,217)\"}, \"mode\": \"lines\", \"x\": [57.34375, 57.34375, 153.75, 153.75], \"xaxis\": \"x\", \"y\": [1.0958514990912334, 1.9086835713758745, 1.9086835713758745, 1.46988442612576], \"yaxis\": \"y\", \"type\": \"scatter\", \"uid\": \"1233e5d1-f240-4f92-a307-d1f7f5fe62ee\"}, {\"hoverinfo\": \"text\", \"marker\": {\"color\": \"rgb(0,116,217)\"}, \"mode\": \"lines\", \"x\": [10.0, 10.0, 105.546875, 105.546875], \"xaxis\": \"x\", \"y\": [0.8667335108277093, 3.183282918968783, 3.183282918968783, 1.9086835713758745], \"yaxis\": \"y\", \"type\": \"scatter\", \"uid\": \"f0b1dae9-c667-465f-a1c5-c301ec994b53\"}], {\"autosize\": false, \"height\": 500, \"hovermode\": \"closest\", \"showlegend\": true, \"width\": 1440, \"xaxis\": {\"mirror\": \"allticks\", \"rangemode\": \"tozero\", \"showgrid\": false, \"showline\": true, \"showticklabels\": true, \"tickmode\": \"array\", \"ticks\": \"outside\", \"ticktext\": [\"22:16914822:C:G\", \"22:16952200:T:C\", \"22:16916066:T:C\", \"22:16912775:C:A\", \"22:16913788:A:T\", \"22:16932137:C:A\", \"22:16926176:T:A\", \"22:16928421:A:G\", \"22:16948327:G:A\", \"22:16948479:A:G\", \"22:16938334:G:C\", \"22:16957623:G:A\", \"22:16950203:C:T\", \"22:16950203:C:T\", \"22:16933241:T:C\", \"22:16950192:A:T\", \"22:16912210:A:G\", \"22:16927996:G:A\"], \"tickvals\": [5, 15, 25, 35, 45, 55, 65, 75, 85, 95, 105, 115, 125, 135, 145, 155, 165, 175], \"type\": \"linear\", \"zeroline\": false}, \"yaxis\": {\"mirror\": \"allticks\", \"rangemode\": \"tozero\", \"showgrid\": false, \"showline\": true, \"showticklabels\": true, \"ticks\": \"outside\", \"type\": \"linear\", \"zeroline\": false}, \"title\": \"chiSquare vs fisher\"}, {\"showLink\": true, \"linkText\": \"Export to plot.ly\", \"plotlyServerURL\": \"https://plot.ly\"})});</script>"
      ]
     },
     "metadata": {},
     "output_type": "display_data"
    }
   ],
   "source": [
    "import numpy as np\n",
    "import plotly.offline as py\n",
    "import plotly.figure_factory as ff\n",
    "from plotly.offline import get_plotlyjs, init_notebook_mode\n",
    "\n",
    "init_notebook_mode(connected=True)\n",
    "\n",
    "statsDF = oskar.stats(df, studyId=\"hgvauser@platinum:illumina_platinum\", missingAsReference=True)\n",
    "dfSLC = statsDF.filter(array_contains(genes(\"annotation\"), \"SLC9B1P4\"))\n",
    "\n",
    "pandasFisher = oskar.fisher(dfSLC, \"hgvauser@platinum:illumina_platinum\", \"KK\").select(\"id\", col(\"Fisher p-value\").alias(\"fisher\")).toPandas()\n",
    "pandasChiSquare = oskar.chiSquare(dfSLC, \"hgvauser@platinum:illumina_platinum\", \"KK\").select(\"id\", col(\"ChiSquare p-value\").alias(\"chiSquare\")).toPandas()\n",
    "\n",
    "labels=pandasFisher[\"id\"].tolist()\n",
    "\n",
    "dim = len(labels)\n",
    "X = np.zeros((dim, dim))\n",
    "for i in range(dim):\n",
    "    for j in range(i, dim):\n",
    "        X[i, j] = np.absolute(pandasFisher[\"fisher\"][i] - pandasFisher[\"fisher\"][j])\n",
    "for i in range(dim):\n",
    "    for j in range(i, dim):\n",
    "        X[j, i] = np.absolute(pandasChiSquare[\"chiSquare\"][i] - pandasChiSquare[\"chiSquare\"][j])\n",
    "\n",
    "fig = ff.create_dendrogram(X, labels=labels, color_threshold=1)\n",
    "fig['layout'].update({'width':1440, 'height':500, 'showlegend':True, \"title\":\"chiSquare vs fisher\"})\n",
    "py.iplot(fig, filename='dendrogram')"
   ]
  },
  {
   "cell_type": "markdown",
   "metadata": {},
   "source": [
    "## ChiSquare"
   ]
  },
  {
   "cell_type": "code",
   "execution_count": 4,
   "metadata": {},
   "outputs": [
    {
     "data": {
      "text/html": [
       "<script type=\"text/javascript\">window.PlotlyConfig = {MathJaxConfig: 'local'};</script><script type=\"text/javascript\">if (window.MathJax) {MathJax.Hub.Config({SVG: {font: \"STIX-Web\"}});}</script><script>requirejs.config({paths: { 'plotly': ['https://cdn.plot.ly/plotly-latest.min']},});if(!window._Plotly) {require(['plotly'],function(plotly) {window._Plotly=plotly;});}</script>"
      ],
      "text/vnd.plotly.v1+html": [
       "<script type=\"text/javascript\">window.PlotlyConfig = {MathJaxConfig: 'local'};</script><script type=\"text/javascript\">if (window.MathJax) {MathJax.Hub.Config({SVG: {font: \"STIX-Web\"}});}</script><script>requirejs.config({paths: { 'plotly': ['https://cdn.plot.ly/plotly-latest.min']},});if(!window._Plotly) {require(['plotly'],function(plotly) {window._Plotly=plotly;});}</script>"
      ]
     },
     "metadata": {},
     "output_type": "display_data"
    },
    {
     "data": {
      "application/vnd.plotly.v1+json": {
       "config": {
        "linkText": "Export to plot.ly",
        "plotlyServerURL": "https://plot.ly",
        "showLink": true
       },
       "data": [
        {
         "colorscale": "Viridis",
         "type": "heatmap",
         "uid": "bbec0907-f02b-4e5b-b92c-9f49f5e5897a",
         "x": [
          "22:16912210:A:G",
          "22:16912775:C:A",
          "22:16913788:A:T",
          "22:16914822:C:G",
          "22:16916066:T:C",
          "22:16926176:T:A",
          "22:16927996:G:A",
          "22:16928421:A:G",
          "22:16932137:C:A",
          "22:16933241:T:C",
          "22:16938334:G:C",
          "22:16948327:G:A",
          "22:16948479:A:G",
          "22:16950192:A:T",
          "22:16950203:C:T",
          "22:16950203:C:T",
          "22:16952200:T:C",
          "22:16957623:G:A"
         ],
         "y": [
          "16912210*",
          "16912775*",
          "16913788*",
          "16914822*",
          "16916066*",
          "16926176*",
          "16927996*",
          "16928421*",
          "16932137*",
          "16933241*",
          "16938334*",
          "16948327*",
          "16948479*",
          "16950192*",
          "16950203*",
          "16950203*",
          "16952200*",
          "16957623*"
         ],
         "z": [
          [
           0,
           0.41891910048056846,
           0.480276234221405,
           0.25456978650843776,
           0.17631562069309537,
           0.6639795195524725,
           0.1740833216553972,
           0.6639795195524725,
           0.539919706812712,
           0.010701897019867901,
           0.48845862024109765,
           0.6639795195524725,
           0.6639795195524725,
           0.16378136987865277,
           0.480276234221405,
           0.480276234221405,
           0.2201837061292118,
           0.480276234221405
          ],
          [
           0.41891910048056846,
           0,
           0.06135713374083651,
           0.6734888869890062,
           0.2426034797874731,
           0.245060419071904,
           0.24483577882517127,
           0.245060419071904,
           0.12100060633214349,
           0.40821720346070056,
           0.06953951976052919,
           0.245060419071904,
           0.245060419071904,
           0.2551377306019157,
           0.06135713374083651,
           0.06135713374083651,
           0.6391028066097802,
           0.06135713374083651
          ],
          [
           0.480276234221405,
           0.06135713374083651,
           0,
           0.7348460207298427,
           0.3039606135283096,
           0.1837032853310675,
           0.3061929125660078,
           0.1837032853310675,
           0.05964347259130698,
           0.4695743372015371,
           0.008182386019692678,
           0.1837032853310675,
           0.1837032853310675,
           0.3164948643427522,
           0,
           0,
           0.7004599403506168,
           0
          ],
          [
           0.25456978650843776,
           0.6734888869890062,
           0.7348460207298427,
           0,
           0.4308854072015331,
           0.9185493060609102,
           0.42865310816383495,
           0.9185493060609102,
           0.7944894933211497,
           0.26527168352830566,
           0.7430284067495354,
           0.9185493060609102,
           0.9185493060609102,
           0.41835115638709053,
           0.7348460207298427,
           0.7348460207298427,
           0.03438608037922597,
           0.7348460207298427
          ],
          [
           0.17631562069309537,
           0.2426034797874731,
           0.3039606135283096,
           0.4308854072015331,
           0,
           0.4876638988593771,
           0.002232299037698171,
           0.4876638988593771,
           0.3636040861196166,
           0.16561372367322746,
           0.3121429995480023,
           0.4876638988593771,
           0.4876638988593771,
           0.012534250814442593,
           0.3039606135283096,
           0.3039606135283096,
           0.39649932682230715,
           0.3039606135283096
          ],
          [
           0.6639795195524725,
           0.245060419071904,
           0.1837032853310675,
           0.9185493060609102,
           0.4876638988593771,
           0,
           0.4898961978970753,
           0,
           0.12405981273976052,
           0.6532776225326046,
           0.17552089931137482,
           0,
           0,
           0.5001981496738197,
           0.1837032853310675,
           0.1837032853310675,
           0.8841632256816843,
           0.1837032853310675
          ],
          [
           0.1740833216553972,
           0.24483577882517127,
           0.3061929125660078,
           0.42865310816383495,
           0.002232299037698171,
           0.4898961978970753,
           0,
           0.4898961978970753,
           0.36583638515731476,
           0.1633814246355293,
           0.31437529858570046,
           0.4898961978970753,
           0.4898961978970753,
           0.010301951776744422,
           0.3061929125660078,
           0.3061929125660078,
           0.394267027784609,
           0.3061929125660078
          ],
          [
           0.6639795195524725,
           0.245060419071904,
           0.1837032853310675,
           0.9185493060609102,
           0.4876638988593771,
           0,
           0.4898961978970753,
           0,
           0.12405981273976052,
           0.6532776225326046,
           0.17552089931137482,
           0,
           0,
           0.5001981496738197,
           0.1837032853310675,
           0.1837032853310675,
           0.8841632256816843,
           0.1837032853310675
          ],
          [
           0.539919706812712,
           0.12100060633214349,
           0.05964347259130698,
           0.7944894933211497,
           0.3636040861196166,
           0.12405981273976052,
           0.36583638515731476,
           0.12405981273976052,
           0,
           0.529217809792844,
           0.0514610865716143,
           0.12405981273976052,
           0.12405981273976052,
           0.3761383369340592,
           0.05964347259130698,
           0.05964347259130698,
           0.7601034129419237,
           0.05964347259130698
          ],
          [
           0.010701897019867901,
           0.40821720346070056,
           0.4695743372015371,
           0.26527168352830566,
           0.16561372367322746,
           0.6532776225326046,
           0.1633814246355293,
           0.6532776225326046,
           0.529217809792844,
           0,
           0.47775672322122975,
           0.6532776225326046,
           0.6532776225326046,
           0.15307947285878487,
           0.4695743372015371,
           0.4695743372015371,
           0.2308856031490797,
           0.4695743372015371
          ],
          [
           0.48845862024109765,
           0.06953951976052919,
           0.008182386019692678,
           0.7430284067495354,
           0.3121429995480023,
           0.17552089931137482,
           0.31437529858570046,
           0.17552089931137482,
           0.0514610865716143,
           0.47775672322122975,
           0,
           0.17552089931137482,
           0.17552089931137482,
           0.3246772503624449,
           0.008182386019692678,
           0.008182386019692678,
           0.7086423263703094,
           0.008182386019692678
          ],
          [
           0.6639795195524725,
           0.245060419071904,
           0.1837032853310675,
           0.9185493060609102,
           0.4876638988593771,
           0,
           0.4898961978970753,
           0,
           0.12405981273976052,
           0.6532776225326046,
           0.17552089931137482,
           0,
           0,
           0.5001981496738197,
           0.1837032853310675,
           0.1837032853310675,
           0.8841632256816843,
           0.1837032853310675
          ],
          [
           0.6639795195524725,
           0.245060419071904,
           0.1837032853310675,
           0.9185493060609102,
           0.4876638988593771,
           0,
           0.4898961978970753,
           0,
           0.12405981273976052,
           0.6532776225326046,
           0.17552089931137482,
           0,
           0,
           0.5001981496738197,
           0.1837032853310675,
           0.1837032853310675,
           0.8841632256816843,
           0.1837032853310675
          ],
          [
           0.16378136987865277,
           0.2551377306019157,
           0.3164948643427522,
           0.41835115638709053,
           0.012534250814442593,
           0.5001981496738197,
           0.010301951776744422,
           0.5001981496738197,
           0.3761383369340592,
           0.15307947285878487,
           0.3246772503624449,
           0.5001981496738197,
           0.5001981496738197,
           0,
           0.3164948643427522,
           0.3164948643427522,
           0.38396507600786456,
           0.3164948643427522
          ],
          [
           0.480276234221405,
           0.06135713374083651,
           0,
           0.7348460207298427,
           0.3039606135283096,
           0.1837032853310675,
           0.3061929125660078,
           0.1837032853310675,
           0.05964347259130698,
           0.4695743372015371,
           0.008182386019692678,
           0.1837032853310675,
           0.1837032853310675,
           0.3164948643427522,
           0,
           0,
           0.7004599403506168,
           0
          ],
          [
           0.480276234221405,
           0.06135713374083651,
           0,
           0.7348460207298427,
           0.3039606135283096,
           0.1837032853310675,
           0.3061929125660078,
           0.1837032853310675,
           0.05964347259130698,
           0.4695743372015371,
           0.008182386019692678,
           0.1837032853310675,
           0.1837032853310675,
           0.3164948643427522,
           0,
           0,
           0.7004599403506168,
           0
          ],
          [
           0.2201837061292118,
           0.6391028066097802,
           0.7004599403506168,
           0.03438608037922597,
           0.39649932682230715,
           0.8841632256816843,
           0.394267027784609,
           0.8841632256816843,
           0.7601034129419237,
           0.2308856031490797,
           0.7086423263703094,
           0.8841632256816843,
           0.8841632256816843,
           0.38396507600786456,
           0.7004599403506168,
           0.7004599403506168,
           0,
           0.7004599403506168
          ],
          [
           0.480276234221405,
           0.06135713374083651,
           0,
           0.7348460207298427,
           0.3039606135283096,
           0.1837032853310675,
           0.3061929125660078,
           0.1837032853310675,
           0.05964347259130698,
           0.4695743372015371,
           0.008182386019692678,
           0.1837032853310675,
           0.1837032853310675,
           0.3164948643427522,
           0,
           0,
           0.7004599403506168,
           0
          ]
         ],
         "zauto": true,
         "zmax": 0.9185493060609102,
         "zmin": 0
        }
       ],
       "layout": {
        "height": 500,
        "title": "chiSquare",
        "width": 1440,
        "xaxis": {
         "autorange": true,
         "range": [
          -0.5,
          17.5
         ],
         "type": "category"
        },
        "yaxis": {
         "autorange": true,
         "range": [
          -0.5,
          17.5
         ],
         "type": "category"
        }
       }
      },
      "image/png": "[encoded data removed]",
      "text/html": [
       "<div id=\"151b09e9-257d-49ee-9d3d-3723bcb24711\" style=\"height: 500px; width: 1440px;\" class=\"plotly-graph-div\"></div><script type=\"text/javascript\">require([\"plotly\"], function(Plotly) { window.PLOTLYENV=window.PLOTLYENV || {};window.PLOTLYENV.BASE_URL=\"https://plot.ly\";Plotly.newPlot(\"151b09e9-257d-49ee-9d3d-3723bcb24711\", [{\"colorscale\": \"Viridis\", \"x\": [\"22:16912210:A:G\", \"22:16912775:C:A\", \"22:16913788:A:T\", \"22:16914822:C:G\", \"22:16916066:T:C\", \"22:16926176:T:A\", \"22:16927996:G:A\", \"22:16928421:A:G\", \"22:16932137:C:A\", \"22:16933241:T:C\", \"22:16938334:G:C\", \"22:16948327:G:A\", \"22:16948479:A:G\", \"22:16950192:A:T\", \"22:16950203:C:T\", \"22:16950203:C:T\", \"22:16952200:T:C\", \"22:16957623:G:A\"], \"y\": [\"16912210*\", \"16912775*\", \"16913788*\", \"16914822*\", \"16916066*\", \"16926176*\", \"16927996*\", \"16928421*\", \"16932137*\", \"16933241*\", \"16938334*\", \"16948327*\", \"16948479*\", \"16950192*\", \"16950203*\", \"16950203*\", \"16952200*\", \"16957623*\"], \"z\": [[0.0, 0.41891910048056846, 0.480276234221405, 0.25456978650843776, 0.17631562069309537, 0.6639795195524725, 0.1740833216553972, 0.6639795195524725, 0.539919706812712, 0.010701897019867901, 0.48845862024109765, 0.6639795195524725, 0.6639795195524725, 0.16378136987865277, 0.480276234221405, 0.480276234221405, 0.2201837061292118, 0.480276234221405], [0.41891910048056846, 0.0, 0.06135713374083651, 0.6734888869890062, 0.2426034797874731, 0.245060419071904, 0.24483577882517127, 0.245060419071904, 0.12100060633214349, 0.40821720346070056, 0.06953951976052919, 0.245060419071904, 0.245060419071904, 0.2551377306019157, 0.06135713374083651, 0.06135713374083651, 0.6391028066097802, 0.06135713374083651], [0.480276234221405, 0.06135713374083651, 0.0, 0.7348460207298427, 0.3039606135283096, 0.1837032853310675, 0.3061929125660078, 0.1837032853310675, 0.05964347259130698, 0.4695743372015371, 0.008182386019692678, 0.1837032853310675, 0.1837032853310675, 0.3164948643427522, 0.0, 0.0, 0.7004599403506168, 0.0], [0.25456978650843776, 0.6734888869890062, 0.7348460207298427, 0.0, 0.4308854072015331, 0.9185493060609102, 0.42865310816383495, 0.9185493060609102, 0.7944894933211497, 0.26527168352830566, 0.7430284067495354, 0.9185493060609102, 0.9185493060609102, 0.41835115638709053, 0.7348460207298427, 0.7348460207298427, 0.03438608037922597, 0.7348460207298427], [0.17631562069309537, 0.2426034797874731, 0.3039606135283096, 0.4308854072015331, 0.0, 0.4876638988593771, 0.002232299037698171, 0.4876638988593771, 0.3636040861196166, 0.16561372367322746, 0.3121429995480023, 0.4876638988593771, 0.4876638988593771, 0.012534250814442593, 0.3039606135283096, 0.3039606135283096, 0.39649932682230715, 0.3039606135283096], [0.6639795195524725, 0.245060419071904, 0.1837032853310675, 0.9185493060609102, 0.4876638988593771, 0.0, 0.4898961978970753, 0.0, 0.12405981273976052, 0.6532776225326046, 0.17552089931137482, 0.0, 0.0, 0.5001981496738197, 0.1837032853310675, 0.1837032853310675, 0.8841632256816843, 0.1837032853310675], [0.1740833216553972, 0.24483577882517127, 0.3061929125660078, 0.42865310816383495, 0.002232299037698171, 0.4898961978970753, 0.0, 0.4898961978970753, 0.36583638515731476, 0.1633814246355293, 0.31437529858570046, 0.4898961978970753, 0.4898961978970753, 0.010301951776744422, 0.3061929125660078, 0.3061929125660078, 0.394267027784609, 0.3061929125660078], [0.6639795195524725, 0.245060419071904, 0.1837032853310675, 0.9185493060609102, 0.4876638988593771, 0.0, 0.4898961978970753, 0.0, 0.12405981273976052, 0.6532776225326046, 0.17552089931137482, 0.0, 0.0, 0.5001981496738197, 0.1837032853310675, 0.1837032853310675, 0.8841632256816843, 0.1837032853310675], [0.539919706812712, 0.12100060633214349, 0.05964347259130698, 0.7944894933211497, 0.3636040861196166, 0.12405981273976052, 0.36583638515731476, 0.12405981273976052, 0.0, 0.529217809792844, 0.0514610865716143, 0.12405981273976052, 0.12405981273976052, 0.3761383369340592, 0.05964347259130698, 0.05964347259130698, 0.7601034129419237, 0.05964347259130698], [0.010701897019867901, 0.40821720346070056, 0.4695743372015371, 0.26527168352830566, 0.16561372367322746, 0.6532776225326046, 0.1633814246355293, 0.6532776225326046, 0.529217809792844, 0.0, 0.47775672322122975, 0.6532776225326046, 0.6532776225326046, 0.15307947285878487, 0.4695743372015371, 0.4695743372015371, 0.2308856031490797, 0.4695743372015371], [0.48845862024109765, 0.06953951976052919, 0.008182386019692678, 0.7430284067495354, 0.3121429995480023, 0.17552089931137482, 0.31437529858570046, 0.17552089931137482, 0.0514610865716143, 0.47775672322122975, 0.0, 0.17552089931137482, 0.17552089931137482, 0.3246772503624449, 0.008182386019692678, 0.008182386019692678, 0.7086423263703094, 0.008182386019692678], [0.6639795195524725, 0.245060419071904, 0.1837032853310675, 0.9185493060609102, 0.4876638988593771, 0.0, 0.4898961978970753, 0.0, 0.12405981273976052, 0.6532776225326046, 0.17552089931137482, 0.0, 0.0, 0.5001981496738197, 0.1837032853310675, 0.1837032853310675, 0.8841632256816843, 0.1837032853310675], [0.6639795195524725, 0.245060419071904, 0.1837032853310675, 0.9185493060609102, 0.4876638988593771, 0.0, 0.4898961978970753, 0.0, 0.12405981273976052, 0.6532776225326046, 0.17552089931137482, 0.0, 0.0, 0.5001981496738197, 0.1837032853310675, 0.1837032853310675, 0.8841632256816843, 0.1837032853310675], [0.16378136987865277, 0.2551377306019157, 0.3164948643427522, 0.41835115638709053, 0.012534250814442593, 0.5001981496738197, 0.010301951776744422, 0.5001981496738197, 0.3761383369340592, 0.15307947285878487, 0.3246772503624449, 0.5001981496738197, 0.5001981496738197, 0.0, 0.3164948643427522, 0.3164948643427522, 0.38396507600786456, 0.3164948643427522], [0.480276234221405, 0.06135713374083651, 0.0, 0.7348460207298427, 0.3039606135283096, 0.1837032853310675, 0.3061929125660078, 0.1837032853310675, 0.05964347259130698, 0.4695743372015371, 0.008182386019692678, 0.1837032853310675, 0.1837032853310675, 0.3164948643427522, 0.0, 0.0, 0.7004599403506168, 0.0], [0.480276234221405, 0.06135713374083651, 0.0, 0.7348460207298427, 0.3039606135283096, 0.1837032853310675, 0.3061929125660078, 0.1837032853310675, 0.05964347259130698, 0.4695743372015371, 0.008182386019692678, 0.1837032853310675, 0.1837032853310675, 0.3164948643427522, 0.0, 0.0, 0.7004599403506168, 0.0], [0.2201837061292118, 0.6391028066097802, 0.7004599403506168, 0.03438608037922597, 0.39649932682230715, 0.8841632256816843, 0.394267027784609, 0.8841632256816843, 0.7601034129419237, 0.2308856031490797, 0.7086423263703094, 0.8841632256816843, 0.8841632256816843, 0.38396507600786456, 0.7004599403506168, 0.7004599403506168, 0.0, 0.7004599403506168], [0.480276234221405, 0.06135713374083651, 0.0, 0.7348460207298427, 0.3039606135283096, 0.1837032853310675, 0.3061929125660078, 0.1837032853310675, 0.05964347259130698, 0.4695743372015371, 0.008182386019692678, 0.1837032853310675, 0.1837032853310675, 0.3164948643427522, 0.0, 0.0, 0.7004599403506168, 0.0]], \"type\": \"heatmap\", \"uid\": \"bbec0907-f02b-4e5b-b92c-9f49f5e5897a\"}], {\"width\": 1440, \"height\": 500, \"title\": \"chiSquare\"}, {\"showLink\": true, \"linkText\": \"Export to plot.ly\", \"plotlyServerURL\": \"https://plot.ly\"})});</script>"
      ],
      "text/vnd.plotly.v1+html": [
       "<div id=\"151b09e9-257d-49ee-9d3d-3723bcb24711\" style=\"height: 500px; width: 1440px;\" class=\"plotly-graph-div\"></div><script type=\"text/javascript\">require([\"plotly\"], function(Plotly) { window.PLOTLYENV=window.PLOTLYENV || {};window.PLOTLYENV.BASE_URL=\"https://plot.ly\";Plotly.newPlot(\"151b09e9-257d-49ee-9d3d-3723bcb24711\", [{\"colorscale\": \"Viridis\", \"x\": [\"22:16912210:A:G\", \"22:16912775:C:A\", \"22:16913788:A:T\", \"22:16914822:C:G\", \"22:16916066:T:C\", \"22:16926176:T:A\", \"22:16927996:G:A\", \"22:16928421:A:G\", \"22:16932137:C:A\", \"22:16933241:T:C\", \"22:16938334:G:C\", \"22:16948327:G:A\", \"22:16948479:A:G\", \"22:16950192:A:T\", \"22:16950203:C:T\", \"22:16950203:C:T\", \"22:16952200:T:C\", \"22:16957623:G:A\"], \"y\": [\"16912210*\", \"16912775*\", \"16913788*\", \"16914822*\", \"16916066*\", \"16926176*\", \"16927996*\", \"16928421*\", \"16932137*\", \"16933241*\", \"16938334*\", \"16948327*\", \"16948479*\", \"16950192*\", \"16950203*\", \"16950203*\", \"16952200*\", \"16957623*\"], \"z\": [[0.0, 0.41891910048056846, 0.480276234221405, 0.25456978650843776, 0.17631562069309537, 0.6639795195524725, 0.1740833216553972, 0.6639795195524725, 0.539919706812712, 0.010701897019867901, 0.48845862024109765, 0.6639795195524725, 0.6639795195524725, 0.16378136987865277, 0.480276234221405, 0.480276234221405, 0.2201837061292118, 0.480276234221405], [0.41891910048056846, 0.0, 0.06135713374083651, 0.6734888869890062, 0.2426034797874731, 0.245060419071904, 0.24483577882517127, 0.245060419071904, 0.12100060633214349, 0.40821720346070056, 0.06953951976052919, 0.245060419071904, 0.245060419071904, 0.2551377306019157, 0.06135713374083651, 0.06135713374083651, 0.6391028066097802, 0.06135713374083651], [0.480276234221405, 0.06135713374083651, 0.0, 0.7348460207298427, 0.3039606135283096, 0.1837032853310675, 0.3061929125660078, 0.1837032853310675, 0.05964347259130698, 0.4695743372015371, 0.008182386019692678, 0.1837032853310675, 0.1837032853310675, 0.3164948643427522, 0.0, 0.0, 0.7004599403506168, 0.0], [0.25456978650843776, 0.6734888869890062, 0.7348460207298427, 0.0, 0.4308854072015331, 0.9185493060609102, 0.42865310816383495, 0.9185493060609102, 0.7944894933211497, 0.26527168352830566, 0.7430284067495354, 0.9185493060609102, 0.9185493060609102, 0.41835115638709053, 0.7348460207298427, 0.7348460207298427, 0.03438608037922597, 0.7348460207298427], [0.17631562069309537, 0.2426034797874731, 0.3039606135283096, 0.4308854072015331, 0.0, 0.4876638988593771, 0.002232299037698171, 0.4876638988593771, 0.3636040861196166, 0.16561372367322746, 0.3121429995480023, 0.4876638988593771, 0.4876638988593771, 0.012534250814442593, 0.3039606135283096, 0.3039606135283096, 0.39649932682230715, 0.3039606135283096], [0.6639795195524725, 0.245060419071904, 0.1837032853310675, 0.9185493060609102, 0.4876638988593771, 0.0, 0.4898961978970753, 0.0, 0.12405981273976052, 0.6532776225326046, 0.17552089931137482, 0.0, 0.0, 0.5001981496738197, 0.1837032853310675, 0.1837032853310675, 0.8841632256816843, 0.1837032853310675], [0.1740833216553972, 0.24483577882517127, 0.3061929125660078, 0.42865310816383495, 0.002232299037698171, 0.4898961978970753, 0.0, 0.4898961978970753, 0.36583638515731476, 0.1633814246355293, 0.31437529858570046, 0.4898961978970753, 0.4898961978970753, 0.010301951776744422, 0.3061929125660078, 0.3061929125660078, 0.394267027784609, 0.3061929125660078], [0.6639795195524725, 0.245060419071904, 0.1837032853310675, 0.9185493060609102, 0.4876638988593771, 0.0, 0.4898961978970753, 0.0, 0.12405981273976052, 0.6532776225326046, 0.17552089931137482, 0.0, 0.0, 0.5001981496738197, 0.1837032853310675, 0.1837032853310675, 0.8841632256816843, 0.1837032853310675], [0.539919706812712, 0.12100060633214349, 0.05964347259130698, 0.7944894933211497, 0.3636040861196166, 0.12405981273976052, 0.36583638515731476, 0.12405981273976052, 0.0, 0.529217809792844, 0.0514610865716143, 0.12405981273976052, 0.12405981273976052, 0.3761383369340592, 0.05964347259130698, 0.05964347259130698, 0.7601034129419237, 0.05964347259130698], [0.010701897019867901, 0.40821720346070056, 0.4695743372015371, 0.26527168352830566, 0.16561372367322746, 0.6532776225326046, 0.1633814246355293, 0.6532776225326046, 0.529217809792844, 0.0, 0.47775672322122975, 0.6532776225326046, 0.6532776225326046, 0.15307947285878487, 0.4695743372015371, 0.4695743372015371, 0.2308856031490797, 0.4695743372015371], [0.48845862024109765, 0.06953951976052919, 0.008182386019692678, 0.7430284067495354, 0.3121429995480023, 0.17552089931137482, 0.31437529858570046, 0.17552089931137482, 0.0514610865716143, 0.47775672322122975, 0.0, 0.17552089931137482, 0.17552089931137482, 0.3246772503624449, 0.008182386019692678, 0.008182386019692678, 0.7086423263703094, 0.008182386019692678], [0.6639795195524725, 0.245060419071904, 0.1837032853310675, 0.9185493060609102, 0.4876638988593771, 0.0, 0.4898961978970753, 0.0, 0.12405981273976052, 0.6532776225326046, 0.17552089931137482, 0.0, 0.0, 0.5001981496738197, 0.1837032853310675, 0.1837032853310675, 0.8841632256816843, 0.1837032853310675], [0.6639795195524725, 0.245060419071904, 0.1837032853310675, 0.9185493060609102, 0.4876638988593771, 0.0, 0.4898961978970753, 0.0, 0.12405981273976052, 0.6532776225326046, 0.17552089931137482, 0.0, 0.0, 0.5001981496738197, 0.1837032853310675, 0.1837032853310675, 0.8841632256816843, 0.1837032853310675], [0.16378136987865277, 0.2551377306019157, 0.3164948643427522, 0.41835115638709053, 0.012534250814442593, 0.5001981496738197, 0.010301951776744422, 0.5001981496738197, 0.3761383369340592, 0.15307947285878487, 0.3246772503624449, 0.5001981496738197, 0.5001981496738197, 0.0, 0.3164948643427522, 0.3164948643427522, 0.38396507600786456, 0.3164948643427522], [0.480276234221405, 0.06135713374083651, 0.0, 0.7348460207298427, 0.3039606135283096, 0.1837032853310675, 0.3061929125660078, 0.1837032853310675, 0.05964347259130698, 0.4695743372015371, 0.008182386019692678, 0.1837032853310675, 0.1837032853310675, 0.3164948643427522, 0.0, 0.0, 0.7004599403506168, 0.0], [0.480276234221405, 0.06135713374083651, 0.0, 0.7348460207298427, 0.3039606135283096, 0.1837032853310675, 0.3061929125660078, 0.1837032853310675, 0.05964347259130698, 0.4695743372015371, 0.008182386019692678, 0.1837032853310675, 0.1837032853310675, 0.3164948643427522, 0.0, 0.0, 0.7004599403506168, 0.0], [0.2201837061292118, 0.6391028066097802, 0.7004599403506168, 0.03438608037922597, 0.39649932682230715, 0.8841632256816843, 0.394267027784609, 0.8841632256816843, 0.7601034129419237, 0.2308856031490797, 0.7086423263703094, 0.8841632256816843, 0.8841632256816843, 0.38396507600786456, 0.7004599403506168, 0.7004599403506168, 0.0, 0.7004599403506168], [0.480276234221405, 0.06135713374083651, 0.0, 0.7348460207298427, 0.3039606135283096, 0.1837032853310675, 0.3061929125660078, 0.1837032853310675, 0.05964347259130698, 0.4695743372015371, 0.008182386019692678, 0.1837032853310675, 0.1837032853310675, 0.3164948643427522, 0.0, 0.0, 0.7004599403506168, 0.0]], \"type\": \"heatmap\", \"uid\": \"bbec0907-f02b-4e5b-b92c-9f49f5e5897a\"}], {\"width\": 1440, \"height\": 500, \"title\": \"chiSquare\"}, {\"showLink\": true, \"linkText\": \"Export to plot.ly\", \"plotlyServerURL\": \"https://plot.ly\"})});</script>"
      ]
     },
     "metadata": {},
     "output_type": "display_data"
    }
   ],
   "source": [
    "import numpy as np\n",
    "import plotly.graph_objs as go\n",
    "import plotly.offline as py\n",
    "from plotly.offline import get_plotlyjs, init_notebook_mode\n",
    "\n",
    "init_notebook_mode(connected=True)\n",
    "\n",
    "statsDF = oskar.stats(df, studyId=\"hgvauser@platinum:illumina_platinum\", missingAsReference=True)\n",
    "dfSLC = statsDF.filter(array_contains(genes(\"annotation\"), \"SLC9B1P4\"))\n",
    "\n",
    "pandasFisher = oskar.fisher(dfSLC, \"hgvauser@platinum:illumina_platinum\", \"KK\").select(\"id\", col(\"Fisher p-value\").alias(\"fisher\")).toPandas()\n",
    "pandasChiSquare = oskar.chiSquare(dfSLC, \"hgvauser@platinum:illumina_platinum\", \"KK\").select(\"id\", col(\"ChiSquare p-value\").alias(\"chiSquare\")).toPandas()\n",
    "\n",
    "labels=pandasFisher[\"id\"].tolist()\n",
    "labelsPosition=[i.split(':', 3)[1] + \"*\" for i in labels]\n",
    "\n",
    "dim = len(labels)\n",
    "X = np.zeros((dim, dim))\n",
    "for i in range(dim):\n",
    "    for j in range(dim):\n",
    "        X[j, i] = np.absolute(pandasChiSquare[\"chiSquare\"][i] - pandasChiSquare[\"chiSquare\"][j])\n",
    "\n",
    "trace = go.Heatmap(x=labels, y=labelsPosition, z=X, colorscale='Viridis')\n",
    "fig = go.Figure(data=[trace])\n",
    "fig['layout'].update({'width':1440, 'height':500, 'title':'chiSquare'})\n",
    "py.iplot(fig, filename='annotated_heatmap_color')"
   ]
  }
 ],
 "metadata": {
  "kernelspec": {
   "display_name": "Python 3",
   "language": "python",
   "name": "python3"
  },
  "language_info": {
   "codemirror_mode": {
    "name": "ipython",
    "version": 3
   },
   "file_extension": ".py",
   "mimetype": "text/x-python",
   "name": "python",
   "nbconvert_exporter": "python",
   "pygments_lexer": "ipython3",
   "version": "3.6.7"
  }
 },
 "nbformat": 4,
 "nbformat_minor": 2
}
